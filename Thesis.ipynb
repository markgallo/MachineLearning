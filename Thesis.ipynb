{
 "cells": [
  {
   "cell_type": "code",
   "execution_count": 2,
   "metadata": {},
   "outputs": [],
   "source": [
    "# Some used imports\n",
    "%matplotlib inline\n",
    "import pandas as pd\n",
    "import numpy as np\n",
    "import os\n",
    "import glob\n",
    "import matplotlib as mpl\n",
    "import nltk\n",
    "import re\n",
    "# Just making the plots look better\n",
    "mpl.style.use('ggplot')\n",
    "mpl.rcParams['figure.figsize'] = (8,6)\n",
    "mpl.rcParams['font.size'] = 12\n",
    "\n",
    "import sys\n",
    "import warnings\n",
    "\n",
    "if not sys.warnoptions:\n",
    "    warnings.simplefilter(\"ignore\")\n"
   ]
  },
  {
   "cell_type": "code",
   "execution_count": 174,
   "metadata": {},
   "outputs": [],
   "source": [
    "comments = pd.read_csv(\"D:/QMSS/Spring/Thesis/CommentsMaster.csv\",encoding='ISO-8859-1')\n"
   ]
  },
  {
   "cell_type": "code",
   "execution_count": 109,
   "metadata": {},
   "outputs": [
    {
     "data": {
      "text/plain": [
       "205773"
      ]
     },
     "execution_count": 109,
     "metadata": {},
     "output_type": "execute_result"
    }
   ],
   "source": [
    "len(comments)"
   ]
  },
  {
   "cell_type": "code",
   "execution_count": 33,
   "metadata": {},
   "outputs": [
    {
     "data": {
      "text/html": [
       "<div>\n",
       "<style scoped>\n",
       "    .dataframe tbody tr th:only-of-type {\n",
       "        vertical-align: middle;\n",
       "    }\n",
       "\n",
       "    .dataframe tbody tr th {\n",
       "        vertical-align: top;\n",
       "    }\n",
       "\n",
       "    .dataframe thead th {\n",
       "        text-align: right;\n",
       "    }\n",
       "</style>\n",
       "<table border=\"1\" class=\"dataframe\">\n",
       "  <thead>\n",
       "    <tr style=\"text-align: right;\">\n",
       "      <th></th>\n",
       "      <th>Producer</th>\n",
       "      <th>guid</th>\n",
       "      <th>link</th>\n",
       "      <th>pubdate</th>\n",
       "      <th>author</th>\n",
       "      <th>title</th>\n",
       "      <th>description</th>\n",
       "      <th>likecount</th>\n",
       "      <th>replycount</th>\n",
       "      <th>isreplyto</th>\n",
       "    </tr>\n",
       "  </thead>\n",
       "  <tbody>\n",
       "    <tr>\n",
       "      <th>0</th>\n",
       "      <td>MSNBC</td>\n",
       "      <td>UgxQ2y-lYbB5Tkep8V14AaABAg</td>\n",
       "      <td>https://www.youtube.com/watch?v=llov1TBqnQ4&amp;lc...</td>\n",
       "      <td>1/14/2020 14:13</td>\n",
       "      <td>Bruce Molyneux</td>\n",
       "      <td>https://www.youtube.com/watch?v=DushIvQwmEM</td>\n",
       "      <td>https://www.youtube.com/watch?v=DushIvQwmEM</td>\n",
       "      <td>0</td>\n",
       "      <td>0</td>\n",
       "      <td>NaN</td>\n",
       "    </tr>\n",
       "    <tr>\n",
       "      <th>1</th>\n",
       "      <td>MSNBC</td>\n",
       "      <td>Ugx8DcWIY8ClLpyNWxF4AaABAg</td>\n",
       "      <td>https://www.youtube.com/watch?v=llov1TBqnQ4&amp;lc...</td>\n",
       "      <td>1/6/2020 15:27</td>\n",
       "      <td>Hybrid - Fahrer</td>\n",
       "      <td>Biden is for sure not \\'the guy\\'... Such bias...</td>\n",
       "      <td>Biden is for sure not \\'the guy\\'... Such bias...</td>\n",
       "      <td>0</td>\n",
       "      <td>0</td>\n",
       "      <td>NaN</td>\n",
       "    </tr>\n",
       "    <tr>\n",
       "      <th>2</th>\n",
       "      <td>MSNBC</td>\n",
       "      <td>UgwIDj3O6cWyqNQ-VdB4AaABAg</td>\n",
       "      <td>https://www.youtube.com/watch?v=llov1TBqnQ4&amp;lc...</td>\n",
       "      <td>1/6/2020 8:54</td>\n",
       "      <td>marc</td>\n",
       "      <td>biden is the best to appeal to rust belt voter...</td>\n",
       "      <td>biden is the best to appeal to rust belt voter...</td>\n",
       "      <td>0</td>\n",
       "      <td>0</td>\n",
       "      <td>NaN</td>\n",
       "    </tr>\n",
       "    <tr>\n",
       "      <th>3</th>\n",
       "      <td>MSNBC</td>\n",
       "      <td>Ugy-5qhLNf42usKd1M54AaABAg</td>\n",
       "      <td>https://www.youtube.com/watch?v=llov1TBqnQ4&amp;lc...</td>\n",
       "      <td>1/6/2020 4:39</td>\n",
       "      <td>Conan Barbarian</td>\n",
       "      <td>Well the title is correct, Democrats and diffe...</td>\n",
       "      <td>Well the title is correct, Democrats and diffe...</td>\n",
       "      <td>0</td>\n",
       "      <td>0</td>\n",
       "      <td>NaN</td>\n",
       "    </tr>\n",
       "    <tr>\n",
       "      <th>4</th>\n",
       "      <td>MSNBC</td>\n",
       "      <td>Ugyb1T0QLfC09sTmumZ4AaABAg</td>\n",
       "      <td>https://www.youtube.com/watch?v=llov1TBqnQ4&amp;lc...</td>\n",
       "      <td>1/6/2020 0:31</td>\n",
       "      <td>Marcel B.</td>\n",
       "      <td>You throw things up with Trump NOT by voting a...</td>\n",
       "      <td>You throw things up with Trump NOT by voting a...</td>\n",
       "      <td>0</td>\n",
       "      <td>0</td>\n",
       "      <td>NaN</td>\n",
       "    </tr>\n",
       "  </tbody>\n",
       "</table>\n",
       "</div>"
      ],
      "text/plain": [
       "  Producer                        guid  \\\n",
       "0    MSNBC  UgxQ2y-lYbB5Tkep8V14AaABAg   \n",
       "1    MSNBC  Ugx8DcWIY8ClLpyNWxF4AaABAg   \n",
       "2    MSNBC  UgwIDj3O6cWyqNQ-VdB4AaABAg   \n",
       "3    MSNBC  Ugy-5qhLNf42usKd1M54AaABAg   \n",
       "4    MSNBC  Ugyb1T0QLfC09sTmumZ4AaABAg   \n",
       "\n",
       "                                                link          pubdate  \\\n",
       "0  https://www.youtube.com/watch?v=llov1TBqnQ4&lc...  1/14/2020 14:13   \n",
       "1  https://www.youtube.com/watch?v=llov1TBqnQ4&lc...   1/6/2020 15:27   \n",
       "2  https://www.youtube.com/watch?v=llov1TBqnQ4&lc...    1/6/2020 8:54   \n",
       "3  https://www.youtube.com/watch?v=llov1TBqnQ4&lc...    1/6/2020 4:39   \n",
       "4  https://www.youtube.com/watch?v=llov1TBqnQ4&lc...    1/6/2020 0:31   \n",
       "\n",
       "            author                                              title  \\\n",
       "0   Bruce Molyneux        https://www.youtube.com/watch?v=DushIvQwmEM   \n",
       "1  Hybrid - Fahrer  Biden is for sure not \\'the guy\\'... Such bias...   \n",
       "2             marc  biden is the best to appeal to rust belt voter...   \n",
       "3  Conan Barbarian  Well the title is correct, Democrats and diffe...   \n",
       "4        Marcel B.  You throw things up with Trump NOT by voting a...   \n",
       "\n",
       "                                         description  likecount  replycount  \\\n",
       "0        https://www.youtube.com/watch?v=DushIvQwmEM          0           0   \n",
       "1  Biden is for sure not \\'the guy\\'... Such bias...          0           0   \n",
       "2  biden is the best to appeal to rust belt voter...          0           0   \n",
       "3  Well the title is correct, Democrats and diffe...          0           0   \n",
       "4  You throw things up with Trump NOT by voting a...          0           0   \n",
       "\n",
       "  isreplyto  \n",
       "0       NaN  \n",
       "1       NaN  \n",
       "2       NaN  \n",
       "3       NaN  \n",
       "4       NaN  "
      ]
     },
     "execution_count": 33,
     "metadata": {},
     "output_type": "execute_result"
    }
   ],
   "source": [
    "comments.head()"
   ]
  },
  {
   "cell_type": "code",
   "execution_count": 42,
   "metadata": {},
   "outputs": [],
   "source": [
    "comments = comments.dropna()\n",
    "comments['tokenized_sents'] = comments.apply(lambda row: nltk.word_tokenize(row['description']), axis=1)\n"
   ]
  },
  {
   "cell_type": "code",
   "execution_count": 113,
   "metadata": {},
   "outputs": [
    {
     "data": {
      "text/plain": [
       "43200"
      ]
     },
     "execution_count": 113,
     "metadata": {},
     "output_type": "execute_result"
    }
   ],
   "source": [
    "24*1800"
   ]
  },
  {
   "cell_type": "code",
   "execution_count": 77,
   "metadata": {},
   "outputs": [
    {
     "data": {
      "text/plain": [
       "107511"
      ]
     },
     "execution_count": 77,
     "metadata": {},
     "output_type": "execute_result"
    }
   ],
   "source": [
    "x = pd.DataFrame(comments['tokenized_sents'])\n",
    "new = x.reset_index()\n",
    "len(new)"
   ]
  },
  {
   "cell_type": "code",
   "execution_count": 91,
   "metadata": {},
   "outputs": [],
   "source": [
    "import numpy as np"
   ]
  },
  {
   "cell_type": "code",
   "execution_count": 100,
   "metadata": {},
   "outputs": [],
   "source": [
    "df = []\n",
    "for x in range(107511):\n",
    "    df.append(len(new['tokenized_sents'].ix[x]))"
   ]
  },
  {
   "cell_type": "markdown",
   "metadata": {},
   "source": [
    "### Avg 24 wods per comment"
   ]
  },
  {
   "cell_type": "code",
   "execution_count": 107,
   "metadata": {},
   "outputs": [
    {
     "data": {
      "text/plain": [
       "24.888327706002176"
      ]
     },
     "execution_count": 107,
     "metadata": {},
     "output_type": "execute_result"
    }
   ],
   "source": [
    "dff = pd.DataFrame(df, columns = [\"one\"])\n",
    "dff['one'].mean()"
   ]
  },
  {
   "cell_type": "markdown",
   "metadata": {},
   "source": [
    "### Avg 1821 comments per video "
   ]
  },
  {
   "cell_type": "code",
   "execution_count": 110,
   "metadata": {},
   "outputs": [
    {
     "data": {
      "text/plain": [
       "1821.0"
      ]
     },
     "execution_count": 110,
     "metadata": {},
     "output_type": "execute_result"
    }
   ],
   "source": [
    "205773/113"
   ]
  },
  {
   "cell_type": "code",
   "execution_count": 5,
   "metadata": {},
   "outputs": [
    {
     "data": {
      "image/png": "[encoded data removed]",
      "text/plain": [
       "<Figure size 432x288 with 1 Axes>"
      ]
     },
     "metadata": {
      "needs_background": "light"
     },
     "output_type": "display_data"
    }
   ],
   "source": [
    "comments['Producer'].value_counts().plot.bar();"
   ]
  },
  {
   "cell_type": "code",
   "execution_count": 15,
   "metadata": {},
   "outputs": [
    {
     "name": "stdout",
     "output_type": "stream",
     "text": [
      "249 ns ± 65.7 ns per loop (mean ± std. dev. of 7 runs, 1000000 loops each)\n"
     ]
    }
   ],
   "source": [
    "%timeit range(1000)"
   ]
  },
  {
   "cell_type": "code",
   "execution_count": 16,
   "metadata": {},
   "outputs": [],
   "source": []
  },
  {
   "cell_type": "code",
   "execution_count": 160,
   "metadata": {},
   "outputs": [
    {
     "name": "stdout",
     "output_type": "stream",
     "text": [
      "Collecting stop-words\n",
      "  Downloading https://files.pythonhosted.org/packages/1c/cb/d58290804b7a4c5daa42abbbe2a93c477ae53e45541b1825e86f0dfaaf63/stop-words-2018.7.23.tar.gz\n",
      "Building wheels for collected packages: stop-words\n",
      "  Building wheel for stop-words (setup.py): started\n",
      "  Building wheel for stop-words (setup.py): finished with status 'done'\n",
      "  Stored in directory: C:\\Users\\Mark\\AppData\\Local\\pip\\Cache\\wheels\\75\\37\\6a\\2b295e03bd07290f0da95c3adb9a74ba95fbc333aa8b0c7c78\n",
      "Successfully built stop-words\n",
      "Installing collected packages: stop-words\n",
      "Successfully installed stop-words-2018.7.23\n"
     ]
    }
   ],
   "source": [
    "!pip install stop-words"
   ]
  },
  {
   "cell_type": "code",
   "execution_count": 39,
   "metadata": {},
   "outputs": [],
   "source": [
    "from nltk.corpus import stopwords\n",
    "from stop_words import get_stop_words\n",
    "\n",
    "stop_words = set(stopwords.words('english'))\n",
    "\n",
    "stop_words.add(\"ð\")\n",
    "stop_words.add(\" the\")\n",
    "stop_words.add(\"the \")\n",
    "stop_words.add(\" the \")\n",
    "stop_words.add('like')\n",
    "stop_words.add('would')\n",
    "\n"
   ]
  },
  {
   "cell_type": "code",
   "execution_count": 34,
   "metadata": {},
   "outputs": [],
   "source": [
    "from nltk.corpus import stopwords"
   ]
  },
  {
   "cell_type": "code",
   "execution_count": 11,
   "metadata": {},
   "outputs": [],
   "source": [
    "*nltk?"
   ]
  },
  {
   "cell_type": "code",
   "execution_count": 40,
   "metadata": {},
   "outputs": [
    {
     "data": {
      "text/html": [
       "<div>\n",
       "<style scoped>\n",
       "    .dataframe tbody tr th:only-of-type {\n",
       "        vertical-align: middle;\n",
       "    }\n",
       "\n",
       "    .dataframe tbody tr th {\n",
       "        vertical-align: top;\n",
       "    }\n",
       "\n",
       "    .dataframe thead th {\n",
       "        text-align: right;\n",
       "    }\n",
       "</style>\n",
       "<table border=\"1\" class=\"dataframe\">\n",
       "  <thead>\n",
       "    <tr style=\"text-align: right;\">\n",
       "      <th></th>\n",
       "      <th>book</th>\n",
       "      <th>description</th>\n",
       "    </tr>\n",
       "  </thead>\n",
       "  <tbody>\n",
       "    <tr>\n",
       "      <th>0</th>\n",
       "      <td>MSNBC</td>\n",
       "      <td>h</td>\n",
       "    </tr>\n",
       "    <tr>\n",
       "      <th>1</th>\n",
       "      <td>MSNBC</td>\n",
       "      <td>p</td>\n",
       "    </tr>\n",
       "    <tr>\n",
       "      <th>2</th>\n",
       "      <td>MSNBC</td>\n",
       "      <td>:</td>\n",
       "    </tr>\n",
       "    <tr>\n",
       "      <th>3</th>\n",
       "      <td>MSNBC</td>\n",
       "      <td>/</td>\n",
       "    </tr>\n",
       "    <tr>\n",
       "      <th>4</th>\n",
       "      <td>MSNBC</td>\n",
       "      <td>/</td>\n",
       "    </tr>\n",
       "  </tbody>\n",
       "</table>\n",
       "</div>"
      ],
      "text/plain": [
       "    book description\n",
       "0  MSNBC           h\n",
       "1  MSNBC           p\n",
       "2  MSNBC           :\n",
       "3  MSNBC           /\n",
       "4  MSNBC           /"
      ]
     },
     "execution_count": 40,
     "metadata": {},
     "output_type": "execute_result"
    }
   ],
   "source": [
    "rows = list()\n",
    "for row in comments[['Producer', 'words']].dropna().iterrows():\n",
    "    r = row[1]\n",
    "    for word in r.words:\n",
    "        if word not in stop_words:\n",
    "            rows.append((r.Producer, word))\n",
    "\n",
    "words = pd.DataFrame(rows, columns=['book', 'word'])\n",
    "words.head()"
   ]
  },
  {
   "cell_type": "code",
   "execution_count": 191,
   "metadata": {},
   "outputs": [
    {
     "data": {
      "text/html": [
       "<div>\n",
       "<style scoped>\n",
       "    .dataframe tbody tr th:only-of-type {\n",
       "        vertical-align: middle;\n",
       "    }\n",
       "\n",
       "    .dataframe tbody tr th {\n",
       "        vertical-align: top;\n",
       "    }\n",
       "\n",
       "    .dataframe thead th {\n",
       "        text-align: right;\n",
       "    }\n",
       "</style>\n",
       "<table border=\"1\" class=\"dataframe\">\n",
       "  <thead>\n",
       "    <tr style=\"text-align: right;\">\n",
       "      <th></th>\n",
       "      <th>book</th>\n",
       "      <th>word</th>\n",
       "    </tr>\n",
       "  </thead>\n",
       "  <tbody>\n",
       "    <tr>\n",
       "      <th>0</th>\n",
       "      <td>MSNBC</td>\n",
       "      <td>https</td>\n",
       "    </tr>\n",
       "    <tr>\n",
       "      <th>2</th>\n",
       "      <td>MSNBC</td>\n",
       "      <td>youtube</td>\n",
       "    </tr>\n",
       "    <tr>\n",
       "      <th>4</th>\n",
       "      <td>MSNBC</td>\n",
       "      <td>watch</td>\n",
       "    </tr>\n",
       "    <tr>\n",
       "      <th>6</th>\n",
       "      <td>MSNBC</td>\n",
       "      <td>dushivqwmem</td>\n",
       "    </tr>\n",
       "    <tr>\n",
       "      <th>7</th>\n",
       "      <td>MSNBC</td>\n",
       "      <td>biden</td>\n",
       "    </tr>\n",
       "  </tbody>\n",
       "</table>\n",
       "</div>"
      ],
      "text/plain": [
       "    book         word\n",
       "0  MSNBC        https\n",
       "2  MSNBC      youtube\n",
       "4  MSNBC        watch\n",
       "6  MSNBC  dushivqwmem\n",
       "7  MSNBC        biden"
      ]
     },
     "execution_count": 191,
     "metadata": {},
     "output_type": "execute_result"
    }
   ],
   "source": [
    "words = words[words.word.str.len() > 4]\n",
    "words.head()"
   ]
  },
  {
   "cell_type": "code",
   "execution_count": 192,
   "metadata": {},
   "outputs": [
    {
     "data": {
      "text/html": [
       "<div>\n",
       "<style scoped>\n",
       "    .dataframe tbody tr th:only-of-type {\n",
       "        vertical-align: middle;\n",
       "    }\n",
       "\n",
       "    .dataframe tbody tr th {\n",
       "        vertical-align: top;\n",
       "    }\n",
       "\n",
       "    .dataframe thead th {\n",
       "        text-align: right;\n",
       "    }\n",
       "</style>\n",
       "<table border=\"1\" class=\"dataframe\">\n",
       "  <thead>\n",
       "    <tr style=\"text-align: right;\">\n",
       "      <th></th>\n",
       "      <th>book</th>\n",
       "      <th>word</th>\n",
       "    </tr>\n",
       "  </thead>\n",
       "  <tbody>\n",
       "    <tr>\n",
       "      <th>0</th>\n",
       "      <td>MSNBC</td>\n",
       "      <td>https</td>\n",
       "    </tr>\n",
       "    <tr>\n",
       "      <th>2</th>\n",
       "      <td>MSNBC</td>\n",
       "      <td>youtube</td>\n",
       "    </tr>\n",
       "    <tr>\n",
       "      <th>4</th>\n",
       "      <td>MSNBC</td>\n",
       "      <td>watch</td>\n",
       "    </tr>\n",
       "    <tr>\n",
       "      <th>6</th>\n",
       "      <td>MSNBC</td>\n",
       "      <td>dushivqwmem</td>\n",
       "    </tr>\n",
       "    <tr>\n",
       "      <th>7</th>\n",
       "      <td>MSNBC</td>\n",
       "      <td>biden</td>\n",
       "    </tr>\n",
       "  </tbody>\n",
       "</table>\n",
       "</div>"
      ],
      "text/plain": [
       "    book         word\n",
       "0  MSNBC        https\n",
       "2  MSNBC      youtube\n",
       "4  MSNBC        watch\n",
       "6  MSNBC  dushivqwmem\n",
       "7  MSNBC        biden"
      ]
     },
     "execution_count": 192,
     "metadata": {},
     "output_type": "execute_result"
    }
   ],
   "source": [
    "words['word'] = words.word.str.lower() \n",
    "words.head()"
   ]
  },
  {
   "cell_type": "code",
   "execution_count": null,
   "metadata": {},
   "outputs": [],
   "source": []
  },
  {
   "cell_type": "code",
   "execution_count": 193,
   "metadata": {},
   "outputs": [
    {
     "data": {
      "text/html": [
       "<div>\n",
       "<style scoped>\n",
       "    .dataframe tbody tr th:only-of-type {\n",
       "        vertical-align: middle;\n",
       "    }\n",
       "\n",
       "    .dataframe tbody tr th {\n",
       "        vertical-align: top;\n",
       "    }\n",
       "\n",
       "    .dataframe thead th {\n",
       "        text-align: right;\n",
       "    }\n",
       "</style>\n",
       "<table border=\"1\" class=\"dataframe\">\n",
       "  <thead>\n",
       "    <tr style=\"text-align: right;\">\n",
       "      <th></th>\n",
       "      <th></th>\n",
       "      <th>n_w</th>\n",
       "    </tr>\n",
       "    <tr>\n",
       "      <th>book</th>\n",
       "      <th>word</th>\n",
       "      <th></th>\n",
       "    </tr>\n",
       "  </thead>\n",
       "  <tbody>\n",
       "    <tr>\n",
       "      <th rowspan=\"5\" valign=\"top\">Fox News</th>\n",
       "      <th>trump</th>\n",
       "      <td>19718</td>\n",
       "    </tr>\n",
       "    <tr>\n",
       "      <th>people</th>\n",
       "      <td>8854</td>\n",
       "    </tr>\n",
       "    <tr>\n",
       "      <th>president</th>\n",
       "      <td>8755</td>\n",
       "    </tr>\n",
       "    <tr>\n",
       "      <th>america</th>\n",
       "      <td>4838</td>\n",
       "    </tr>\n",
       "    <tr>\n",
       "      <th>democrats</th>\n",
       "      <td>4733</td>\n",
       "    </tr>\n",
       "  </tbody>\n",
       "</table>\n",
       "</div>"
      ],
      "text/plain": [
       "                      n_w\n",
       "book     word            \n",
       "Fox News trump      19718\n",
       "         people      8854\n",
       "         president   8755\n",
       "         america     4838\n",
       "         democrats   4733"
      ]
     },
     "execution_count": 193,
     "metadata": {},
     "output_type": "execute_result"
    }
   ],
   "source": [
    "counts = words.groupby('book')\\\n",
    "    .word.value_counts()\\\n",
    "    .to_frame()\\\n",
    "    .rename(columns={'word':'n_w'})\n",
    "counts.head()"
   ]
  },
  {
   "cell_type": "code",
   "execution_count": 194,
   "metadata": {
    "scrolled": true
   },
   "outputs": [
    {
     "data": {
      "text/html": [
       "<div>\n",
       "<style scoped>\n",
       "    .dataframe tbody tr th:only-of-type {\n",
       "        vertical-align: middle;\n",
       "    }\n",
       "\n",
       "    .dataframe tbody tr th {\n",
       "        vertical-align: top;\n",
       "    }\n",
       "\n",
       "    .dataframe thead th {\n",
       "        text-align: right;\n",
       "    }\n",
       "</style>\n",
       "<table border=\"1\" class=\"dataframe\">\n",
       "  <thead>\n",
       "    <tr style=\"text-align: right;\">\n",
       "      <th></th>\n",
       "      <th></th>\n",
       "      <th>n_w</th>\n",
       "    </tr>\n",
       "    <tr>\n",
       "      <th>book</th>\n",
       "      <th>word</th>\n",
       "      <th></th>\n",
       "    </tr>\n",
       "  </thead>\n",
       "  <tbody>\n",
       "    <tr>\n",
       "      <th rowspan=\"10\" valign=\"top\">Fox News</th>\n",
       "      <th>trump</th>\n",
       "      <td>19718</td>\n",
       "    </tr>\n",
       "    <tr>\n",
       "      <th>people</th>\n",
       "      <td>8854</td>\n",
       "    </tr>\n",
       "    <tr>\n",
       "      <th>president</th>\n",
       "      <td>8755</td>\n",
       "    </tr>\n",
       "    <tr>\n",
       "      <th>america</th>\n",
       "      <td>4838</td>\n",
       "    </tr>\n",
       "    <tr>\n",
       "      <th>democrats</th>\n",
       "      <td>4733</td>\n",
       "    </tr>\n",
       "    <tr>\n",
       "      <th>american</th>\n",
       "      <td>4224</td>\n",
       "    </tr>\n",
       "    <tr>\n",
       "      <th>country</th>\n",
       "      <td>4056</td>\n",
       "    </tr>\n",
       "    <tr>\n",
       "      <th>think</th>\n",
       "      <td>4048</td>\n",
       "    </tr>\n",
       "    <tr>\n",
       "      <th>obama</th>\n",
       "      <td>3817</td>\n",
       "    </tr>\n",
       "    <tr>\n",
       "      <th>right</th>\n",
       "      <td>3666</td>\n",
       "    </tr>\n",
       "    <tr>\n",
       "      <th rowspan=\"10\" valign=\"top\">MSNBC</th>\n",
       "      <th>trump</th>\n",
       "      <td>26979</td>\n",
       "    </tr>\n",
       "    <tr>\n",
       "      <th>people</th>\n",
       "      <td>9081</td>\n",
       "    </tr>\n",
       "    <tr>\n",
       "      <th>president</th>\n",
       "      <td>6385</td>\n",
       "    </tr>\n",
       "    <tr>\n",
       "      <th>america</th>\n",
       "      <td>5344</td>\n",
       "    </tr>\n",
       "    <tr>\n",
       "      <th>american</th>\n",
       "      <td>4443</td>\n",
       "    </tr>\n",
       "    <tr>\n",
       "      <th>think</th>\n",
       "      <td>4272</td>\n",
       "    </tr>\n",
       "    <tr>\n",
       "      <th>obama</th>\n",
       "      <td>4211</td>\n",
       "    </tr>\n",
       "    <tr>\n",
       "      <th>going</th>\n",
       "      <td>4191</td>\n",
       "    </tr>\n",
       "    <tr>\n",
       "      <th>world</th>\n",
       "      <td>4167</td>\n",
       "    </tr>\n",
       "    <tr>\n",
       "      <th>country</th>\n",
       "      <td>3951</td>\n",
       "    </tr>\n",
       "  </tbody>\n",
       "</table>\n",
       "</div>"
      ],
      "text/plain": [
       "                      n_w\n",
       "book     word            \n",
       "Fox News trump      19718\n",
       "         people      8854\n",
       "         president   8755\n",
       "         america     4838\n",
       "         democrats   4733\n",
       "         american    4224\n",
       "         country     4056\n",
       "         think       4048\n",
       "         obama       3817\n",
       "         right       3666\n",
       "MSNBC    trump      26979\n",
       "         people      9081\n",
       "         president   6385\n",
       "         america     5344\n",
       "         american    4443\n",
       "         think       4272\n",
       "         obama       4211\n",
       "         going       4191\n",
       "         world       4167\n",
       "         country     3951"
      ]
     },
     "execution_count": 194,
     "metadata": {},
     "output_type": "execute_result"
    },
    {
     "data": {
      "image/png": "[encoded data removed]",
      "text/plain": [
       "<Figure size 576x432 with 1 Axes>"
      ]
     },
     "metadata": {},
     "output_type": "display_data"
    }
   ],
   "source": [
    "def pretty_plot_top_n(series, top_n=10, index_level=0):\n",
    "    r = series\\\n",
    "    .groupby(level=index_level)\\\n",
    "    .nlargest(top_n)\\\n",
    "    .reset_index(level=index_level, drop=True)\n",
    "    r.plot.bar()\n",
    "    return r.to_frame()\n",
    "\n",
    "\n",
    "pretty_plot_top_n(counts['n_w'])"
   ]
  },
  {
   "cell_type": "markdown",
   "metadata": {},
   "source": [
    "### Author Frequency"
   ]
  },
  {
   "cell_type": "code",
   "execution_count": 263,
   "metadata": {},
   "outputs": [
    {
     "data": {
      "text/html": [
       "<div>\n",
       "<style scoped>\n",
       "    .dataframe tbody tr th:only-of-type {\n",
       "        vertical-align: middle;\n",
       "    }\n",
       "\n",
       "    .dataframe tbody tr th {\n",
       "        vertical-align: top;\n",
       "    }\n",
       "\n",
       "    .dataframe thead th {\n",
       "        text-align: right;\n",
       "    }\n",
       "</style>\n",
       "<table border=\"1\" class=\"dataframe\">\n",
       "  <thead>\n",
       "    <tr style=\"text-align: right;\">\n",
       "      <th></th>\n",
       "      <th>Producer</th>\n",
       "      <th>author</th>\n",
       "      <th>Appearences</th>\n",
       "    </tr>\n",
       "  </thead>\n",
       "  <tbody>\n",
       "    <tr>\n",
       "      <th>47037</th>\n",
       "      <td>MSNBC</td>\n",
       "      <td>CShield</td>\n",
       "      <td>198</td>\n",
       "    </tr>\n",
       "    <tr>\n",
       "      <th>49354</th>\n",
       "      <td>MSNBC</td>\n",
       "      <td>Dave Schultz</td>\n",
       "      <td>145</td>\n",
       "    </tr>\n",
       "    <tr>\n",
       "      <th>69703</th>\n",
       "      <td>MSNBC</td>\n",
       "      <td>Trumpty Dumpty your fall is coming!</td>\n",
       "      <td>139</td>\n",
       "    </tr>\n",
       "    <tr>\n",
       "      <th>16669</th>\n",
       "      <td>Fox News</td>\n",
       "      <td>John Williams</td>\n",
       "      <td>138</td>\n",
       "    </tr>\n",
       "    <tr>\n",
       "      <th>61947</th>\n",
       "      <td>MSNBC</td>\n",
       "      <td>Naomi Ogle</td>\n",
       "      <td>135</td>\n",
       "    </tr>\n",
       "    <tr>\n",
       "      <th>66075</th>\n",
       "      <td>MSNBC</td>\n",
       "      <td>Samera K</td>\n",
       "      <td>132</td>\n",
       "    </tr>\n",
       "    <tr>\n",
       "      <th>43905</th>\n",
       "      <td>MSNBC</td>\n",
       "      <td>Al Shabob</td>\n",
       "      <td>130</td>\n",
       "    </tr>\n",
       "    <tr>\n",
       "      <th>77400</th>\n",
       "      <td>MSNBC</td>\n",
       "      <td>wily wascal</td>\n",
       "      <td>129</td>\n",
       "    </tr>\n",
       "    <tr>\n",
       "      <th>48540</th>\n",
       "      <td>MSNBC</td>\n",
       "      <td>Crystal Giddens</td>\n",
       "      <td>128</td>\n",
       "    </tr>\n",
       "    <tr>\n",
       "      <th>21339</th>\n",
       "      <td>Fox News</td>\n",
       "      <td>Masson H</td>\n",
       "      <td>125</td>\n",
       "    </tr>\n",
       "  </tbody>\n",
       "</table>\n",
       "</div>"
      ],
      "text/plain": [
       "       Producer                               author  Appearences\n",
       "47037     MSNBC                              CShield          198\n",
       "49354     MSNBC                         Dave Schultz          145\n",
       "69703     MSNBC  Trumpty Dumpty your fall is coming!          139\n",
       "16669  Fox News                        John Williams          138\n",
       "61947     MSNBC                           Naomi Ogle          135\n",
       "66075     MSNBC                             Samera K          132\n",
       "43905     MSNBC                            Al Shabob          130\n",
       "77400     MSNBC                          wily wascal          129\n",
       "48540     MSNBC                      Crystal Giddens          128\n",
       "21339  Fox News                             Masson H          125"
      ]
     },
     "execution_count": 263,
     "metadata": {},
     "output_type": "execute_result"
    }
   ],
   "source": [
    "auth_counts = comments.groupby(['Producer', 'author']).size().reset_index(name='Appearences')\n",
    "auth_counts.sort_values(by = ['Appearences'], ascending = False)[0:10]"
   ]
  },
  {
   "cell_type": "markdown",
   "metadata": {},
   "source": [
    "### Popularity by like count"
   ]
  },
  {
   "cell_type": "code",
   "execution_count": 408,
   "metadata": {},
   "outputs": [],
   "source": [
    "like_counts = comments.sort_values(by=\"likecount\", ascending = False)\n"
   ]
  },
  {
   "cell_type": "code",
   "execution_count": 410,
   "metadata": {},
   "outputs": [],
   "source": [
    "like_counts = like_counts[[\"Producer\", \"author\", \"likecount\",\"description\"]]"
   ]
  },
  {
   "cell_type": "code",
   "execution_count": 411,
   "metadata": {},
   "outputs": [
    {
     "data": {
      "text/html": [
       "<div>\n",
       "<style scoped>\n",
       "    .dataframe tbody tr th:only-of-type {\n",
       "        vertical-align: middle;\n",
       "    }\n",
       "\n",
       "    .dataframe tbody tr th {\n",
       "        vertical-align: top;\n",
       "    }\n",
       "\n",
       "    .dataframe thead th {\n",
       "        text-align: right;\n",
       "    }\n",
       "</style>\n",
       "<table border=\"1\" class=\"dataframe\">\n",
       "  <thead>\n",
       "    <tr style=\"text-align: right;\">\n",
       "      <th></th>\n",
       "      <th>Producer</th>\n",
       "      <th>author</th>\n",
       "      <th>likecount</th>\n",
       "      <th>description</th>\n",
       "    </tr>\n",
       "  </thead>\n",
       "  <tbody>\n",
       "    <tr>\n",
       "      <th>192268</th>\n",
       "      <td>Fox News</td>\n",
       "      <td>T G</td>\n",
       "      <td>2740</td>\n",
       "      <td>Isnât it funny a socialist isnât âpaying...</td>\n",
       "    </tr>\n",
       "    <tr>\n",
       "      <th>24560</th>\n",
       "      <td>MSNBC</td>\n",
       "      <td>Joshua Morales</td>\n",
       "      <td>2442</td>\n",
       "      <td>Well 2020 started off with a bang...</td>\n",
       "    </tr>\n",
       "    <tr>\n",
       "      <th>105503</th>\n",
       "      <td>Fox News</td>\n",
       "      <td>Krispy Bacon</td>\n",
       "      <td>1829</td>\n",
       "      <td>Hey Omar? dont worry its none of your business...</td>\n",
       "    </tr>\n",
       "    <tr>\n",
       "      <th>104861</th>\n",
       "      <td>Fox News</td>\n",
       "      <td>Misaka Mikoto</td>\n",
       "      <td>1704</td>\n",
       "      <td>Ilhan Omar is mourning over another one of her...</td>\n",
       "    </tr>\n",
       "    <tr>\n",
       "      <th>127614</th>\n",
       "      <td>Fox News</td>\n",
       "      <td>Elmer T Fuddrucker</td>\n",
       "      <td>1679</td>\n",
       "      <td>John Kerry is having tantrums over the killing...</td>\n",
       "    </tr>\n",
       "    <tr>\n",
       "      <th>167157</th>\n",
       "      <td>Fox News</td>\n",
       "      <td>J G</td>\n",
       "      <td>1563</td>\n",
       "      <td>if mike became governor of california, it woul...</td>\n",
       "    </tr>\n",
       "    <tr>\n",
       "      <th>23688</th>\n",
       "      <td>MSNBC</td>\n",
       "      <td>SIN THE BIN</td>\n",
       "      <td>1535</td>\n",
       "      <td>I thought trump was in a peach?</td>\n",
       "    </tr>\n",
       "    <tr>\n",
       "      <th>127191</th>\n",
       "      <td>Fox News</td>\n",
       "      <td>RSKR</td>\n",
       "      <td>1534</td>\n",
       "      <td>the red line was crossed. they shouldnt be sur...</td>\n",
       "    </tr>\n",
       "    <tr>\n",
       "      <th>51193</th>\n",
       "      <td>MSNBC</td>\n",
       "      <td>Acme Page</td>\n",
       "      <td>1487</td>\n",
       "      <td>âSomeone who suggests that coal miners becom...</td>\n",
       "    </tr>\n",
       "    <tr>\n",
       "      <th>128014</th>\n",
       "      <td>Fox News</td>\n",
       "      <td>Anthony Alvaros</td>\n",
       "      <td>1418</td>\n",
       "      <td>Ilhan Omar is mourning over another one of her...</td>\n",
       "    </tr>\n",
       "  </tbody>\n",
       "</table>\n",
       "</div>"
      ],
      "text/plain": [
       "        Producer              author  likecount  \\\n",
       "192268  Fox News                 T G       2740   \n",
       "24560      MSNBC      Joshua Morales       2442   \n",
       "105503  Fox News        Krispy Bacon       1829   \n",
       "104861  Fox News       Misaka Mikoto       1704   \n",
       "127614  Fox News  Elmer T Fuddrucker       1679   \n",
       "167157  Fox News                 J G       1563   \n",
       "23688      MSNBC         SIN THE BIN       1535   \n",
       "127191  Fox News                RSKR       1534   \n",
       "51193      MSNBC           Acme Page       1487   \n",
       "128014  Fox News     Anthony Alvaros       1418   \n",
       "\n",
       "                                              description  \n",
       "192268  Isnât it funny a socialist isnât âpaying...  \n",
       "24560                Well 2020 started off with a bang...  \n",
       "105503  Hey Omar? dont worry its none of your business...  \n",
       "104861  Ilhan Omar is mourning over another one of her...  \n",
       "127614  John Kerry is having tantrums over the killing...  \n",
       "167157  if mike became governor of california, it woul...  \n",
       "23688                     I thought trump was in a peach?  \n",
       "127191  the red line was crossed. they shouldnt be sur...  \n",
       "51193   âSomeone who suggests that coal miners becom...  \n",
       "128014  Ilhan Omar is mourning over another one of her...  "
      ]
     },
     "execution_count": 411,
     "metadata": {},
     "output_type": "execute_result"
    }
   ],
   "source": [
    "lc = like_counts.head(10)\n",
    "lc"
   ]
  },
  {
   "cell_type": "markdown",
   "metadata": {},
   "source": [
    "### Rank by users able to generate replies "
   ]
  },
  {
   "cell_type": "code",
   "execution_count": 123,
   "metadata": {
    "scrolled": true
   },
   "outputs": [
    {
     "data": {
      "text/plain": [
       "Alberto Raphael Pinto    580\n",
       "David J                  399\n",
       "Ryan Perry               345\n",
       "V                        292\n",
       "jon Q                    276\n",
       "RSKR                     242\n",
       "Laura Folsom             238\n",
       "Elmer T Fuddrucker       233\n",
       "Emperor Solo             220\n",
       "Anthony Alvaros          217\n",
       "Name: isreplyto, dtype: int64"
      ]
     },
     "execution_count": 123,
     "metadata": {},
     "output_type": "execute_result"
    }
   ],
   "source": [
    "reply_counts = comments.isreplyto.value_counts()\n",
    "reply_counts.head(10)"
   ]
  },
  {
   "cell_type": "code",
   "execution_count": 16,
   "metadata": {},
   "outputs": [
    {
     "data": {
      "text/html": [
       "<div>\n",
       "<style scoped>\n",
       "    .dataframe tbody tr th:only-of-type {\n",
       "        vertical-align: middle;\n",
       "    }\n",
       "\n",
       "    .dataframe tbody tr th {\n",
       "        vertical-align: top;\n",
       "    }\n",
       "\n",
       "    .dataframe thead th {\n",
       "        text-align: right;\n",
       "    }\n",
       "</style>\n",
       "<table border=\"1\" class=\"dataframe\">\n",
       "  <thead>\n",
       "    <tr style=\"text-align: right;\">\n",
       "      <th></th>\n",
       "      <th>Producer</th>\n",
       "      <th>guid</th>\n",
       "      <th>link</th>\n",
       "      <th>pubdate</th>\n",
       "      <th>author</th>\n",
       "      <th>title</th>\n",
       "      <th>description</th>\n",
       "      <th>likecount</th>\n",
       "      <th>replycount</th>\n",
       "      <th>isreplyto</th>\n",
       "    </tr>\n",
       "  </thead>\n",
       "  <tbody>\n",
       "    <tr>\n",
       "      <th>107185</th>\n",
       "      <td>Fox News</td>\n",
       "      <td>UgylwxEI69DKvYn5MT54AaABAg</td>\n",
       "      <td>https://www.youtube.com/watch?v=zoiGytDec90&amp;lc...</td>\n",
       "      <td>1/3/2020 13:26</td>\n",
       "      <td>Alberto Raphael Pinto</td>\n",
       "      <td>Q. What\\'s the one thing an arab would never g...</td>\n",
       "      <td>Q. What\\'s the one thing an arab would never g...</td>\n",
       "      <td>0</td>\n",
       "      <td>3</td>\n",
       "      <td>NaN</td>\n",
       "    </tr>\n",
       "    <tr>\n",
       "      <th>107211</th>\n",
       "      <td>Fox News</td>\n",
       "      <td>UgyE6kJ2Rmh9f2_64Md4AaABAg</td>\n",
       "      <td>https://www.youtube.com/watch?v=zoiGytDec90&amp;lc...</td>\n",
       "      <td>1/3/2020 13:26</td>\n",
       "      <td>Alberto Raphael Pinto</td>\n",
       "      <td>Q. What\\'s the difference between E.T and an a...</td>\n",
       "      <td>Q. What\\'s the difference between E.T and an a...</td>\n",
       "      <td>1</td>\n",
       "      <td>0</td>\n",
       "      <td>NaN</td>\n",
       "    </tr>\n",
       "    <tr>\n",
       "      <th>107219</th>\n",
       "      <td>Fox News</td>\n",
       "      <td>UgyjjcBdz1iqhyCMalB4AaABAg</td>\n",
       "      <td>https://www.youtube.com/watch?v=zoiGytDec90&amp;lc...</td>\n",
       "      <td>1/3/2020 13:26</td>\n",
       "      <td>Alberto Raphael Pinto</td>\n",
       "      <td>Q. What\\'s the difference between a run-over d...</td>\n",
       "      <td>Q. What\\'s the difference between a run-over d...</td>\n",
       "      <td>0</td>\n",
       "      <td>1</td>\n",
       "      <td>NaN</td>\n",
       "    </tr>\n",
       "    <tr>\n",
       "      <th>127843</th>\n",
       "      <td>Fox News</td>\n",
       "      <td>UgxlyDp1D-gTzZiDwOx4AaABAg</td>\n",
       "      <td>https://www.youtube.com/watch?v=XBzBRE_dzC0&amp;lc...</td>\n",
       "      <td>1/3/2020 20:46</td>\n",
       "      <td>Alberto Raphael Pinto</td>\n",
       "      <td>Hillary Clinton after leaving Americans to die...</td>\n",
       "      <td>Hillary Clinton after leaving Americans to die...</td>\n",
       "      <td>0</td>\n",
       "      <td>0</td>\n",
       "      <td>NaN</td>\n",
       "    </tr>\n",
       "    <tr>\n",
       "      <th>127863</th>\n",
       "      <td>Fox News</td>\n",
       "      <td>UgzlEf5UYYa2mTxRKy94AaABAg</td>\n",
       "      <td>https://www.youtube.com/watch?v=XBzBRE_dzC0&amp;lc...</td>\n",
       "      <td>1/3/2020 20:46</td>\n",
       "      <td>Alberto Raphael Pinto</td>\n",
       "      <td>Hillary Clinton after turning Libya into a thi...</td>\n",
       "      <td>Hillary Clinton after turning Libya into a thi...</td>\n",
       "      <td>243</td>\n",
       "      <td>9</td>\n",
       "      <td>NaN</td>\n",
       "    </tr>\n",
       "    <tr>\n",
       "      <th>128223</th>\n",
       "      <td>Fox News</td>\n",
       "      <td>UgzjEWf5zu-A9xjVO5V4AaABAg</td>\n",
       "      <td>https://www.youtube.com/watch?v=XBzBRE_dzC0&amp;lc...</td>\n",
       "      <td>1/3/2020 20:40</td>\n",
       "      <td>Alberto Raphael Pinto</td>\n",
       "      <td>Democ RATS crying because they can\\'t make mon...</td>\n",
       "      <td>Democ RATS crying because they can\\'t make mon...</td>\n",
       "      <td>293</td>\n",
       "      <td>17</td>\n",
       "      <td>NaN</td>\n",
       "    </tr>\n",
       "    <tr>\n",
       "      <th>128316</th>\n",
       "      <td>Fox News</td>\n",
       "      <td>Ugy4ALG_xfUYfK6nNoh4AaABAg</td>\n",
       "      <td>https://www.youtube.com/watch?v=XBzBRE_dzC0&amp;lc...</td>\n",
       "      <td>1/3/2020 20:40</td>\n",
       "      <td>Alberto Raphael Pinto</td>\n",
       "      <td>Democ RATS hate America. But love Iran....Go f...</td>\n",
       "      <td>Democ RATS hate America. But love Iran....Go f...</td>\n",
       "      <td>279</td>\n",
       "      <td>24</td>\n",
       "      <td>NaN</td>\n",
       "    </tr>\n",
       "    <tr>\n",
       "      <th>152187</th>\n",
       "      <td>Fox News</td>\n",
       "      <td>Ugxrlx1m84N0gX4IC0t4AaABAg</td>\n",
       "      <td>https://www.youtube.com/watch?v=_D8Hd1eQeBg&amp;lc...</td>\n",
       "      <td>1/6/2020 10:07</td>\n",
       "      <td>Alberto Raphael Pinto</td>\n",
       "      <td>Trump could literally stop a nuke from hitting...</td>\n",
       "      <td>Trump could literally stop a nuke from hitting...</td>\n",
       "      <td>147</td>\n",
       "      <td>29</td>\n",
       "      <td>NaN</td>\n",
       "    </tr>\n",
       "    <tr>\n",
       "      <th>152219</th>\n",
       "      <td>Fox News</td>\n",
       "      <td>Ugyun94ZRheAPsP46494AaABAg</td>\n",
       "      <td>https://www.youtube.com/watch?v=_D8Hd1eQeBg&amp;lc...</td>\n",
       "      <td>1/6/2020 10:07</td>\n",
       "      <td>Alberto Raphael Pinto</td>\n",
       "      <td>Obama kills thousands with drone strike Hollyw...</td>\n",
       "      <td>Obama kills thousands with drone strike Hollyw...</td>\n",
       "      <td>2</td>\n",
       "      <td>0</td>\n",
       "      <td>NaN</td>\n",
       "    </tr>\n",
       "    <tr>\n",
       "      <th>152220</th>\n",
       "      <td>Fox News</td>\n",
       "      <td>UgwQr_fl2KkYU9VlfwV4AaABAg</td>\n",
       "      <td>https://www.youtube.com/watch?v=_D8Hd1eQeBg&amp;lc...</td>\n",
       "      <td>1/6/2020 10:07</td>\n",
       "      <td>Alberto Raphael Pinto</td>\n",
       "      <td>The left thinks everything and anything is rac...</td>\n",
       "      <td>The left thinks everything and anything is rac...</td>\n",
       "      <td>0</td>\n",
       "      <td>0</td>\n",
       "      <td>NaN</td>\n",
       "    </tr>\n",
       "    <tr>\n",
       "      <th>153225</th>\n",
       "      <td>Fox News</td>\n",
       "      <td>UgxJhdMZLf1zBLjdhB54AaABAg.93SKw-6pwKm93SLVN7M8tC</td>\n",
       "      <td>https://www.youtube.com/watch?v=_D8Hd1eQeBg&amp;lc...</td>\n",
       "      <td>1/6/2020 9:38</td>\n",
       "      <td>Alberto Raphael Pinto</td>\n",
       "      <td>@TRUMP TRASH why aren\\'t your fingers on the p...</td>\n",
       "      <td>@TRUMP TRASH why aren\\'t your fingers on the p...</td>\n",
       "      <td>0</td>\n",
       "      <td>0</td>\n",
       "      <td>Dan Alberto Raphael Akselrod</td>\n",
       "    </tr>\n",
       "    <tr>\n",
       "      <th>156903</th>\n",
       "      <td>Fox News</td>\n",
       "      <td>UgyqpmzohmKKYbWYdth4AaABAg</td>\n",
       "      <td>https://www.youtube.com/watch?v=xgPAslfVn7I&amp;lc...</td>\n",
       "      <td>1/6/2020 23:52</td>\n",
       "      <td>Alberto Raphael Pinto</td>\n",
       "      <td>Obama kills thousands with drone strike Hollyw...</td>\n",
       "      <td>Obama kills thousands with drone strike Hollyw...</td>\n",
       "      <td>90</td>\n",
       "      <td>9</td>\n",
       "      <td>NaN</td>\n",
       "    </tr>\n",
       "    <tr>\n",
       "      <th>156913</th>\n",
       "      <td>Fox News</td>\n",
       "      <td>UgxzhxKEJ5f867c8NhR4AaABAg</td>\n",
       "      <td>https://www.youtube.com/watch?v=xgPAslfVn7I&amp;lc...</td>\n",
       "      <td>1/6/2020 23:52</td>\n",
       "      <td>Alberto Raphael Pinto</td>\n",
       "      <td>The left thinks everything and anything is rac...</td>\n",
       "      <td>The left thinks everything and anything is rac...</td>\n",
       "      <td>17</td>\n",
       "      <td>5</td>\n",
       "      <td>NaN</td>\n",
       "    </tr>\n",
       "    <tr>\n",
       "      <th>157038</th>\n",
       "      <td>Fox News</td>\n",
       "      <td>Ugw5-SrrBWqTLwBPCtN4AaABAg.93TrpK16I7e93TwhRgeU-Z</td>\n",
       "      <td>https://www.youtube.com/watch?v=xgPAslfVn7I&amp;lc...</td>\n",
       "      <td>1/7/2020 0:31</td>\n",
       "      <td>Alberto Raphael Pinto</td>\n",
       "      <td>@Travis Hartman they were best friends</td>\n",
       "      <td>@Travis Hartman they were best friends</td>\n",
       "      <td>0</td>\n",
       "      <td>0</td>\n",
       "      <td>Anthony Alvaros</td>\n",
       "    </tr>\n",
       "    <tr>\n",
       "      <th>182231</th>\n",
       "      <td>Fox News</td>\n",
       "      <td>Ugw6kwlJ3obXKmhasa54AaABAg</td>\n",
       "      <td>https://www.youtube.com/watch?v=A995lnNZnXU&amp;lc...</td>\n",
       "      <td>1/10/2020 23:05</td>\n",
       "      <td>Alberto Raphael Pinto</td>\n",
       "      <td>*Imagine being as brainwashed as the memo and ...</td>\n",
       "      <td>*Imagine being as brainwashed as the memo and ...</td>\n",
       "      <td>17</td>\n",
       "      <td>4</td>\n",
       "      <td>NaN</td>\n",
       "    </tr>\n",
       "    <tr>\n",
       "      <th>182276</th>\n",
       "      <td>Fox News</td>\n",
       "      <td>UgxmHy9cGubhtLSJ_Ad4AaABAg</td>\n",
       "      <td>https://www.youtube.com/watch?v=A995lnNZnXU&amp;lc...</td>\n",
       "      <td>1/10/2020 23:03</td>\n",
       "      <td>Alberto Raphael Pinto</td>\n",
       "      <td>*Democrats are weak that\\'s why they are easy ...</td>\n",
       "      <td>*Democrats are weak that\\'s why they are easy ...</td>\n",
       "      <td>0</td>\n",
       "      <td>0</td>\n",
       "      <td>NaN</td>\n",
       "    </tr>\n",
       "    <tr>\n",
       "      <th>182298</th>\n",
       "      <td>Fox News</td>\n",
       "      <td>UgwvDGM_fpSDEWWq_Vp4AaABAg</td>\n",
       "      <td>https://www.youtube.com/watch?v=A995lnNZnXU&amp;lc...</td>\n",
       "      <td>1/10/2020 23:01</td>\n",
       "      <td>Alberto Raphael Pinto</td>\n",
       "      <td>*Why do people defend criminals like Hillary C...</td>\n",
       "      <td>*Why do people defend criminals like Hillary C...</td>\n",
       "      <td>0</td>\n",
       "      <td>1</td>\n",
       "      <td>NaN</td>\n",
       "    </tr>\n",
       "    <tr>\n",
       "      <th>182308</th>\n",
       "      <td>Fox News</td>\n",
       "      <td>UgzgxkEOqraMj9C5NFF4AaABAg.93d4_9Uo6V393d70yNGxZN</td>\n",
       "      <td>https://www.youtube.com/watch?v=A995lnNZnXU&amp;lc...</td>\n",
       "      <td>1/10/2020 23:23</td>\n",
       "      <td>Alberto Raphael Pinto</td>\n",
       "      <td>@The Memo this is you every day \"trump is so b...</td>\n",
       "      <td>@The Memo this is you every day \"trump is so b...</td>\n",
       "      <td>1</td>\n",
       "      <td>0</td>\n",
       "      <td>The Memo</td>\n",
       "    </tr>\n",
       "    <tr>\n",
       "      <th>182309</th>\n",
       "      <td>Fox News</td>\n",
       "      <td>UgzgxkEOqraMj9C5NFF4AaABAg.93d4_9Uo6V393d6tqUs4qg</td>\n",
       "      <td>https://www.youtube.com/watch?v=A995lnNZnXU&amp;lc...</td>\n",
       "      <td>1/10/2020 23:21</td>\n",
       "      <td>Alberto Raphael Pinto</td>\n",
       "      <td>*SO SHES PRETTY MUCH DONE NOTHING. SHES A COMP...</td>\n",
       "      <td>*SO SHES PRETTY MUCH DONE NOTHING. SHES A COMP...</td>\n",
       "      <td>0</td>\n",
       "      <td>0</td>\n",
       "      <td>The Memo</td>\n",
       "    </tr>\n",
       "    <tr>\n",
       "      <th>182310</th>\n",
       "      <td>Fox News</td>\n",
       "      <td>UgzgxkEOqraMj9C5NFF4AaABAg.93d4_9Uo6V393d6omlfUER</td>\n",
       "      <td>https://www.youtube.com/watch?v=A995lnNZnXU&amp;lc...</td>\n",
       "      <td>1/10/2020 23:21</td>\n",
       "      <td>Alberto Raphael Pinto</td>\n",
       "      <td>@The Memo *THATS ALL SHES DONE IN THE LAST 30 ...</td>\n",
       "      <td>@The Memo *THATS ALL SHES DONE IN THE LAST 30 ...</td>\n",
       "      <td>0</td>\n",
       "      <td>0</td>\n",
       "      <td>The Memo</td>\n",
       "    </tr>\n",
       "    <tr>\n",
       "      <th>182319</th>\n",
       "      <td>Fox News</td>\n",
       "      <td>UgzgxkEOqraMj9C5NFF4AaABAg.93d4_9Uo6V393d5h6jrEch</td>\n",
       "      <td>https://www.youtube.com/watch?v=A995lnNZnXU&amp;lc...</td>\n",
       "      <td>1/10/2020 23:11</td>\n",
       "      <td>Alberto Raphael Pinto</td>\n",
       "      <td>*WHAT HAS NANCY PELOSI EVER DONE FOR AMERICA I...</td>\n",
       "      <td>*WHAT HAS NANCY PELOSI EVER DONE FOR AMERICA I...</td>\n",
       "      <td>5</td>\n",
       "      <td>0</td>\n",
       "      <td>The Memo</td>\n",
       "    </tr>\n",
       "    <tr>\n",
       "      <th>184488</th>\n",
       "      <td>Fox News</td>\n",
       "      <td>Ugzm5qqreFFmbYUumcV4AaABAg</td>\n",
       "      <td>https://www.youtube.com/watch?v=ui5viD1F1hc&amp;lc...</td>\n",
       "      <td>1/10/2020 23:30</td>\n",
       "      <td>Alberto Raphael Pinto</td>\n",
       "      <td>*Pelosi is a sewer rat granny*</td>\n",
       "      <td>*Pelosi is a sewer rat granny*</td>\n",
       "      <td>3</td>\n",
       "      <td>0</td>\n",
       "      <td>NaN</td>\n",
       "    </tr>\n",
       "    <tr>\n",
       "      <th>184489</th>\n",
       "      <td>Fox News</td>\n",
       "      <td>UgyCK_O4MnHsMQVk2ux4AaABAg</td>\n",
       "      <td>https://www.youtube.com/watch?v=ui5viD1F1hc&amp;lc...</td>\n",
       "      <td>1/10/2020 23:30</td>\n",
       "      <td>Alberto Raphael Pinto</td>\n",
       "      <td>*Piglosi has the highest homelessness rate in ...</td>\n",
       "      <td>*Piglosi has the highest homelessness rate in ...</td>\n",
       "      <td>169</td>\n",
       "      <td>11</td>\n",
       "      <td>NaN</td>\n",
       "    </tr>\n",
       "    <tr>\n",
       "      <th>184511</th>\n",
       "      <td>Fox News</td>\n",
       "      <td>UgzeqLMsY2xxHI7OycJ4AaABAg</td>\n",
       "      <td>https://www.youtube.com/watch?v=ui5viD1F1hc&amp;lc...</td>\n",
       "      <td>1/10/2020 23:29</td>\n",
       "      <td>Alberto Raphael Pinto</td>\n",
       "      <td>Pelosi - Against border wall and is for gun co...</td>\n",
       "      <td>Pelosi - Against border wall and is for gun co...</td>\n",
       "      <td>198</td>\n",
       "      <td>41</td>\n",
       "      <td>NaN</td>\n",
       "    </tr>\n",
       "    <tr>\n",
       "      <th>184512</th>\n",
       "      <td>Fox News</td>\n",
       "      <td>UgzeqLMsY2xxHI7OycJ4AaABAg.93d7lKE1dJO93g9CQ1pC9c</td>\n",
       "      <td>https://www.youtube.com/watch?v=ui5viD1F1hc&amp;lc...</td>\n",
       "      <td>1/12/2020 3:39</td>\n",
       "      <td>Alberto Raphael Pinto</td>\n",
       "      <td>Pelosi probably makes money off wars. She show...</td>\n",
       "      <td>Pelosi probably makes money off wars. She show...</td>\n",
       "      <td>0</td>\n",
       "      <td>0</td>\n",
       "      <td>Alberto Raphael Pinto</td>\n",
       "    </tr>\n",
       "    <tr>\n",
       "      <th>184585</th>\n",
       "      <td>Fox News</td>\n",
       "      <td>UgzKpShK3kPjlB4XxWx4AaABAg</td>\n",
       "      <td>https://www.youtube.com/watch?v=ui5viD1F1hc&amp;lc...</td>\n",
       "      <td>1/10/2020 23:28</td>\n",
       "      <td>Alberto Raphael Pinto</td>\n",
       "      <td>*Ask Nancy how she became multi millionaire wh...</td>\n",
       "      <td>*Ask Nancy how she became multi millionaire wh...</td>\n",
       "      <td>383</td>\n",
       "      <td>120</td>\n",
       "      <td>NaN</td>\n",
       "    </tr>\n",
       "    <tr>\n",
       "      <th>184718</th>\n",
       "      <td>Fox News</td>\n",
       "      <td>UgwmBzse18ci2g-BerB4AaABAg</td>\n",
       "      <td>https://www.youtube.com/watch?v=ui5viD1F1hc&amp;lc...</td>\n",
       "      <td>1/10/2020 23:27</td>\n",
       "      <td>Alberto Raphael Pinto</td>\n",
       "      <td>*CAN SOMEONE NAME ONE THING NANCY PELOSI HAS D...</td>\n",
       "      <td>*CAN SOMEONE NAME ONE THING NANCY PELOSI HAS D...</td>\n",
       "      <td>174</td>\n",
       "      <td>77</td>\n",
       "      <td>NaN</td>\n",
       "    </tr>\n",
       "    <tr>\n",
       "      <th>184748</th>\n",
       "      <td>Fox News</td>\n",
       "      <td>UgwmBzse18ci2g-BerB4AaABAg.93d7UAxxwda93dFvh8gSq7</td>\n",
       "      <td>https://www.youtube.com/watch?v=ui5viD1F1hc&amp;lc...</td>\n",
       "      <td>1/11/2020 0:40</td>\n",
       "      <td>Alberto Raphael Pinto</td>\n",
       "      <td>@Arr One ð a democrat calling others sheep ...</td>\n",
       "      <td>@Arr One ð a democrat calling others sheep ...</td>\n",
       "      <td>2</td>\n",
       "      <td>0</td>\n",
       "      <td>Alberto Raphael Pinto</td>\n",
       "    </tr>\n",
       "    <tr>\n",
       "      <th>184753</th>\n",
       "      <td>Fox News</td>\n",
       "      <td>UgwmBzse18ci2g-BerB4AaABAg.93d7UAxxwda93dFJyWEAl4</td>\n",
       "      <td>https://www.youtube.com/watch?v=ui5viD1F1hc&amp;lc...</td>\n",
       "      <td>1/11/2020 0:35</td>\n",
       "      <td>Alberto Raphael Pinto</td>\n",
       "      <td>@Andrew Womble that\\'s all she\\'s done in 30 y...</td>\n",
       "      <td>@Andrew Womble that\\'s all she\\'s done in 30 y...</td>\n",
       "      <td>1</td>\n",
       "      <td>0</td>\n",
       "      <td>Alberto Raphael Pinto</td>\n",
       "    </tr>\n",
       "    <tr>\n",
       "      <th>187435</th>\n",
       "      <td>Fox News</td>\n",
       "      <td>UgxwOF5KCRn_GtSVeJh4AaABAg</td>\n",
       "      <td>https://www.youtube.com/watch?v=Qt-qPvzVXjY&amp;lc...</td>\n",
       "      <td>1/11/2020 8:08</td>\n",
       "      <td>Alberto Raphael Pinto</td>\n",
       "      <td>*CAN SOMEONE NAME ONE THING NANCY PELOSI HAS D...</td>\n",
       "      <td>*CAN SOMEONE NAME ONE THING NANCY PELOSI HAS D...</td>\n",
       "      <td>34</td>\n",
       "      <td>23</td>\n",
       "      <td>NaN</td>\n",
       "    </tr>\n",
       "    <tr>\n",
       "      <th>187438</th>\n",
       "      <td>Fox News</td>\n",
       "      <td>UgxwOF5KCRn_GtSVeJh4AaABAg.93e38GXHkJG93eWH2s71lY</td>\n",
       "      <td>https://www.youtube.com/watch?v=Qt-qPvzVXjY&amp;lc...</td>\n",
       "      <td>1/11/2020 12:22</td>\n",
       "      <td>Alberto Raphael Pinto</td>\n",
       "      <td>@NaomiDollxoxo oh so her only accomplishment i...</td>\n",
       "      <td>@NaomiDollxoxo oh so her only accomplishment i...</td>\n",
       "      <td>0</td>\n",
       "      <td>0</td>\n",
       "      <td>Alberto Raphael Pinto</td>\n",
       "    </tr>\n",
       "    <tr>\n",
       "      <th>187439</th>\n",
       "      <td>Fox News</td>\n",
       "      <td>UgxwOF5KCRn_GtSVeJh4AaABAg.93e38GXHkJG93eWEjmjYE6</td>\n",
       "      <td>https://www.youtube.com/watch?v=Qt-qPvzVXjY&amp;lc...</td>\n",
       "      <td>1/11/2020 12:22</td>\n",
       "      <td>Alberto Raphael Pinto</td>\n",
       "      <td>@NaomiDollxoxo cry harder</td>\n",
       "      <td>@NaomiDollxoxo cry harder</td>\n",
       "      <td>0</td>\n",
       "      <td>0</td>\n",
       "      <td>Alberto Raphael Pinto</td>\n",
       "    </tr>\n",
       "    <tr>\n",
       "      <th>187467</th>\n",
       "      <td>Fox News</td>\n",
       "      <td>UgzM0NWf6PJUlOn0rUd4AaABAg</td>\n",
       "      <td>https://www.youtube.com/watch?v=Qt-qPvzVXjY&amp;lc...</td>\n",
       "      <td>1/11/2020 8:07</td>\n",
       "      <td>Alberto Raphael Pinto</td>\n",
       "      <td>*Piglosi has the highest homelessness rate in ...</td>\n",
       "      <td>*Piglosi has the highest homelessness rate in ...</td>\n",
       "      <td>62</td>\n",
       "      <td>6</td>\n",
       "      <td>NaN</td>\n",
       "    </tr>\n",
       "    <tr>\n",
       "      <th>187485</th>\n",
       "      <td>Fox News</td>\n",
       "      <td>Ugyy4hHkp2O77AFP0ot4AaABAg</td>\n",
       "      <td>https://www.youtube.com/watch?v=Qt-qPvzVXjY&amp;lc...</td>\n",
       "      <td>1/11/2020 8:07</td>\n",
       "      <td>Alberto Raphael Pinto</td>\n",
       "      <td>*Ask Nancy how she became multi millionaire wh...</td>\n",
       "      <td>*Ask Nancy how she became multi millionaire wh...</td>\n",
       "      <td>398</td>\n",
       "      <td>81</td>\n",
       "      <td>NaN</td>\n",
       "    </tr>\n",
       "    <tr>\n",
       "      <th>194356</th>\n",
       "      <td>Fox News</td>\n",
       "      <td>Ugx9OXByGnQy_R1-qxJ4AaABAg</td>\n",
       "      <td>https://www.youtube.com/watch?v=bELxooMt3qg&amp;lc...</td>\n",
       "      <td>1/11/2020 8:17</td>\n",
       "      <td>Alberto Raphael Pinto</td>\n",
       "      <td>*AOC thinks cheerios are doughnut seeds*</td>\n",
       "      <td>*AOC thinks cheerios are doughnut seeds*</td>\n",
       "      <td>89</td>\n",
       "      <td>14</td>\n",
       "      <td>NaN</td>\n",
       "    </tr>\n",
       "    <tr>\n",
       "      <th>194379</th>\n",
       "      <td>Fox News</td>\n",
       "      <td>UgwFeiLjg3K03rZ-abV4AaABAg</td>\n",
       "      <td>https://www.youtube.com/watch?v=bELxooMt3qg&amp;lc...</td>\n",
       "      <td>1/11/2020 8:16</td>\n",
       "      <td>Alberto Raphael Pinto</td>\n",
       "      <td>*AOC once talked into an envelope to create a ...</td>\n",
       "      <td>*AOC once talked into an envelope to create a ...</td>\n",
       "      <td>73</td>\n",
       "      <td>5</td>\n",
       "      <td>NaN</td>\n",
       "    </tr>\n",
       "    <tr>\n",
       "      <th>194397</th>\n",
       "      <td>Fox News</td>\n",
       "      <td>UgwPEXS0AA93HD7lH5B4AaABAg</td>\n",
       "      <td>https://www.youtube.com/watch?v=bELxooMt3qg&amp;lc...</td>\n",
       "      <td>1/11/2020 8:16</td>\n",
       "      <td>Alberto Raphael Pinto</td>\n",
       "      <td>*AOC thinks the electoral college is a school ...</td>\n",
       "      <td>*AOC thinks the electoral college is a school ...</td>\n",
       "      <td>177</td>\n",
       "      <td>36</td>\n",
       "      <td>NaN</td>\n",
       "    </tr>\n",
       "    <tr>\n",
       "      <th>199230</th>\n",
       "      <td>Fox News</td>\n",
       "      <td>Ugw9W2lXwAXHrEw4hMx4AaABAg</td>\n",
       "      <td>https://www.youtube.com/watch?v=FtrIxEB4k7Y&amp;lc...</td>\n",
       "      <td>1/11/2020 21:13</td>\n",
       "      <td>Alberto Raphael Pinto</td>\n",
       "      <td>*When Nancy Pelosi was born, the doctor slappe...</td>\n",
       "      <td>*When Nancy Pelosi was born, the doctor slappe...</td>\n",
       "      <td>46</td>\n",
       "      <td>13</td>\n",
       "      <td>NaN</td>\n",
       "    </tr>\n",
       "    <tr>\n",
       "      <th>199235</th>\n",
       "      <td>Fox News</td>\n",
       "      <td>Ugw9W2lXwAXHrEw4hMx4AaABAg.93fSz3ebTN893fb_FVuDyk</td>\n",
       "      <td>https://www.youtube.com/watch?v=FtrIxEB4k7Y&amp;lc...</td>\n",
       "      <td>1/11/2020 22:37</td>\n",
       "      <td>Alberto Raphael Pinto</td>\n",
       "      <td>@Randy Fuentes cry harder soy boy</td>\n",
       "      <td>@Randy Fuentes cry harder soy boy</td>\n",
       "      <td>1</td>\n",
       "      <td>0</td>\n",
       "      <td>Alberto Raphael Pinto</td>\n",
       "    </tr>\n",
       "    <tr>\n",
       "      <th>199290</th>\n",
       "      <td>Fox News</td>\n",
       "      <td>UgwCLqNiZQoDYemiTH94AaABAg</td>\n",
       "      <td>https://www.youtube.com/watch?v=FtrIxEB4k7Y&amp;lc...</td>\n",
       "      <td>1/11/2020 21:13</td>\n",
       "      <td>Alberto Raphael Pinto</td>\n",
       "      <td>*The left hates trump because he\\'s exposing t...</td>\n",
       "      <td>*The left hates trump because he\\'s exposing t...</td>\n",
       "      <td>106</td>\n",
       "      <td>26</td>\n",
       "      <td>NaN</td>\n",
       "    </tr>\n",
       "    <tr>\n",
       "      <th>199317</th>\n",
       "      <td>Fox News</td>\n",
       "      <td>Ugx6SpGYkVAuNFoGfUt4AaABAg</td>\n",
       "      <td>https://www.youtube.com/watch?v=FtrIxEB4k7Y&amp;lc...</td>\n",
       "      <td>1/11/2020 21:12</td>\n",
       "      <td>Alberto Raphael Pinto</td>\n",
       "      <td>*The only thing Democrats are good at is wasti...</td>\n",
       "      <td>*The only thing Democrats are good at is wasti...</td>\n",
       "      <td>20</td>\n",
       "      <td>4</td>\n",
       "      <td>NaN</td>\n",
       "    </tr>\n",
       "    <tr>\n",
       "      <th>199419</th>\n",
       "      <td>Fox News</td>\n",
       "      <td>UgzHkH7hPj71R6QQWul4AaABAg.93fSb4NU-mQ93j_EDd9LTI</td>\n",
       "      <td>https://www.youtube.com/watch?v=FtrIxEB4k7Y&amp;lc...</td>\n",
       "      <td>1/13/2020 11:33</td>\n",
       "      <td>Alberto Raphael Pinto</td>\n",
       "      <td>@X Y yeah you keep talking like that and no mo...</td>\n",
       "      <td>@X Y yeah you keep talking like that and no mo...</td>\n",
       "      <td>0</td>\n",
       "      <td>0</td>\n",
       "      <td>Anthony Alvaros</td>\n",
       "    </tr>\n",
       "    <tr>\n",
       "      <th>199541</th>\n",
       "      <td>Fox News</td>\n",
       "      <td>UgwLkYKUSFMYwUBsa-B4AaABAg</td>\n",
       "      <td>https://www.youtube.com/watch?v=FtrIxEB4k7Y&amp;lc...</td>\n",
       "      <td>1/11/2020 21:07</td>\n",
       "      <td>Alberto Raphael Pinto</td>\n",
       "      <td>*Liberal logic: when you know you can\\'t win a...</td>\n",
       "      <td>*Liberal logic: when you know you can\\'t win a...</td>\n",
       "      <td>27</td>\n",
       "      <td>21</td>\n",
       "      <td>NaN</td>\n",
       "    </tr>\n",
       "    <tr>\n",
       "      <th>199565</th>\n",
       "      <td>Fox News</td>\n",
       "      <td>UgwihQ-SJQuf4r1szp94AaABAg</td>\n",
       "      <td>https://www.youtube.com/watch?v=FtrIxEB4k7Y&amp;lc...</td>\n",
       "      <td>1/11/2020 21:07</td>\n",
       "      <td>Alberto Raphael Pinto</td>\n",
       "      <td>*I sucked off Willie Brown and all I got was a...</td>\n",
       "      <td>*I sucked off Willie Brown and all I got was a...</td>\n",
       "      <td>8</td>\n",
       "      <td>1</td>\n",
       "      <td>NaN</td>\n",
       "    </tr>\n",
       "    <tr>\n",
       "      <th>199567</th>\n",
       "      <td>Fox News</td>\n",
       "      <td>UgyheKlFpXwWTLnEukZ4AaABAg</td>\n",
       "      <td>https://www.youtube.com/watch?v=FtrIxEB4k7Y&amp;lc...</td>\n",
       "      <td>1/11/2020 21:07</td>\n",
       "      <td>Alberto Raphael Pinto</td>\n",
       "      <td>*There\\'s actually 3 genders. Male, female, an...</td>\n",
       "      <td>*There\\'s actually 3 genders. Male, female, an...</td>\n",
       "      <td>61</td>\n",
       "      <td>13</td>\n",
       "      <td>NaN</td>\n",
       "    </tr>\n",
       "  </tbody>\n",
       "</table>\n",
       "</div>"
      ],
      "text/plain": [
       "        Producer                                               guid  \\\n",
       "107185  Fox News                         UgylwxEI69DKvYn5MT54AaABAg   \n",
       "107211  Fox News                         UgyE6kJ2Rmh9f2_64Md4AaABAg   \n",
       "107219  Fox News                         UgyjjcBdz1iqhyCMalB4AaABAg   \n",
       "127843  Fox News                         UgxlyDp1D-gTzZiDwOx4AaABAg   \n",
       "127863  Fox News                         UgzlEf5UYYa2mTxRKy94AaABAg   \n",
       "128223  Fox News                         UgzjEWf5zu-A9xjVO5V4AaABAg   \n",
       "128316  Fox News                         Ugy4ALG_xfUYfK6nNoh4AaABAg   \n",
       "152187  Fox News                         Ugxrlx1m84N0gX4IC0t4AaABAg   \n",
       "152219  Fox News                         Ugyun94ZRheAPsP46494AaABAg   \n",
       "152220  Fox News                         UgwQr_fl2KkYU9VlfwV4AaABAg   \n",
       "153225  Fox News  UgxJhdMZLf1zBLjdhB54AaABAg.93SKw-6pwKm93SLVN7M8tC   \n",
       "156903  Fox News                         UgyqpmzohmKKYbWYdth4AaABAg   \n",
       "156913  Fox News                         UgxzhxKEJ5f867c8NhR4AaABAg   \n",
       "157038  Fox News  Ugw5-SrrBWqTLwBPCtN4AaABAg.93TrpK16I7e93TwhRgeU-Z   \n",
       "182231  Fox News                         Ugw6kwlJ3obXKmhasa54AaABAg   \n",
       "182276  Fox News                         UgxmHy9cGubhtLSJ_Ad4AaABAg   \n",
       "182298  Fox News                         UgwvDGM_fpSDEWWq_Vp4AaABAg   \n",
       "182308  Fox News  UgzgxkEOqraMj9C5NFF4AaABAg.93d4_9Uo6V393d70yNGxZN   \n",
       "182309  Fox News  UgzgxkEOqraMj9C5NFF4AaABAg.93d4_9Uo6V393d6tqUs4qg   \n",
       "182310  Fox News  UgzgxkEOqraMj9C5NFF4AaABAg.93d4_9Uo6V393d6omlfUER   \n",
       "182319  Fox News  UgzgxkEOqraMj9C5NFF4AaABAg.93d4_9Uo6V393d5h6jrEch   \n",
       "184488  Fox News                         Ugzm5qqreFFmbYUumcV4AaABAg   \n",
       "184489  Fox News                         UgyCK_O4MnHsMQVk2ux4AaABAg   \n",
       "184511  Fox News                         UgzeqLMsY2xxHI7OycJ4AaABAg   \n",
       "184512  Fox News  UgzeqLMsY2xxHI7OycJ4AaABAg.93d7lKE1dJO93g9CQ1pC9c   \n",
       "184585  Fox News                         UgzKpShK3kPjlB4XxWx4AaABAg   \n",
       "184718  Fox News                         UgwmBzse18ci2g-BerB4AaABAg   \n",
       "184748  Fox News  UgwmBzse18ci2g-BerB4AaABAg.93d7UAxxwda93dFvh8gSq7   \n",
       "184753  Fox News  UgwmBzse18ci2g-BerB4AaABAg.93d7UAxxwda93dFJyWEAl4   \n",
       "187435  Fox News                         UgxwOF5KCRn_GtSVeJh4AaABAg   \n",
       "187438  Fox News  UgxwOF5KCRn_GtSVeJh4AaABAg.93e38GXHkJG93eWH2s71lY   \n",
       "187439  Fox News  UgxwOF5KCRn_GtSVeJh4AaABAg.93e38GXHkJG93eWEjmjYE6   \n",
       "187467  Fox News                         UgzM0NWf6PJUlOn0rUd4AaABAg   \n",
       "187485  Fox News                         Ugyy4hHkp2O77AFP0ot4AaABAg   \n",
       "194356  Fox News                         Ugx9OXByGnQy_R1-qxJ4AaABAg   \n",
       "194379  Fox News                         UgwFeiLjg3K03rZ-abV4AaABAg   \n",
       "194397  Fox News                         UgwPEXS0AA93HD7lH5B4AaABAg   \n",
       "199230  Fox News                         Ugw9W2lXwAXHrEw4hMx4AaABAg   \n",
       "199235  Fox News  Ugw9W2lXwAXHrEw4hMx4AaABAg.93fSz3ebTN893fb_FVuDyk   \n",
       "199290  Fox News                         UgwCLqNiZQoDYemiTH94AaABAg   \n",
       "199317  Fox News                         Ugx6SpGYkVAuNFoGfUt4AaABAg   \n",
       "199419  Fox News  UgzHkH7hPj71R6QQWul4AaABAg.93fSb4NU-mQ93j_EDd9LTI   \n",
       "199541  Fox News                         UgwLkYKUSFMYwUBsa-B4AaABAg   \n",
       "199565  Fox News                         UgwihQ-SJQuf4r1szp94AaABAg   \n",
       "199567  Fox News                         UgyheKlFpXwWTLnEukZ4AaABAg   \n",
       "\n",
       "                                                     link          pubdate  \\\n",
       "107185  https://www.youtube.com/watch?v=zoiGytDec90&lc...   1/3/2020 13:26   \n",
       "107211  https://www.youtube.com/watch?v=zoiGytDec90&lc...   1/3/2020 13:26   \n",
       "107219  https://www.youtube.com/watch?v=zoiGytDec90&lc...   1/3/2020 13:26   \n",
       "127843  https://www.youtube.com/watch?v=XBzBRE_dzC0&lc...   1/3/2020 20:46   \n",
       "127863  https://www.youtube.com/watch?v=XBzBRE_dzC0&lc...   1/3/2020 20:46   \n",
       "128223  https://www.youtube.com/watch?v=XBzBRE_dzC0&lc...   1/3/2020 20:40   \n",
       "128316  https://www.youtube.com/watch?v=XBzBRE_dzC0&lc...   1/3/2020 20:40   \n",
       "152187  https://www.youtube.com/watch?v=_D8Hd1eQeBg&lc...   1/6/2020 10:07   \n",
       "152219  https://www.youtube.com/watch?v=_D8Hd1eQeBg&lc...   1/6/2020 10:07   \n",
       "152220  https://www.youtube.com/watch?v=_D8Hd1eQeBg&lc...   1/6/2020 10:07   \n",
       "153225  https://www.youtube.com/watch?v=_D8Hd1eQeBg&lc...    1/6/2020 9:38   \n",
       "156903  https://www.youtube.com/watch?v=xgPAslfVn7I&lc...   1/6/2020 23:52   \n",
       "156913  https://www.youtube.com/watch?v=xgPAslfVn7I&lc...   1/6/2020 23:52   \n",
       "157038  https://www.youtube.com/watch?v=xgPAslfVn7I&lc...    1/7/2020 0:31   \n",
       "182231  https://www.youtube.com/watch?v=A995lnNZnXU&lc...  1/10/2020 23:05   \n",
       "182276  https://www.youtube.com/watch?v=A995lnNZnXU&lc...  1/10/2020 23:03   \n",
       "182298  https://www.youtube.com/watch?v=A995lnNZnXU&lc...  1/10/2020 23:01   \n",
       "182308  https://www.youtube.com/watch?v=A995lnNZnXU&lc...  1/10/2020 23:23   \n",
       "182309  https://www.youtube.com/watch?v=A995lnNZnXU&lc...  1/10/2020 23:21   \n",
       "182310  https://www.youtube.com/watch?v=A995lnNZnXU&lc...  1/10/2020 23:21   \n",
       "182319  https://www.youtube.com/watch?v=A995lnNZnXU&lc...  1/10/2020 23:11   \n",
       "184488  https://www.youtube.com/watch?v=ui5viD1F1hc&lc...  1/10/2020 23:30   \n",
       "184489  https://www.youtube.com/watch?v=ui5viD1F1hc&lc...  1/10/2020 23:30   \n",
       "184511  https://www.youtube.com/watch?v=ui5viD1F1hc&lc...  1/10/2020 23:29   \n",
       "184512  https://www.youtube.com/watch?v=ui5viD1F1hc&lc...   1/12/2020 3:39   \n",
       "184585  https://www.youtube.com/watch?v=ui5viD1F1hc&lc...  1/10/2020 23:28   \n",
       "184718  https://www.youtube.com/watch?v=ui5viD1F1hc&lc...  1/10/2020 23:27   \n",
       "184748  https://www.youtube.com/watch?v=ui5viD1F1hc&lc...   1/11/2020 0:40   \n",
       "184753  https://www.youtube.com/watch?v=ui5viD1F1hc&lc...   1/11/2020 0:35   \n",
       "187435  https://www.youtube.com/watch?v=Qt-qPvzVXjY&lc...   1/11/2020 8:08   \n",
       "187438  https://www.youtube.com/watch?v=Qt-qPvzVXjY&lc...  1/11/2020 12:22   \n",
       "187439  https://www.youtube.com/watch?v=Qt-qPvzVXjY&lc...  1/11/2020 12:22   \n",
       "187467  https://www.youtube.com/watch?v=Qt-qPvzVXjY&lc...   1/11/2020 8:07   \n",
       "187485  https://www.youtube.com/watch?v=Qt-qPvzVXjY&lc...   1/11/2020 8:07   \n",
       "194356  https://www.youtube.com/watch?v=bELxooMt3qg&lc...   1/11/2020 8:17   \n",
       "194379  https://www.youtube.com/watch?v=bELxooMt3qg&lc...   1/11/2020 8:16   \n",
       "194397  https://www.youtube.com/watch?v=bELxooMt3qg&lc...   1/11/2020 8:16   \n",
       "199230  https://www.youtube.com/watch?v=FtrIxEB4k7Y&lc...  1/11/2020 21:13   \n",
       "199235  https://www.youtube.com/watch?v=FtrIxEB4k7Y&lc...  1/11/2020 22:37   \n",
       "199290  https://www.youtube.com/watch?v=FtrIxEB4k7Y&lc...  1/11/2020 21:13   \n",
       "199317  https://www.youtube.com/watch?v=FtrIxEB4k7Y&lc...  1/11/2020 21:12   \n",
       "199419  https://www.youtube.com/watch?v=FtrIxEB4k7Y&lc...  1/13/2020 11:33   \n",
       "199541  https://www.youtube.com/watch?v=FtrIxEB4k7Y&lc...  1/11/2020 21:07   \n",
       "199565  https://www.youtube.com/watch?v=FtrIxEB4k7Y&lc...  1/11/2020 21:07   \n",
       "199567  https://www.youtube.com/watch?v=FtrIxEB4k7Y&lc...  1/11/2020 21:07   \n",
       "\n",
       "                       author  \\\n",
       "107185  Alberto Raphael Pinto   \n",
       "107211  Alberto Raphael Pinto   \n",
       "107219  Alberto Raphael Pinto   \n",
       "127843  Alberto Raphael Pinto   \n",
       "127863  Alberto Raphael Pinto   \n",
       "128223  Alberto Raphael Pinto   \n",
       "128316  Alberto Raphael Pinto   \n",
       "152187  Alberto Raphael Pinto   \n",
       "152219  Alberto Raphael Pinto   \n",
       "152220  Alberto Raphael Pinto   \n",
       "153225  Alberto Raphael Pinto   \n",
       "156903  Alberto Raphael Pinto   \n",
       "156913  Alberto Raphael Pinto   \n",
       "157038  Alberto Raphael Pinto   \n",
       "182231  Alberto Raphael Pinto   \n",
       "182276  Alberto Raphael Pinto   \n",
       "182298  Alberto Raphael Pinto   \n",
       "182308  Alberto Raphael Pinto   \n",
       "182309  Alberto Raphael Pinto   \n",
       "182310  Alberto Raphael Pinto   \n",
       "182319  Alberto Raphael Pinto   \n",
       "184488  Alberto Raphael Pinto   \n",
       "184489  Alberto Raphael Pinto   \n",
       "184511  Alberto Raphael Pinto   \n",
       "184512  Alberto Raphael Pinto   \n",
       "184585  Alberto Raphael Pinto   \n",
       "184718  Alberto Raphael Pinto   \n",
       "184748  Alberto Raphael Pinto   \n",
       "184753  Alberto Raphael Pinto   \n",
       "187435  Alberto Raphael Pinto   \n",
       "187438  Alberto Raphael Pinto   \n",
       "187439  Alberto Raphael Pinto   \n",
       "187467  Alberto Raphael Pinto   \n",
       "187485  Alberto Raphael Pinto   \n",
       "194356  Alberto Raphael Pinto   \n",
       "194379  Alberto Raphael Pinto   \n",
       "194397  Alberto Raphael Pinto   \n",
       "199230  Alberto Raphael Pinto   \n",
       "199235  Alberto Raphael Pinto   \n",
       "199290  Alberto Raphael Pinto   \n",
       "199317  Alberto Raphael Pinto   \n",
       "199419  Alberto Raphael Pinto   \n",
       "199541  Alberto Raphael Pinto   \n",
       "199565  Alberto Raphael Pinto   \n",
       "199567  Alberto Raphael Pinto   \n",
       "\n",
       "                                                    title  \\\n",
       "107185  Q. What\\'s the one thing an arab would never g...   \n",
       "107211  Q. What\\'s the difference between E.T and an a...   \n",
       "107219  Q. What\\'s the difference between a run-over d...   \n",
       "127843  Hillary Clinton after leaving Americans to die...   \n",
       "127863  Hillary Clinton after turning Libya into a thi...   \n",
       "128223  Democ RATS crying because they can\\'t make mon...   \n",
       "128316  Democ RATS hate America. But love Iran....Go f...   \n",
       "152187  Trump could literally stop a nuke from hitting...   \n",
       "152219  Obama kills thousands with drone strike Hollyw...   \n",
       "152220  The left thinks everything and anything is rac...   \n",
       "153225  @TRUMP TRASH why aren\\'t your fingers on the p...   \n",
       "156903  Obama kills thousands with drone strike Hollyw...   \n",
       "156913  The left thinks everything and anything is rac...   \n",
       "157038             @Travis Hartman they were best friends   \n",
       "182231  *Imagine being as brainwashed as the memo and ...   \n",
       "182276  *Democrats are weak that\\'s why they are easy ...   \n",
       "182298  *Why do people defend criminals like Hillary C...   \n",
       "182308  @The Memo this is you every day \"trump is so b...   \n",
       "182309  *SO SHES PRETTY MUCH DONE NOTHING. SHES A COMP...   \n",
       "182310  @The Memo *THATS ALL SHES DONE IN THE LAST 30 ...   \n",
       "182319  *WHAT HAS NANCY PELOSI EVER DONE FOR AMERICA I...   \n",
       "184488                     *Pelosi is a sewer rat granny*   \n",
       "184489  *Piglosi has the highest homelessness rate in ...   \n",
       "184511  Pelosi - Against border wall and is for gun co...   \n",
       "184512  Pelosi probably makes money off wars. She show...   \n",
       "184585  *Ask Nancy how she became multi millionaire wh...   \n",
       "184718  *CAN SOMEONE NAME ONE THING NANCY PELOSI HAS D...   \n",
       "184748  @Arr One ð a democrat calling others sheep ...   \n",
       "184753  @Andrew Womble that\\'s all she\\'s done in 30 y...   \n",
       "187435  *CAN SOMEONE NAME ONE THING NANCY PELOSI HAS D...   \n",
       "187438  @NaomiDollxoxo oh so her only accomplishment i...   \n",
       "187439                          @NaomiDollxoxo cry harder   \n",
       "187467  *Piglosi has the highest homelessness rate in ...   \n",
       "187485  *Ask Nancy how she became multi millionaire wh...   \n",
       "194356           *AOC thinks cheerios are doughnut seeds*   \n",
       "194379  *AOC once talked into an envelope to create a ...   \n",
       "194397  *AOC thinks the electoral college is a school ...   \n",
       "199230  *When Nancy Pelosi was born, the doctor slappe...   \n",
       "199235                  @Randy Fuentes cry harder soy boy   \n",
       "199290  *The left hates trump because he\\'s exposing t...   \n",
       "199317  *The only thing Democrats are good at is wasti...   \n",
       "199419  @X Y yeah you keep talking like that and no mo...   \n",
       "199541  *Liberal logic: when you know you can\\'t win a...   \n",
       "199565  *I sucked off Willie Brown and all I got was a...   \n",
       "199567  *There\\'s actually 3 genders. Male, female, an...   \n",
       "\n",
       "                                              description  likecount  \\\n",
       "107185  Q. What\\'s the one thing an arab would never g...          0   \n",
       "107211  Q. What\\'s the difference between E.T and an a...          1   \n",
       "107219  Q. What\\'s the difference between a run-over d...          0   \n",
       "127843  Hillary Clinton after leaving Americans to die...          0   \n",
       "127863  Hillary Clinton after turning Libya into a thi...        243   \n",
       "128223  Democ RATS crying because they can\\'t make mon...        293   \n",
       "128316  Democ RATS hate America. But love Iran....Go f...        279   \n",
       "152187  Trump could literally stop a nuke from hitting...        147   \n",
       "152219  Obama kills thousands with drone strike Hollyw...          2   \n",
       "152220  The left thinks everything and anything is rac...          0   \n",
       "153225  @TRUMP TRASH why aren\\'t your fingers on the p...          0   \n",
       "156903  Obama kills thousands with drone strike Hollyw...         90   \n",
       "156913  The left thinks everything and anything is rac...         17   \n",
       "157038             @Travis Hartman they were best friends          0   \n",
       "182231  *Imagine being as brainwashed as the memo and ...         17   \n",
       "182276  *Democrats are weak that\\'s why they are easy ...          0   \n",
       "182298  *Why do people defend criminals like Hillary C...          0   \n",
       "182308  @The Memo this is you every day \"trump is so b...          1   \n",
       "182309  *SO SHES PRETTY MUCH DONE NOTHING. SHES A COMP...          0   \n",
       "182310  @The Memo *THATS ALL SHES DONE IN THE LAST 30 ...          0   \n",
       "182319  *WHAT HAS NANCY PELOSI EVER DONE FOR AMERICA I...          5   \n",
       "184488                     *Pelosi is a sewer rat granny*          3   \n",
       "184489  *Piglosi has the highest homelessness rate in ...        169   \n",
       "184511  Pelosi - Against border wall and is for gun co...        198   \n",
       "184512  Pelosi probably makes money off wars. She show...          0   \n",
       "184585  *Ask Nancy how she became multi millionaire wh...        383   \n",
       "184718  *CAN SOMEONE NAME ONE THING NANCY PELOSI HAS D...        174   \n",
       "184748  @Arr One ð a democrat calling others sheep ...          2   \n",
       "184753  @Andrew Womble that\\'s all she\\'s done in 30 y...          1   \n",
       "187435  *CAN SOMEONE NAME ONE THING NANCY PELOSI HAS D...         34   \n",
       "187438  @NaomiDollxoxo oh so her only accomplishment i...          0   \n",
       "187439                          @NaomiDollxoxo cry harder          0   \n",
       "187467  *Piglosi has the highest homelessness rate in ...         62   \n",
       "187485  *Ask Nancy how she became multi millionaire wh...        398   \n",
       "194356           *AOC thinks cheerios are doughnut seeds*         89   \n",
       "194379  *AOC once talked into an envelope to create a ...         73   \n",
       "194397  *AOC thinks the electoral college is a school ...        177   \n",
       "199230  *When Nancy Pelosi was born, the doctor slappe...         46   \n",
       "199235                  @Randy Fuentes cry harder soy boy          1   \n",
       "199290  *The left hates trump because he\\'s exposing t...        106   \n",
       "199317  *The only thing Democrats are good at is wasti...         20   \n",
       "199419  @X Y yeah you keep talking like that and no mo...          0   \n",
       "199541  *Liberal logic: when you know you can\\'t win a...         27   \n",
       "199565  *I sucked off Willie Brown and all I got was a...          8   \n",
       "199567  *There\\'s actually 3 genders. Male, female, an...         61   \n",
       "\n",
       "        replycount                     isreplyto  \n",
       "107185           3                           NaN  \n",
       "107211           0                           NaN  \n",
       "107219           1                           NaN  \n",
       "127843           0                           NaN  \n",
       "127863           9                           NaN  \n",
       "128223          17                           NaN  \n",
       "128316          24                           NaN  \n",
       "152187          29                           NaN  \n",
       "152219           0                           NaN  \n",
       "152220           0                           NaN  \n",
       "153225           0  Dan Alberto Raphael Akselrod  \n",
       "156903           9                           NaN  \n",
       "156913           5                           NaN  \n",
       "157038           0               Anthony Alvaros  \n",
       "182231           4                           NaN  \n",
       "182276           0                           NaN  \n",
       "182298           1                           NaN  \n",
       "182308           0                      The Memo  \n",
       "182309           0                      The Memo  \n",
       "182310           0                      The Memo  \n",
       "182319           0                      The Memo  \n",
       "184488           0                           NaN  \n",
       "184489          11                           NaN  \n",
       "184511          41                           NaN  \n",
       "184512           0         Alberto Raphael Pinto  \n",
       "184585         120                           NaN  \n",
       "184718          77                           NaN  \n",
       "184748           0         Alberto Raphael Pinto  \n",
       "184753           0         Alberto Raphael Pinto  \n",
       "187435          23                           NaN  \n",
       "187438           0         Alberto Raphael Pinto  \n",
       "187439           0         Alberto Raphael Pinto  \n",
       "187467           6                           NaN  \n",
       "187485          81                           NaN  \n",
       "194356          14                           NaN  \n",
       "194379           5                           NaN  \n",
       "194397          36                           NaN  \n",
       "199230          13                           NaN  \n",
       "199235           0         Alberto Raphael Pinto  \n",
       "199290          26                           NaN  \n",
       "199317           4                           NaN  \n",
       "199419           0               Anthony Alvaros  \n",
       "199541          21                           NaN  \n",
       "199565           1                           NaN  \n",
       "199567          13                           NaN  "
      ]
     },
     "execution_count": 16,
     "metadata": {},
     "output_type": "execute_result"
    }
   ],
   "source": [
    "comments[comments.author == \"Alberto Raphael Pinto\"]"
   ]
  },
  {
   "cell_type": "markdown",
   "metadata": {},
   "source": [
    "### Alberto Raphael Pinto generated the most responses \n",
    "### These are the comments sorted by number of replies generated "
   ]
  },
  {
   "cell_type": "code",
   "execution_count": 231,
   "metadata": {},
   "outputs": [
    {
     "data": {
      "text/html": [
       "<div>\n",
       "<style scoped>\n",
       "    .dataframe tbody tr th:only-of-type {\n",
       "        vertical-align: middle;\n",
       "    }\n",
       "\n",
       "    .dataframe tbody tr th {\n",
       "        vertical-align: top;\n",
       "    }\n",
       "\n",
       "    .dataframe thead th {\n",
       "        text-align: right;\n",
       "    }\n",
       "</style>\n",
       "<table border=\"1\" class=\"dataframe\">\n",
       "  <thead>\n",
       "    <tr style=\"text-align: right;\">\n",
       "      <th></th>\n",
       "      <th>Producer</th>\n",
       "      <th>guid</th>\n",
       "      <th>link</th>\n",
       "      <th>pubdate</th>\n",
       "      <th>author</th>\n",
       "      <th>title</th>\n",
       "      <th>description</th>\n",
       "      <th>likecount</th>\n",
       "      <th>replycount</th>\n",
       "      <th>isreplyto</th>\n",
       "      <th>isreplyto_empty</th>\n",
       "    </tr>\n",
       "  </thead>\n",
       "  <tbody>\n",
       "    <tr>\n",
       "      <th>184585</th>\n",
       "      <td>Fox News</td>\n",
       "      <td>UgzKpShK3kPjlB4XxWx4AaABAg</td>\n",
       "      <td>https://www.youtube.com/watch?v=ui5viD1F1hc&amp;lc...</td>\n",
       "      <td>1/10/2020 23:28</td>\n",
       "      <td>Alberto Raphael Pinto</td>\n",
       "      <td>*Ask Nancy how she became multi millionaire wh...</td>\n",
       "      <td>*ask nancy how she became multi millionaire wh...</td>\n",
       "      <td>383</td>\n",
       "      <td>120</td>\n",
       "      <td>NaN</td>\n",
       "      <td>empty</td>\n",
       "    </tr>\n",
       "    <tr>\n",
       "      <th>187485</th>\n",
       "      <td>Fox News</td>\n",
       "      <td>Ugyy4hHkp2O77AFP0ot4AaABAg</td>\n",
       "      <td>https://www.youtube.com/watch?v=Qt-qPvzVXjY&amp;lc...</td>\n",
       "      <td>1/11/2020 8:07</td>\n",
       "      <td>Alberto Raphael Pinto</td>\n",
       "      <td>*Ask Nancy how she became multi millionaire wh...</td>\n",
       "      <td>*ask nancy how she became multi millionaire wh...</td>\n",
       "      <td>398</td>\n",
       "      <td>81</td>\n",
       "      <td>NaN</td>\n",
       "      <td>empty</td>\n",
       "    </tr>\n",
       "    <tr>\n",
       "      <th>184718</th>\n",
       "      <td>Fox News</td>\n",
       "      <td>UgwmBzse18ci2g-BerB4AaABAg</td>\n",
       "      <td>https://www.youtube.com/watch?v=ui5viD1F1hc&amp;lc...</td>\n",
       "      <td>1/10/2020 23:27</td>\n",
       "      <td>Alberto Raphael Pinto</td>\n",
       "      <td>*CAN SOMEONE NAME ONE THING NANCY PELOSI HAS D...</td>\n",
       "      <td>*can someone name one thing nancy pelosi has d...</td>\n",
       "      <td>174</td>\n",
       "      <td>77</td>\n",
       "      <td>NaN</td>\n",
       "      <td>empty</td>\n",
       "    </tr>\n",
       "    <tr>\n",
       "      <th>184511</th>\n",
       "      <td>Fox News</td>\n",
       "      <td>UgzeqLMsY2xxHI7OycJ4AaABAg</td>\n",
       "      <td>https://www.youtube.com/watch?v=ui5viD1F1hc&amp;lc...</td>\n",
       "      <td>1/10/2020 23:29</td>\n",
       "      <td>Alberto Raphael Pinto</td>\n",
       "      <td>Pelosi - Against border wall and is for gun co...</td>\n",
       "      <td>pelosi - against border wall and is for gun co...</td>\n",
       "      <td>198</td>\n",
       "      <td>41</td>\n",
       "      <td>NaN</td>\n",
       "      <td>empty</td>\n",
       "    </tr>\n",
       "    <tr>\n",
       "      <th>194397</th>\n",
       "      <td>Fox News</td>\n",
       "      <td>UgwPEXS0AA93HD7lH5B4AaABAg</td>\n",
       "      <td>https://www.youtube.com/watch?v=bELxooMt3qg&amp;lc...</td>\n",
       "      <td>1/11/2020 8:16</td>\n",
       "      <td>Alberto Raphael Pinto</td>\n",
       "      <td>*AOC thinks the electoral college is a school ...</td>\n",
       "      <td>*aoc thinks the electoral college is a school ...</td>\n",
       "      <td>177</td>\n",
       "      <td>36</td>\n",
       "      <td>NaN</td>\n",
       "      <td>empty</td>\n",
       "    </tr>\n",
       "    <tr>\n",
       "      <th>152187</th>\n",
       "      <td>Fox News</td>\n",
       "      <td>Ugxrlx1m84N0gX4IC0t4AaABAg</td>\n",
       "      <td>https://www.youtube.com/watch?v=_D8Hd1eQeBg&amp;lc...</td>\n",
       "      <td>1/6/2020 10:07</td>\n",
       "      <td>Alberto Raphael Pinto</td>\n",
       "      <td>Trump could literally stop a nuke from hitting...</td>\n",
       "      <td>trump could literally stop a nuke from hitting...</td>\n",
       "      <td>147</td>\n",
       "      <td>29</td>\n",
       "      <td>NaN</td>\n",
       "      <td>empty</td>\n",
       "    </tr>\n",
       "    <tr>\n",
       "      <th>199290</th>\n",
       "      <td>Fox News</td>\n",
       "      <td>UgwCLqNiZQoDYemiTH94AaABAg</td>\n",
       "      <td>https://www.youtube.com/watch?v=FtrIxEB4k7Y&amp;lc...</td>\n",
       "      <td>1/11/2020 21:13</td>\n",
       "      <td>Alberto Raphael Pinto</td>\n",
       "      <td>*The left hates trump because he\\'s exposing t...</td>\n",
       "      <td>*the left hates trump because he\\'s exposing t...</td>\n",
       "      <td>106</td>\n",
       "      <td>26</td>\n",
       "      <td>NaN</td>\n",
       "      <td>empty</td>\n",
       "    </tr>\n",
       "    <tr>\n",
       "      <th>128316</th>\n",
       "      <td>Fox News</td>\n",
       "      <td>Ugy4ALG_xfUYfK6nNoh4AaABAg</td>\n",
       "      <td>https://www.youtube.com/watch?v=XBzBRE_dzC0&amp;lc...</td>\n",
       "      <td>1/3/2020 20:40</td>\n",
       "      <td>Alberto Raphael Pinto</td>\n",
       "      <td>Democ RATS hate America. But love Iran....Go f...</td>\n",
       "      <td>democ rats hate america. but love iran....go f...</td>\n",
       "      <td>279</td>\n",
       "      <td>24</td>\n",
       "      <td>NaN</td>\n",
       "      <td>empty</td>\n",
       "    </tr>\n",
       "    <tr>\n",
       "      <th>187435</th>\n",
       "      <td>Fox News</td>\n",
       "      <td>UgxwOF5KCRn_GtSVeJh4AaABAg</td>\n",
       "      <td>https://www.youtube.com/watch?v=Qt-qPvzVXjY&amp;lc...</td>\n",
       "      <td>1/11/2020 8:08</td>\n",
       "      <td>Alberto Raphael Pinto</td>\n",
       "      <td>*CAN SOMEONE NAME ONE THING NANCY PELOSI HAS D...</td>\n",
       "      <td>*can someone name one thing nancy pelosi has d...</td>\n",
       "      <td>34</td>\n",
       "      <td>23</td>\n",
       "      <td>NaN</td>\n",
       "      <td>empty</td>\n",
       "    </tr>\n",
       "    <tr>\n",
       "      <th>199541</th>\n",
       "      <td>Fox News</td>\n",
       "      <td>UgwLkYKUSFMYwUBsa-B4AaABAg</td>\n",
       "      <td>https://www.youtube.com/watch?v=FtrIxEB4k7Y&amp;lc...</td>\n",
       "      <td>1/11/2020 21:07</td>\n",
       "      <td>Alberto Raphael Pinto</td>\n",
       "      <td>*Liberal logic: when you know you can\\'t win a...</td>\n",
       "      <td>*liberal logic: when you know you can\\'t win a...</td>\n",
       "      <td>27</td>\n",
       "      <td>21</td>\n",
       "      <td>NaN</td>\n",
       "      <td>empty</td>\n",
       "    </tr>\n",
       "    <tr>\n",
       "      <th>128223</th>\n",
       "      <td>Fox News</td>\n",
       "      <td>UgzjEWf5zu-A9xjVO5V4AaABAg</td>\n",
       "      <td>https://www.youtube.com/watch?v=XBzBRE_dzC0&amp;lc...</td>\n",
       "      <td>1/3/2020 20:40</td>\n",
       "      <td>Alberto Raphael Pinto</td>\n",
       "      <td>Democ RATS crying because they can\\'t make mon...</td>\n",
       "      <td>democ rats crying because they can\\'t make mon...</td>\n",
       "      <td>293</td>\n",
       "      <td>17</td>\n",
       "      <td>NaN</td>\n",
       "      <td>empty</td>\n",
       "    </tr>\n",
       "    <tr>\n",
       "      <th>194356</th>\n",
       "      <td>Fox News</td>\n",
       "      <td>Ugx9OXByGnQy_R1-qxJ4AaABAg</td>\n",
       "      <td>https://www.youtube.com/watch?v=bELxooMt3qg&amp;lc...</td>\n",
       "      <td>1/11/2020 8:17</td>\n",
       "      <td>Alberto Raphael Pinto</td>\n",
       "      <td>*AOC thinks cheerios are doughnut seeds*</td>\n",
       "      <td>*aoc thinks cheerios are doughnut seeds*</td>\n",
       "      <td>89</td>\n",
       "      <td>14</td>\n",
       "      <td>NaN</td>\n",
       "      <td>empty</td>\n",
       "    </tr>\n",
       "    <tr>\n",
       "      <th>199567</th>\n",
       "      <td>Fox News</td>\n",
       "      <td>UgyheKlFpXwWTLnEukZ4AaABAg</td>\n",
       "      <td>https://www.youtube.com/watch?v=FtrIxEB4k7Y&amp;lc...</td>\n",
       "      <td>1/11/2020 21:07</td>\n",
       "      <td>Alberto Raphael Pinto</td>\n",
       "      <td>*There\\'s actually 3 genders. Male, female, an...</td>\n",
       "      <td>*there\\'s actually 3 genders. male, female, an...</td>\n",
       "      <td>61</td>\n",
       "      <td>13</td>\n",
       "      <td>NaN</td>\n",
       "      <td>empty</td>\n",
       "    </tr>\n",
       "    <tr>\n",
       "      <th>199230</th>\n",
       "      <td>Fox News</td>\n",
       "      <td>Ugw9W2lXwAXHrEw4hMx4AaABAg</td>\n",
       "      <td>https://www.youtube.com/watch?v=FtrIxEB4k7Y&amp;lc...</td>\n",
       "      <td>1/11/2020 21:13</td>\n",
       "      <td>Alberto Raphael Pinto</td>\n",
       "      <td>*When Nancy Pelosi was born, the doctor slappe...</td>\n",
       "      <td>*when nancy pelosi was born, the doctor slappe...</td>\n",
       "      <td>46</td>\n",
       "      <td>13</td>\n",
       "      <td>NaN</td>\n",
       "      <td>empty</td>\n",
       "    </tr>\n",
       "    <tr>\n",
       "      <th>184489</th>\n",
       "      <td>Fox News</td>\n",
       "      <td>UgyCK_O4MnHsMQVk2ux4AaABAg</td>\n",
       "      <td>https://www.youtube.com/watch?v=ui5viD1F1hc&amp;lc...</td>\n",
       "      <td>1/10/2020 23:30</td>\n",
       "      <td>Alberto Raphael Pinto</td>\n",
       "      <td>*Piglosi has the highest homelessness rate in ...</td>\n",
       "      <td>*piglosi has the highest homelessness rate in ...</td>\n",
       "      <td>169</td>\n",
       "      <td>11</td>\n",
       "      <td>NaN</td>\n",
       "      <td>empty</td>\n",
       "    </tr>\n",
       "    <tr>\n",
       "      <th>156903</th>\n",
       "      <td>Fox News</td>\n",
       "      <td>UgyqpmzohmKKYbWYdth4AaABAg</td>\n",
       "      <td>https://www.youtube.com/watch?v=xgPAslfVn7I&amp;lc...</td>\n",
       "      <td>1/6/2020 23:52</td>\n",
       "      <td>Alberto Raphael Pinto</td>\n",
       "      <td>Obama kills thousands with drone strike Hollyw...</td>\n",
       "      <td>obama kills thousands with drone strike hollyw...</td>\n",
       "      <td>90</td>\n",
       "      <td>9</td>\n",
       "      <td>NaN</td>\n",
       "      <td>empty</td>\n",
       "    </tr>\n",
       "    <tr>\n",
       "      <th>127863</th>\n",
       "      <td>Fox News</td>\n",
       "      <td>UgzlEf5UYYa2mTxRKy94AaABAg</td>\n",
       "      <td>https://www.youtube.com/watch?v=XBzBRE_dzC0&amp;lc...</td>\n",
       "      <td>1/3/2020 20:46</td>\n",
       "      <td>Alberto Raphael Pinto</td>\n",
       "      <td>Hillary Clinton after turning Libya into a thi...</td>\n",
       "      <td>hillary clinton after turning libya into a thi...</td>\n",
       "      <td>243</td>\n",
       "      <td>9</td>\n",
       "      <td>NaN</td>\n",
       "      <td>empty</td>\n",
       "    </tr>\n",
       "    <tr>\n",
       "      <th>187467</th>\n",
       "      <td>Fox News</td>\n",
       "      <td>UgzM0NWf6PJUlOn0rUd4AaABAg</td>\n",
       "      <td>https://www.youtube.com/watch?v=Qt-qPvzVXjY&amp;lc...</td>\n",
       "      <td>1/11/2020 8:07</td>\n",
       "      <td>Alberto Raphael Pinto</td>\n",
       "      <td>*Piglosi has the highest homelessness rate in ...</td>\n",
       "      <td>*piglosi has the highest homelessness rate in ...</td>\n",
       "      <td>62</td>\n",
       "      <td>6</td>\n",
       "      <td>NaN</td>\n",
       "      <td>empty</td>\n",
       "    </tr>\n",
       "    <tr>\n",
       "      <th>194379</th>\n",
       "      <td>Fox News</td>\n",
       "      <td>UgwFeiLjg3K03rZ-abV4AaABAg</td>\n",
       "      <td>https://www.youtube.com/watch?v=bELxooMt3qg&amp;lc...</td>\n",
       "      <td>1/11/2020 8:16</td>\n",
       "      <td>Alberto Raphael Pinto</td>\n",
       "      <td>*AOC once talked into an envelope to create a ...</td>\n",
       "      <td>*aoc once talked into an envelope to create a ...</td>\n",
       "      <td>73</td>\n",
       "      <td>5</td>\n",
       "      <td>NaN</td>\n",
       "      <td>empty</td>\n",
       "    </tr>\n",
       "    <tr>\n",
       "      <th>156913</th>\n",
       "      <td>Fox News</td>\n",
       "      <td>UgxzhxKEJ5f867c8NhR4AaABAg</td>\n",
       "      <td>https://www.youtube.com/watch?v=xgPAslfVn7I&amp;lc...</td>\n",
       "      <td>1/6/2020 23:52</td>\n",
       "      <td>Alberto Raphael Pinto</td>\n",
       "      <td>The left thinks everything and anything is rac...</td>\n",
       "      <td>the left thinks everything and anything is rac...</td>\n",
       "      <td>17</td>\n",
       "      <td>5</td>\n",
       "      <td>NaN</td>\n",
       "      <td>empty</td>\n",
       "    </tr>\n",
       "    <tr>\n",
       "      <th>182231</th>\n",
       "      <td>Fox News</td>\n",
       "      <td>Ugw6kwlJ3obXKmhasa54AaABAg</td>\n",
       "      <td>https://www.youtube.com/watch?v=A995lnNZnXU&amp;lc...</td>\n",
       "      <td>1/10/2020 23:05</td>\n",
       "      <td>Alberto Raphael Pinto</td>\n",
       "      <td>*Imagine being as brainwashed as the memo and ...</td>\n",
       "      <td>*imagine being as brainwashed as the memo and ...</td>\n",
       "      <td>17</td>\n",
       "      <td>4</td>\n",
       "      <td>NaN</td>\n",
       "      <td>empty</td>\n",
       "    </tr>\n",
       "    <tr>\n",
       "      <th>199317</th>\n",
       "      <td>Fox News</td>\n",
       "      <td>Ugx6SpGYkVAuNFoGfUt4AaABAg</td>\n",
       "      <td>https://www.youtube.com/watch?v=FtrIxEB4k7Y&amp;lc...</td>\n",
       "      <td>1/11/2020 21:12</td>\n",
       "      <td>Alberto Raphael Pinto</td>\n",
       "      <td>*The only thing Democrats are good at is wasti...</td>\n",
       "      <td>*the only thing democrats are good at is wasti...</td>\n",
       "      <td>20</td>\n",
       "      <td>4</td>\n",
       "      <td>NaN</td>\n",
       "      <td>empty</td>\n",
       "    </tr>\n",
       "    <tr>\n",
       "      <th>107185</th>\n",
       "      <td>Fox News</td>\n",
       "      <td>UgylwxEI69DKvYn5MT54AaABAg</td>\n",
       "      <td>https://www.youtube.com/watch?v=zoiGytDec90&amp;lc...</td>\n",
       "      <td>1/3/2020 13:26</td>\n",
       "      <td>Alberto Raphael Pinto</td>\n",
       "      <td>Q. What\\'s the one thing an arab would never g...</td>\n",
       "      <td>q. what\\'s the one thing an arab would never g...</td>\n",
       "      <td>0</td>\n",
       "      <td>3</td>\n",
       "      <td>NaN</td>\n",
       "      <td>empty</td>\n",
       "    </tr>\n",
       "    <tr>\n",
       "      <th>107219</th>\n",
       "      <td>Fox News</td>\n",
       "      <td>UgyjjcBdz1iqhyCMalB4AaABAg</td>\n",
       "      <td>https://www.youtube.com/watch?v=zoiGytDec90&amp;lc...</td>\n",
       "      <td>1/3/2020 13:26</td>\n",
       "      <td>Alberto Raphael Pinto</td>\n",
       "      <td>Q. What\\'s the difference between a run-over d...</td>\n",
       "      <td>q. what\\'s the difference between a run-over d...</td>\n",
       "      <td>0</td>\n",
       "      <td>1</td>\n",
       "      <td>NaN</td>\n",
       "      <td>empty</td>\n",
       "    </tr>\n",
       "    <tr>\n",
       "      <th>199565</th>\n",
       "      <td>Fox News</td>\n",
       "      <td>UgwihQ-SJQuf4r1szp94AaABAg</td>\n",
       "      <td>https://www.youtube.com/watch?v=FtrIxEB4k7Y&amp;lc...</td>\n",
       "      <td>1/11/2020 21:07</td>\n",
       "      <td>Alberto Raphael Pinto</td>\n",
       "      <td>*I sucked off Willie Brown and all I got was a...</td>\n",
       "      <td>*i sucked off willie brown and all i got was a...</td>\n",
       "      <td>8</td>\n",
       "      <td>1</td>\n",
       "      <td>NaN</td>\n",
       "      <td>empty</td>\n",
       "    </tr>\n",
       "    <tr>\n",
       "      <th>182298</th>\n",
       "      <td>Fox News</td>\n",
       "      <td>UgwvDGM_fpSDEWWq_Vp4AaABAg</td>\n",
       "      <td>https://www.youtube.com/watch?v=A995lnNZnXU&amp;lc...</td>\n",
       "      <td>1/10/2020 23:01</td>\n",
       "      <td>Alberto Raphael Pinto</td>\n",
       "      <td>*Why do people defend criminals like Hillary C...</td>\n",
       "      <td>*why do people defend criminals like hillary c...</td>\n",
       "      <td>0</td>\n",
       "      <td>1</td>\n",
       "      <td>NaN</td>\n",
       "      <td>empty</td>\n",
       "    </tr>\n",
       "    <tr>\n",
       "      <th>199235</th>\n",
       "      <td>Fox News</td>\n",
       "      <td>Ugw9W2lXwAXHrEw4hMx4AaABAg.93fSz3ebTN893fb_FVuDyk</td>\n",
       "      <td>https://www.youtube.com/watch?v=FtrIxEB4k7Y&amp;lc...</td>\n",
       "      <td>1/11/2020 22:37</td>\n",
       "      <td>Alberto Raphael Pinto</td>\n",
       "      <td>@Randy Fuentes cry harder soy boy</td>\n",
       "      <td>@randy fuentes cry harder soy boy</td>\n",
       "      <td>1</td>\n",
       "      <td>0</td>\n",
       "      <td>Alberto Raphael Pinto</td>\n",
       "      <td>Alberto Raphael Pinto</td>\n",
       "    </tr>\n",
       "    <tr>\n",
       "      <th>127843</th>\n",
       "      <td>Fox News</td>\n",
       "      <td>UgxlyDp1D-gTzZiDwOx4AaABAg</td>\n",
       "      <td>https://www.youtube.com/watch?v=XBzBRE_dzC0&amp;lc...</td>\n",
       "      <td>1/3/2020 20:46</td>\n",
       "      <td>Alberto Raphael Pinto</td>\n",
       "      <td>Hillary Clinton after leaving Americans to die...</td>\n",
       "      <td>hillary clinton after leaving americans to die...</td>\n",
       "      <td>0</td>\n",
       "      <td>0</td>\n",
       "      <td>NaN</td>\n",
       "      <td>empty</td>\n",
       "    </tr>\n",
       "    <tr>\n",
       "      <th>152219</th>\n",
       "      <td>Fox News</td>\n",
       "      <td>Ugyun94ZRheAPsP46494AaABAg</td>\n",
       "      <td>https://www.youtube.com/watch?v=_D8Hd1eQeBg&amp;lc...</td>\n",
       "      <td>1/6/2020 10:07</td>\n",
       "      <td>Alberto Raphael Pinto</td>\n",
       "      <td>Obama kills thousands with drone strike Hollyw...</td>\n",
       "      <td>obama kills thousands with drone strike hollyw...</td>\n",
       "      <td>2</td>\n",
       "      <td>0</td>\n",
       "      <td>NaN</td>\n",
       "      <td>empty</td>\n",
       "    </tr>\n",
       "    <tr>\n",
       "      <th>199419</th>\n",
       "      <td>Fox News</td>\n",
       "      <td>UgzHkH7hPj71R6QQWul4AaABAg.93fSb4NU-mQ93j_EDd9LTI</td>\n",
       "      <td>https://www.youtube.com/watch?v=FtrIxEB4k7Y&amp;lc...</td>\n",
       "      <td>1/13/2020 11:33</td>\n",
       "      <td>Alberto Raphael Pinto</td>\n",
       "      <td>@X Y yeah you keep talking like that and no mo...</td>\n",
       "      <td>@x y yeah you keep talking like that and no mo...</td>\n",
       "      <td>0</td>\n",
       "      <td>0</td>\n",
       "      <td>Anthony Alvaros</td>\n",
       "      <td>Anthony Alvaros</td>\n",
       "    </tr>\n",
       "    <tr>\n",
       "      <th>152220</th>\n",
       "      <td>Fox News</td>\n",
       "      <td>UgwQr_fl2KkYU9VlfwV4AaABAg</td>\n",
       "      <td>https://www.youtube.com/watch?v=_D8Hd1eQeBg&amp;lc...</td>\n",
       "      <td>1/6/2020 10:07</td>\n",
       "      <td>Alberto Raphael Pinto</td>\n",
       "      <td>The left thinks everything and anything is rac...</td>\n",
       "      <td>the left thinks everything and anything is rac...</td>\n",
       "      <td>0</td>\n",
       "      <td>0</td>\n",
       "      <td>NaN</td>\n",
       "      <td>empty</td>\n",
       "    </tr>\n",
       "    <tr>\n",
       "      <th>153225</th>\n",
       "      <td>Fox News</td>\n",
       "      <td>UgxJhdMZLf1zBLjdhB54AaABAg.93SKw-6pwKm93SLVN7M8tC</td>\n",
       "      <td>https://www.youtube.com/watch?v=_D8Hd1eQeBg&amp;lc...</td>\n",
       "      <td>1/6/2020 9:38</td>\n",
       "      <td>Alberto Raphael Pinto</td>\n",
       "      <td>@TRUMP TRASH why aren\\'t your fingers on the p...</td>\n",
       "      <td>@trump trash why aren\\'t your fingers on the p...</td>\n",
       "      <td>0</td>\n",
       "      <td>0</td>\n",
       "      <td>Dan Alberto Raphael Akselrod</td>\n",
       "      <td>Dan Alberto Raphael Akselrod</td>\n",
       "    </tr>\n",
       "    <tr>\n",
       "      <th>182276</th>\n",
       "      <td>Fox News</td>\n",
       "      <td>UgxmHy9cGubhtLSJ_Ad4AaABAg</td>\n",
       "      <td>https://www.youtube.com/watch?v=A995lnNZnXU&amp;lc...</td>\n",
       "      <td>1/10/2020 23:03</td>\n",
       "      <td>Alberto Raphael Pinto</td>\n",
       "      <td>*Democrats are weak that\\'s why they are easy ...</td>\n",
       "      <td>*democrats are weak that\\'s why they are easy ...</td>\n",
       "      <td>0</td>\n",
       "      <td>0</td>\n",
       "      <td>NaN</td>\n",
       "      <td>empty</td>\n",
       "    </tr>\n",
       "    <tr>\n",
       "      <th>187439</th>\n",
       "      <td>Fox News</td>\n",
       "      <td>UgxwOF5KCRn_GtSVeJh4AaABAg.93e38GXHkJG93eWEjmjYE6</td>\n",
       "      <td>https://www.youtube.com/watch?v=Qt-qPvzVXjY&amp;lc...</td>\n",
       "      <td>1/11/2020 12:22</td>\n",
       "      <td>Alberto Raphael Pinto</td>\n",
       "      <td>@NaomiDollxoxo cry harder</td>\n",
       "      <td>@naomidollxoxo cry harder</td>\n",
       "      <td>0</td>\n",
       "      <td>0</td>\n",
       "      <td>Alberto Raphael Pinto</td>\n",
       "      <td>Alberto Raphael Pinto</td>\n",
       "    </tr>\n",
       "    <tr>\n",
       "      <th>184753</th>\n",
       "      <td>Fox News</td>\n",
       "      <td>UgwmBzse18ci2g-BerB4AaABAg.93d7UAxxwda93dFJyWEAl4</td>\n",
       "      <td>https://www.youtube.com/watch?v=ui5viD1F1hc&amp;lc...</td>\n",
       "      <td>1/11/2020 0:35</td>\n",
       "      <td>Alberto Raphael Pinto</td>\n",
       "      <td>@Andrew Womble that\\'s all she\\'s done in 30 y...</td>\n",
       "      <td>@andrew womble that\\'s all she\\'s done in 30 y...</td>\n",
       "      <td>1</td>\n",
       "      <td>0</td>\n",
       "      <td>Alberto Raphael Pinto</td>\n",
       "      <td>Alberto Raphael Pinto</td>\n",
       "    </tr>\n",
       "    <tr>\n",
       "      <th>184748</th>\n",
       "      <td>Fox News</td>\n",
       "      <td>UgwmBzse18ci2g-BerB4AaABAg.93d7UAxxwda93dFvh8gSq7</td>\n",
       "      <td>https://www.youtube.com/watch?v=ui5viD1F1hc&amp;lc...</td>\n",
       "      <td>1/11/2020 0:40</td>\n",
       "      <td>Alberto Raphael Pinto</td>\n",
       "      <td>@Arr One ð a democrat calling others sheep ...</td>\n",
       "      <td>@arr one ð a democrat calling others sheep ...</td>\n",
       "      <td>2</td>\n",
       "      <td>0</td>\n",
       "      <td>Alberto Raphael Pinto</td>\n",
       "      <td>Alberto Raphael Pinto</td>\n",
       "    </tr>\n",
       "    <tr>\n",
       "      <th>157038</th>\n",
       "      <td>Fox News</td>\n",
       "      <td>Ugw5-SrrBWqTLwBPCtN4AaABAg.93TrpK16I7e93TwhRgeU-Z</td>\n",
       "      <td>https://www.youtube.com/watch?v=xgPAslfVn7I&amp;lc...</td>\n",
       "      <td>1/7/2020 0:31</td>\n",
       "      <td>Alberto Raphael Pinto</td>\n",
       "      <td>@Travis Hartman they were best friends</td>\n",
       "      <td>@travis hartman they were best friends</td>\n",
       "      <td>0</td>\n",
       "      <td>0</td>\n",
       "      <td>Anthony Alvaros</td>\n",
       "      <td>Anthony Alvaros</td>\n",
       "    </tr>\n",
       "    <tr>\n",
       "      <th>184512</th>\n",
       "      <td>Fox News</td>\n",
       "      <td>UgzeqLMsY2xxHI7OycJ4AaABAg.93d7lKE1dJO93g9CQ1pC9c</td>\n",
       "      <td>https://www.youtube.com/watch?v=ui5viD1F1hc&amp;lc...</td>\n",
       "      <td>1/12/2020 3:39</td>\n",
       "      <td>Alberto Raphael Pinto</td>\n",
       "      <td>Pelosi probably makes money off wars. She show...</td>\n",
       "      <td>pelosi probably makes money off wars. she show...</td>\n",
       "      <td>0</td>\n",
       "      <td>0</td>\n",
       "      <td>Alberto Raphael Pinto</td>\n",
       "      <td>Alberto Raphael Pinto</td>\n",
       "    </tr>\n",
       "    <tr>\n",
       "      <th>107211</th>\n",
       "      <td>Fox News</td>\n",
       "      <td>UgyE6kJ2Rmh9f2_64Md4AaABAg</td>\n",
       "      <td>https://www.youtube.com/watch?v=zoiGytDec90&amp;lc...</td>\n",
       "      <td>1/3/2020 13:26</td>\n",
       "      <td>Alberto Raphael Pinto</td>\n",
       "      <td>Q. What\\'s the difference between E.T and an a...</td>\n",
       "      <td>q. what\\'s the difference between e.t and an a...</td>\n",
       "      <td>1</td>\n",
       "      <td>0</td>\n",
       "      <td>NaN</td>\n",
       "      <td>empty</td>\n",
       "    </tr>\n",
       "    <tr>\n",
       "      <th>184488</th>\n",
       "      <td>Fox News</td>\n",
       "      <td>Ugzm5qqreFFmbYUumcV4AaABAg</td>\n",
       "      <td>https://www.youtube.com/watch?v=ui5viD1F1hc&amp;lc...</td>\n",
       "      <td>1/10/2020 23:30</td>\n",
       "      <td>Alberto Raphael Pinto</td>\n",
       "      <td>*Pelosi is a sewer rat granny*</td>\n",
       "      <td>*pelosi is a sewer rat granny*</td>\n",
       "      <td>3</td>\n",
       "      <td>0</td>\n",
       "      <td>NaN</td>\n",
       "      <td>empty</td>\n",
       "    </tr>\n",
       "    <tr>\n",
       "      <th>182319</th>\n",
       "      <td>Fox News</td>\n",
       "      <td>UgzgxkEOqraMj9C5NFF4AaABAg.93d4_9Uo6V393d5h6jrEch</td>\n",
       "      <td>https://www.youtube.com/watch?v=A995lnNZnXU&amp;lc...</td>\n",
       "      <td>1/10/2020 23:11</td>\n",
       "      <td>Alberto Raphael Pinto</td>\n",
       "      <td>*WHAT HAS NANCY PELOSI EVER DONE FOR AMERICA I...</td>\n",
       "      <td>*what has nancy pelosi ever done for america i...</td>\n",
       "      <td>5</td>\n",
       "      <td>0</td>\n",
       "      <td>The Memo</td>\n",
       "      <td>The Memo</td>\n",
       "    </tr>\n",
       "    <tr>\n",
       "      <th>182310</th>\n",
       "      <td>Fox News</td>\n",
       "      <td>UgzgxkEOqraMj9C5NFF4AaABAg.93d4_9Uo6V393d6omlfUER</td>\n",
       "      <td>https://www.youtube.com/watch?v=A995lnNZnXU&amp;lc...</td>\n",
       "      <td>1/10/2020 23:21</td>\n",
       "      <td>Alberto Raphael Pinto</td>\n",
       "      <td>@The Memo *THATS ALL SHES DONE IN THE LAST 30 ...</td>\n",
       "      <td>@the memo *thats all shes done in the last 30 ...</td>\n",
       "      <td>0</td>\n",
       "      <td>0</td>\n",
       "      <td>The Memo</td>\n",
       "      <td>The Memo</td>\n",
       "    </tr>\n",
       "    <tr>\n",
       "      <th>182309</th>\n",
       "      <td>Fox News</td>\n",
       "      <td>UgzgxkEOqraMj9C5NFF4AaABAg.93d4_9Uo6V393d6tqUs4qg</td>\n",
       "      <td>https://www.youtube.com/watch?v=A995lnNZnXU&amp;lc...</td>\n",
       "      <td>1/10/2020 23:21</td>\n",
       "      <td>Alberto Raphael Pinto</td>\n",
       "      <td>*SO SHES PRETTY MUCH DONE NOTHING. SHES A COMP...</td>\n",
       "      <td>*so shes pretty much done nothing. shes a comp...</td>\n",
       "      <td>0</td>\n",
       "      <td>0</td>\n",
       "      <td>The Memo</td>\n",
       "      <td>The Memo</td>\n",
       "    </tr>\n",
       "    <tr>\n",
       "      <th>182308</th>\n",
       "      <td>Fox News</td>\n",
       "      <td>UgzgxkEOqraMj9C5NFF4AaABAg.93d4_9Uo6V393d70yNGxZN</td>\n",
       "      <td>https://www.youtube.com/watch?v=A995lnNZnXU&amp;lc...</td>\n",
       "      <td>1/10/2020 23:23</td>\n",
       "      <td>Alberto Raphael Pinto</td>\n",
       "      <td>@The Memo this is you every day \"trump is so b...</td>\n",
       "      <td>@the memo this is you every day \"trump is so b...</td>\n",
       "      <td>1</td>\n",
       "      <td>0</td>\n",
       "      <td>The Memo</td>\n",
       "      <td>The Memo</td>\n",
       "    </tr>\n",
       "    <tr>\n",
       "      <th>187438</th>\n",
       "      <td>Fox News</td>\n",
       "      <td>UgxwOF5KCRn_GtSVeJh4AaABAg.93e38GXHkJG93eWH2s71lY</td>\n",
       "      <td>https://www.youtube.com/watch?v=Qt-qPvzVXjY&amp;lc...</td>\n",
       "      <td>1/11/2020 12:22</td>\n",
       "      <td>Alberto Raphael Pinto</td>\n",
       "      <td>@NaomiDollxoxo oh so her only accomplishment i...</td>\n",
       "      <td>@naomidollxoxo oh so her only accomplishment i...</td>\n",
       "      <td>0</td>\n",
       "      <td>0</td>\n",
       "      <td>Alberto Raphael Pinto</td>\n",
       "      <td>Alberto Raphael Pinto</td>\n",
       "    </tr>\n",
       "  </tbody>\n",
       "</table>\n",
       "</div>"
      ],
      "text/plain": [
       "        Producer                                               guid  \\\n",
       "184585  Fox News                         UgzKpShK3kPjlB4XxWx4AaABAg   \n",
       "187485  Fox News                         Ugyy4hHkp2O77AFP0ot4AaABAg   \n",
       "184718  Fox News                         UgwmBzse18ci2g-BerB4AaABAg   \n",
       "184511  Fox News                         UgzeqLMsY2xxHI7OycJ4AaABAg   \n",
       "194397  Fox News                         UgwPEXS0AA93HD7lH5B4AaABAg   \n",
       "152187  Fox News                         Ugxrlx1m84N0gX4IC0t4AaABAg   \n",
       "199290  Fox News                         UgwCLqNiZQoDYemiTH94AaABAg   \n",
       "128316  Fox News                         Ugy4ALG_xfUYfK6nNoh4AaABAg   \n",
       "187435  Fox News                         UgxwOF5KCRn_GtSVeJh4AaABAg   \n",
       "199541  Fox News                         UgwLkYKUSFMYwUBsa-B4AaABAg   \n",
       "128223  Fox News                         UgzjEWf5zu-A9xjVO5V4AaABAg   \n",
       "194356  Fox News                         Ugx9OXByGnQy_R1-qxJ4AaABAg   \n",
       "199567  Fox News                         UgyheKlFpXwWTLnEukZ4AaABAg   \n",
       "199230  Fox News                         Ugw9W2lXwAXHrEw4hMx4AaABAg   \n",
       "184489  Fox News                         UgyCK_O4MnHsMQVk2ux4AaABAg   \n",
       "156903  Fox News                         UgyqpmzohmKKYbWYdth4AaABAg   \n",
       "127863  Fox News                         UgzlEf5UYYa2mTxRKy94AaABAg   \n",
       "187467  Fox News                         UgzM0NWf6PJUlOn0rUd4AaABAg   \n",
       "194379  Fox News                         UgwFeiLjg3K03rZ-abV4AaABAg   \n",
       "156913  Fox News                         UgxzhxKEJ5f867c8NhR4AaABAg   \n",
       "182231  Fox News                         Ugw6kwlJ3obXKmhasa54AaABAg   \n",
       "199317  Fox News                         Ugx6SpGYkVAuNFoGfUt4AaABAg   \n",
       "107185  Fox News                         UgylwxEI69DKvYn5MT54AaABAg   \n",
       "107219  Fox News                         UgyjjcBdz1iqhyCMalB4AaABAg   \n",
       "199565  Fox News                         UgwihQ-SJQuf4r1szp94AaABAg   \n",
       "182298  Fox News                         UgwvDGM_fpSDEWWq_Vp4AaABAg   \n",
       "199235  Fox News  Ugw9W2lXwAXHrEw4hMx4AaABAg.93fSz3ebTN893fb_FVuDyk   \n",
       "127843  Fox News                         UgxlyDp1D-gTzZiDwOx4AaABAg   \n",
       "152219  Fox News                         Ugyun94ZRheAPsP46494AaABAg   \n",
       "199419  Fox News  UgzHkH7hPj71R6QQWul4AaABAg.93fSb4NU-mQ93j_EDd9LTI   \n",
       "152220  Fox News                         UgwQr_fl2KkYU9VlfwV4AaABAg   \n",
       "153225  Fox News  UgxJhdMZLf1zBLjdhB54AaABAg.93SKw-6pwKm93SLVN7M8tC   \n",
       "182276  Fox News                         UgxmHy9cGubhtLSJ_Ad4AaABAg   \n",
       "187439  Fox News  UgxwOF5KCRn_GtSVeJh4AaABAg.93e38GXHkJG93eWEjmjYE6   \n",
       "184753  Fox News  UgwmBzse18ci2g-BerB4AaABAg.93d7UAxxwda93dFJyWEAl4   \n",
       "184748  Fox News  UgwmBzse18ci2g-BerB4AaABAg.93d7UAxxwda93dFvh8gSq7   \n",
       "157038  Fox News  Ugw5-SrrBWqTLwBPCtN4AaABAg.93TrpK16I7e93TwhRgeU-Z   \n",
       "184512  Fox News  UgzeqLMsY2xxHI7OycJ4AaABAg.93d7lKE1dJO93g9CQ1pC9c   \n",
       "107211  Fox News                         UgyE6kJ2Rmh9f2_64Md4AaABAg   \n",
       "184488  Fox News                         Ugzm5qqreFFmbYUumcV4AaABAg   \n",
       "182319  Fox News  UgzgxkEOqraMj9C5NFF4AaABAg.93d4_9Uo6V393d5h6jrEch   \n",
       "182310  Fox News  UgzgxkEOqraMj9C5NFF4AaABAg.93d4_9Uo6V393d6omlfUER   \n",
       "182309  Fox News  UgzgxkEOqraMj9C5NFF4AaABAg.93d4_9Uo6V393d6tqUs4qg   \n",
       "182308  Fox News  UgzgxkEOqraMj9C5NFF4AaABAg.93d4_9Uo6V393d70yNGxZN   \n",
       "187438  Fox News  UgxwOF5KCRn_GtSVeJh4AaABAg.93e38GXHkJG93eWH2s71lY   \n",
       "\n",
       "                                                     link          pubdate  \\\n",
       "184585  https://www.youtube.com/watch?v=ui5viD1F1hc&lc...  1/10/2020 23:28   \n",
       "187485  https://www.youtube.com/watch?v=Qt-qPvzVXjY&lc...   1/11/2020 8:07   \n",
       "184718  https://www.youtube.com/watch?v=ui5viD1F1hc&lc...  1/10/2020 23:27   \n",
       "184511  https://www.youtube.com/watch?v=ui5viD1F1hc&lc...  1/10/2020 23:29   \n",
       "194397  https://www.youtube.com/watch?v=bELxooMt3qg&lc...   1/11/2020 8:16   \n",
       "152187  https://www.youtube.com/watch?v=_D8Hd1eQeBg&lc...   1/6/2020 10:07   \n",
       "199290  https://www.youtube.com/watch?v=FtrIxEB4k7Y&lc...  1/11/2020 21:13   \n",
       "128316  https://www.youtube.com/watch?v=XBzBRE_dzC0&lc...   1/3/2020 20:40   \n",
       "187435  https://www.youtube.com/watch?v=Qt-qPvzVXjY&lc...   1/11/2020 8:08   \n",
       "199541  https://www.youtube.com/watch?v=FtrIxEB4k7Y&lc...  1/11/2020 21:07   \n",
       "128223  https://www.youtube.com/watch?v=XBzBRE_dzC0&lc...   1/3/2020 20:40   \n",
       "194356  https://www.youtube.com/watch?v=bELxooMt3qg&lc...   1/11/2020 8:17   \n",
       "199567  https://www.youtube.com/watch?v=FtrIxEB4k7Y&lc...  1/11/2020 21:07   \n",
       "199230  https://www.youtube.com/watch?v=FtrIxEB4k7Y&lc...  1/11/2020 21:13   \n",
       "184489  https://www.youtube.com/watch?v=ui5viD1F1hc&lc...  1/10/2020 23:30   \n",
       "156903  https://www.youtube.com/watch?v=xgPAslfVn7I&lc...   1/6/2020 23:52   \n",
       "127863  https://www.youtube.com/watch?v=XBzBRE_dzC0&lc...   1/3/2020 20:46   \n",
       "187467  https://www.youtube.com/watch?v=Qt-qPvzVXjY&lc...   1/11/2020 8:07   \n",
       "194379  https://www.youtube.com/watch?v=bELxooMt3qg&lc...   1/11/2020 8:16   \n",
       "156913  https://www.youtube.com/watch?v=xgPAslfVn7I&lc...   1/6/2020 23:52   \n",
       "182231  https://www.youtube.com/watch?v=A995lnNZnXU&lc...  1/10/2020 23:05   \n",
       "199317  https://www.youtube.com/watch?v=FtrIxEB4k7Y&lc...  1/11/2020 21:12   \n",
       "107185  https://www.youtube.com/watch?v=zoiGytDec90&lc...   1/3/2020 13:26   \n",
       "107219  https://www.youtube.com/watch?v=zoiGytDec90&lc...   1/3/2020 13:26   \n",
       "199565  https://www.youtube.com/watch?v=FtrIxEB4k7Y&lc...  1/11/2020 21:07   \n",
       "182298  https://www.youtube.com/watch?v=A995lnNZnXU&lc...  1/10/2020 23:01   \n",
       "199235  https://www.youtube.com/watch?v=FtrIxEB4k7Y&lc...  1/11/2020 22:37   \n",
       "127843  https://www.youtube.com/watch?v=XBzBRE_dzC0&lc...   1/3/2020 20:46   \n",
       "152219  https://www.youtube.com/watch?v=_D8Hd1eQeBg&lc...   1/6/2020 10:07   \n",
       "199419  https://www.youtube.com/watch?v=FtrIxEB4k7Y&lc...  1/13/2020 11:33   \n",
       "152220  https://www.youtube.com/watch?v=_D8Hd1eQeBg&lc...   1/6/2020 10:07   \n",
       "153225  https://www.youtube.com/watch?v=_D8Hd1eQeBg&lc...    1/6/2020 9:38   \n",
       "182276  https://www.youtube.com/watch?v=A995lnNZnXU&lc...  1/10/2020 23:03   \n",
       "187439  https://www.youtube.com/watch?v=Qt-qPvzVXjY&lc...  1/11/2020 12:22   \n",
       "184753  https://www.youtube.com/watch?v=ui5viD1F1hc&lc...   1/11/2020 0:35   \n",
       "184748  https://www.youtube.com/watch?v=ui5viD1F1hc&lc...   1/11/2020 0:40   \n",
       "157038  https://www.youtube.com/watch?v=xgPAslfVn7I&lc...    1/7/2020 0:31   \n",
       "184512  https://www.youtube.com/watch?v=ui5viD1F1hc&lc...   1/12/2020 3:39   \n",
       "107211  https://www.youtube.com/watch?v=zoiGytDec90&lc...   1/3/2020 13:26   \n",
       "184488  https://www.youtube.com/watch?v=ui5viD1F1hc&lc...  1/10/2020 23:30   \n",
       "182319  https://www.youtube.com/watch?v=A995lnNZnXU&lc...  1/10/2020 23:11   \n",
       "182310  https://www.youtube.com/watch?v=A995lnNZnXU&lc...  1/10/2020 23:21   \n",
       "182309  https://www.youtube.com/watch?v=A995lnNZnXU&lc...  1/10/2020 23:21   \n",
       "182308  https://www.youtube.com/watch?v=A995lnNZnXU&lc...  1/10/2020 23:23   \n",
       "187438  https://www.youtube.com/watch?v=Qt-qPvzVXjY&lc...  1/11/2020 12:22   \n",
       "\n",
       "                       author  \\\n",
       "184585  Alberto Raphael Pinto   \n",
       "187485  Alberto Raphael Pinto   \n",
       "184718  Alberto Raphael Pinto   \n",
       "184511  Alberto Raphael Pinto   \n",
       "194397  Alberto Raphael Pinto   \n",
       "152187  Alberto Raphael Pinto   \n",
       "199290  Alberto Raphael Pinto   \n",
       "128316  Alberto Raphael Pinto   \n",
       "187435  Alberto Raphael Pinto   \n",
       "199541  Alberto Raphael Pinto   \n",
       "128223  Alberto Raphael Pinto   \n",
       "194356  Alberto Raphael Pinto   \n",
       "199567  Alberto Raphael Pinto   \n",
       "199230  Alberto Raphael Pinto   \n",
       "184489  Alberto Raphael Pinto   \n",
       "156903  Alberto Raphael Pinto   \n",
       "127863  Alberto Raphael Pinto   \n",
       "187467  Alberto Raphael Pinto   \n",
       "194379  Alberto Raphael Pinto   \n",
       "156913  Alberto Raphael Pinto   \n",
       "182231  Alberto Raphael Pinto   \n",
       "199317  Alberto Raphael Pinto   \n",
       "107185  Alberto Raphael Pinto   \n",
       "107219  Alberto Raphael Pinto   \n",
       "199565  Alberto Raphael Pinto   \n",
       "182298  Alberto Raphael Pinto   \n",
       "199235  Alberto Raphael Pinto   \n",
       "127843  Alberto Raphael Pinto   \n",
       "152219  Alberto Raphael Pinto   \n",
       "199419  Alberto Raphael Pinto   \n",
       "152220  Alberto Raphael Pinto   \n",
       "153225  Alberto Raphael Pinto   \n",
       "182276  Alberto Raphael Pinto   \n",
       "187439  Alberto Raphael Pinto   \n",
       "184753  Alberto Raphael Pinto   \n",
       "184748  Alberto Raphael Pinto   \n",
       "157038  Alberto Raphael Pinto   \n",
       "184512  Alberto Raphael Pinto   \n",
       "107211  Alberto Raphael Pinto   \n",
       "184488  Alberto Raphael Pinto   \n",
       "182319  Alberto Raphael Pinto   \n",
       "182310  Alberto Raphael Pinto   \n",
       "182309  Alberto Raphael Pinto   \n",
       "182308  Alberto Raphael Pinto   \n",
       "187438  Alberto Raphael Pinto   \n",
       "\n",
       "                                                    title  \\\n",
       "184585  *Ask Nancy how she became multi millionaire wh...   \n",
       "187485  *Ask Nancy how she became multi millionaire wh...   \n",
       "184718  *CAN SOMEONE NAME ONE THING NANCY PELOSI HAS D...   \n",
       "184511  Pelosi - Against border wall and is for gun co...   \n",
       "194397  *AOC thinks the electoral college is a school ...   \n",
       "152187  Trump could literally stop a nuke from hitting...   \n",
       "199290  *The left hates trump because he\\'s exposing t...   \n",
       "128316  Democ RATS hate America. But love Iran....Go f...   \n",
       "187435  *CAN SOMEONE NAME ONE THING NANCY PELOSI HAS D...   \n",
       "199541  *Liberal logic: when you know you can\\'t win a...   \n",
       "128223  Democ RATS crying because they can\\'t make mon...   \n",
       "194356           *AOC thinks cheerios are doughnut seeds*   \n",
       "199567  *There\\'s actually 3 genders. Male, female, an...   \n",
       "199230  *When Nancy Pelosi was born, the doctor slappe...   \n",
       "184489  *Piglosi has the highest homelessness rate in ...   \n",
       "156903  Obama kills thousands with drone strike Hollyw...   \n",
       "127863  Hillary Clinton after turning Libya into a thi...   \n",
       "187467  *Piglosi has the highest homelessness rate in ...   \n",
       "194379  *AOC once talked into an envelope to create a ...   \n",
       "156913  The left thinks everything and anything is rac...   \n",
       "182231  *Imagine being as brainwashed as the memo and ...   \n",
       "199317  *The only thing Democrats are good at is wasti...   \n",
       "107185  Q. What\\'s the one thing an arab would never g...   \n",
       "107219  Q. What\\'s the difference between a run-over d...   \n",
       "199565  *I sucked off Willie Brown and all I got was a...   \n",
       "182298  *Why do people defend criminals like Hillary C...   \n",
       "199235                  @Randy Fuentes cry harder soy boy   \n",
       "127843  Hillary Clinton after leaving Americans to die...   \n",
       "152219  Obama kills thousands with drone strike Hollyw...   \n",
       "199419  @X Y yeah you keep talking like that and no mo...   \n",
       "152220  The left thinks everything and anything is rac...   \n",
       "153225  @TRUMP TRASH why aren\\'t your fingers on the p...   \n",
       "182276  *Democrats are weak that\\'s why they are easy ...   \n",
       "187439                          @NaomiDollxoxo cry harder   \n",
       "184753  @Andrew Womble that\\'s all she\\'s done in 30 y...   \n",
       "184748  @Arr One ð a democrat calling others sheep ...   \n",
       "157038             @Travis Hartman they were best friends   \n",
       "184512  Pelosi probably makes money off wars. She show...   \n",
       "107211  Q. What\\'s the difference between E.T and an a...   \n",
       "184488                     *Pelosi is a sewer rat granny*   \n",
       "182319  *WHAT HAS NANCY PELOSI EVER DONE FOR AMERICA I...   \n",
       "182310  @The Memo *THATS ALL SHES DONE IN THE LAST 30 ...   \n",
       "182309  *SO SHES PRETTY MUCH DONE NOTHING. SHES A COMP...   \n",
       "182308  @The Memo this is you every day \"trump is so b...   \n",
       "187438  @NaomiDollxoxo oh so her only accomplishment i...   \n",
       "\n",
       "                                              description  likecount  \\\n",
       "184585  *ask nancy how she became multi millionaire wh...        383   \n",
       "187485  *ask nancy how she became multi millionaire wh...        398   \n",
       "184718  *can someone name one thing nancy pelosi has d...        174   \n",
       "184511  pelosi - against border wall and is for gun co...        198   \n",
       "194397  *aoc thinks the electoral college is a school ...        177   \n",
       "152187  trump could literally stop a nuke from hitting...        147   \n",
       "199290  *the left hates trump because he\\'s exposing t...        106   \n",
       "128316  democ rats hate america. but love iran....go f...        279   \n",
       "187435  *can someone name one thing nancy pelosi has d...         34   \n",
       "199541  *liberal logic: when you know you can\\'t win a...         27   \n",
       "128223  democ rats crying because they can\\'t make mon...        293   \n",
       "194356           *aoc thinks cheerios are doughnut seeds*         89   \n",
       "199567  *there\\'s actually 3 genders. male, female, an...         61   \n",
       "199230  *when nancy pelosi was born, the doctor slappe...         46   \n",
       "184489  *piglosi has the highest homelessness rate in ...        169   \n",
       "156903  obama kills thousands with drone strike hollyw...         90   \n",
       "127863  hillary clinton after turning libya into a thi...        243   \n",
       "187467  *piglosi has the highest homelessness rate in ...         62   \n",
       "194379  *aoc once talked into an envelope to create a ...         73   \n",
       "156913  the left thinks everything and anything is rac...         17   \n",
       "182231  *imagine being as brainwashed as the memo and ...         17   \n",
       "199317  *the only thing democrats are good at is wasti...         20   \n",
       "107185  q. what\\'s the one thing an arab would never g...          0   \n",
       "107219  q. what\\'s the difference between a run-over d...          0   \n",
       "199565  *i sucked off willie brown and all i got was a...          8   \n",
       "182298  *why do people defend criminals like hillary c...          0   \n",
       "199235                  @randy fuentes cry harder soy boy          1   \n",
       "127843  hillary clinton after leaving americans to die...          0   \n",
       "152219  obama kills thousands with drone strike hollyw...          2   \n",
       "199419  @x y yeah you keep talking like that and no mo...          0   \n",
       "152220  the left thinks everything and anything is rac...          0   \n",
       "153225  @trump trash why aren\\'t your fingers on the p...          0   \n",
       "182276  *democrats are weak that\\'s why they are easy ...          0   \n",
       "187439                          @naomidollxoxo cry harder          0   \n",
       "184753  @andrew womble that\\'s all she\\'s done in 30 y...          1   \n",
       "184748  @arr one ð a democrat calling others sheep ...          2   \n",
       "157038             @travis hartman they were best friends          0   \n",
       "184512  pelosi probably makes money off wars. she show...          0   \n",
       "107211  q. what\\'s the difference between e.t and an a...          1   \n",
       "184488                     *pelosi is a sewer rat granny*          3   \n",
       "182319  *what has nancy pelosi ever done for america i...          5   \n",
       "182310  @the memo *thats all shes done in the last 30 ...          0   \n",
       "182309  *so shes pretty much done nothing. shes a comp...          0   \n",
       "182308  @the memo this is you every day \"trump is so b...          1   \n",
       "187438  @naomidollxoxo oh so her only accomplishment i...          0   \n",
       "\n",
       "        replycount                     isreplyto               isreplyto_empty  \n",
       "184585         120                           NaN                         empty  \n",
       "187485          81                           NaN                         empty  \n",
       "184718          77                           NaN                         empty  \n",
       "184511          41                           NaN                         empty  \n",
       "194397          36                           NaN                         empty  \n",
       "152187          29                           NaN                         empty  \n",
       "199290          26                           NaN                         empty  \n",
       "128316          24                           NaN                         empty  \n",
       "187435          23                           NaN                         empty  \n",
       "199541          21                           NaN                         empty  \n",
       "128223          17                           NaN                         empty  \n",
       "194356          14                           NaN                         empty  \n",
       "199567          13                           NaN                         empty  \n",
       "199230          13                           NaN                         empty  \n",
       "184489          11                           NaN                         empty  \n",
       "156903           9                           NaN                         empty  \n",
       "127863           9                           NaN                         empty  \n",
       "187467           6                           NaN                         empty  \n",
       "194379           5                           NaN                         empty  \n",
       "156913           5                           NaN                         empty  \n",
       "182231           4                           NaN                         empty  \n",
       "199317           4                           NaN                         empty  \n",
       "107185           3                           NaN                         empty  \n",
       "107219           1                           NaN                         empty  \n",
       "199565           1                           NaN                         empty  \n",
       "182298           1                           NaN                         empty  \n",
       "199235           0         Alberto Raphael Pinto         Alberto Raphael Pinto  \n",
       "127843           0                           NaN                         empty  \n",
       "152219           0                           NaN                         empty  \n",
       "199419           0               Anthony Alvaros               Anthony Alvaros  \n",
       "152220           0                           NaN                         empty  \n",
       "153225           0  Dan Alberto Raphael Akselrod  Dan Alberto Raphael Akselrod  \n",
       "182276           0                           NaN                         empty  \n",
       "187439           0         Alberto Raphael Pinto         Alberto Raphael Pinto  \n",
       "184753           0         Alberto Raphael Pinto         Alberto Raphael Pinto  \n",
       "184748           0         Alberto Raphael Pinto         Alberto Raphael Pinto  \n",
       "157038           0               Anthony Alvaros               Anthony Alvaros  \n",
       "184512           0         Alberto Raphael Pinto         Alberto Raphael Pinto  \n",
       "107211           0                           NaN                         empty  \n",
       "184488           0                           NaN                         empty  \n",
       "182319           0                      The Memo                      The Memo  \n",
       "182310           0                      The Memo                      The Memo  \n",
       "182309           0                      The Memo                      The Memo  \n",
       "182308           0                      The Memo                      The Memo  \n",
       "187438           0         Alberto Raphael Pinto         Alberto Raphael Pinto  "
      ]
     },
     "execution_count": 231,
     "metadata": {},
     "output_type": "execute_result"
    }
   ],
   "source": [
    "mostreplies = comments[comments.author == \"Alberto Raphael Pinto\"]\n",
    "mostreplies.sort_values(by = \"replycount\", ascending = False)"
   ]
  },
  {
   "cell_type": "markdown",
   "metadata": {},
   "source": [
    "### Comments that generated a response"
   ]
  },
  {
   "cell_type": "code",
   "execution_count": 225,
   "metadata": {},
   "outputs": [],
   "source": [
    "for m in mostreplies[\"replycount\"]:\n",
    "    if m > 0:\n",
    "        df=pd.DataFrame(mostreplies['description'])"
   ]
  },
  {
   "cell_type": "code",
   "execution_count": 229,
   "metadata": {},
   "outputs": [
    {
     "data": {
      "text/html": [
       "<div>\n",
       "<style scoped>\n",
       "    .dataframe tbody tr th:only-of-type {\n",
       "        vertical-align: middle;\n",
       "    }\n",
       "\n",
       "    .dataframe tbody tr th {\n",
       "        vertical-align: top;\n",
       "    }\n",
       "\n",
       "    .dataframe thead th {\n",
       "        text-align: right;\n",
       "    }\n",
       "</style>\n",
       "<table border=\"1\" class=\"dataframe\">\n",
       "  <thead>\n",
       "    <tr style=\"text-align: right;\">\n",
       "      <th></th>\n",
       "      <th>description</th>\n",
       "    </tr>\n",
       "  </thead>\n",
       "  <tbody>\n",
       "    <tr>\n",
       "      <th>107185</th>\n",
       "      <td>q. what\\'s the one thing an arab would never g...</td>\n",
       "    </tr>\n",
       "    <tr>\n",
       "      <th>107211</th>\n",
       "      <td>q. what\\'s the difference between e.t and an a...</td>\n",
       "    </tr>\n",
       "    <tr>\n",
       "      <th>107219</th>\n",
       "      <td>q. what\\'s the difference between a run-over d...</td>\n",
       "    </tr>\n",
       "    <tr>\n",
       "      <th>127843</th>\n",
       "      <td>hillary clinton after leaving americans to die...</td>\n",
       "    </tr>\n",
       "    <tr>\n",
       "      <th>127863</th>\n",
       "      <td>hillary clinton after turning libya into a thi...</td>\n",
       "    </tr>\n",
       "    <tr>\n",
       "      <th>128223</th>\n",
       "      <td>democ rats crying because they can\\'t make mon...</td>\n",
       "    </tr>\n",
       "    <tr>\n",
       "      <th>128316</th>\n",
       "      <td>democ rats hate america. but love iran....go f...</td>\n",
       "    </tr>\n",
       "    <tr>\n",
       "      <th>152187</th>\n",
       "      <td>trump could literally stop a nuke from hitting...</td>\n",
       "    </tr>\n",
       "    <tr>\n",
       "      <th>152219</th>\n",
       "      <td>obama kills thousands with drone strike hollyw...</td>\n",
       "    </tr>\n",
       "    <tr>\n",
       "      <th>152220</th>\n",
       "      <td>the left thinks everything and anything is rac...</td>\n",
       "    </tr>\n",
       "    <tr>\n",
       "      <th>153225</th>\n",
       "      <td>@trump trash why aren\\'t your fingers on the p...</td>\n",
       "    </tr>\n",
       "    <tr>\n",
       "      <th>156903</th>\n",
       "      <td>obama kills thousands with drone strike hollyw...</td>\n",
       "    </tr>\n",
       "    <tr>\n",
       "      <th>156913</th>\n",
       "      <td>the left thinks everything and anything is rac...</td>\n",
       "    </tr>\n",
       "    <tr>\n",
       "      <th>157038</th>\n",
       "      <td>@travis hartman they were best friends</td>\n",
       "    </tr>\n",
       "    <tr>\n",
       "      <th>182231</th>\n",
       "      <td>*imagine being as brainwashed as the memo and ...</td>\n",
       "    </tr>\n",
       "    <tr>\n",
       "      <th>182276</th>\n",
       "      <td>*democrats are weak that\\'s why they are easy ...</td>\n",
       "    </tr>\n",
       "    <tr>\n",
       "      <th>182298</th>\n",
       "      <td>*why do people defend criminals like hillary c...</td>\n",
       "    </tr>\n",
       "    <tr>\n",
       "      <th>182308</th>\n",
       "      <td>@the memo this is you every day \"trump is so b...</td>\n",
       "    </tr>\n",
       "    <tr>\n",
       "      <th>182309</th>\n",
       "      <td>*so shes pretty much done nothing. shes a comp...</td>\n",
       "    </tr>\n",
       "    <tr>\n",
       "      <th>182310</th>\n",
       "      <td>@the memo *thats all shes done in the last 30 ...</td>\n",
       "    </tr>\n",
       "    <tr>\n",
       "      <th>182319</th>\n",
       "      <td>*what has nancy pelosi ever done for america i...</td>\n",
       "    </tr>\n",
       "    <tr>\n",
       "      <th>184488</th>\n",
       "      <td>*pelosi is a sewer rat granny*</td>\n",
       "    </tr>\n",
       "    <tr>\n",
       "      <th>184489</th>\n",
       "      <td>*piglosi has the highest homelessness rate in ...</td>\n",
       "    </tr>\n",
       "    <tr>\n",
       "      <th>184511</th>\n",
       "      <td>pelosi - against border wall and is for gun co...</td>\n",
       "    </tr>\n",
       "    <tr>\n",
       "      <th>184512</th>\n",
       "      <td>pelosi probably makes money off wars. she show...</td>\n",
       "    </tr>\n",
       "    <tr>\n",
       "      <th>184585</th>\n",
       "      <td>*ask nancy how she became multi millionaire wh...</td>\n",
       "    </tr>\n",
       "    <tr>\n",
       "      <th>184718</th>\n",
       "      <td>*can someone name one thing nancy pelosi has d...</td>\n",
       "    </tr>\n",
       "    <tr>\n",
       "      <th>184748</th>\n",
       "      <td>@arr one ð a democrat calling others sheep ...</td>\n",
       "    </tr>\n",
       "    <tr>\n",
       "      <th>184753</th>\n",
       "      <td>@andrew womble that\\'s all she\\'s done in 30 y...</td>\n",
       "    </tr>\n",
       "    <tr>\n",
       "      <th>187435</th>\n",
       "      <td>*can someone name one thing nancy pelosi has d...</td>\n",
       "    </tr>\n",
       "    <tr>\n",
       "      <th>187438</th>\n",
       "      <td>@naomidollxoxo oh so her only accomplishment i...</td>\n",
       "    </tr>\n",
       "    <tr>\n",
       "      <th>187439</th>\n",
       "      <td>@naomidollxoxo cry harder</td>\n",
       "    </tr>\n",
       "    <tr>\n",
       "      <th>187467</th>\n",
       "      <td>*piglosi has the highest homelessness rate in ...</td>\n",
       "    </tr>\n",
       "    <tr>\n",
       "      <th>187485</th>\n",
       "      <td>*ask nancy how she became multi millionaire wh...</td>\n",
       "    </tr>\n",
       "    <tr>\n",
       "      <th>194356</th>\n",
       "      <td>*aoc thinks cheerios are doughnut seeds*</td>\n",
       "    </tr>\n",
       "    <tr>\n",
       "      <th>194379</th>\n",
       "      <td>*aoc once talked into an envelope to create a ...</td>\n",
       "    </tr>\n",
       "    <tr>\n",
       "      <th>194397</th>\n",
       "      <td>*aoc thinks the electoral college is a school ...</td>\n",
       "    </tr>\n",
       "    <tr>\n",
       "      <th>199230</th>\n",
       "      <td>*when nancy pelosi was born, the doctor slappe...</td>\n",
       "    </tr>\n",
       "    <tr>\n",
       "      <th>199235</th>\n",
       "      <td>@randy fuentes cry harder soy boy</td>\n",
       "    </tr>\n",
       "    <tr>\n",
       "      <th>199290</th>\n",
       "      <td>*the left hates trump because he\\'s exposing t...</td>\n",
       "    </tr>\n",
       "    <tr>\n",
       "      <th>199317</th>\n",
       "      <td>*the only thing democrats are good at is wasti...</td>\n",
       "    </tr>\n",
       "    <tr>\n",
       "      <th>199419</th>\n",
       "      <td>@x y yeah you keep talking like that and no mo...</td>\n",
       "    </tr>\n",
       "    <tr>\n",
       "      <th>199541</th>\n",
       "      <td>*liberal logic: when you know you can\\'t win a...</td>\n",
       "    </tr>\n",
       "    <tr>\n",
       "      <th>199565</th>\n",
       "      <td>*i sucked off willie brown and all i got was a...</td>\n",
       "    </tr>\n",
       "    <tr>\n",
       "      <th>199567</th>\n",
       "      <td>*there\\'s actually 3 genders. male, female, an...</td>\n",
       "    </tr>\n",
       "  </tbody>\n",
       "</table>\n",
       "</div>"
      ],
      "text/plain": [
       "                                              description\n",
       "107185  q. what\\'s the one thing an arab would never g...\n",
       "107211  q. what\\'s the difference between e.t and an a...\n",
       "107219  q. what\\'s the difference between a run-over d...\n",
       "127843  hillary clinton after leaving americans to die...\n",
       "127863  hillary clinton after turning libya into a thi...\n",
       "128223  democ rats crying because they can\\'t make mon...\n",
       "128316  democ rats hate america. but love iran....go f...\n",
       "152187  trump could literally stop a nuke from hitting...\n",
       "152219  obama kills thousands with drone strike hollyw...\n",
       "152220  the left thinks everything and anything is rac...\n",
       "153225  @trump trash why aren\\'t your fingers on the p...\n",
       "156903  obama kills thousands with drone strike hollyw...\n",
       "156913  the left thinks everything and anything is rac...\n",
       "157038             @travis hartman they were best friends\n",
       "182231  *imagine being as brainwashed as the memo and ...\n",
       "182276  *democrats are weak that\\'s why they are easy ...\n",
       "182298  *why do people defend criminals like hillary c...\n",
       "182308  @the memo this is you every day \"trump is so b...\n",
       "182309  *so shes pretty much done nothing. shes a comp...\n",
       "182310  @the memo *thats all shes done in the last 30 ...\n",
       "182319  *what has nancy pelosi ever done for america i...\n",
       "184488                     *pelosi is a sewer rat granny*\n",
       "184489  *piglosi has the highest homelessness rate in ...\n",
       "184511  pelosi - against border wall and is for gun co...\n",
       "184512  pelosi probably makes money off wars. she show...\n",
       "184585  *ask nancy how she became multi millionaire wh...\n",
       "184718  *can someone name one thing nancy pelosi has d...\n",
       "184748  @arr one ð a democrat calling others sheep ...\n",
       "184753  @andrew womble that\\'s all she\\'s done in 30 y...\n",
       "187435  *can someone name one thing nancy pelosi has d...\n",
       "187438  @naomidollxoxo oh so her only accomplishment i...\n",
       "187439                          @naomidollxoxo cry harder\n",
       "187467  *piglosi has the highest homelessness rate in ...\n",
       "187485  *ask nancy how she became multi millionaire wh...\n",
       "194356           *aoc thinks cheerios are doughnut seeds*\n",
       "194379  *aoc once talked into an envelope to create a ...\n",
       "194397  *aoc thinks the electoral college is a school ...\n",
       "199230  *when nancy pelosi was born, the doctor slappe...\n",
       "199235                  @randy fuentes cry harder soy boy\n",
       "199290  *the left hates trump because he\\'s exposing t...\n",
       "199317  *the only thing democrats are good at is wasti...\n",
       "199419  @x y yeah you keep talking like that and no mo...\n",
       "199541  *liberal logic: when you know you can\\'t win a...\n",
       "199565  *i sucked off willie brown and all i got was a...\n",
       "199567  *there\\'s actually 3 genders. male, female, an..."
      ]
     },
     "execution_count": 229,
     "metadata": {},
     "output_type": "execute_result"
    }
   ],
   "source": []
  },
  {
   "cell_type": "markdown",
   "metadata": {},
   "source": [
    "### Appearence by nonreply Comment"
   ]
  },
  {
   "cell_type": "code",
   "execution_count": 124,
   "metadata": {},
   "outputs": [
    {
     "data": {
      "text/plain": [
       "CShield                                198\n",
       "David                                  172\n",
       "Al Shabob                              152\n",
       "Dave Schultz                           145\n",
       "John Williams                          142\n",
       "Trumpty Dumpty your fall is coming!    139\n",
       "Naomi Ogle                             135\n",
       "Samera K                               132\n",
       "wily wascal                            129\n",
       "Crystal Giddens                        128\n",
       "Name: author, dtype: int64"
      ]
     },
     "execution_count": 124,
     "metadata": {},
     "output_type": "execute_result"
    }
   ],
   "source": [
    "appearences = comments.author.value_counts()\n",
    "appearences.head(10)"
   ]
  },
  {
   "cell_type": "code",
   "execution_count": 338,
   "metadata": {},
   "outputs": [
    {
     "data": {
      "text/plain": [
       "pandas.core.series.Series"
      ]
     },
     "execution_count": 338,
     "metadata": {},
     "output_type": "execute_result"
    }
   ],
   "source": [
    "#get the total number of likes that were recieved from all the comments stated by an individual user \n",
    "#what percentage of people left more than one comment \n",
    "#how many comments do those who recieve the most likes typically make?\n"
   ]
  },
  {
   "cell_type": "code",
   "execution_count": 392,
   "metadata": {},
   "outputs": [
    {
     "name": "stdout",
     "output_type": "stream",
     "text": [
      "8\n",
      "1\n",
      "13\n",
      "13\n",
      "10\n",
      "23\n",
      "1\n",
      "6\n",
      "9\n",
      "19\n"
     ]
    }
   ],
   "source": [
    "for auth in lc[\"author\"]:\n",
    "    x = (appearences.loc[auth])\n",
    "    print(x)\n",
    "    \n",
    "#mean = 10.3    "
   ]
  },
  {
   "cell_type": "code",
   "execution_count": 7,
   "metadata": {},
   "outputs": [],
   "source": [
    "replyto = comments.sort_values(by=\"replycount\", ascending = False)\n"
   ]
  },
  {
   "cell_type": "markdown",
   "metadata": {},
   "source": [
    "### Rank by amount of replies generated by single comment"
   ]
  },
  {
   "cell_type": "code",
   "execution_count": 181,
   "metadata": {},
   "outputs": [
    {
     "data": {
      "text/html": [
       "<div>\n",
       "<style scoped>\n",
       "    .dataframe tbody tr th:only-of-type {\n",
       "        vertical-align: middle;\n",
       "    }\n",
       "\n",
       "    .dataframe tbody tr th {\n",
       "        vertical-align: top;\n",
       "    }\n",
       "\n",
       "    .dataframe thead th {\n",
       "        text-align: right;\n",
       "    }\n",
       "</style>\n",
       "<table border=\"1\" class=\"dataframe\">\n",
       "  <thead>\n",
       "    <tr style=\"text-align: right;\">\n",
       "      <th></th>\n",
       "      <th>Producer</th>\n",
       "      <th>author</th>\n",
       "      <th>replycount</th>\n",
       "      <th>likecount</th>\n",
       "      <th>description</th>\n",
       "      <th>isreplyto</th>\n",
       "    </tr>\n",
       "  </thead>\n",
       "  <tbody>\n",
       "    <tr>\n",
       "      <th>37346</th>\n",
       "      <td>MSNBC</td>\n",
       "      <td>jon Q</td>\n",
       "      <td>276</td>\n",
       "      <td>1334</td>\n",
       "      <td>Republicans can only create two things: defici...</td>\n",
       "      <td>NaN</td>\n",
       "    </tr>\n",
       "    <tr>\n",
       "      <th>192268</th>\n",
       "      <td>Fox News</td>\n",
       "      <td>T G</td>\n",
       "      <td>247</td>\n",
       "      <td>2740</td>\n",
       "      <td>Isnât it funny a socialist isnât âpaying...</td>\n",
       "      <td>NaN</td>\n",
       "    </tr>\n",
       "    <tr>\n",
       "      <th>65282</th>\n",
       "      <td>MSNBC</td>\n",
       "      <td>Laura Folsom</td>\n",
       "      <td>231</td>\n",
       "      <td>435</td>\n",
       "      <td>What about the president who wanted our troops...</td>\n",
       "      <td>NaN</td>\n",
       "    </tr>\n",
       "    <tr>\n",
       "      <th>127614</th>\n",
       "      <td>Fox News</td>\n",
       "      <td>Elmer T Fuddrucker</td>\n",
       "      <td>221</td>\n",
       "      <td>1679</td>\n",
       "      <td>John Kerry is having tantrums over the killing...</td>\n",
       "      <td>NaN</td>\n",
       "    </tr>\n",
       "    <tr>\n",
       "      <th>205376</th>\n",
       "      <td>Fox News</td>\n",
       "      <td>Todd Ambrose</td>\n",
       "      <td>204</td>\n",
       "      <td>394</td>\n",
       "      <td>The dnc, as we know it, will cease to exist by...</td>\n",
       "      <td>NaN</td>\n",
       "    </tr>\n",
       "    <tr>\n",
       "      <th>127191</th>\n",
       "      <td>Fox News</td>\n",
       "      <td>RSKR</td>\n",
       "      <td>195</td>\n",
       "      <td>1534</td>\n",
       "      <td>the red line was crossed. they shouldnt be sur...</td>\n",
       "      <td>NaN</td>\n",
       "    </tr>\n",
       "    <tr>\n",
       "      <th>49297</th>\n",
       "      <td>MSNBC</td>\n",
       "      <td>Simon West</td>\n",
       "      <td>193</td>\n",
       "      <td>688</td>\n",
       "      <td>Election coming up... Better have a war.</td>\n",
       "      <td>NaN</td>\n",
       "    </tr>\n",
       "    <tr>\n",
       "      <th>123887</th>\n",
       "      <td>Fox News</td>\n",
       "      <td>william rambo</td>\n",
       "      <td>192</td>\n",
       "      <td>1165</td>\n",
       "      <td>pretty soon the media will have this Iranian g...</td>\n",
       "      <td>NaN</td>\n",
       "    </tr>\n",
       "    <tr>\n",
       "      <th>41362</th>\n",
       "      <td>MSNBC</td>\n",
       "      <td>kurushiiv</td>\n",
       "      <td>186</td>\n",
       "      <td>697</td>\n",
       "      <td>He embezzled from charity while running for of...</td>\n",
       "      <td>NaN</td>\n",
       "    </tr>\n",
       "    <tr>\n",
       "      <th>155023</th>\n",
       "      <td>Fox News</td>\n",
       "      <td>Tonka Goldman</td>\n",
       "      <td>184</td>\n",
       "      <td>487</td>\n",
       "      <td>This action was NOT tyrannical. Salami was a l...</td>\n",
       "      <td>NaN</td>\n",
       "    </tr>\n",
       "  </tbody>\n",
       "</table>\n",
       "</div>"
      ],
      "text/plain": [
       "        Producer              author  replycount  likecount  \\\n",
       "37346      MSNBC               jon Q         276       1334   \n",
       "192268  Fox News                 T G         247       2740   \n",
       "65282      MSNBC        Laura Folsom         231        435   \n",
       "127614  Fox News  Elmer T Fuddrucker         221       1679   \n",
       "205376  Fox News        Todd Ambrose         204        394   \n",
       "127191  Fox News                RSKR         195       1534   \n",
       "49297      MSNBC          Simon West         193        688   \n",
       "123887  Fox News       william rambo         192       1165   \n",
       "41362      MSNBC           kurushiiv         186        697   \n",
       "155023  Fox News       Tonka Goldman         184        487   \n",
       "\n",
       "                                              description isreplyto  \n",
       "37346   Republicans can only create two things: defici...       NaN  \n",
       "192268  Isnât it funny a socialist isnât âpaying...       NaN  \n",
       "65282   What about the president who wanted our troops...       NaN  \n",
       "127614  John Kerry is having tantrums over the killing...       NaN  \n",
       "205376  The dnc, as we know it, will cease to exist by...       NaN  \n",
       "127191  the red line was crossed. they shouldnt be sur...       NaN  \n",
       "49297            Election coming up... Better have a war.       NaN  \n",
       "123887  pretty soon the media will have this Iranian g...       NaN  \n",
       "41362   He embezzled from charity while running for of...       NaN  \n",
       "155023  This action was NOT tyrannical. Salami was a l...       NaN  "
      ]
     },
     "execution_count": 181,
     "metadata": {},
     "output_type": "execute_result"
    }
   ],
   "source": [
    "replyto = comments.sort_values(by=\"replycount\", ascending = False)\n",
    "reply_counts = replyto[[\"Producer\", \"author\",\"replycount\", \"likecount\",\"description\", \"isreplyto\"]]\n",
    "rc = reply_counts.head(10)\n",
    "rc"
   ]
  },
  {
   "cell_type": "code",
   "execution_count": 143,
   "metadata": {},
   "outputs": [
    {
     "data": {
      "text/html": [
       "<div>\n",
       "<style scoped>\n",
       "    .dataframe tbody tr th:only-of-type {\n",
       "        vertical-align: middle;\n",
       "    }\n",
       "\n",
       "    .dataframe tbody tr th {\n",
       "        vertical-align: top;\n",
       "    }\n",
       "\n",
       "    .dataframe thead th {\n",
       "        text-align: right;\n",
       "    }\n",
       "</style>\n",
       "<table border=\"1\" class=\"dataframe\">\n",
       "  <thead>\n",
       "    <tr style=\"text-align: right;\">\n",
       "      <th></th>\n",
       "      <th>Producer</th>\n",
       "      <th>guid</th>\n",
       "      <th>link</th>\n",
       "      <th>pubdate</th>\n",
       "      <th>author</th>\n",
       "      <th>title</th>\n",
       "      <th>description</th>\n",
       "      <th>likecount</th>\n",
       "      <th>replycount</th>\n",
       "      <th>isreplyto</th>\n",
       "      <th>isreplyto_empty</th>\n",
       "    </tr>\n",
       "  </thead>\n",
       "  <tbody>\n",
       "    <tr>\n",
       "      <th>0</th>\n",
       "      <td>MSNBC</td>\n",
       "      <td>UgxQ2y-lYbB5Tkep8V14AaABAg</td>\n",
       "      <td>https://www.youtube.com/watch?v=llov1TBqnQ4&amp;lc...</td>\n",
       "      <td>1/14/2020 14:13</td>\n",
       "      <td>Bruce Molyneux</td>\n",
       "      <td>https://www.youtube.com/watch?v=DushIvQwmEM</td>\n",
       "      <td>https://www.youtube.com/watch?v=dushivqwmem</td>\n",
       "      <td>0</td>\n",
       "      <td>0</td>\n",
       "      <td>NaN</td>\n",
       "      <td>empty</td>\n",
       "    </tr>\n",
       "    <tr>\n",
       "      <th>1</th>\n",
       "      <td>MSNBC</td>\n",
       "      <td>Ugx8DcWIY8ClLpyNWxF4AaABAg</td>\n",
       "      <td>https://www.youtube.com/watch?v=llov1TBqnQ4&amp;lc...</td>\n",
       "      <td>1/6/2020 15:27</td>\n",
       "      <td>Hybrid - Fahrer</td>\n",
       "      <td>Biden is for sure not \\'the guy\\'... Such bias...</td>\n",
       "      <td>biden is for sure not \\'the guy\\'... such bias...</td>\n",
       "      <td>0</td>\n",
       "      <td>0</td>\n",
       "      <td>NaN</td>\n",
       "      <td>empty</td>\n",
       "    </tr>\n",
       "    <tr>\n",
       "      <th>2</th>\n",
       "      <td>MSNBC</td>\n",
       "      <td>UgwIDj3O6cWyqNQ-VdB4AaABAg</td>\n",
       "      <td>https://www.youtube.com/watch?v=llov1TBqnQ4&amp;lc...</td>\n",
       "      <td>1/6/2020 8:54</td>\n",
       "      <td>marc</td>\n",
       "      <td>biden is the best to appeal to rust belt voter...</td>\n",
       "      <td>biden is the best to appeal to rust belt voter...</td>\n",
       "      <td>0</td>\n",
       "      <td>0</td>\n",
       "      <td>NaN</td>\n",
       "      <td>empty</td>\n",
       "    </tr>\n",
       "    <tr>\n",
       "      <th>3</th>\n",
       "      <td>MSNBC</td>\n",
       "      <td>Ugy-5qhLNf42usKd1M54AaABAg</td>\n",
       "      <td>https://www.youtube.com/watch?v=llov1TBqnQ4&amp;lc...</td>\n",
       "      <td>1/6/2020 4:39</td>\n",
       "      <td>Conan Barbarian</td>\n",
       "      <td>Well the title is correct, Democrats and diffe...</td>\n",
       "      <td>well the title is correct, democrats and diffe...</td>\n",
       "      <td>0</td>\n",
       "      <td>0</td>\n",
       "      <td>NaN</td>\n",
       "      <td>empty</td>\n",
       "    </tr>\n",
       "    <tr>\n",
       "      <th>4</th>\n",
       "      <td>MSNBC</td>\n",
       "      <td>Ugyb1T0QLfC09sTmumZ4AaABAg</td>\n",
       "      <td>https://www.youtube.com/watch?v=llov1TBqnQ4&amp;lc...</td>\n",
       "      <td>1/6/2020 0:31</td>\n",
       "      <td>Marcel B.</td>\n",
       "      <td>You throw things up with Trump NOT by voting a...</td>\n",
       "      <td>you throw things up with trump not by voting a...</td>\n",
       "      <td>0</td>\n",
       "      <td>0</td>\n",
       "      <td>NaN</td>\n",
       "      <td>empty</td>\n",
       "    </tr>\n",
       "  </tbody>\n",
       "</table>\n",
       "</div>"
      ],
      "text/plain": [
       "  Producer                        guid  \\\n",
       "0    MSNBC  UgxQ2y-lYbB5Tkep8V14AaABAg   \n",
       "1    MSNBC  Ugx8DcWIY8ClLpyNWxF4AaABAg   \n",
       "2    MSNBC  UgwIDj3O6cWyqNQ-VdB4AaABAg   \n",
       "3    MSNBC  Ugy-5qhLNf42usKd1M54AaABAg   \n",
       "4    MSNBC  Ugyb1T0QLfC09sTmumZ4AaABAg   \n",
       "\n",
       "                                                link          pubdate  \\\n",
       "0  https://www.youtube.com/watch?v=llov1TBqnQ4&lc...  1/14/2020 14:13   \n",
       "1  https://www.youtube.com/watch?v=llov1TBqnQ4&lc...   1/6/2020 15:27   \n",
       "2  https://www.youtube.com/watch?v=llov1TBqnQ4&lc...    1/6/2020 8:54   \n",
       "3  https://www.youtube.com/watch?v=llov1TBqnQ4&lc...    1/6/2020 4:39   \n",
       "4  https://www.youtube.com/watch?v=llov1TBqnQ4&lc...    1/6/2020 0:31   \n",
       "\n",
       "            author                                              title  \\\n",
       "0   Bruce Molyneux        https://www.youtube.com/watch?v=DushIvQwmEM   \n",
       "1  Hybrid - Fahrer  Biden is for sure not \\'the guy\\'... Such bias...   \n",
       "2             marc  biden is the best to appeal to rust belt voter...   \n",
       "3  Conan Barbarian  Well the title is correct, Democrats and diffe...   \n",
       "4        Marcel B.  You throw things up with Trump NOT by voting a...   \n",
       "\n",
       "                                         description  likecount  replycount  \\\n",
       "0        https://www.youtube.com/watch?v=dushivqwmem          0           0   \n",
       "1  biden is for sure not \\'the guy\\'... such bias...          0           0   \n",
       "2  biden is the best to appeal to rust belt voter...          0           0   \n",
       "3  well the title is correct, democrats and diffe...          0           0   \n",
       "4  you throw things up with trump not by voting a...          0           0   \n",
       "\n",
       "  isreplyto isreplyto_empty  \n",
       "0       NaN           empty  \n",
       "1       NaN           empty  \n",
       "2       NaN           empty  \n",
       "3       NaN           empty  \n",
       "4       NaN           empty  "
      ]
     },
     "execution_count": 143,
     "metadata": {},
     "output_type": "execute_result"
    }
   ],
   "source": [
    "isreplyto_empty = comments[\"isreplyto\"].fillna('empty')\n",
    "comments['isreplyto_empty'] = isreplyto_empty\n",
    "comments.head()"
   ]
  },
  {
   "cell_type": "code",
   "execution_count": 173,
   "metadata": {},
   "outputs": [],
   "source": [
    "replies = comments[comments.isreplyto_empty != \"empty\"]\n",
    "    \n",
    "    "
   ]
  },
  {
   "cell_type": "code",
   "execution_count": 179,
   "metadata": {},
   "outputs": [
    {
     "data": {
      "text/plain": [
       "107511"
      ]
     },
     "execution_count": 179,
     "metadata": {},
     "output_type": "execute_result"
    }
   ],
   "source": [
    "replies[\"isreplyto_empty\"].count() #of the 205,000 comments 107,511 were replies to others "
   ]
  },
  {
   "cell_type": "markdown",
   "metadata": {},
   "source": [
    "### The Jon Q Comment that those 276 comments were in reply to "
   ]
  },
  {
   "cell_type": "code",
   "execution_count": 201,
   "metadata": {},
   "outputs": [
    {
     "data": {
      "text/html": [
       "<div>\n",
       "<style scoped>\n",
       "    .dataframe tbody tr th:only-of-type {\n",
       "        vertical-align: middle;\n",
       "    }\n",
       "\n",
       "    .dataframe tbody tr th {\n",
       "        vertical-align: top;\n",
       "    }\n",
       "\n",
       "    .dataframe thead th {\n",
       "        text-align: right;\n",
       "    }\n",
       "</style>\n",
       "<table border=\"1\" class=\"dataframe\">\n",
       "  <thead>\n",
       "    <tr style=\"text-align: right;\">\n",
       "      <th></th>\n",
       "      <th>Producer</th>\n",
       "      <th>guid</th>\n",
       "      <th>link</th>\n",
       "      <th>pubdate</th>\n",
       "      <th>author</th>\n",
       "      <th>title</th>\n",
       "      <th>description</th>\n",
       "      <th>likecount</th>\n",
       "      <th>replycount</th>\n",
       "      <th>isreplyto</th>\n",
       "      <th>isreplyto_empty</th>\n",
       "    </tr>\n",
       "  </thead>\n",
       "  <tbody>\n",
       "    <tr>\n",
       "      <th>36397</th>\n",
       "      <td>MSNBC</td>\n",
       "      <td>Ugw7jRgiXe5i8LJeCXF4AaABAg.93Knx8DooCK93NVGPt_I5Z</td>\n",
       "      <td>https://www.youtube.com/watch?v=HzHak713Anw&amp;lc...</td>\n",
       "      <td>1/4/2020 12:27</td>\n",
       "      <td>jon Q</td>\n",
       "      <td>Kakistocracy.</td>\n",
       "      <td>kakistocracy.</td>\n",
       "      <td>1</td>\n",
       "      <td>0</td>\n",
       "      <td>Finn Jacobsen</td>\n",
       "      <td>Finn Jacobsen</td>\n",
       "    </tr>\n",
       "    <tr>\n",
       "      <th>37346</th>\n",
       "      <td>MSNBC</td>\n",
       "      <td>Ugzle8JN6dLi-suH77t4AaABAg</td>\n",
       "      <td>https://www.youtube.com/watch?v=HzHak713Anw&amp;lc...</td>\n",
       "      <td>1/3/2020 9:54</td>\n",
       "      <td>jon Q</td>\n",
       "      <td>Republicans can only create two things: defici...</td>\n",
       "      <td>republicans can only create two things: defici...</td>\n",
       "      <td>1334</td>\n",
       "      <td>276</td>\n",
       "      <td>NaN</td>\n",
       "      <td>empty</td>\n",
       "    </tr>\n",
       "  </tbody>\n",
       "</table>\n",
       "</div>"
      ],
      "text/plain": [
       "      Producer                                               guid  \\\n",
       "36397    MSNBC  Ugw7jRgiXe5i8LJeCXF4AaABAg.93Knx8DooCK93NVGPt_I5Z   \n",
       "37346    MSNBC                         Ugzle8JN6dLi-suH77t4AaABAg   \n",
       "\n",
       "                                                    link         pubdate  \\\n",
       "36397  https://www.youtube.com/watch?v=HzHak713Anw&lc...  1/4/2020 12:27   \n",
       "37346  https://www.youtube.com/watch?v=HzHak713Anw&lc...   1/3/2020 9:54   \n",
       "\n",
       "      author                                              title  \\\n",
       "36397  jon Q                                      Kakistocracy.   \n",
       "37346  jon Q  Republicans can only create two things: defici...   \n",
       "\n",
       "                                             description  likecount  \\\n",
       "36397                                      kakistocracy.          1   \n",
       "37346  republicans can only create two things: defici...       1334   \n",
       "\n",
       "       replycount      isreplyto isreplyto_empty  \n",
       "36397           0  Finn Jacobsen   Finn Jacobsen  \n",
       "37346         276            NaN           empty  "
      ]
     },
     "execution_count": 201,
     "metadata": {},
     "output_type": "execute_result"
    }
   ],
   "source": [
    "comments[comments.author == \"jon Q\"]\n"
   ]
  },
  {
   "cell_type": "code",
   "execution_count": 203,
   "metadata": {},
   "outputs": [
    {
     "data": {
      "text/plain": [
       "37346    republicans can only create two things: defici...\n",
       "Name: description, dtype: object"
      ]
     },
     "execution_count": 203,
     "metadata": {},
     "output_type": "execute_result"
    }
   ],
   "source": [
    "comments[comments.replycount ==276][\"description\"] #\"Republicans can only create two things: deficits and war.\""
   ]
  },
  {
   "cell_type": "markdown",
   "metadata": {},
   "source": [
    "### Jon Q was able to generate the most comments from a single comment\n",
    "### \"Republicans can only create two things: deficits and war.\"\n",
    "#### the comments that replied to Jon Qs comment"
   ]
  },
  {
   "cell_type": "code",
   "execution_count": 185,
   "metadata": {},
   "outputs": [],
   "source": [
    "mostinsp = comments[comments.isreplyto_empty == \"jon Q\"]"
   ]
  },
  {
   "cell_type": "code",
   "execution_count": 191,
   "metadata": {},
   "outputs": [
    {
     "data": {
      "text/plain": [
       "37347    @bj smithnra wants blacks and women and immigr...\n",
       "37348                           @ron t nice lie. prove it.\n",
       "37349    @mine finder yeah funny how trump already doub...\n",
       "37350    @timothy kozlowski that honor goes to trump fo...\n",
       "37351    â@mine finder so now you just resort to lyin...\n",
       "37352    @patrick o\\'ryan stupid people make stupid com...\n",
       "37353    @youtube moderator it can be blamed on the cou...\n",
       "37354    @gavin sherlock obama doubled the deficit. his...\n",
       "37355    @bj smith president trump, is rent free in eve...\n",
       "37356    @timothy kozlowski president obama is living r...\n",
       "37357    @mine finder you are too ignorant to be making...\n",
       "37358    @mine finder since when is record debt and def...\n",
       "37359    register to vote or check to see if you can st...\n",
       "37360    iranian trolls are already stiring the pot on ...\n",
       "37361                              @darrin fry stay stupid\n",
       "37362                            @darrin fry read this duh\n",
       "37363                                      @darrin fry duh\n",
       "37364    @barbara witchey it makes your posts look like...\n",
       "37365                                         @san geet no\n",
       "37366    @megan cox i am correct, whatever i said among...\n",
       "37367    @ra5928 leftist are really dumb u did not want...\n",
       "37368    @ra5928 you are stupid. worse than stupid do y...\n",
       "37369    @barbara witchey - ps that electric chevy pick...\n",
       "37370    @barbara witchey - here, you poor soul. gm bui...\n",
       "37371    @barbara witchey - https://i.postimg.cc/njn96f...\n",
       "37372    @barbara witchey - you lived what you talk? yo...\n",
       "37373    @ra5928 time pay your taxes this year u stfu a...\n",
       "37374    @ra5928 i probably knew tesla and his invenent...\n",
       "37375    @ra5928 general electric lordstown plant just ...\n",
       "37376                          @ra5928 i lived what i talk\n",
       "                               ...                        \n",
       "37593    @gavin sherlock and trump fixed both their mes...\n",
       "37594    the gop also reproduces tumors on society like...\n",
       "37595    @san geet then why did he take so long to do s...\n",
       "37596    @mine finder obama did not instigate the meltd...\n",
       "37597                              poverty..anxiety misery\n",
       "37598    @da pm tarp the wall street bailout was signed...\n",
       "37599    @mine finder you mean tarp the wall street bai...\n",
       "37600    @mine finder wow. three giant lies in three st...\n",
       "37601          jon q i think you need to do more research!\n",
       "37602    @mine finder you do realize the government did...\n",
       "37603    cue the \"but but, obama...\" white fragility de...\n",
       "37604    mine finder bone spurs is dubbing that and cri...\n",
       "37605                                you forgot recession.\n",
       "37606                       and theyâre terrible at war!\n",
       "37607                    mine finder get educated comrade.\n",
       "37608    they seem to lie, steal, cheat and betray thei...\n",
       "37609    @e w well since the economy already was going ...\n",
       "37610                                       @san geet ð\n",
       "37611    local democrat officials create deficits. and ...\n",
       "37612    @cobykoehl2 please dont type in all caps and c...\n",
       "37613    @timothy kozlowski no he didn\\'t; he was hande...\n",
       "37614            so they found a war to keep him in office\n",
       "37615                              ... and blame democrats\n",
       "37616    @mine finder you\\'re poorly educated and makin...\n",
       "37617            being that obama, only made things worse.\n",
       "37618    interesting, since trump is the most anti-war ...\n",
       "37619                                you forgot recession.\n",
       "37620                         yoster schnauss - absolutely\n",
       "37621                                           ð¯ truth\n",
       "37622    they\\'re pretty good at projection, gaslightin...\n",
       "Name: description, Length: 276, dtype: object"
      ]
     },
     "execution_count": 191,
     "metadata": {},
     "output_type": "execute_result"
    }
   ],
   "source": [
    "mostinsp[\"description\"]"
   ]
  },
  {
   "cell_type": "code",
   "execution_count": 12,
   "metadata": {},
   "outputs": [],
   "source": [
    "from collections import Counter"
   ]
  },
  {
   "cell_type": "code",
   "execution_count": 17,
   "metadata": {},
   "outputs": [
    {
     "data": {
      "text/plain": [
       "Counter({'MSNBC': 101379, 'Fox News': 104394})"
      ]
     },
     "execution_count": 17,
     "metadata": {},
     "output_type": "execute_result"
    }
   ],
   "source": [
    "Counter(comments[\"Producer\"]) #number of comments by source "
   ]
  },
  {
   "cell_type": "code",
   "execution_count": 13,
   "metadata": {},
   "outputs": [
    {
     "data": {
      "text/html": [
       "<div>\n",
       "<style scoped>\n",
       "    .dataframe tbody tr th:only-of-type {\n",
       "        vertical-align: middle;\n",
       "    }\n",
       "\n",
       "    .dataframe tbody tr th {\n",
       "        vertical-align: top;\n",
       "    }\n",
       "\n",
       "    .dataframe thead th {\n",
       "        text-align: right;\n",
       "    }\n",
       "</style>\n",
       "<table border=\"1\" class=\"dataframe\">\n",
       "  <thead>\n",
       "    <tr style=\"text-align: right;\">\n",
       "      <th></th>\n",
       "      <th>Producer</th>\n",
       "      <th>guid</th>\n",
       "      <th>link</th>\n",
       "      <th>pubdate</th>\n",
       "      <th>author</th>\n",
       "      <th>title</th>\n",
       "      <th>description</th>\n",
       "      <th>likecount</th>\n",
       "      <th>replycount</th>\n",
       "      <th>isreplyto</th>\n",
       "    </tr>\n",
       "  </thead>\n",
       "  <tbody>\n",
       "    <tr>\n",
       "      <th>0</th>\n",
       "      <td>MSNBC</td>\n",
       "      <td>UgxQ2y-lYbB5Tkep8V14AaABAg</td>\n",
       "      <td>https://www.youtube.com/watch?v=llov1TBqnQ4&amp;lc...</td>\n",
       "      <td>1/14/2020 14:13</td>\n",
       "      <td>Bruce Molyneux</td>\n",
       "      <td>https://www.youtube.com/watch?v=DushIvQwmEM</td>\n",
       "      <td>https://www.youtube.com/watch?v=DushIvQwmEM</td>\n",
       "      <td>0</td>\n",
       "      <td>0</td>\n",
       "      <td>NaN</td>\n",
       "    </tr>\n",
       "    <tr>\n",
       "      <th>1</th>\n",
       "      <td>MSNBC</td>\n",
       "      <td>Ugx8DcWIY8ClLpyNWxF4AaABAg</td>\n",
       "      <td>https://www.youtube.com/watch?v=llov1TBqnQ4&amp;lc...</td>\n",
       "      <td>1/6/2020 15:27</td>\n",
       "      <td>Hybrid - Fahrer</td>\n",
       "      <td>Biden is for sure not \\'the guy\\'... Such bias...</td>\n",
       "      <td>Biden is for sure not \\'the guy\\'... Such bias...</td>\n",
       "      <td>0</td>\n",
       "      <td>0</td>\n",
       "      <td>NaN</td>\n",
       "    </tr>\n",
       "    <tr>\n",
       "      <th>2</th>\n",
       "      <td>MSNBC</td>\n",
       "      <td>UgwIDj3O6cWyqNQ-VdB4AaABAg</td>\n",
       "      <td>https://www.youtube.com/watch?v=llov1TBqnQ4&amp;lc...</td>\n",
       "      <td>1/6/2020 8:54</td>\n",
       "      <td>marc</td>\n",
       "      <td>biden is the best to appeal to rust belt voter...</td>\n",
       "      <td>biden is the best to appeal to rust belt voter...</td>\n",
       "      <td>0</td>\n",
       "      <td>0</td>\n",
       "      <td>NaN</td>\n",
       "    </tr>\n",
       "    <tr>\n",
       "      <th>3</th>\n",
       "      <td>MSNBC</td>\n",
       "      <td>Ugy-5qhLNf42usKd1M54AaABAg</td>\n",
       "      <td>https://www.youtube.com/watch?v=llov1TBqnQ4&amp;lc...</td>\n",
       "      <td>1/6/2020 4:39</td>\n",
       "      <td>Conan Barbarian</td>\n",
       "      <td>Well the title is correct, Democrats and diffe...</td>\n",
       "      <td>Well the title is correct, Democrats and diffe...</td>\n",
       "      <td>0</td>\n",
       "      <td>0</td>\n",
       "      <td>NaN</td>\n",
       "    </tr>\n",
       "    <tr>\n",
       "      <th>4</th>\n",
       "      <td>MSNBC</td>\n",
       "      <td>Ugyb1T0QLfC09sTmumZ4AaABAg</td>\n",
       "      <td>https://www.youtube.com/watch?v=llov1TBqnQ4&amp;lc...</td>\n",
       "      <td>1/6/2020 0:31</td>\n",
       "      <td>Marcel B.</td>\n",
       "      <td>You throw things up with Trump NOT by voting a...</td>\n",
       "      <td>You throw things up with Trump NOT by voting a...</td>\n",
       "      <td>0</td>\n",
       "      <td>0</td>\n",
       "      <td>NaN</td>\n",
       "    </tr>\n",
       "  </tbody>\n",
       "</table>\n",
       "</div>"
      ],
      "text/plain": [
       "  Producer                        guid  \\\n",
       "0    MSNBC  UgxQ2y-lYbB5Tkep8V14AaABAg   \n",
       "1    MSNBC  Ugx8DcWIY8ClLpyNWxF4AaABAg   \n",
       "2    MSNBC  UgwIDj3O6cWyqNQ-VdB4AaABAg   \n",
       "3    MSNBC  Ugy-5qhLNf42usKd1M54AaABAg   \n",
       "4    MSNBC  Ugyb1T0QLfC09sTmumZ4AaABAg   \n",
       "\n",
       "                                                link          pubdate  \\\n",
       "0  https://www.youtube.com/watch?v=llov1TBqnQ4&lc...  1/14/2020 14:13   \n",
       "1  https://www.youtube.com/watch?v=llov1TBqnQ4&lc...   1/6/2020 15:27   \n",
       "2  https://www.youtube.com/watch?v=llov1TBqnQ4&lc...    1/6/2020 8:54   \n",
       "3  https://www.youtube.com/watch?v=llov1TBqnQ4&lc...    1/6/2020 4:39   \n",
       "4  https://www.youtube.com/watch?v=llov1TBqnQ4&lc...    1/6/2020 0:31   \n",
       "\n",
       "            author                                              title  \\\n",
       "0   Bruce Molyneux        https://www.youtube.com/watch?v=DushIvQwmEM   \n",
       "1  Hybrid - Fahrer  Biden is for sure not \\'the guy\\'... Such bias...   \n",
       "2             marc  biden is the best to appeal to rust belt voter...   \n",
       "3  Conan Barbarian  Well the title is correct, Democrats and diffe...   \n",
       "4        Marcel B.  You throw things up with Trump NOT by voting a...   \n",
       "\n",
       "                                         description  likecount  replycount  \\\n",
       "0        https://www.youtube.com/watch?v=DushIvQwmEM          0           0   \n",
       "1  Biden is for sure not \\'the guy\\'... Such bias...          0           0   \n",
       "2  biden is the best to appeal to rust belt voter...          0           0   \n",
       "3  Well the title is correct, Democrats and diffe...          0           0   \n",
       "4  You throw things up with Trump NOT by voting a...          0           0   \n",
       "\n",
       "  isreplyto  \n",
       "0       NaN  \n",
       "1       NaN  \n",
       "2       NaN  \n",
       "3       NaN  \n",
       "4       NaN  "
      ]
     },
     "execution_count": 13,
     "metadata": {},
     "output_type": "execute_result"
    }
   ],
   "source": [
    "comments.head()"
   ]
  },
  {
   "cell_type": "code",
   "execution_count": 4,
   "metadata": {},
   "outputs": [],
   "source": [
    "import re"
   ]
  },
  {
   "cell_type": "code",
   "execution_count": 192,
   "metadata": {},
   "outputs": [],
   "source": [
    "#url = comments[\"link\"][2]\n",
    "#url"
   ]
  },
  {
   "cell_type": "code",
   "execution_count": 5,
   "metadata": {},
   "outputs": [],
   "source": [
    "videos = list()\n",
    "for link in comments['link']:\n",
    "    x = re.search('v=(.+?)&lc', link)\n",
    "    videos.append(x.group(0))\n"
   ]
  },
  {
   "cell_type": "code",
   "execution_count": 6,
   "metadata": {},
   "outputs": [],
   "source": [
    "uniq_vids = set(videos)"
   ]
  },
  {
   "cell_type": "code",
   "execution_count": 62,
   "metadata": {},
   "outputs": [
    {
     "data": {
      "text/plain": [
       "113"
      ]
     },
     "execution_count": 62,
     "metadata": {},
     "output_type": "execute_result"
    }
   ],
   "source": [
    "len(uniq_vids) #113 unique videos"
   ]
  },
  {
   "cell_type": "code",
   "execution_count": 90,
   "metadata": {},
   "outputs": [],
   "source": [
    "import numpy as np"
   ]
  },
  {
   "cell_type": "code",
   "execution_count": 11,
   "metadata": {
    "scrolled": true
   },
   "outputs": [
    {
     "name": "stdout",
     "output_type": "stream",
     "text": [
      "v=vS2ZHi2ILqc&lc https://www.youtube.com/watch?v=hrS3hP2bUGY&lc https://www.youtube.com/watch?v=dhD3Hw3fXqY&lc https://www.youtube.com/watch?v=xgPAslfVn7I&lc https://www.youtube.com/watch?v=SdPzX4gV5jc&lc https://www.youtube.com/watch?v=leQVh3oVJtM&lc https://www.youtube.com/watch?v=XBzBRE_dzC0&lc https://www.youtube.com/watch?v=ui5viD1F1hc&lc https://www.youtube.com/watch?v=rUCersIiP-A&lc https://www.youtube.com/watch?v=o7BpaIXogd8&lc https://www.youtube.com/watch?v=5l5X66N9WNQ&lc https://www.youtube.com/watch?v=V00UJsDJfkw&lc https://www.youtube.com/watch?v=QeFowxtokKc&lc https://www.youtube.com/watch?v=zoiGytDec90&lc https://www.youtube.com/watch?v=z73YaaKIfOY&lc https://www.youtube.com/watch?v=V_aY-UpVSEU&lc https://www.youtube.com/watch?v=J55u20jkyQg&lc https://www.youtube.com/watch?v=7MrZTcrE4r0&lc https://www.youtube.com/watch?v=sluW0bkGOkk&lc https://www.youtube.com/watch?v=KYnoVJD7LmI&lc https://www.youtube.com/watch?v=TPCqqAnrEMc&lc https://www.youtube.com/watch?v=8g7vDhPksho&lc https://www.youtube.com/watch?v=ba-vBFaWbPo&lc https://www.youtube.com/watch?v=6DxzUNhFe4s&lc https://www.youtube.com/watch?v=Hue99QYu3kk&lc https://www.youtube.com/watch?v=ltIYmZzcqjk&lc https://www.youtube.com/watch?v=QlT6eHKgWUA&lc https://www.youtube.com/watch?v=FtrIxEB4k7Y&lc https://www.youtube.com/watch?v=bELxooMt3qg&lc https://www.youtube.com/watch?v=llov1TBqnQ4&lc https://www.youtube.com/watch?v=yBWbhgJswgI&lc https://www.youtube.com/watch?v=iffcBg9EA5U&lc https://www.youtube.com/watch?v=V2WpSqbuQTc&lc https://www.youtube.com/watch?v=VcIl308WfXU&lc https://www.youtube.com/watch?v=DODyGznCd6s&lc https://www.youtube.com/watch?v=GOFuR7pbq9U&lc https://www.youtube.com/watch?v=VIYIHw7KCTA&lc https://www.youtube.com/watch?v=cShZs_wRLUc&lc https://www.youtube.com/watch?v=YiCAzxwATuY&lc https://www.youtube.com/watch?v=Y8VPqF8LbCI&lc https://www.youtube.com/watch?v=NhYah7A41lE&lc https://www.youtube.com/watch?v=p1cOUisJKoE&lc https://www.youtube.com/watch?v=nszFH_Z7fds&lc https://www.youtube.com/watch?v=HJUMoN68yx8&lc https://www.youtube.com/watch?v=Uk2Tzc8H5po&lc https://www.youtube.com/watch?v=ESrzo4ZD3qI&lc https://www.youtube.com/watch?v=CklTPwSGA1w&lc https://www.youtube.com/watch?v=_Z5NkYKA4co&lc https://www.youtube.com/watch?v=uL2dLag2f0g&lc https://www.youtube.com/watch?v=8C0fSMZBBGY&lc https://www.youtube.com/watch?v=A995lnNZnXU&lc https://www.youtube.com/watch?v=s3TEHqy9UV4&lc https://www.youtube.com/watch?v=wTWJBX-acFo&lc https://www.youtube.com/watch?v=H-obZds-_KU&lc https://www.youtube.com/watch?v=CqsC-TOj5-c&lc https://www.youtube.com/watch?v=uutYxyWA6CM&lc https://www.youtube.com/watch?v=NiXmxIF5jPU&lc https://www.youtube.com/watch?v=yoYU3IvhvAk&lc https://www.youtube.com/watch?v=Z7kK--8KS98&lc https://www.youtube.com/watch?v=4vsfQo6iYd0&lc https://www.youtube.com/watch?v=4TW9ICT7nBs&lc https://www.youtube.com/watch?v=P2cvzX_D7uY&lc https://www.youtube.com/watch?v=JsGoUt5sTY0&lc https://www.youtube.com/watch?v=DCV5wL6hJSE&lc https://www.youtube.com/watch?v=Z2UATM5YeHo&lc https://www.youtube.com/watch?v=k4eV8-oeAR0&lc https://www.youtube.com/watch?v=in5jtYj4kaw&lc https://www.youtube.com/watch?v=gQnZIibMGBc&lc https://www.youtube.com/watch?v=HzHak713Anw&lc https://www.youtube.com/watch?v=fzhL07b9VhY&lc https://www.youtube.com/watch?v=IK4b86v_1v0&lc https://www.youtube.com/watch?v=VPGLpCpxOqw&lc https://www.youtube.com/watch?v=Z4PiTj56ldA&lc https://www.youtube.com/watch?v=H7_blL8YVvo&lc https://www.youtube.com/watch?v=iISjkTxUfIw&lc https://www.youtube.com/watch?v=0FBODEOR7rc&lc https://www.youtube.com/watch?v=DVh8Vd02oWg&lc https://www.youtube.com/watch?v=GNvTTnWuD-E&lc https://www.youtube.com/watch?v=gtCRvqDnO6g&lc https://www.youtube.com/watch?v=ALsvdBP7aEY&lc https://www.youtube.com/watch?v=BpJxuY_y7NI&lc https://www.youtube.com/watch?v=bgP82l8SJ4k&lc https://www.youtube.com/watch?v=wVm8l6QTOM0&lc https://www.youtube.com/watch?v=xiB4y1Q2mxA&lc https://www.youtube.com/watch?v=_D8Hd1eQeBg&lc https://www.youtube.com/watch?v=Qt-qPvzVXjY&lc https://www.youtube.com/watch?v=QTFZJfeqY68&lc https://www.youtube.com/watch?v=Cr6gTdd13w8&lc https://www.youtube.com/watch?v=0ZFm2lFgZVE&lc https://www.youtube.com/watch?v=_pz8SAbRfDU&lc https://www.youtube.com/watch?v=lNPfY-dgo1I&lc https://www.youtube.com/watch?v=KQBVbbjwV4c&lc https://www.youtube.com/watch?v=4turH-TXgnQ&lc https://www.youtube.com/watch?v=twpHp7ELp_4&lc https://www.youtube.com/watch?v=6Vkxs3DSOO8&lc https://www.youtube.com/watch?v=s7TfTdA3TAU&lc https://www.youtube.com/watch?v=ONkem36jRI8&lc https://www.youtube.com/watch?v=fewlMs6Ik1M&lc https://www.youtube.com/watch?v=xxGSb92IxpA&lc https://www.youtube.com/watch?v=EI5t38-J6zE&lc https://www.youtube.com/watch?v=t56BmpLASTo&lc https://www.youtube.com/watch?v=7zjb2holPME&lc https://www.youtube.com/watch?v=w1H877TOZKI&lc https://www.youtube.com/watch?v=yCYTwyrGYpQ&lc https://www.youtube.com/watch?v=UyR3ufbXaIw&lc https://www.youtube.com/watch?v=IlG3Kw99J7o&lc https://www.youtube.com/watch?v=tBRoNqyobRo&lc https://www.youtube.com/watch?v=0UqEwF21jXY&lc https://www.youtube.com/watch?v=tUdPcmDoO1s&lc https://www.youtube.com/watch?v=_UHrvp-UeyU&lc https://www.youtube.com/watch?v=_b2Hh8g7Xi0&lc https://www.youtube.com/watch?v=N7teiDgdS1s&lc https://www.youtube.com/watch?v=J6KbXbCvdRA&lc\n"
     ]
    }
   ],
   "source": [
    "z = ' https://www.youtube.com/watch?'.join(uniq_vids)\n",
    "link_list = np.array(z)\n",
    "print(link_list)\n",
    "#link_list.append(z)\n",
    "#link_list.count()"
   ]
  },
  {
   "cell_type": "markdown",
   "metadata": {},
   "source": [
    "### Get YouTube Titles "
   ]
  },
  {
   "cell_type": "code",
   "execution_count": 18,
   "metadata": {},
   "outputs": [
    {
     "ename": "ModuleNotFoundError",
     "evalue": "No module named 'crawler'",
     "output_type": "error",
     "traceback": [
      "\u001b[1;31m---------------------------------------------------------------------------\u001b[0m",
      "\u001b[1;31mModuleNotFoundError\u001b[0m                       Traceback (most recent call last)",
      "\u001b[1;32m<ipython-input-18-088d1dfc510b>\u001b[0m in \u001b[0;36m<module>\u001b[1;34m\u001b[0m\n\u001b[1;32m----> 1\u001b[1;33m \u001b[1;32mfrom\u001b[0m \u001b[0mcrawler\u001b[0m \u001b[1;32mimport\u001b[0m \u001b[0mcrawler\u001b[0m\u001b[1;33m\u001b[0m\u001b[1;33m\u001b[0m\u001b[0m\n\u001b[0m\u001b[0;32m      2\u001b[0m \u001b[1;33m\u001b[0m\u001b[0m\n\u001b[0;32m      3\u001b[0m \u001b[0mmy_path\u001b[0m \u001b[1;33m=\u001b[0m \u001b[1;34m'D:\\QMSS\\Spring\\Thesis\\TitleGet'\u001b[0m\u001b[1;33m\u001b[0m\u001b[1;33m\u001b[0m\u001b[0m\n\u001b[0;32m      4\u001b[0m \u001b[0mthe_query\u001b[0m \u001b[1;33m=\u001b[0m \u001b[1;34m'qmss columbia'\u001b[0m\u001b[1;33m\u001b[0m\u001b[1;33m\u001b[0m\u001b[0m\n\u001b[0;32m      5\u001b[0m \u001b[0mnum_docs\u001b[0m \u001b[1;33m=\u001b[0m \u001b[1;36m1\u001b[0m\u001b[1;33m\u001b[0m\u001b[1;33m\u001b[0m\u001b[0m\n",
      "\u001b[1;31mModuleNotFoundError\u001b[0m: No module named 'crawler'"
     ]
    }
   ],
   "source": [
    "from crawler import crawler\n",
    "\n",
    "my_path = 'D:\\QMSS\\Spring\\Thesis\\TitleGet'\n",
    "the_query = 'qmss columbia'\n",
    "num_docs = 1\n",
    "\n",
    "my_func = crawler()\n",
    "\n",
    "my_func.write_crawl_results(my_path, the_query, num_docs)"
   ]
  },
  {
   "cell_type": "code",
   "execution_count": 17,
   "metadata": {},
   "outputs": [],
   "source": [
    "class crawler(object):\n",
    "\n",
    "    def my_scraper(self, tmp_url_in):\n",
    "        from bs4 import BeautifulSoup\n",
    "        import requests\n",
    "        import re\n",
    "        tmp_text = ''\n",
    "        try:\n",
    "            content = requests.get(tmp_url_in)\n",
    "            soup = BeautifulSoup(content.text, 'html.parser')\n",
    "    \n",
    "            tmp_text = soup.findAll('p') \n",
    "    \n",
    "            tmp_text = [word.text for word in tmp_text]\n",
    "            tmp_text = ' '.join(tmp_text)\n",
    "            tmp_text = re.sub('\\W+', ' ', re.sub('xa0', ' ', tmp_text))\n",
    "        except:\n",
    "            pass\n",
    "    \n",
    "        return tmp_text\n",
    "    \n",
    "    def fetch_urls(self, query_tmp, cnt):\n",
    "        #now lets use the following function that returns\n",
    "        #URLs from an arbitrary regex crawl form google\n",
    "    \n",
    "        #pip install pyyaml ua-parser user-agents fake-useragent\n",
    "        import requests\n",
    "        from fake_useragent import UserAgent\n",
    "        from bs4 import BeautifulSoup\n",
    "        import re \n",
    "        ua = UserAgent()\n",
    "    \n",
    "        query = '+'.join(query_tmp.split())\n",
    "        google_url = \"https://www.youtube.com/watch?v\" + query \n",
    "        print (google_url)\n",
    "        response = requests.get(google_url, {\"User-Agent\": ua.random})\n",
    "        soup = BeautifulSoup(response.text, \"html.parser\")\n",
    "\n",
    "        result_div = soup.find_all('div', attrs = {'class': 'ZINbbc'})\n",
    "\n",
    "        links = []\n",
    "        titles = []\n",
    "        descriptions = []\n",
    "        for r in result_div:\n",
    "            # Checks if each element is present, else, raise exception\n",
    "            try:\n",
    "                link = r.find('a', href = True)\n",
    "                title = r.find('div', attrs={'class':'vvjwJb'}).get_text()\n",
    "                description = r.find('div', attrs={'class':'s3v9rd'}).get_text()\n",
    "    \n",
    "                # Check to make sure everything is present before appending\n",
    "                if link != '' and title != '' and description != '': \n",
    "                    links.append(link['href'])\n",
    "                    titles.append(title)\n",
    "                    descriptions.append(description)\n",
    "            # Next loop if one element is not present\n",
    "            except:\n",
    "                continue  \n",
    "    \n",
    "        to_remove = []\n",
    "        clean_links = []\n",
    "        for i, l in enumerate(links):\n",
    "            clean = re.search('\\/url\\?q\\=(.*)\\&sa',l)\n",
    "    \n",
    "            # Anything that doesn't fit the above pattern will be removed\n",
    "            if clean is None:\n",
    "                to_remove.append(i)\n",
    "                continue\n",
    "            clean_links.append(clean.group(1))\n",
    "\n",
    "        return clean_links\n",
    " \n",
    "    def write_crawl_results(self, the_path, my_query, the_cnt_in):\n",
    "        #let use fetch_urls to get URLs then pass to the my_scraper function \n",
    "        import os\n",
    "        import re\n",
    "        \n",
    "        the_urls_list = self.fetch_urls(my_query, the_cnt_in)\n",
    "        try:\n",
    "            os.makedirs(the_path + re.sub('[ ]+', '_', re.sub('\"', '', my_query)))\n",
    "        except:\n",
    "            pass\n",
    "\n",
    "        cnt = 0\n",
    "        for word in the_urls_list:\n",
    "            tmp_txt = self.my_scraper(word)\n",
    "            if len(tmp_txt) != 0:\n",
    "                try:\n",
    "                    tmp_file = open(the_path + re.sub('[ ]+', '_', re.sub('\"', '', my_query)) + '/' + str(cnt) + '.txt',\"w\") \n",
    "                    tmp_file.write(tmp_txt)\n",
    "                    tmp_file.close()\n",
    "                    print (word)\n",
    "                    cnt += 1\n",
    "                except:\n",
    "                    pass"
   ]
  },
  {
   "cell_type": "code",
   "execution_count": 8,
   "metadata": {},
   "outputs": [],
   "source": [
    "#for u in uniq:\n",
    " #   x = 'https://www.youtube.com/watch?'+ u\n",
    "  #  print(x)\n",
    "    \n",
    "    "
   ]
  },
  {
   "cell_type": "code",
   "execution_count": 193,
   "metadata": {},
   "outputs": [],
   "source": [
    "comments['description'] = comments.description.str.lower() \n"
   ]
  },
  {
   "cell_type": "markdown",
   "metadata": {},
   "source": [
    "### Check for presense of keywords"
   ]
  },
  {
   "cell_type": "code",
   "execution_count": 90,
   "metadata": {},
   "outputs": [
    {
     "data": {
      "text/html": [
       "<div>\n",
       "<style scoped>\n",
       "    .dataframe tbody tr th:only-of-type {\n",
       "        vertical-align: middle;\n",
       "    }\n",
       "\n",
       "    .dataframe tbody tr th {\n",
       "        vertical-align: top;\n",
       "    }\n",
       "\n",
       "    .dataframe thead th {\n",
       "        text-align: right;\n",
       "    }\n",
       "</style>\n",
       "<table border=\"1\" class=\"dataframe\">\n",
       "  <thead>\n",
       "    <tr style=\"text-align: right;\">\n",
       "      <th></th>\n",
       "      <th>description</th>\n",
       "    </tr>\n",
       "  </thead>\n",
       "  <tbody>\n",
       "    <tr>\n",
       "      <th>0</th>\n",
       "      <td>False</td>\n",
       "    </tr>\n",
       "    <tr>\n",
       "      <th>1</th>\n",
       "      <td>False</td>\n",
       "    </tr>\n",
       "    <tr>\n",
       "      <th>2</th>\n",
       "      <td>False</td>\n",
       "    </tr>\n",
       "    <tr>\n",
       "      <th>3</th>\n",
       "      <td>False</td>\n",
       "    </tr>\n",
       "    <tr>\n",
       "      <th>4</th>\n",
       "      <td>False</td>\n",
       "    </tr>\n",
       "  </tbody>\n",
       "</table>\n",
       "</div>"
      ],
      "text/plain": [
       "  description\n",
       "0       False\n",
       "1       False\n",
       "2       False\n",
       "3       False\n",
       "4       False"
      ]
     },
     "execution_count": 90,
     "metadata": {},
     "output_type": "execute_result"
    }
   ],
   "source": [
    "\n",
    "lib = pd.DataFrame(comments['description'].str.contains(\"liberal\"))\n",
    "lib.head()"
   ]
  },
  {
   "cell_type": "code",
   "execution_count": 91,
   "metadata": {},
   "outputs": [
    {
     "data": {
      "text/plain": [
       "False    203645\n",
       "True       2125\n",
       "Name: description, dtype: int64"
      ]
     },
     "execution_count": 91,
     "metadata": {},
     "output_type": "execute_result"
    }
   ],
   "source": [
    "lib.description.value_counts()"
   ]
  },
  {
   "cell_type": "markdown",
   "metadata": {},
   "source": [
    "### Presence of Hot words/phrases "
   ]
  },
  {
   "cell_type": "code",
   "execution_count": 108,
   "metadata": {},
   "outputs": [
    {
     "data": {
      "text/plain": [
       "False    205735\n",
       "True         35\n",
       "Name: description, dtype: int64"
      ]
     },
     "execution_count": 108,
     "metadata": {},
     "output_type": "execute_result"
    }
   ],
   "source": [
    "ndf= pd.DataFrame(comments['description'].str.contains(\"white nationalist\"))\n",
    "ndf.head()\n",
    "ndf.description.value_counts()"
   ]
  },
  {
   "cell_type": "code",
   "execution_count": 109,
   "metadata": {},
   "outputs": [
    {
     "data": {
      "text/plain": [
       "False    205011\n",
       "True        759\n",
       "Name: description, dtype: int64"
      ]
     },
     "execution_count": 109,
     "metadata": {},
     "output_type": "execute_result"
    }
   ],
   "source": [
    "ndf= pd.DataFrame(comments['description'].str.contains(\"racist\"))\n",
    "ndf.head()\n",
    "ndf.description.value_counts()"
   ]
  },
  {
   "cell_type": "code",
   "execution_count": 433,
   "metadata": {},
   "outputs": [
    {
     "data": {
      "text/plain": [
       "False    205149\n",
       "True        621\n",
       "Name: description, dtype: int64"
      ]
     },
     "execution_count": 433,
     "metadata": {},
     "output_type": "execute_result"
    }
   ],
   "source": [
    "ndf= pd.DataFrame(comments['description'].str.contains(\"communist\"))\n",
    "ndf.head()\n",
    "ndf.description.value_counts()"
   ]
  },
  {
   "cell_type": "code",
   "execution_count": 456,
   "metadata": {},
   "outputs": [
    {
     "data": {
      "text/plain": [
       "False    205544\n",
       "True        226\n",
       "Name: description, dtype: int64"
      ]
     },
     "execution_count": 456,
     "metadata": {},
     "output_type": "execute_result"
    }
   ],
   "source": [
    "ndf= pd.DataFrame(comments['description'].str.contains(\"fascist\"))\n",
    "ndf.head()\n",
    "ndf.description.value_counts()"
   ]
  },
  {
   "cell_type": "code",
   "execution_count": 434,
   "metadata": {},
   "outputs": [
    {
     "data": {
      "text/plain": [
       "False    204876\n",
       "True        894\n",
       "Name: description, dtype: int64"
      ]
     },
     "execution_count": 434,
     "metadata": {},
     "output_type": "execute_result"
    }
   ],
   "source": [
    "ndf= pd.DataFrame(comments['description'].str.contains(\"socialist\"))\n",
    "ndf.head()\n",
    "ndf.description.value_counts()"
   ]
  },
  {
   "cell_type": "code",
   "execution_count": 443,
   "metadata": {},
   "outputs": [
    {
     "data": {
      "text/plain": [
       "False    203560\n",
       "True       2210\n",
       "Name: description, dtype: int64"
      ]
     },
     "execution_count": 443,
     "metadata": {},
     "output_type": "execute_result"
    }
   ],
   "source": [
    "ndf= pd.DataFrame(comments['description'].str.contains(\"oil\"))\n",
    "ndf.head()\n",
    "ndf.description.value_counts()"
   ]
  },
  {
   "cell_type": "code",
   "execution_count": 448,
   "metadata": {},
   "outputs": [
    {
     "data": {
      "text/plain": [
       "False    204673\n",
       "True       1097\n",
       "Name: description, dtype: int64"
      ]
     },
     "execution_count": 448,
     "metadata": {},
     "output_type": "execute_result"
    }
   ],
   "source": [
    "ndf= pd.DataFrame(comments['description'].str.contains(\"Constitution\"))\n",
    "ndf.head()\n",
    "ndf.description.value_counts()"
   ]
  },
  {
   "cell_type": "code",
   "execution_count": 457,
   "metadata": {},
   "outputs": [
    {
     "data": {
      "text/plain": [
       "False    202180\n",
       "True       3590\n",
       "Name: description, dtype: int64"
      ]
     },
     "execution_count": 457,
     "metadata": {},
     "output_type": "execute_result"
    }
   ],
   "source": [
    "ndf= pd.DataFrame(comments['description'].str.contains(\"hate\"))\n",
    "ndf.head()\n",
    "ndf.description.value_counts()"
   ]
  },
  {
   "cell_type": "code",
   "execution_count": 464,
   "metadata": {},
   "outputs": [
    {
     "data": {
      "text/plain": [
       "False    205543\n",
       "True        227\n",
       "Name: description, dtype: int64"
      ]
     },
     "execution_count": 464,
     "metadata": {},
     "output_type": "execute_result"
    }
   ],
   "source": [
    "ndf= pd.DataFrame(comments['description'].str.contains(\"religion\"))\n",
    "ndf.head()\n",
    "ndf.description.value_counts()"
   ]
  },
  {
   "cell_type": "code",
   "execution_count": 21,
   "metadata": {},
   "outputs": [
    {
     "data": {
      "text/html": [
       "<div>\n",
       "<style scoped>\n",
       "    .dataframe tbody tr th:only-of-type {\n",
       "        vertical-align: middle;\n",
       "    }\n",
       "\n",
       "    .dataframe tbody tr th {\n",
       "        vertical-align: top;\n",
       "    }\n",
       "\n",
       "    .dataframe thead th {\n",
       "        text-align: right;\n",
       "    }\n",
       "</style>\n",
       "<table border=\"1\" class=\"dataframe\">\n",
       "  <thead>\n",
       "    <tr style=\"text-align: right;\">\n",
       "      <th></th>\n",
       "      <th>Producer</th>\n",
       "      <th>guid</th>\n",
       "      <th>link</th>\n",
       "      <th>pubdate</th>\n",
       "      <th>author</th>\n",
       "      <th>title</th>\n",
       "      <th>description</th>\n",
       "      <th>likecount</th>\n",
       "      <th>replycount</th>\n",
       "      <th>isreplyto</th>\n",
       "    </tr>\n",
       "  </thead>\n",
       "  <tbody>\n",
       "    <tr>\n",
       "      <th>0</th>\n",
       "      <td>MSNBC</td>\n",
       "      <td>UgxQ2y-lYbB5Tkep8V14AaABAg</td>\n",
       "      <td>https://www.youtube.com/watch?v=llov1TBqnQ4&amp;lc...</td>\n",
       "      <td>1/14/2020 14:13</td>\n",
       "      <td>Bruce Molyneux</td>\n",
       "      <td>https://www.youtube.com/watch?v=DushIvQwmEM</td>\n",
       "      <td>https://www.youtube.com/watch?v=DushIvQwmEM</td>\n",
       "      <td>0</td>\n",
       "      <td>0</td>\n",
       "      <td>NaN</td>\n",
       "    </tr>\n",
       "    <tr>\n",
       "      <th>1</th>\n",
       "      <td>MSNBC</td>\n",
       "      <td>Ugx8DcWIY8ClLpyNWxF4AaABAg</td>\n",
       "      <td>https://www.youtube.com/watch?v=llov1TBqnQ4&amp;lc...</td>\n",
       "      <td>1/6/2020 15:27</td>\n",
       "      <td>Hybrid - Fahrer</td>\n",
       "      <td>Biden is for sure not \\'the guy\\'... Such bias...</td>\n",
       "      <td>Biden is for sure not \\'the guy\\'... Such bias...</td>\n",
       "      <td>0</td>\n",
       "      <td>0</td>\n",
       "      <td>NaN</td>\n",
       "    </tr>\n",
       "    <tr>\n",
       "      <th>2</th>\n",
       "      <td>MSNBC</td>\n",
       "      <td>UgwIDj3O6cWyqNQ-VdB4AaABAg</td>\n",
       "      <td>https://www.youtube.com/watch?v=llov1TBqnQ4&amp;lc...</td>\n",
       "      <td>1/6/2020 8:54</td>\n",
       "      <td>marc</td>\n",
       "      <td>biden is the best to appeal to rust belt voter...</td>\n",
       "      <td>biden is the best to appeal to rust belt voter...</td>\n",
       "      <td>0</td>\n",
       "      <td>0</td>\n",
       "      <td>NaN</td>\n",
       "    </tr>\n",
       "    <tr>\n",
       "      <th>3</th>\n",
       "      <td>MSNBC</td>\n",
       "      <td>Ugy-5qhLNf42usKd1M54AaABAg</td>\n",
       "      <td>https://www.youtube.com/watch?v=llov1TBqnQ4&amp;lc...</td>\n",
       "      <td>1/6/2020 4:39</td>\n",
       "      <td>Conan Barbarian</td>\n",
       "      <td>Well the title is correct, Democrats and diffe...</td>\n",
       "      <td>Well the title is correct, Democrats and diffe...</td>\n",
       "      <td>0</td>\n",
       "      <td>0</td>\n",
       "      <td>NaN</td>\n",
       "    </tr>\n",
       "    <tr>\n",
       "      <th>4</th>\n",
       "      <td>MSNBC</td>\n",
       "      <td>Ugyb1T0QLfC09sTmumZ4AaABAg</td>\n",
       "      <td>https://www.youtube.com/watch?v=llov1TBqnQ4&amp;lc...</td>\n",
       "      <td>1/6/2020 0:31</td>\n",
       "      <td>Marcel B.</td>\n",
       "      <td>You throw things up with Trump NOT by voting a...</td>\n",
       "      <td>You throw things up with Trump NOT by voting a...</td>\n",
       "      <td>0</td>\n",
       "      <td>0</td>\n",
       "      <td>NaN</td>\n",
       "    </tr>\n",
       "  </tbody>\n",
       "</table>\n",
       "</div>"
      ],
      "text/plain": [
       "  Producer                        guid  \\\n",
       "0    MSNBC  UgxQ2y-lYbB5Tkep8V14AaABAg   \n",
       "1    MSNBC  Ugx8DcWIY8ClLpyNWxF4AaABAg   \n",
       "2    MSNBC  UgwIDj3O6cWyqNQ-VdB4AaABAg   \n",
       "3    MSNBC  Ugy-5qhLNf42usKd1M54AaABAg   \n",
       "4    MSNBC  Ugyb1T0QLfC09sTmumZ4AaABAg   \n",
       "\n",
       "                                                link          pubdate  \\\n",
       "0  https://www.youtube.com/watch?v=llov1TBqnQ4&lc...  1/14/2020 14:13   \n",
       "1  https://www.youtube.com/watch?v=llov1TBqnQ4&lc...   1/6/2020 15:27   \n",
       "2  https://www.youtube.com/watch?v=llov1TBqnQ4&lc...    1/6/2020 8:54   \n",
       "3  https://www.youtube.com/watch?v=llov1TBqnQ4&lc...    1/6/2020 4:39   \n",
       "4  https://www.youtube.com/watch?v=llov1TBqnQ4&lc...    1/6/2020 0:31   \n",
       "\n",
       "            author                                              title  \\\n",
       "0   Bruce Molyneux        https://www.youtube.com/watch?v=DushIvQwmEM   \n",
       "1  Hybrid - Fahrer  Biden is for sure not \\'the guy\\'... Such bias...   \n",
       "2             marc  biden is the best to appeal to rust belt voter...   \n",
       "3  Conan Barbarian  Well the title is correct, Democrats and diffe...   \n",
       "4        Marcel B.  You throw things up with Trump NOT by voting a...   \n",
       "\n",
       "                                         description  likecount  replycount  \\\n",
       "0        https://www.youtube.com/watch?v=DushIvQwmEM          0           0   \n",
       "1  Biden is for sure not \\'the guy\\'... Such bias...          0           0   \n",
       "2  biden is the best to appeal to rust belt voter...          0           0   \n",
       "3  Well the title is correct, Democrats and diffe...          0           0   \n",
       "4  You throw things up with Trump NOT by voting a...          0           0   \n",
       "\n",
       "  isreplyto  \n",
       "0       NaN  \n",
       "1       NaN  \n",
       "2       NaN  \n",
       "3       NaN  \n",
       "4       NaN  "
      ]
     },
     "execution_count": 21,
     "metadata": {},
     "output_type": "execute_result"
    }
   ],
   "source": [
    "comments.head()"
   ]
  },
  {
   "cell_type": "code",
   "execution_count": 22,
   "metadata": {},
   "outputs": [],
   "source": [
    "import numpy as np"
   ]
  },
  {
   "cell_type": "code",
   "execution_count": null,
   "metadata": {},
   "outputs": [],
   "source": []
  },
  {
   "cell_type": "code",
   "execution_count": 57,
   "metadata": {},
   "outputs": [
    {
     "name": "stdout",
     "output_type": "stream",
     "text": [
      "MSNBC\n",
      "Dan\n",
      "0\n",
      "Fox News\n",
      "2740\n"
     ]
    }
   ],
   "source": [
    "print(comments.Producer[np.argmax(comments.description.str.len())])\n",
    "print(comments.author[np.argmax(comments.description.str.len())])\n",
    "print(comments.likecount[np.argmax(comments.description.str.len())])\n",
    "\n",
    "print(comments.Producer[np.argmax(comments.likecount)])\n",
    "print(comments.likecount[np.argmax(comments.likecount)])"
   ]
  },
  {
   "cell_type": "code",
   "execution_count": 59,
   "metadata": {},
   "outputs": [
    {
     "name": "stdout",
     "output_type": "stream",
     "text": [
      "As incomplete [b/c Mueller failed to follow the MONEY which is what links Russian Oligarchy to DJT, specifically the unlawful money laundering] as the MUELLER INVESTIGATION was, it showed us these things: [1] MUELLER INVESTIGATION ACTUALLY MADE MONEY for the USA - NO COST TO TAXPAYERS: The Investigation more than paid for itself via fines, restitution  asset forfeiture. https://thinkprogress.org/at-a-reported-cost-of-25-million-mueller-probe-has-paid-for-itself-76fdcee15c9b/ [2] USA ELECTION WAS ATTACKED by Cambridge Analytica (\"CA\")  Russia [Internet Research Agency (\"IRA\")]: The investigation showed the USA was attacked by Cambridge Analytica (\"CA\") and Russia  Russian Organized Crime (Oligarchy) via the St. Petersburg, Russia based IRA. Even if you have not read the entire Redacted Mueller Report, just read paragraph #2 of the Introduction. The Investigation clearly concludes Russia attacked the 2016 USA Election. Here is the url to the Redacted Mueller Report.Â  https://www.documentcloud.org/documents/5955379-Redacted-Mueller-Report.html https://www.tremr.com/161kilnfarm/the-story-of-how-cambridge-analytica-helped-trump-steal-the-2016-election Links explaining Russian Election Theft https://www.politico.com/story/2019/04/18/mueller-report-russian-election-plot-1365568 https://www.newyorker.com/magazine/2018/10/01/how-russia-helped-to-swing-the-election-for-trump https://www.wired.com/story/did-russia-affect-the-2016-election-its-now-undeniable/ https://www.cfr.org/backgrounder/russia-trump-and-2016-us-election https://time.com/5565991/russia-influence-2016-election/ https://www.usatoday.com/story/news/2018/08/03/russian-us-election-interference-donald-trump/878910002/ https://www.nbcnews.com/politics/politics-news/information-warfare-how-russians-interfered-2016-election-n848746 https://www.wsj.com/articles/putin-has-won-mueller-report-details-the-ways-russia-interfered-in-the-2016-election-11555666201 https://www.nytimes.com/interactive/2018/09/20/us/politics/russia-interference-election-trump-clinton.html https://www.nytimes.com/interactive/2018/09/20/us/politics/russia-trump-election-timeline.html https://www.pbs.org/newshour/show/why-this-author-says-its-highly-probable-russian-interference-swung-the-2016-election https://www.washingtonpost.com/politics/2019/04/19/actually-mueller-report-showed-that-russia-did-affect-vote/ https://www.washingtonpost.com/opinions/the-sad-truth-about-russian-election-interference-is-that-we-knew-about-it-before-election-day/2018/12/09/0d13d30c-fb06-11e8-8d64-4e79db33382f_story.html https://www.hsdl.org/?abstractdid=824221 https://www.usatoday.com/story/news/politics/2019/04/22/mueller-report-what-know-russian-election-interference/ [A] Cambridge Analytica: CA  the UK-BREXIT ATTACK: And, it wasn\\'t just the USA that CA went after... CA manipulated the UK BREXIT vote! https://youtu.be/cy-9iciNF1A So, now you are wondering, who is CA? Billionaire Robert Mercer (the $$$ behind the Kleptocrat-in-Chief) and Steve Bannon (yup, one and the same!)were the founder/brain of CA! Check out this January 2020 article detailing the nefarious operations of CA. https://www.theguardian.com/uk-news/2020/jan/04/cambridge-analytica-data-leak-global-election-manipulation [B] EDUCATE YOURSELF Be an educated citizen/voter. Don\\'t be swayed by simple tropes being spread by uneducated followers, non-thinkers and haters. Learn the facts about TRE45ON. The LYING-LIAR-IN-CHIEF is a CRIMINAL: Not just in your head, but in your heart, you know TRE45ON isn\\'t JUST a VERY bad businessman (the king of bankruptcy), you actually know he is a criminal con-artist. Laundering Russian Oligarchy money is his bread  butter - his kids have explained that Russia funds their ventures! [C] PSYCHOMETRIC WARFARE  HATE-FEAR: It is easy to be swayed by hate/fear (Nazi Germany). It takes true character, guts, determination and smarts to become educated. If you are still reading...Â  [D] FOREIGN AFFAIRS: IRAQ: Did you forget that George Bush lied us into the Iraq War? How many lives were lost and/or ruined by the Iraq War? And how many billions of our tax dollars were wasted? [E] TAX POLICY: AND, WHAT ABOUT TAX POLICY: The Repugnant Republican\\'ts [DJT, Bush  Reagan] tax cuts benefit the rich, not the middle class and poor. The USA debt and deficit skyrocketed with all of the Republican presidents since 1980â¦ [F] DEBT: And, The SOCIOPATH-IN-CHIEF, is running up the debt faster than any previous Administration! Republicans are NOT the party of fiscal responsibility! REPUGNANTS are the Party of the 1%. [G] PARTY SYSTEM HIJACKED BY EXTREMIST: I am no fan of either party, but the Dems have, in the past, proven themselves to be the better party when it comes to fiscal responsibility. With all sarcasm that can be expressed, how are you enjoying the better health care system that was promised by TRE45ON? [H] PROMISES NOT KEPT: What a crock to claim the CHEATER-IN-CHIEF keeps his campaign promises: Here are a couple of links, one to read and one to watch: https://www.vox.com/2018/10/18/17990626/trump-promises-made-promises-broken https://www.youtube.com/watch?v=RZD_xyAjC-E [I] MORE REPUGNANT FOREIGN POLICY CRIMES  TRE45ON: Regarding treason, Nixon did the worst Presidential treason in 1968 (links to news articles about the treason involving the war in Vietnam): https://www.nytimes.com/2017/01/02/us/politics/nixon-tried-to-spoil-johnsons-vietnam-peace-talks-in-68-notes-show.html https://www.smithsonianmag.com/smart-news/notes-indicate-nixon-interfered-1968-peace-talks-180961627/ As a private citizen, Nixon treasonously (VIOLATED THE LOGAN ACT - it is illegal for a private citizen to conduct USA diplomacy-foreign policy) conducted USA diplomacy-foreign policy. His political organization contacted S. Vietnam government officials and Nixon persuaded S. Vietnam NOT to sign a peace treaty during Johnson\\'s Presidency. The treason wasn\\'t just doing diplomacy-foreign policy as a private citizen, this contact prolonged the War - which resulted in more death and maiming. Nixon falsely claimed S. Vietnam would get a better peace deal with Nixon as President. So, no peace treaty during Johnson\\'s term which made the Democrats look bad because they could not end the war. Thus, Nixon was first elected President in 1968 as a TRE450NOUS TRAITOR. How many more people lost their lives and how many more were disabled by the failure to end the war during Johnson\\'s Term? [J] WATERGATE: Then, do you remember the 1972 Election  Watergate? Do you think you actually know what Watergate was about? Watergate was ALL ABOUT Nixon doing crimes - Treason again - to stay in power and win in 1972. The Convicted DNC HQ Watergate Burglars were REPLACING listening devices which means they previously broke into the DNC HQ, when they initially installed the listening-recording devices! Nixon feared Edmund Muskie as the potential Democrat Presidential Candidate. Nixon wanted to face McGovern, not Muskie. The fear was so great that Nixon had his criminal dirty tricksters sabotage Muskie\\'s Democraric primary campaign through numerous criminal acts - ALL involving lies and deception. One of the bigger crimes that ended Muskie\\'s Campaign was the Canuck Letter. Remember the Canuck Letter? Nixon Aide, Ken Clawson. (he has admitted to writing the Canuck Letter!) authored the Canuck letter which was designed to paint Muskie as a racist! https://www.washingtonpost.com/wp-srv/national/longterm/watergate/articles/101072-1.htm [K] MORE OF THE SAME: The Kleptocon-artist-in-chief, along with Russian Organized Crime (Oligarchs) just followed the Nixon Playbook on how to criminally steal a USA Presidential Election. Just to tease your curiosity, do some investigation into Roger Stone\\'s connections to both Nixon  Trea45on. You might be stunned if you have not been connecting the data points. [L] EASY USUALLY MEANS FAKE: If something sounds like an easy answer to a complex problem, you can probably presume the truth is not so easy to discern. REAL PATRIOTS NOT FAKETRIOTS: Be a patriot to the USA. Do your homework! And remember, it was George Washington who warned us about Party Politics in his Farewell Address - Party(s) can be hijacked by extremists! [M] PEACE IN OUR TIME: Much of the real enemies of democracy are hate, war, military-industrial complex (Eisenhower warned us about the M/I Complex, right?), ignorance, looking for easy answers, not accepting the fact that corporations have no regard for the little guy - by law, corporations must first answer to their shareholders! [N] ELECTORAL COLLEGE: Remember how CNN screwed us all in 2016 by banning candidate Prof Lessig from the debates? If you are still reading, here is a clip of Harvard Professor Lawrence Lessig explaining why the Electoral College is not working as envisioned by the Founders: https://www.youtube.com/watch?v=76_qOYaOPkIapp=desktop [O] GERRYMANDERING: After watching Lessig, read, or listen to, David Daley\\'s book [Ratf#%ked) on Gerrymandering. https://www.realchangenews.org/2017/12/20/book-review-ratfked-why-your-vote-doesnt-count [P] BOOKS  DOCUMENTARIES: 1) Watch, \"THE GREAT HACK\" on NETFLIX. 2) Read, \"Dark Money\" by Jane Mayer. 3) Watch, \"THE BEST DEMOCRACY MONEY CAN BUY. Greg Palast film - Amazon. 4) Read, \"RATF**KED\" by David Daley. 5) Read, \"One Nation Under God\" by Prof Kevin Kruse. 6) Read, \"The Shock Doctrine\" by Naomi Klein. 7) Read, \"On Fire\" by Naomi Klein. 8) Read, \"HOUSE OF TRUMP HOUSE OF PUTIN\" by Craig Unger. 9) Read, \"House of Bush House oe Saud\" by Craig Unger. [Q] REPRESENTATIVE DEMOCRACY: Visit FAIRVOTE.ORG End.\n"
     ]
    }
   ],
   "source": [
    "print(comments.description[np.argmax(comments.description.str.len())])\n"
   ]
  },
  {
   "cell_type": "code",
   "execution_count": 60,
   "metadata": {},
   "outputs": [
    {
     "name": "stdout",
     "output_type": "stream",
     "text": [
      "Isnât it funny a socialist isnât âpaying her fair share?â\n"
     ]
    }
   ],
   "source": [
    "print(comments.description[np.argmax(comments.likecount)])"
   ]
  },
  {
   "cell_type": "markdown",
   "metadata": {},
   "source": [
    "### Chapter 5 Machine Learning\n",
    "\n",
    "1. feature -> column \n",
    "2. sample -> row\n",
    "\n",
    "### The Approach \n",
    "\n",
    "1. Choose a class of model by importing the appropriate estimator class from ScikitLearn.\n",
    "2. Choose model hyperparameters by instantiating this class with desired values.\n",
    "3. Arrange data into a features matrix and target vector following the discussion\n",
    "from before.\n",
    "4. Fit the model to your data by calling the fit() method of the model instance.\n",
    "5. Apply the model to new data:\n",
    "\n",
    "• For supervised learning, often we predict labels for unknown data using the\n",
    "predict() method.\n",
    "\n",
    "• For unsupervised learning, we often transform or infer properties of the data\n",
    "using the transform() or predict() method."
   ]
  },
  {
   "cell_type": "code",
   "execution_count": 19,
   "metadata": {},
   "outputs": [],
   "source": [
    "import matplotlib.pyplot as plt \n",
    "import numpy as np "
   ]
  },
  {
   "cell_type": "code",
   "execution_count": 20,
   "metadata": {},
   "outputs": [
    {
     "data": {
      "text/plain": [
       "array([3.74540119, 9.50714306, 7.31993942, 5.98658484, 1.5601864 ,\n",
       "       1.5599452 , 0.58083612, 8.66176146, 6.01115012, 7.08072578,\n",
       "       0.20584494, 9.69909852, 8.32442641, 2.12339111, 1.81824967,\n",
       "       1.8340451 , 3.04242243, 5.24756432, 4.31945019, 2.9122914 ,\n",
       "       6.11852895, 1.39493861, 2.92144649, 3.66361843, 4.56069984,\n",
       "       7.85175961, 1.99673782, 5.14234438, 5.92414569, 0.46450413,\n",
       "       6.07544852, 1.70524124, 0.65051593, 9.48885537, 9.65632033,\n",
       "       8.08397348, 3.04613769, 0.97672114, 6.84233027, 4.40152494,\n",
       "       1.22038235, 4.9517691 , 0.34388521, 9.09320402, 2.58779982,\n",
       "       6.62522284, 3.11711076, 5.20068021, 5.46710279, 1.84854456])"
      ]
     },
     "execution_count": 20,
     "metadata": {},
     "output_type": "execute_result"
    }
   ],
   "source": [
    "10*(np.random.RandomState(42).rand(50))"
   ]
  },
  {
   "cell_type": "code",
   "execution_count": 4,
   "metadata": {},
   "outputs": [],
   "source": [
    "X = comments['replycount'].values\n",
    "y = comments['likecount'].values\n",
    "#plt.scatter(X,y)"
   ]
  },
  {
   "cell_type": "code",
   "execution_count": 7,
   "metadata": {},
   "outputs": [],
   "source": [
    "from sklearn.linear_model import LinearRegression"
   ]
  },
  {
   "cell_type": "code",
   "execution_count": 8,
   "metadata": {},
   "outputs": [],
   "source": [
    "import statsmodels.api as sm\n",
    "import statsmodels.formula.api as smf"
   ]
  },
  {
   "cell_type": "code",
   "execution_count": 10,
   "metadata": {},
   "outputs": [],
   "source": [
    "dat = comments[['replycount','likecount']].values\n",
    "df =pd.DataFrame(data=dat, columns = [\"replycount\",'likecount'])"
   ]
  },
  {
   "cell_type": "code",
   "execution_count": 11,
   "metadata": {},
   "outputs": [],
   "source": [
    "model = smf.ols('likecount~replycount',data=df).fit()"
   ]
  },
  {
   "cell_type": "code",
   "execution_count": 12,
   "metadata": {},
   "outputs": [
    {
     "name": "stdout",
     "output_type": "stream",
     "text": [
      "                            OLS Regression Results                            \n",
      "==============================================================================\n",
      "Dep. Variable:              likecount   R-squared:                       0.585\n",
      "Model:                            OLS   Adj. R-squared:                  0.585\n",
      "Method:                 Least Squares   F-statistic:                 2.903e+05\n",
      "Date:                Fri, 27 Mar 2020   Prob (F-statistic):               0.00\n",
      "Time:                        15:16:26   Log-Likelihood:            -8.8972e+05\n",
      "No. Observations:              205773   AIC:                         1.779e+06\n",
      "Df Residuals:                  205771   BIC:                         1.779e+06\n",
      "Df Model:                           1                                         \n",
      "Covariance Type:            nonrobust                                         \n",
      "==============================================================================\n",
      "                 coef    std err          t      P>|t|      [0.025      0.975]\n",
      "------------------------------------------------------------------------------\n",
      "Intercept      1.2933      0.041     31.859      0.000       1.214       1.373\n",
      "replycount     5.3217      0.010    538.838      0.000       5.302       5.341\n",
      "==============================================================================\n",
      "Omnibus:                   489217.099   Durbin-Watson:                   1.958\n",
      "Prob(Omnibus):                  0.000   Jarque-Bera (JB):      26256585023.383\n",
      "Skew:                          23.530   Prob(JB):                         0.00\n",
      "Kurtosis:                    1752.337   Cond. No.                         4.15\n",
      "==============================================================================\n",
      "\n",
      "Warnings:\n",
      "[1] Standard Errors assume that the covariance matrix of the errors is correctly specified.\n"
     ]
    }
   ],
   "source": [
    "print(model.summary()) #for each additional reply to a comment a user can expect to see \n",
    "#and average likecount increase by 5.32 likes "
   ]
  },
  {
   "cell_type": "code",
   "execution_count": 43,
   "metadata": {},
   "outputs": [],
   "source": [
    "model = LinearRegression(fit_intercept=True)"
   ]
  },
  {
   "cell_type": "code",
   "execution_count": 14,
   "metadata": {},
   "outputs": [
    {
     "data": {
      "text/plain": [
       "276"
      ]
     },
     "execution_count": 14,
     "metadata": {},
     "output_type": "execute_result"
    }
   ],
   "source": [
    "X = X.reshape(-1,1)\n",
    "y = y.reshape(-1,1)\n",
    "comments[\"replycount\"].max()"
   ]
  },
  {
   "cell_type": "code",
   "execution_count": 15,
   "metadata": {},
   "outputs": [
    {
     "data": {
      "text/plain": [
       "LinearRegression(copy_X=True, fit_intercept=True, n_jobs=None, normalize=False)"
      ]
     },
     "execution_count": 15,
     "metadata": {},
     "output_type": "execute_result"
    }
   ],
   "source": [
    "model.fit(X,y)"
   ]
  },
  {
   "cell_type": "code",
   "execution_count": 16,
   "metadata": {},
   "outputs": [
    {
     "name": "stdout",
     "output_type": "stream",
     "text": [
      "[[5.32165169]]\n",
      "[1.29331829]\n"
     ]
    }
   ],
   "source": [
    "print(model.coef_)\n",
    "print(model.intercept_)"
   ]
  },
  {
   "cell_type": "code",
   "execution_count": 17,
   "metadata": {},
   "outputs": [],
   "source": [
    "xfit = np.linspace(-1,276, num = 205773 )\n",
    "Xfit = xfit[:,np.newaxis]\n",
    "model.fit(X,y)\n",
    "yfit=model.predict(Xfit)"
   ]
  },
  {
   "cell_type": "code",
   "execution_count": 23,
   "metadata": {},
   "outputs": [
    {
     "data": {
      "text/plain": [
       "<matplotlib.collections.PathCollection at 0x1a7a55c0208>"
      ]
     },
     "execution_count": 23,
     "metadata": {},
     "output_type": "execute_result"
    },
    {
     "data": {
      "image/png": "[encoded data removed]",
      "text/plain": [
       "<Figure size 432x288 with 1 Axes>"
      ]
     },
     "metadata": {
      "needs_background": "light"
     },
     "output_type": "display_data"
    }
   ],
   "source": [
    "plt.scatter(y,X)\n",
    "plt.scatter(yfit,Xfit)"
   ]
  },
  {
   "cell_type": "code",
   "execution_count": 117,
   "metadata": {},
   "outputs": [],
   "source": [
    "from sklearn.model_selection import train_test_split\n",
    "from sklearn.naive_bayes import GaussianNB \n",
    "Xtrain, Xtest, ytrain, ytest = train_test_split(X, y,random_state=1)"
   ]
  },
  {
   "cell_type": "markdown",
   "metadata": {},
   "source": [
    "### Individual Regressions for Fox & MSNBC"
   ]
  },
  {
   "cell_type": "code",
   "execution_count": 32,
   "metadata": {},
   "outputs": [],
   "source": [
    "foxnews = comments[101379:]\n",
    "msnbc = comments[:101379]"
   ]
  },
  {
   "cell_type": "code",
   "execution_count": 36,
   "metadata": {},
   "outputs": [],
   "source": [
    "dat_fox = foxnews[['replycount','likecount']].values\n",
    "df_fox =pd.DataFrame(data=dat_fox, columns = [\"replycount\",'likecount'])\n",
    "\n",
    "dat_msnbc = msnbc[['replycount','likecount']].values\n",
    "df_msnbc =pd.DataFrame(data=dat_msnbc, columns = [\"replycount\",'likecount'])"
   ]
  },
  {
   "cell_type": "code",
   "execution_count": 37,
   "metadata": {},
   "outputs": [],
   "source": [
    "model_msnbc = smf.ols('likecount~replycount',data=df_msnbc).fit()\n",
    "model_fox = smf.ols('likecount~replycount',data=df_fox).fit()"
   ]
  },
  {
   "cell_type": "code",
   "execution_count": 38,
   "metadata": {},
   "outputs": [
    {
     "name": "stdout",
     "output_type": "stream",
     "text": [
      "                            OLS Regression Results                            \n",
      "==============================================================================\n",
      "Dep. Variable:              likecount   R-squared:                       0.559\n",
      "Model:                            OLS   Adj. R-squared:                  0.559\n",
      "Method:                 Least Squares   F-statistic:                 1.286e+05\n",
      "Date:                Fri, 27 Mar 2020   Prob (F-statistic):               0.00\n",
      "Time:                        15:28:05   Log-Likelihood:            -4.3570e+05\n",
      "No. Observations:              101379   AIC:                         8.714e+05\n",
      "Df Residuals:                  101377   BIC:                         8.714e+05\n",
      "Df Model:                           1                                         \n",
      "Covariance Type:            nonrobust                                         \n",
      "==============================================================================\n",
      "                 coef    std err          t      P>|t|      [0.025      0.975]\n",
      "------------------------------------------------------------------------------\n",
      "Intercept      1.2750      0.056     22.607      0.000       1.164       1.386\n",
      "replycount     4.8738      0.014    358.655      0.000       4.847       4.900\n",
      "==============================================================================\n",
      "Omnibus:                   267501.478   Durbin-Watson:                   1.949\n",
      "Prob(Omnibus):                  0.000   Jarque-Bera (JB):      29025706776.818\n",
      "Skew:                          30.672   Prob(JB):                         0.00\n",
      "Kurtosis:                    2623.620   Cond. No.                         4.19\n",
      "==============================================================================\n",
      "\n",
      "Warnings:\n",
      "[1] Standard Errors assume that the covariance matrix of the errors is correctly specified.\n"
     ]
    }
   ],
   "source": [
    "print(model_msnbc.summary())"
   ]
  },
  {
   "cell_type": "code",
   "execution_count": 39,
   "metadata": {},
   "outputs": [
    {
     "name": "stdout",
     "output_type": "stream",
     "text": [
      "                            OLS Regression Results                            \n",
      "==============================================================================\n",
      "Dep. Variable:              likecount   R-squared:                       0.613\n",
      "Model:                            OLS   Adj. R-squared:                  0.613\n",
      "Method:                 Least Squares   F-statistic:                 1.655e+05\n",
      "Date:                Fri, 27 Mar 2020   Prob (F-statistic):               0.00\n",
      "Time:                        15:28:14   Log-Likelihood:            -4.5287e+05\n",
      "No. Observations:              104394   AIC:                         9.057e+05\n",
      "Df Residuals:                  104392   BIC:                         9.058e+05\n",
      "Df Model:                           1                                         \n",
      "Covariance Type:            nonrobust                                         \n",
      "==============================================================================\n",
      "                 coef    std err          t      P>|t|      [0.025      0.975]\n",
      "------------------------------------------------------------------------------\n",
      "Intercept      1.3300      0.058     23.023      0.000       1.217       1.443\n",
      "replycount     5.7730      0.014    406.873      0.000       5.745       5.801\n",
      "==============================================================================\n",
      "Omnibus:                   214371.021   Durbin-Watson:                   1.966\n",
      "Prob(Omnibus):                  0.000   Jarque-Bera (JB):       4810847326.854\n",
      "Skew:                          16.529   Prob(JB):                         0.00\n",
      "Kurtosis:                    1054.148   Cond. No.                         4.11\n",
      "==============================================================================\n",
      "\n",
      "Warnings:\n",
      "[1] Standard Errors assume that the covariance matrix of the errors is correctly specified.\n"
     ]
    }
   ],
   "source": [
    "print(model_fox.summary())"
   ]
  },
  {
   "cell_type": "markdown",
   "metadata": {},
   "source": [
    "### Fox Plot"
   ]
  },
  {
   "cell_type": "code",
   "execution_count": 41,
   "metadata": {},
   "outputs": [],
   "source": [
    "Xfox = foxnews['replycount'].values\n",
    "yfox = foxnews['likecount'].values"
   ]
  },
  {
   "cell_type": "code",
   "execution_count": 42,
   "metadata": {},
   "outputs": [],
   "source": [
    "Xfox = Xfox.reshape(-1,1)\n",
    "yfox = yfox.reshape(-1,1)"
   ]
  },
  {
   "cell_type": "code",
   "execution_count": 47,
   "metadata": {},
   "outputs": [],
   "source": [
    "xfit = np.linspace(-1,276, num = 205773 )\n",
    "Xfit = xfit[:,np.newaxis]\n",
    "model.fit(Xfox,yfox)\n",
    "yfit=model.predict(Xfit)"
   ]
  },
  {
   "cell_type": "code",
   "execution_count": 48,
   "metadata": {},
   "outputs": [
    {
     "data": {
      "text/plain": [
       "<matplotlib.collections.PathCollection at 0x1a7a7b6e5c0>"
      ]
     },
     "execution_count": 48,
     "metadata": {},
     "output_type": "execute_result"
    },
    {
     "data": {
      "image/png": "[encoded data removed]",
      "text/plain": [
       "<Figure size 432x288 with 1 Axes>"
      ]
     },
     "metadata": {
      "needs_background": "light"
     },
     "output_type": "display_data"
    }
   ],
   "source": [
    "plt.scatter(yfox,Xfox)\n",
    "plt.scatter(yfit,Xfit)\n",
    "#estimated slope: 250 replies / 1500 likes (0.167) ie: one can expect a comment with 1 reply to have 6 likes "
   ]
  },
  {
   "cell_type": "markdown",
   "metadata": {},
   "source": [
    "### MSNBC Plot"
   ]
  },
  {
   "cell_type": "code",
   "execution_count": 50,
   "metadata": {},
   "outputs": [],
   "source": [
    "Xmsnbc = msnbc['replycount'].values\n",
    "ymsnbc = msnbc['likecount'].values\n",
    "\n",
    "Xmsnbc = Xmsnbc.reshape(-1,1)\n",
    "ymsnbc = ymsnbc.reshape(-1,1)"
   ]
  },
  {
   "cell_type": "code",
   "execution_count": 51,
   "metadata": {},
   "outputs": [],
   "source": [
    "xfit = np.linspace(-1,276, num = 205773 )\n",
    "Xfit = xfit[:,np.newaxis]\n",
    "model.fit(Xmsnbc,ymsnbc)\n",
    "yfit=model.predict(Xfit)"
   ]
  },
  {
   "cell_type": "code",
   "execution_count": 52,
   "metadata": {},
   "outputs": [
    {
     "data": {
      "text/plain": [
       "<matplotlib.collections.PathCollection at 0x1a7a72eb710>"
      ]
     },
     "execution_count": 52,
     "metadata": {},
     "output_type": "execute_result"
    },
    {
     "data": {
      "image/png": "[encoded data removed]",
      "text/plain": [
       "<Figure size 432x288 with 1 Axes>"
      ]
     },
     "metadata": {
      "needs_background": "light"
     },
     "output_type": "display_data"
    }
   ],
   "source": [
    "plt.scatter(ymsnbc,Xmsnbc)\n",
    "plt.scatter(yfit,Xfit)\n",
    "\n",
    "#rough slope, 2 replies/10 likes (0.2) ie: one can expect a commet with one reply to have 5 likes "
   ]
  },
  {
   "cell_type": "markdown",
   "metadata": {},
   "source": [
    "### A Classification model?"
   ]
  },
  {
   "cell_type": "code",
   "execution_count": 167,
   "metadata": {},
   "outputs": [],
   "source": [
    "model = GaussianNB()"
   ]
  },
  {
   "cell_type": "code",
   "execution_count": 168,
   "metadata": {},
   "outputs": [
    {
     "name": "stderr",
     "output_type": "stream",
     "text": [
      "D:\\Anaconda3\\lib\\site-packages\\sklearn\\utils\\validation.py:724: DataConversionWarning: A column-vector y was passed when a 1d array was expected. Please change the shape of y to (n_samples, ), for example using ravel().\n",
      "  y = column_or_1d(y, warn=True)\n"
     ]
    },
    {
     "data": {
      "text/plain": [
       "GaussianNB(priors=None, var_smoothing=1e-09)"
      ]
     },
     "execution_count": 168,
     "metadata": {},
     "output_type": "execute_result"
    }
   ],
   "source": [
    "Xtrain, Xtest, ytrain, ytest = train_test_split(X, y,random_state=1)\n",
    "model.fit(Xtrain, ytrain)"
   ]
  },
  {
   "cell_type": "code",
   "execution_count": 169,
   "metadata": {},
   "outputs": [],
   "source": [
    "y_model=model.predict(Xtest)"
   ]
  },
  {
   "cell_type": "code",
   "execution_count": 124,
   "metadata": {},
   "outputs": [],
   "source": [
    "from sklearn.metrics import accuracy_score\n"
   ]
  },
  {
   "cell_type": "code",
   "execution_count": 170,
   "metadata": {},
   "outputs": [
    {
     "data": {
      "text/plain": [
       "0.5677046885934219"
      ]
     },
     "execution_count": 170,
     "metadata": {},
     "output_type": "execute_result"
    }
   ],
   "source": [
    "accuracy_score(ytest,y_model) #roughly the same as R^2 from OLS"
   ]
  },
  {
   "cell_type": "code",
   "execution_count": 185,
   "metadata": {},
   "outputs": [
    {
     "data": {
      "text/plain": [
       "<seaborn.axisgrid.FacetGrid at 0x1a98d604240>"
      ]
     },
     "execution_count": 185,
     "metadata": {},
     "output_type": "execute_result"
    },
    {
     "data": {
      "image/png": "[encoded data removed]",
      "text/plain": [
       "<Figure size 443.75x360 with 1 Axes>"
      ]
     },
     "metadata": {
      "needs_background": "light"
     },
     "output_type": "display_data"
    }
   ],
   "source": [
    "sns.lmplot(\"likecount\",'replycount',hue=\"Producer\", data = comments, fit_reg=True)"
   ]
  },
  {
   "cell_type": "code",
   "execution_count": 31,
   "metadata": {},
   "outputs": [],
   "source": [
    "from sklearn.model_selection import train_test_split\n",
    "from sklearn.naive_bayes import GaussianNB \n",
    "X = comments.sample(n= 500)\n",
    "y = comments.sample(n=500)\n",
    "#Xtrain, Xtest, ytrain, ytest = train_test_split(X, y,random_state=1)"
   ]
  },
  {
   "cell_type": "markdown",
   "metadata": {},
   "source": [
    "### Classifier "
   ]
  },
  {
   "cell_type": "code",
   "execution_count": 366,
   "metadata": {},
   "outputs": [],
   "source": [
    "train = comments.sample(n= 50000)\n",
    "test = comments.sample(n=50000)"
   ]
  },
  {
   "cell_type": "code",
   "execution_count": 155,
   "metadata": {},
   "outputs": [],
   "source": [
    "categories = {1:\"MSNBC\",2:\"Fox News\"}\n",
    "categories = [\"MSNBC\",\"Fox News\"]"
   ]
  },
  {
   "cell_type": "code",
   "execution_count": 201,
   "metadata": {},
   "outputs": [],
   "source": [
    "tr_prod=list(train.Producer)\n",
    "tr_desc=list(train.description)\n",
    "ts_desc=list(test.description)\n",
    "ts_prod=list(test.Producer)\n"
   ]
  },
  {
   "cell_type": "code",
   "execution_count": 149,
   "metadata": {},
   "outputs": [],
   "source": [
    "import seaborn as sns\n",
    "from sklearn.feature_extraction.text import TfidfVectorizer\n",
    "from sklearn.naive_bayes import MultinomialNB\n",
    "from sklearn.pipeline import make_pipeline"
   ]
  },
  {
   "cell_type": "code",
   "execution_count": 36,
   "metadata": {},
   "outputs": [],
   "source": [
    "model = make_pipeline(TfidfVectorizer(),MultinomialNB())"
   ]
  },
  {
   "cell_type": "code",
   "execution_count": 65,
   "metadata": {},
   "outputs": [],
   "source": [
    "model.fit(tr_desc, tr_prod)\n",
    "labels = model.predict(ts_desc)"
   ]
  },
  {
   "cell_type": "code",
   "execution_count": 146,
   "metadata": {},
   "outputs": [],
   "source": []
  },
  {
   "cell_type": "code",
   "execution_count": 66,
   "metadata": {},
   "outputs": [
    {
     "data": {
      "text/plain": [
       "Text(91.68, 0.5, 'predicted label')"
      ]
     },
     "execution_count": 66,
     "metadata": {},
     "output_type": "execute_result"
    },
    {
     "data": {
      "image/png": "[encoded data removed]",
      "text/plain": [
       "<Figure size 432x288 with 1 Axes>"
      ]
     },
     "metadata": {
      "needs_background": "light"
     },
     "output_type": "display_data"
    }
   ],
   "source": [
    "from sklearn.metrics import confusion_matrix\n",
    "mat = confusion_matrix(test.Producer,labels)\n",
    "sns.heatmap(mat.T, square=True, annot=True, fmt=\"d\", cbar=False, xticklabels=categories,yticklabels=categories)\n",
    "plt.xlabel(\"true label\")\n",
    "plt.ylabel('predicted label') "
   ]
  },
  {
   "cell_type": "code",
   "execution_count": 83,
   "metadata": {},
   "outputs": [],
   "source": [
    "def predict_category(s, train=train, model=model):\n",
    "    pred = model.predict([s])\n",
    "    print(pred[0])\n",
    "   "
   ]
  },
  {
   "cell_type": "code",
   "execution_count": 86,
   "metadata": {},
   "outputs": [
    {
     "name": "stdout",
     "output_type": "stream",
     "text": [
      "MSNBC\n"
     ]
    }
   ],
   "source": [
    "predict_category(\"Two jobs, make ends meet blah blah blah. Their portfolios must be brimming with all the gains in the stock markets! Too much winning and too much whining!\")"
   ]
  },
  {
   "cell_type": "code",
   "execution_count": 94,
   "metadata": {},
   "outputs": [
    {
     "name": "stdout",
     "output_type": "stream",
     "text": [
      "Fox News\n"
     ]
    }
   ],
   "source": [
    "predict_category(\"You were the District Attorney for Westchester County! You were never a judge! Btw, tell Al King says hello. Are yâ\\x80\\x99all still together?\")"
   ]
  },
  {
   "cell_type": "code",
   "execution_count": 10,
   "metadata": {},
   "outputs": [
    {
     "data": {
      "text/plain": [
       "'You were the District Attorney for Westchester County! You were never a judge! Btw, tell Al King says hello. Are yâ\\x80\\x99all still together?'"
      ]
     },
     "execution_count": 10,
     "metadata": {},
     "output_type": "execute_result"
    }
   ],
   "source": [
    "comments.description[200000]\n"
   ]
  },
  {
   "cell_type": "code",
   "execution_count": 55,
   "metadata": {},
   "outputs": [],
   "source": [
    "from sklearn.feature_extraction.text import CountVectorizer\n",
    "from sklearn.feature_extraction.text import ENGLISH_STOP_WORDS"
   ]
  },
  {
   "cell_type": "code",
   "execution_count": null,
   "metadata": {},
   "outputs": [],
   "source": []
  },
  {
   "cell_type": "code",
   "execution_count": 23,
   "metadata": {},
   "outputs": [],
   "source": [
    "cmls = comments.description.dropna().tolist()\n"
   ]
  },
  {
   "cell_type": "code",
   "execution_count": null,
   "metadata": {},
   "outputs": [],
   "source": [
    "\n"
   ]
  },
  {
   "cell_type": "code",
   "execution_count": 142,
   "metadata": {},
   "outputs": [],
   "source": [
    "vect = CountVectorizer(stop_words='english').fit(tr_desc)"
   ]
  },
  {
   "cell_type": "code",
   "execution_count": 143,
   "metadata": {},
   "outputs": [],
   "source": [
    "X_train= vect.transform(tr_desc)\n",
    "#bag_of_words"
   ]
  },
  {
   "cell_type": "code",
   "execution_count": 71,
   "metadata": {},
   "outputs": [],
   "source": [
    "from sklearn.model_selection import GridSearchCV\n",
    "from sklearn.linear_model import LogisticRegression"
   ]
  },
  {
   "cell_type": "code",
   "execution_count": 144,
   "metadata": {},
   "outputs": [
    {
     "name": "stderr",
     "output_type": "stream",
     "text": [
      "D:\\Anaconda3\\lib\\site-packages\\sklearn\\linear_model\\logistic.py:432: FutureWarning: Default solver will be changed to 'lbfgs' in 0.22. Specify a solver to silence this warning.\n",
      "  FutureWarning)\n"
     ]
    },
    {
     "name": "stdout",
     "output_type": "stream",
     "text": [
      "Best cross-validation score: 0.69\n"
     ]
    }
   ],
   "source": [
    "param_grid = {'C': [0.001, 0.01, 0.1, 1, 10]}\n",
    "grid = GridSearchCV(LogisticRegression(), param_grid, cv=5)\n",
    "grid.fit(X_train, tr_prod)\n",
    "print(\"Best cross-validation score: {:.2f}\".format(grid.best_score_))"
   ]
  },
  {
   "cell_type": "code",
   "execution_count": 145,
   "metadata": {},
   "outputs": [
    {
     "name": "stderr",
     "output_type": "stream",
     "text": [
      "D:\\Anaconda3\\lib\\site-packages\\sklearn\\linear_model\\logistic.py:432: FutureWarning: Default solver will be changed to 'lbfgs' in 0.22. Specify a solver to silence this warning.\n",
      "  FutureWarning)\n"
     ]
    },
    {
     "name": "stdout",
     "output_type": "stream",
     "text": [
      "Best cross-validation score: 0.69\n"
     ]
    }
   ],
   "source": [
    "from sklearn.feature_extraction.text import TfidfVectorizer\n",
    "from sklearn.pipeline import make_pipeline\n",
    "\n",
    "pipe = make_pipeline(TfidfVectorizer(min_df=5, norm=None),\n",
    "LogisticRegression())\n",
    "\n",
    "param_grid = {'logisticregression__C': [0.001, 0.01, 0.1, 1, 10]}\n",
    "\n",
    "grid = GridSearchCV(pipe, param_grid, cv=5)\n",
    "grid.fit(tr_desc, tr_prod)\n",
    "print(\"Best cross-validation score: {:.2f}\".format(grid.best_score_))"
   ]
  },
  {
   "cell_type": "code",
   "execution_count": 147,
   "metadata": {},
   "outputs": [],
   "source": [
    "labels = grid.predict(ts_desc)"
   ]
  },
  {
   "cell_type": "code",
   "execution_count": 156,
   "metadata": {},
   "outputs": [
    {
     "data": {
      "text/plain": [
       "Text(91.68, 0.5, 'predicted label')"
      ]
     },
     "execution_count": 156,
     "metadata": {},
     "output_type": "execute_result"
    },
    {
     "data": {
      "image/png": "[encoded data removed]",
      "text/plain": [
       "<Figure size 432x288 with 1 Axes>"
      ]
     },
     "metadata": {
      "needs_background": "light"
     },
     "output_type": "display_data"
    }
   ],
   "source": [
    "mat = confusion_matrix(test.Producer,labels)\n",
    "sns.heatmap(mat.T, square=True, annot=True, fmt=\"d\", cbar=False, xticklabels=categories,yticklabels=categories)\n",
    "plt.xlabel(\"true label\")\n",
    "plt.ylabel('predicted label') "
   ]
  },
  {
   "cell_type": "code",
   "execution_count": null,
   "metadata": {},
   "outputs": [],
   "source": [
    "#assign label based on comments content \n",
    "#classiy to labels \n",
    "#only work with influence data "
   ]
  },
  {
   "cell_type": "markdown",
   "metadata": {},
   "source": [
    "### Attempt to Construct By Hand"
   ]
  },
  {
   "cell_type": "code",
   "execution_count": 24,
   "metadata": {},
   "outputs": [],
   "source": [
    "from nltk.cluster import KMeansClusterer\n",
    "from sklearn.base import BaseEstimator, TransformerMixin\n",
    "\n",
    "class KMeansClusters(BaseEstimator, TransformerMixin):\n",
    "\n",
    "    def __init__(self, k=7):\n",
    "        \"\"\"\n",
    "        k is the number of clusters\n",
    "        model is the implementation of Kmeans\n",
    "        \"\"\"\n",
    "        self.k = k\n",
    "        self.distance = nltk.cluster.util.cosine_distance\n",
    "        self.model = KMeansClusterer(self.k, self.distance,\n",
    "                                     avoid_empty_clusters=True)\n",
    "    \n",
    "    def fit(self, documents, labels=None):\n",
    "        return self\n",
    "\n",
    "    def transform(self, documents):\n",
    "        \"\"\"\n",
    "        Fits the K-Means model to one-hot vectorized documents.\n",
    "        \"\"\"\n",
    "        return self.model.cluster(documents, assign_clusters=True)"
   ]
  },
  {
   "cell_type": "code",
   "execution_count": 25,
   "metadata": {},
   "outputs": [],
   "source": [
    "import os\n",
    "from gensim.corpora import Dictionary\n",
    "from gensim.matutils import sparse2full"
   ]
  },
  {
   "cell_type": "code",
   "execution_count": 26,
   "metadata": {},
   "outputs": [],
   "source": [
    "class GensimVectorizer(BaseEstimator, TransformerMixin):\n",
    "    \n",
    "    def __init__(self, path=\"program\"):\n",
    "        self.path = path\n",
    "        self.id2word = None\n",
    "        self.load()\n",
    "    \n",
    "    def load(self):\n",
    "        if os.path.exists(self.path):\n",
    "            self.id2word = Dictionary.load(self.path)\n",
    "    \n",
    "    def save(self):\n",
    "        self.id2word.save(self.path)\n",
    "        def fit(self, documents, labels=None):\n",
    "            self.id2word = Dictionary(documents)\n",
    "            self.save()\n",
    "            return self\n",
    "\n",
    "    def transform(self, documents):\n",
    "        for document in documents:\n",
    "            docvec = self.id2word.doc2bow(document)\n",
    "            yield sparse2full(docvec, len(self.id2word))"
   ]
  },
  {
   "cell_type": "code",
   "execution_count": 27,
   "metadata": {},
   "outputs": [],
   "source": [
    "import unicodedata\n",
    "from sklearn.base import BaseEstimator, TransformerMixin\n",
    "from nltk.corpus import wordnet"
   ]
  },
  {
   "cell_type": "code",
   "execution_count": 28,
   "metadata": {},
   "outputs": [],
   "source": [
    "class TextNormalizer(BaseEstimator, TransformerMixin):\n",
    "    \n",
    "    def __init__(self, language='english'):\n",
    "        self.stopwords = set(nltk.corpus.stopwords.words(language))\n",
    "        self.lemmatizer = nltk.stem.WordNetLemmatizer()\n",
    "    \n",
    "    def is_punct(self, token):\n",
    "        return all(\n",
    "            unicodedata.category(char).startswith('P') for char in token)\n",
    "    \n",
    "    def is_stopword(self, token):\n",
    "        return token.lower() in self.stopwords\n",
    "    \n",
    "    def normalize(self, document):\n",
    "        return [\n",
    "            self.lemmatize(token, tag).lower()\n",
    "            for paragraph in document\n",
    "            for sentence in paragraph\n",
    "            for (token, tag) in sentence\n",
    "            if not self.is_punct(token) and not self.is_stopword(token)\n",
    "]\n",
    "    def lemmatize(self, token, pos_tag):\n",
    "        tag = {\n",
    "            'N': wn.NOUN,\n",
    "            'V': wn.VERB,\n",
    "            'R': wn.ADV,\n",
    "            'J': wn.ADJ\n",
    "        }.get(pos_tag[0], wn.NOUN)\n",
    "        return self.lemmatizer.lemmatize(token, tag)\n",
    "    \n",
    "    def fit(self, X, y=None):\n",
    "        return self\n",
    "   \n",
    "    def transform(self, documents):\n",
    "        for document in documents:\n",
    "            yield self.normalize(document)\n",
    "    \n",
    "    "
   ]
  },
  {
   "cell_type": "code",
   "execution_count": 29,
   "metadata": {},
   "outputs": [],
   "source": [
    "import nltk\n",
    "from sklearn.pipeline import Pipeline\n",
    "from sklearn.naive_bayes import MultinomialNB\n",
    "model = Pipeline([\n",
    "    ('normalizer', TextNormalizer()),\n",
    "    ('vectorizer', GensimVectorizer()),\n",
    "    ('bayes', MultinomialNB()),\n",
    "])"
   ]
  },
  {
   "cell_type": "code",
   "execution_count": 183,
   "metadata": {},
   "outputs": [],
   "source": [
    "from sklearn.model_selection import GridSearchCV\n",
    "\n",
    "search = GridSearchCV(model, param_grid={\n",
    "'count__analyzer': ['word', 'char', 'char_wb'],\n",
    "'count__ngram_range': [(1,1), (1,2), (1,3), (1,4), (1,5), (2,3)],\n",
    "'onehot__threshold': [0.0, 1.0, 2.0, 3.0],\n",
    "'bayes__alpha': [0.0, 1.0],\n",
    "})"
   ]
  },
  {
   "cell_type": "markdown",
   "metadata": {},
   "source": [
    "### Tutorial (Document Clustering) \n",
    "http://brandonrose.org/clustering"
   ]
  },
  {
   "cell_type": "code",
   "execution_count": 30,
   "metadata": {},
   "outputs": [],
   "source": [
    "import numpy as np\n",
    "import pandas as pd\n",
    "import nltk\n",
    "import re\n",
    "import os\n",
    "import codecs\n",
    "from sklearn import feature_extraction\n",
    "import mpld3"
   ]
  },
  {
   "cell_type": "code",
   "execution_count": 31,
   "metadata": {},
   "outputs": [
    {
     "name": "stdout",
     "output_type": "stream",
     "text": [
      "['i', 'me', 'my', 'myself', 'we', 'our', 'ours', 'ourselves', 'you', \"you're\"]\n"
     ]
    }
   ],
   "source": [
    "stopwords = nltk.corpus.stopwords.words('english')\n",
    "print(stopwords[:10])"
   ]
  },
  {
   "cell_type": "code",
   "execution_count": 32,
   "metadata": {},
   "outputs": [],
   "source": [
    "from nltk.stem.snowball import SnowballStemmer\n",
    "stemmer = SnowballStemmer(\"english\")"
   ]
  },
  {
   "cell_type": "code",
   "execution_count": 33,
   "metadata": {},
   "outputs": [],
   "source": [
    "def tokenize_and_stem(text):\n",
    "    # first tokenize by sentence, then by word to ensure that punctuation is caught as it's own token\n",
    "    tokens = [word for sent in nltk.sent_tokenize(text) for word in nltk.word_tokenize(sent)]\n",
    "    filtered_tokens = []\n",
    "    # filter out any tokens not containing letters (e.g., numeric tokens, raw punctuation)\n",
    "    for token in tokens:\n",
    "        if re.search('[a-zA-Z]', token):\n",
    "            filtered_tokens.append(token)\n",
    "    stems = [stemmer.stem(t) for t in filtered_tokens]\n",
    "    return stems\n",
    "\n",
    "\n",
    "def tokenize_only(text):\n",
    "    # first tokenize by sentence, then by word to ensure that punctuation is caught as it's own token\n",
    "    tokens = [word.lower() for sent in nltk.sent_tokenize(text) for word in nltk.word_tokenize(sent)]\n",
    "    filtered_tokens = []\n",
    "    # filter out any tokens not containing letters (e.g., numeric tokens, raw punctuation)\n",
    "    for token in tokens:\n",
    "        if re.search('[a-zA-Z]', token):\n",
    "            filtered_tokens.append(token)\n",
    "    return filtered_tokens"
   ]
  },
  {
   "cell_type": "code",
   "execution_count": 34,
   "metadata": {},
   "outputs": [],
   "source": [
    "cmts = list(comments.sample(n= 100,random_state=1).description)\n",
    "titles = list(comments.sample(n=100,random_state=1).Producer)"
   ]
  },
  {
   "cell_type": "code",
   "execution_count": 3,
   "metadata": {},
   "outputs": [],
   "source": [
    "cmts = list(comments.description)[37347:37623]\n",
    "#cmts"
   ]
  },
  {
   "cell_type": "code",
   "execution_count": 35,
   "metadata": {},
   "outputs": [],
   "source": [
    "totalvocab_stemmed = []\n",
    "totalvocab_tokenized = []\n",
    "for i in cmts:\n",
    "    allwords_stemmed = tokenize_and_stem(i) #for each item in 'synopses', tokenize/stem\n",
    "    totalvocab_stemmed.extend(allwords_stemmed) #extend the 'totalvocab_stemmed' list\n",
    "    \n",
    "    allwords_tokenized = tokenize_only(i)\n",
    "    totalvocab_tokenized.extend(allwords_tokenized)"
   ]
  },
  {
   "cell_type": "code",
   "execution_count": 36,
   "metadata": {},
   "outputs": [
    {
     "name": "stdout",
     "output_type": "stream",
     "text": [
      "there are 1990 items in vocab_frame\n"
     ]
    }
   ],
   "source": [
    "vocab_frame = pd.DataFrame({'words': totalvocab_tokenized}, index = totalvocab_stemmed)\n",
    "\n",
    "print('there are '+ str(vocab_frame.shape[0]) + ' items in vocab_frame')\n",
    "\n"
   ]
  },
  {
   "cell_type": "code",
   "execution_count": 37,
   "metadata": {},
   "outputs": [
    {
     "name": "stdout",
     "output_type": "stream",
     "text": [
      "(100, 50)\n"
     ]
    }
   ],
   "source": [
    "from sklearn.feature_extraction.text import TfidfVectorizer\n",
    "\n",
    "#define vectorizer parameters\n",
    "tfidf_vectorizer = TfidfVectorizer(max_df=1, max_features=50,\n",
    "                                 stop_words='english',\n",
    "                                 use_idf=True, tokenizer=tokenize_and_stem, ngram_range=(1,3))\n",
    "\n",
    "tfidf_matrix = tfidf_vectorizer.fit_transform(cmts) #fit the vectorizer to synopses\n",
    "\n",
    "print(tfidf_matrix.shape)"
   ]
  },
  {
   "cell_type": "code",
   "execution_count": 38,
   "metadata": {},
   "outputs": [],
   "source": [
    "terms = tfidf_vectorizer.get_feature_names()"
   ]
  },
  {
   "cell_type": "code",
   "execution_count": 39,
   "metadata": {},
   "outputs": [
    {
     "name": "stdout",
     "output_type": "stream",
     "text": [
      "[[1. 1. 1. ... 1. 1. 1.]\n",
      " [1. 1. 1. ... 1. 1. 1.]\n",
      " [1. 1. 1. ... 1. 1. 1.]\n",
      " ...\n",
      " [1. 1. 1. ... 0. 1. 1.]\n",
      " [1. 1. 1. ... 1. 1. 1.]\n",
      " [1. 1. 1. ... 1. 1. 0.]]\n"
     ]
    }
   ],
   "source": [
    "from sklearn.metrics.pairwise import cosine_similarity\n",
    "dist = 1 - cosine_similarity(tfidf_matrix)\n",
    "print(dist)"
   ]
  },
  {
   "cell_type": "code",
   "execution_count": 40,
   "metadata": {},
   "outputs": [],
   "source": [
    "from sklearn.cluster import KMeans\n",
    "\n",
    "num_clusters = 5\n",
    "\n",
    "km = KMeans(n_clusters=num_clusters)\n",
    "\n",
    "km.fit(tfidf_matrix)\n",
    "\n",
    "clusters = km.labels_.tolist()"
   ]
  },
  {
   "cell_type": "code",
   "execution_count": 41,
   "metadata": {},
   "outputs": [],
   "source": [
    "from sklearn.externals import joblib\n",
    "\n",
    "#uncomment the below to save your model \n",
    "#since I've already run my model I am loading from the pickle\n",
    "\n",
    "joblib.dump(km,  'doc_cluster.pkl')\n",
    "\n",
    "km = joblib.load('doc_cluster.pkl')\n",
    "clusters = km.labels_.tolist()"
   ]
  },
  {
   "cell_type": "code",
   "execution_count": null,
   "metadata": {},
   "outputs": [],
   "source": []
  },
  {
   "cell_type": "code",
   "execution_count": 42,
   "metadata": {},
   "outputs": [],
   "source": [
    "yt = { 'title': titles, 'synopsis': cmts, 'cluster': clusters}\n",
    "frame = pd.DataFrame(yt, index = [clusters] , columns = ['title', 'cluster','synopsis'])"
   ]
  },
  {
   "cell_type": "code",
   "execution_count": 43,
   "metadata": {},
   "outputs": [
    {
     "data": {
      "text/plain": [
       "0    96\n",
       "4     1\n",
       "3     1\n",
       "2     1\n",
       "1     1\n",
       "Name: cluster, dtype: int64"
      ]
     },
     "execution_count": 43,
     "metadata": {},
     "output_type": "execute_result"
    }
   ],
   "source": [
    "frame['cluster'].value_counts()"
   ]
  },
  {
   "cell_type": "code",
   "execution_count": 45,
   "metadata": {},
   "outputs": [
    {
     "name": "stdout",
     "output_type": "stream",
     "text": [
      "Top terms per cluster:\n",
      "\n",
      "Cluster 0 words: b'impeachment', b'retired', b'honest', b'goverment', b'please', b'foundations',\n",
      "\n",
      "Cluster 0 titles: Fox News, MSNBC, Fox News, Fox News, Fox News, Fox News, MSNBC, Fox News, MSNBC, Fox News, Fox News, Fox News, Fox News, MSNBC, Fox News, MSNBC, Fox News, MSNBC, Fox News, MSNBC, Fox News, MSNBC, MSNBC, Fox News, MSNBC, MSNBC, Fox News, Fox News, MSNBC, Fox News, Fox News, MSNBC, Fox News, Fox News, MSNBC, Fox News, Fox News, MSNBC, Fox News, Fox News, Fox News, Fox News, Fox News, MSNBC, Fox News, Fox News, MSNBC, MSNBC, Fox News, MSNBC, Fox News, MSNBC, Fox News, MSNBC, Fox News, MSNBC, MSNBC, MSNBC, Fox News, MSNBC, Fox News, MSNBC, MSNBC, Fox News, MSNBC, MSNBC, Fox News, MSNBC, MSNBC, Fox News, Fox News, Fox News, Fox News, Fox News, Fox News, MSNBC, MSNBC, Fox News, MSNBC, MSNBC, Fox News, Fox News, MSNBC, MSNBC, Fox News, MSNBC, Fox News, Fox News, Fox News, MSNBC, MSNBC, MSNBC, MSNBC, Fox News, MSNBC, MSNBC,\n",
      "\n",
      "Cluster 1 words: b'hyperbole', b'greatest', b'different', b'world', b'doesn\\xc3\\xa2\\xc2\\x80\\xc2\\x99t', b'let',\n",
      "\n",
      "Cluster 1 titles: Fox News,\n",
      "\n",
      "Cluster 2 words: b'msnbc', b'doesn\\xc3\\xa2\\xc2\\x80\\xc2\\x99t', b'let', b'laws', b'iraq', b'impeachment',\n",
      "\n",
      "Cluster 2 titles: MSNBC,\n",
      "\n",
      "Cluster 3 words: b'air', b'world', b'doesn\\xc3\\xa2\\xc2\\x80\\xc2\\x99t', b'let', b'laws', b'iraq',\n",
      "\n",
      "Cluster 3 titles: Fox News,\n",
      "\n",
      "Cluster 4 words: b'tincan', b'world', b'doesn\\xc3\\xa2\\xc2\\x80\\xc2\\x99t', b'laws', b'iraq', b'impeachment',\n",
      "\n",
      "Cluster 4 titles: Fox News,\n",
      "\n",
      "\n",
      "\n"
     ]
    }
   ],
   "source": [
    "from __future__ import print_function\n",
    "\n",
    "print(\"Top terms per cluster:\")\n",
    "print()\n",
    "#sort cluster centers by proximity to centroid\n",
    "order_centroids = km.cluster_centers_.argsort()[:, ::-1] \n",
    "\n",
    "for i in range(num_clusters):\n",
    "    print(\"Cluster %d words:\" % i, end='')\n",
    "    \n",
    "    for ind in order_centroids[i, :6]: #replace 6 with n words per cluster\n",
    "        print(' %s' % vocab_frame.ix[terms[ind].split(' ')].values.tolist()[0][0].encode('utf-8', 'ignore'), end=',')\n",
    "    print() #add whitespace\n",
    "    print() #add whitespace\n",
    "    \n",
    "    print(\"Cluster %d titles:\" % i, end='')\n",
    "    for title in frame.ix[i]['title'].values.tolist():\n",
    "        print(' %s,' % title, end='')\n",
    "    print() #add whitespace\n",
    "    print() #add whitespace\n",
    "    \n",
    "print()\n",
    "print()"
   ]
  },
  {
   "cell_type": "markdown",
   "metadata": {},
   "source": [
    "### Multidimensional Scaling"
   ]
  },
  {
   "cell_type": "code",
   "execution_count": 46,
   "metadata": {},
   "outputs": [
    {
     "name": "stdout",
     "output_type": "stream",
     "text": [
      "[-0.0362155  -0.75742529 -0.29980639 -0.29429065 -0.03966316 -0.02775808\n",
      " -0.29187528 -0.64116424 -0.0305019  -0.37146596  0.43994156 -0.20045392\n",
      "  0.55074403 -0.391475   -0.41259952 -0.64014501  0.75553514  0.34244371\n",
      "  0.35236909 -0.68868245  0.7183528  -0.13731666 -0.55188487  0.65282652\n",
      " -0.13020079 -0.72757674 -0.19039167 -0.00105417  0.24861723  0.23330565\n",
      " -0.50256258  0.35634296 -0.72580444  0.37156585  0.77528215  0.57566263\n",
      " -0.50899758 -0.02007231  0.73799232  0.46134049  0.57220932  0.52199861\n",
      " -0.18974962 -0.04472089  0.37776564 -0.38888174  0.08575485 -0.02739222\n",
      "  0.6901517  -0.76198264 -0.18771787  0.67340997  0.73232945 -0.59951954\n",
      "  0.28146008 -0.25015157  0.69853911 -0.60248867  0.35860025  0.4127172\n",
      " -0.47759746 -0.61088475  0.57292448  0.06708328 -0.46671954  0.1048755\n",
      "  0.22801287  0.5273167   0.58354827  0.59659385  0.10005122 -0.50583188\n",
      " -0.59515766 -0.41092018  0.11085039 -0.50586032  0.1289015  -0.30064653\n",
      " -0.39359291  0.65138932 -0.32545479  0.21610856 -0.22245869 -0.75552367\n",
      "  0.22506535 -0.14032951  0.13667587  0.14072958  0.37283332 -0.68612604\n",
      "  0.28318441  0.41758191 -0.26767615 -0.48415944  0.02359216 -0.10845616\n",
      "  0.42268622  0.53709038 -0.68364488  0.18867602]\n",
      "[ 4.16942391e-01 -2.07111837e-01 -6.68799164e-01 -2.60112081e-01\n",
      " -1.73530710e-01  2.43408172e-01  6.90367615e-01  1.81002649e-01\n",
      "  2.22869237e-04 -4.65621842e-01  6.39613518e-01  2.30679659e-01\n",
      "  4.71491016e-01 -6.58847659e-01  5.52434968e-01 -1.07996243e-01\n",
      " -1.17731450e-01 -3.32326403e-01  5.02801402e-01  3.45338428e-01\n",
      "  2.91077258e-01  5.19680217e-01 -2.11507330e-03 -4.02471080e-01\n",
      " -6.32673198e-01  2.38108783e-01 -3.78543176e-01 -7.55881232e-01\n",
      " -6.55943066e-01  2.59029729e-01 -1.89661281e-01 -1.92354518e-01\n",
      "  4.09863497e-02 -5.59441342e-02  2.51377123e-02 -5.30053298e-01\n",
      "  4.38108611e-01 -5.74525086e-01 -2.35461821e-01  2.56311403e-01\n",
      "  1.13061162e-01 -3.36537548e-01  6.90701882e-01  7.53593063e-01\n",
      "  1.26998546e-01  6.67367781e-01  8.04848748e-02 -3.88958311e-01\n",
      " -2.56661200e-02  1.18508765e-01 -4.17569905e-02 -2.93071010e-01\n",
      "  1.17977708e-01  4.88536420e-01  7.14979795e-01 -5.46327348e-01\n",
      "  2.06592607e-01  3.55814956e-01  6.28716646e-01 -6.02630913e-01\n",
      " -5.98378002e-01 -3.43920216e-01 -6.47269800e-02  5.76825683e-01\n",
      " -3.38471701e-01  7.65615723e-01 -7.39466487e-01 -4.80698391e-01\n",
      " -2.03897333e-01  3.22033832e-01 -6.45273725e-01 -4.95680187e-01\n",
      " -4.92409713e-01  2.97773217e-01 -7.62914330e-01  5.82720885e-01\n",
      " -4.50393759e-01  3.82588948e-01  7.24895168e-02  4.12179051e-01\n",
      " -8.18485857e-02  5.39728881e-01 -7.37372920e-01 -5.05476358e-02\n",
      "  4.60848564e-03  7.57775471e-01 -2.54945957e-01  3.85740208e-01\n",
      " -4.59855146e-01 -2.11582185e-01 -5.46879928e-01 -6.67354295e-01\n",
      "  5.46049037e-01  1.84400669e-01  6.94210251e-01 -7.55638397e-01\n",
      "  3.94050652e-01  5.54061362e-01 -3.70890907e-01  7.06870545e-01]\n"
     ]
    }
   ],
   "source": [
    "import os  # for os.path.basename\n",
    "\n",
    "import matplotlib.pyplot as plt\n",
    "import matplotlib as mpl\n",
    "\n",
    "from sklearn.manifold import MDS\n",
    "\n",
    "MDS()\n",
    "\n",
    "# convert two components as we're plotting points in a two-dimensional plane\n",
    "# \"precomputed\" because we provide a distance matrix\n",
    "# we will also specify `random_state` so the plot is reproducible.\n",
    "mds = MDS(n_components=2, dissimilarity=\"precomputed\", random_state=1)\n",
    "\n",
    "pos = mds.fit_transform(dist)  # shape (n_components, n_samples)\n",
    "\n",
    "xs, ys = pos[:, 0], pos[:, 1]\n",
    "print(xs)\n",
    "print(ys)"
   ]
  },
  {
   "cell_type": "markdown",
   "metadata": {},
   "source": [
    "### Hierarchical document clustering"
   ]
  },
  {
   "cell_type": "code",
   "execution_count": 47,
   "metadata": {},
   "outputs": [
    {
     "data": {
      "image/png": "[encoded data removed]",
      "text/plain": [
       "<Figure size 1080x1440 with 1 Axes>"
      ]
     },
     "metadata": {},
     "output_type": "display_data"
    }
   ],
   "source": [
    "from scipy.cluster.hierarchy import ward, dendrogram\n",
    "\n",
    "linkage_matrix = ward(dist) #define the linkage_matrix using ward clustering pre-computed distances\n",
    "\n",
    "fig, ax = plt.subplots(figsize=(15, 20)) # set size\n",
    "ax = dendrogram(linkage_matrix, orientation=\"right\", labels=titles);\n",
    "\n",
    "plt.tick_params(\\\n",
    "    axis= 'x',          # changes apply to the x-axis\n",
    "    which='both',      # both major and minor ticks are affected\n",
    "    bottom='off',      # ticks along the bottom edge are off\n",
    "    top='off',         # ticks along the top edge are off\n",
    "    labelbottom='off')\n",
    "\n",
    "plt.tight_layout() #show plot with tight layout\n",
    "\n",
    "#uncomment below to save figure\n",
    "plt.savefig('ward_clusters.png', dpi=200) #save figure as ward_clusters"
   ]
  },
  {
   "cell_type": "markdown",
   "metadata": {},
   "source": [
    "### LDA Latent Dirichlet Allocation"
   ]
  },
  {
   "cell_type": "code",
   "execution_count": 285,
   "metadata": {},
   "outputs": [
    {
     "data": {
      "text/plain": [
       "276"
      ]
     },
     "execution_count": 285,
     "metadata": {},
     "output_type": "execute_result"
    }
   ],
   "source": [
    "len(cmts)"
   ]
  },
  {
   "cell_type": "code",
   "execution_count": 48,
   "metadata": {},
   "outputs": [],
   "source": [
    "#strip any proper names from a text...unfortunately right now this is yanking the first word from a sentence too.\n",
    "import string\n",
    "def strip_proppers(text):\n",
    "    # first tokenize by sentence, then by word to ensure that punctuation is caught as it's own token\n",
    "    tokens = [word for sent in nltk.sent_tokenize(text) for word in nltk.word_tokenize(sent) if word.islower()]\n",
    "    return \"\".join([\" \"+i if not i.startswith(\"'\") and i not in string.punctuation else i for i in tokens]).strip()"
   ]
  },
  {
   "cell_type": "code",
   "execution_count": 49,
   "metadata": {},
   "outputs": [],
   "source": [
    "#strip any proper nouns (NNP) or plural proper nouns (NNPS) from a text\n",
    "from nltk.tag import pos_tag\n",
    "\n",
    "def strip_proppers_POS(text):\n",
    "    tagged = pos_tag(text.split()) #use NLTK's part of speech tagger\n",
    "    non_propernouns = [word for word,pos in tagged if pos != 'NNP' and pos != 'NNPS']\n",
    "    return non_propernouns"
   ]
  },
  {
   "cell_type": "code",
   "execution_count": 283,
   "metadata": {},
   "outputs": [],
   "source": [
    "from gensim import corpora, models, similarities \n",
    "\n",
    "#remove proper names\n",
    "preprocess = [strip_proppers(doc) for doc in cmts]\n",
    "\n",
    "#tokenize\n",
    "tokenized_text = [tokenize_and_stem(text) for text in preprocess]\n",
    "\n",
    "#remove stop words\n",
    "texts = [[word for word in text if word not in stopwords] for text in tokenized_text]"
   ]
  },
  {
   "cell_type": "code",
   "execution_count": 286,
   "metadata": {},
   "outputs": [],
   "source": [
    "#create a Gensim dictionary from the texts\n",
    "dictionary = corpora.Dictionary(texts)\n",
    "\n",
    "#remove extremes (similar to the min/max df step used when creating the tf-idf matrix)\n",
    "dictionary.filter_extremes(no_below=1, no_above=0.8)\n",
    "\n",
    "#convert the dictionary to a bag of words corpus for reference\n",
    "corpus = [dictionary.doc2bow(text) for text in texts]"
   ]
  },
  {
   "cell_type": "code",
   "execution_count": 292,
   "metadata": {},
   "outputs": [],
   "source": [
    "lda = models.LdaModel(corpus, num_topics=2, \n",
    "                            id2word=dictionary, \n",
    "                            update_every=5, \n",
    "                            chunksize=10000, \n",
    "                            passes=100)"
   ]
  },
  {
   "cell_type": "code",
   "execution_count": 293,
   "metadata": {},
   "outputs": [
    {
     "data": {
      "text/plain": [
       "[(0,\n",
       "  '0.013*\"\\'s\" + 0.012*\"deficit\" + 0.011*\"war\" + 0.008*\"peopl\" + 0.008*\"economi\" + 0.008*\"stupid\" + 0.007*\"ra5928\" + 0.007*\"money\" + 0.007*\"us\" + 0.007*\"think\"'),\n",
       " (1,\n",
       "  '0.013*\"https\" + 0.012*\"\\'s\" + 0.007*\"make\" + 0.007*\"war\" + 0.006*\"alli\" + 0.006*\"want\" + 0.006*\"countri\" + 0.006*\"didn\\\\\\'t\" + 0.006*\"someth\" + 0.006*\"say\"')]"
      ]
     },
     "execution_count": 293,
     "metadata": {},
     "output_type": "execute_result"
    }
   ],
   "source": [
    "lda.show_topics()"
   ]
  },
  {
   "cell_type": "code",
   "execution_count": 297,
   "metadata": {},
   "outputs": [
    {
     "data": {
      "text/plain": [
       "array([[0,\n",
       "        list([(\"'s\", 0.012539691), ('deficit', 0.011732329), ('war', 0.010741795), ('peopl', 0.008325772), ('economi', 0.007936581), ('stupid', 0.007761519), ('ra5928', 0.0072896616), ('money', 0.007257983), ('us', 0.007223447), ('think', 0.0065225433), ('year', 0.006286904), ('jon', 0.006199879), ('know', 0.0061738538), ('bailout', 0.0060313633), ('lie', 0.0060216), ('histori', 0.0060104937), ('becaus', 0.0059986906), ('creat', 0.0058463453), ('like', 0.005467504), ('way', 0.0054442342), ('kill', 0.005399082), ('electr', 0.0052638007), ('presid', 0.004817341), ('good', 0.0047988263), ('dure', 0.0047606444), ('forget', 0.0046540746), ('made', 0.004177573), ('onli', 0.0041634985), ('go', 0.0041606775), (\"don\\\\'t\", 0.004126321), ('ha', 0.0041227513), ('sinc', 0.0040698005), ('thing', 0.0037699211), ('got', 0.0035567482), ('want', 0.0035328583), ('moron', 0.003509299), ('get', 0.003504069), ('well', 0.0034912683), ('unemploy', 0.0034911886), ('gave', 0.0034911078)])],\n",
       "       [1,\n",
       "        list([('https', 0.013436697), (\"'s\", 0.011958991), ('make', 0.0069775), ('war', 0.006684501), ('alli', 0.006251705), ('want', 0.0062072133), ('countri', 0.0057381657), (\"didn\\\\'t\", 0.00553697), ('someth', 0.0055049006), ('say', 0.005503951), ('peopl', 0.005069053), ('million', 0.0049447), ('kill', 0.0047809365), ('kfowler511', 0.0047791023), ('//thoughtcatalog.com/shahida-arabi/2016/06/20-diversion-tactics-highly-manipulative-narcissists-sociopaths-and-psychopaths-use-to-silence-you/5/', 0.0047762855), ('blame', 0.004751515), ('like', 0.004701667), ('would', 0.004518025), ('fact', 0.0043159793), ('ani', 0.004213052), ('pm', 0.004043466), ('da', 0.004043466), ('forgot', 0.004036023), ('cult', 0.004034542), ('trump', 0.004034387), ('get', 0.0040333616), ('call', 0.0039930064), ('know', 0.003883366), ('thing', 0.0037253683), ('democrat', 0.0035968618), ('von', 0.0035232936), ('parti', 0.0034611663), ('take', 0.0033272111), ('social', 0.0033052736), ('need', 0.0032984116), ('offic', 0.003261175), ('comment', 0.003252483), ('love', 0.0026762509), ('sign', 0.0026457645), ('took', 0.0026364836)])]],\n",
       "      dtype=object)"
      ]
     },
     "execution_count": 297,
     "metadata": {},
     "output_type": "execute_result"
    }
   ],
   "source": [
    "topics_matrix = lda.show_topics(formatted=False, num_words=40)\n",
    "topics_matrix = np.array(topics_matrix)\n",
    "\n",
    "topics_matrix"
   ]
  },
  {
   "cell_type": "code",
   "execution_count": 298,
   "metadata": {},
   "outputs": [
    {
     "name": "stdout",
     "output_type": "stream",
     "text": [
      "                             0\n",
      "0          (\"'s\", 0.012539691)\n",
      "1     ('deficit', 0.011732329)\n",
      "2         ('war', 0.010741795)\n",
      "3       ('peopl', 0.008325772)\n",
      "4     ('economi', 0.007936581)\n",
      "5      ('stupid', 0.007761519)\n",
      "6     ('ra5928', 0.0072896616)\n",
      "7       ('money', 0.007257983)\n",
      "8          ('us', 0.007223447)\n",
      "9      ('think', 0.0065225433)\n",
      "10       ('year', 0.006286904)\n",
      "11        ('jon', 0.006199879)\n",
      "12      ('know', 0.0061738538)\n",
      "13   ('bailout', 0.0060313633)\n",
      "14          ('lie', 0.0060216)\n",
      "15   ('histori', 0.0060104937)\n",
      "16    ('becaus', 0.0059986906)\n",
      "17     ('creat', 0.0058463453)\n",
      "18       ('like', 0.005467504)\n",
      "19       ('way', 0.0054442342)\n",
      "20       ('kill', 0.005399082)\n",
      "21    ('electr', 0.0052638007)\n",
      "22     ('presid', 0.004817341)\n",
      "23      ('good', 0.0047988263)\n",
      "24      ('dure', 0.0047606444)\n",
      "25    ('forget', 0.0046540746)\n",
      "26       ('made', 0.004177573)\n",
      "27      ('onli', 0.0041634985)\n",
      "28        ('go', 0.0041606775)\n",
      "29    (\"don\\\\'t\", 0.004126321)\n",
      "30        ('ha', 0.0041227513)\n",
      "31      ('sinc', 0.0040698005)\n",
      "32     ('thing', 0.0037699211)\n",
      "33       ('got', 0.0035567482)\n",
      "34      ('want', 0.0035328583)\n",
      "35      ('moron', 0.003509299)\n",
      "36        ('get', 0.003504069)\n",
      "37      ('well', 0.0034912683)\n",
      "38  ('unemploy', 0.0034911886)\n",
      "39      ('gave', 0.0034911078)\n",
      "                                                    0\n",
      "0                              ('https', 0.013436697)\n",
      "1                                 (\"'s\", 0.011958991)\n",
      "2                                 ('make', 0.0069775)\n",
      "3                                ('war', 0.006684501)\n",
      "4                               ('alli', 0.006251705)\n",
      "5                              ('want', 0.0062072133)\n",
      "6                           ('countri', 0.0057381657)\n",
      "7                            (\"didn\\\\'t\", 0.00553697)\n",
      "8                            ('someth', 0.0055049006)\n",
      "9                                ('say', 0.005503951)\n",
      "10                             ('peopl', 0.005069053)\n",
      "11                             ('million', 0.0049447)\n",
      "12                             ('kill', 0.0047809365)\n",
      "13                       ('kfowler511', 0.0047791023)\n",
      "14  ('//thoughtcatalog.com/shahida-arabi/2016/06/2...\n",
      "15                             ('blame', 0.004751515)\n",
      "16                              ('like', 0.004701667)\n",
      "17                             ('would', 0.004518025)\n",
      "18                             ('fact', 0.0043159793)\n",
      "19                               ('ani', 0.004213052)\n",
      "20                                ('pm', 0.004043466)\n",
      "21                                ('da', 0.004043466)\n",
      "22                            ('forgot', 0.004036023)\n",
      "23                              ('cult', 0.004034542)\n",
      "24                             ('trump', 0.004034387)\n",
      "25                              ('get', 0.0040333616)\n",
      "26                             ('call', 0.0039930064)\n",
      "27                              ('know', 0.003883366)\n",
      "28                            ('thing', 0.0037253683)\n",
      "29                         ('democrat', 0.0035968618)\n",
      "30                              ('von', 0.0035232936)\n",
      "31                            ('parti', 0.0034611663)\n",
      "32                             ('take', 0.0033272111)\n",
      "33                           ('social', 0.0033052736)\n",
      "34                             ('need', 0.0032984116)\n",
      "35                             ('offic', 0.003261175)\n",
      "36                           ('comment', 0.003252483)\n",
      "37                             ('love', 0.0026762509)\n",
      "38                             ('sign', 0.0026457645)\n",
      "39                             ('took', 0.0026364836)\n"
     ]
    }
   ],
   "source": [
    "topic_words = topics_matrix[:,1]\n",
    "for i in topic_words:\n",
    "    print(pd.DataFrame([str(word) for word in i]))"
   ]
  },
  {
   "cell_type": "markdown",
   "metadata": {},
   "source": [
    "liberal = 0\n",
    "conservative = 1 "
   ]
  },
  {
   "cell_type": "markdown",
   "metadata": {},
   "source": [
    "#### assign labels to classify based on these groupings of words \n",
    "- 1&3 = conservative \n",
    "- 2&4 = liberal "
   ]
  },
  {
   "cell_type": "code",
   "execution_count": null,
   "metadata": {},
   "outputs": [],
   "source": [
    "conservative = ['impeach','because','president','year','come','like','need',\"doen\\\\'t\",'socialist',\n",
    "           'before','vote','retire','lie','attack','truth','money','mean','us','us','pay','give','take',\n",
    "               'time','would','else','government','something','north','administration','money','people','look',\n",
    "               'soon','took','smart','lock','million','reson','terrorist','secure','anounce']\n",
    "\n",
    "liberal = ['go','see','attack','pretect','online','around','it','prison','torture','also','send',\n",
    "               'crime','think','air','stupid','long','lie','stop','enought','one','people','war',\n",
    "           'like','good', 'want','yet','keep','smart','senate','talk','forget','america','lol','counties',\n",
    "           'leave','say']\n",
    "\n",
    "libcon = liberal+conservative"
   ]
  },
  {
   "cell_type": "code",
   "execution_count": 16,
   "metadata": {},
   "outputs": [],
   "source": [
    "conservative = ['impeach','because','president','year','come','like','need',\"doen\\\\'t\",'socialist',\n",
    "           'before','vote','retire','lie','attack','truth','money','mean','us','us','pay','give','take',\n",
    "               'time','would','else','government','something','north','administration','money','people','look',\n",
    "               'soon','took','smart','lock','million','reson','terrorist','secure','anounce','liberty','freedom','personal',\n",
    "               'courage','field','show','initiative','taxes','defend','spending','distinguished','spirit','americas','individual',\n",
    "               'requires','god','message','advance','justice','proposal','true','speaker','yet','recent','dangerous','friends']\n",
    "\n",
    "liberal = ['go','see','attack','pretect','online','around','it','prison','torture','also','send',\n",
    "               'crime','think','air','stupid','long','lie','stop','enought','one','people','war',\n",
    "           'like','good', 'want','yet','keep','smart','senate','talk','forget','america','lol','counties',\n",
    "           'leave','say', 'think','buisnesses', 'dollar', 'large', 'bill','raise', 'cuts','wages','countries', 'food','credit',\n",
    "          'million','north','fiscal','deficit','housing','financial','homes','asia','prevent','line','least','challenege',\n",
    "           'four','buisness','competition']\n",
    "\n",
    "libcon = liberal+conservative\n"
   ]
  },
  {
   "cell_type": "code",
   "execution_count": 631,
   "metadata": {},
   "outputs": [
    {
     "name": "stdout",
     "output_type": "stream",
     "text": [
      "67\n",
      "62\n"
     ]
    }
   ],
   "source": [
    "print(len(conservative))\n",
    "print(len(liberal))"
   ]
  },
  {
   "cell_type": "code",
   "execution_count": 5,
   "metadata": {},
   "outputs": [],
   "source": [
    "import pandas as pd\n",
    "import re\n",
    "import nltk"
   ]
  },
  {
   "cell_type": "markdown",
   "metadata": {},
   "source": [
    "### Start Here"
   ]
  },
  {
   "cell_type": "code",
   "execution_count": 17,
   "metadata": {},
   "outputs": [
    {
     "data": {
      "text/html": [
       "<div>\n",
       "<style scoped>\n",
       "    .dataframe tbody tr th:only-of-type {\n",
       "        vertical-align: middle;\n",
       "    }\n",
       "\n",
       "    .dataframe tbody tr th {\n",
       "        vertical-align: top;\n",
       "    }\n",
       "\n",
       "    .dataframe thead th {\n",
       "        text-align: right;\n",
       "    }\n",
       "</style>\n",
       "<table border=\"1\" class=\"dataframe\">\n",
       "  <thead>\n",
       "    <tr style=\"text-align: right;\">\n",
       "      <th></th>\n",
       "      <th>Producer</th>\n",
       "      <th>author</th>\n",
       "      <th>replycount</th>\n",
       "      <th>likecount</th>\n",
       "      <th>description</th>\n",
       "      <th>isreplyto</th>\n",
       "    </tr>\n",
       "  </thead>\n",
       "  <tbody>\n",
       "    <tr>\n",
       "      <th>37346</th>\n",
       "      <td>MSNBC</td>\n",
       "      <td>jon Q</td>\n",
       "      <td>276</td>\n",
       "      <td>1334</td>\n",
       "      <td>Republicans can only create two things: defici...</td>\n",
       "      <td>NaN</td>\n",
       "    </tr>\n",
       "    <tr>\n",
       "      <th>192268</th>\n",
       "      <td>Fox News</td>\n",
       "      <td>T G</td>\n",
       "      <td>247</td>\n",
       "      <td>2740</td>\n",
       "      <td>IsnÛªt it funny a socialist isnÛªt ÛÏpaying...</td>\n",
       "      <td>NaN</td>\n",
       "    </tr>\n",
       "    <tr>\n",
       "      <th>65282</th>\n",
       "      <td>MSNBC</td>\n",
       "      <td>Laura Folsom</td>\n",
       "      <td>231</td>\n",
       "      <td>435</td>\n",
       "      <td>What about the president who wanted our troops...</td>\n",
       "      <td>NaN</td>\n",
       "    </tr>\n",
       "    <tr>\n",
       "      <th>127614</th>\n",
       "      <td>Fox News</td>\n",
       "      <td>Elmer T Fuddrucker</td>\n",
       "      <td>221</td>\n",
       "      <td>1679</td>\n",
       "      <td>John Kerry is having tantrums over the killing...</td>\n",
       "      <td>NaN</td>\n",
       "    </tr>\n",
       "    <tr>\n",
       "      <th>205376</th>\n",
       "      <td>Fox News</td>\n",
       "      <td>Todd Ambrose</td>\n",
       "      <td>204</td>\n",
       "      <td>394</td>\n",
       "      <td>The dnc, as we know it, will cease to exist by...</td>\n",
       "      <td>NaN</td>\n",
       "    </tr>\n",
       "    <tr>\n",
       "      <th>127191</th>\n",
       "      <td>Fox News</td>\n",
       "      <td>RSKR</td>\n",
       "      <td>195</td>\n",
       "      <td>1534</td>\n",
       "      <td>the red line was crossed. they shouldnt be sur...</td>\n",
       "      <td>NaN</td>\n",
       "    </tr>\n",
       "    <tr>\n",
       "      <th>49297</th>\n",
       "      <td>MSNBC</td>\n",
       "      <td>Simon West</td>\n",
       "      <td>193</td>\n",
       "      <td>688</td>\n",
       "      <td>Election coming up... Better have a war.</td>\n",
       "      <td>NaN</td>\n",
       "    </tr>\n",
       "    <tr>\n",
       "      <th>123887</th>\n",
       "      <td>Fox News</td>\n",
       "      <td>william rambo</td>\n",
       "      <td>192</td>\n",
       "      <td>1165</td>\n",
       "      <td>pretty soon the media will have this Iranian g...</td>\n",
       "      <td>NaN</td>\n",
       "    </tr>\n",
       "    <tr>\n",
       "      <th>41362</th>\n",
       "      <td>MSNBC</td>\n",
       "      <td>kurushiiv</td>\n",
       "      <td>186</td>\n",
       "      <td>697</td>\n",
       "      <td>He embezzled from charity while running for of...</td>\n",
       "      <td>NaN</td>\n",
       "    </tr>\n",
       "    <tr>\n",
       "      <th>155023</th>\n",
       "      <td>Fox News</td>\n",
       "      <td>Tonka Goldman</td>\n",
       "      <td>184</td>\n",
       "      <td>487</td>\n",
       "      <td>This action was NOT tyrannical. Salami was a l...</td>\n",
       "      <td>NaN</td>\n",
       "    </tr>\n",
       "  </tbody>\n",
       "</table>\n",
       "</div>"
      ],
      "text/plain": [
       "        Producer              author  replycount  likecount  \\\n",
       "37346      MSNBC               jon Q         276       1334   \n",
       "192268  Fox News                 T G         247       2740   \n",
       "65282      MSNBC        Laura Folsom         231        435   \n",
       "127614  Fox News  Elmer T Fuddrucker         221       1679   \n",
       "205376  Fox News        Todd Ambrose         204        394   \n",
       "127191  Fox News                RSKR         195       1534   \n",
       "49297      MSNBC          Simon West         193        688   \n",
       "123887  Fox News       william rambo         192       1165   \n",
       "41362      MSNBC           kurushiiv         186        697   \n",
       "155023  Fox News       Tonka Goldman         184        487   \n",
       "\n",
       "                                              description isreplyto  \n",
       "37346   Republicans can only create two things: defici...       NaN  \n",
       "192268  IsnÛªt it funny a socialist isnÛªt ÛÏpaying...       NaN  \n",
       "65282   What about the president who wanted our troops...       NaN  \n",
       "127614  John Kerry is having tantrums over the killing...       NaN  \n",
       "205376  The dnc, as we know it, will cease to exist by...       NaN  \n",
       "127191  the red line was crossed. they shouldnt be sur...       NaN  \n",
       "49297            Election coming up... Better have a war.       NaN  \n",
       "123887  pretty soon the media will have this Iranian g...       NaN  \n",
       "41362   He embezzled from charity while running for of...       NaN  \n",
       "155023  This action was NOT tyrannical. Salami was a l...       NaN  "
      ]
     },
     "execution_count": 17,
     "metadata": {},
     "output_type": "execute_result"
    }
   ],
   "source": [
    "replyto = comments.sort_values(by=\"replycount\", ascending = False)\n",
    "reply_counts = replyto[[\"Producer\", \"author\",\"replycount\", \"likecount\",\"description\", \"isreplyto\"]]\n",
    "rc = reply_counts.head(10)\n",
    "rc"
   ]
  },
  {
   "cell_type": "code",
   "execution_count": 18,
   "metadata": {},
   "outputs": [],
   "source": [
    "import re\n",
    "import nltk\n",
    "import pandas as pd"
   ]
  },
  {
   "cell_type": "code",
   "execution_count": 19,
   "metadata": {},
   "outputs": [],
   "source": [
    "df = pd.DataFrame()\n",
    "\n",
    "df[\"comments\"]=comments['description'].dropna()\n",
    "\n",
    "df['comments_lower'] = df['comments'].str.lower()\n",
    "\n",
    "#df.iloc[0]['comments_lower']\n",
    "#df[\"tokenize\"] = nltk.word_tokenize(cmtslow)\n",
    "\n",
    "#df['lettersonly'] = df.apply(lambda row: re.sub('[^a-zA-z]','', row['comments']), axis = 1)\n",
    "#df\n",
    "#df['tokenized_comments'] = df.apply(lambda row: nltk.word_tokenize(row['comments_lower']), axis=1)\n"
   ]
  },
  {
   "cell_type": "code",
   "execution_count": 20,
   "metadata": {},
   "outputs": [
    {
     "data": {
      "text/html": [
       "<div>\n",
       "<style scoped>\n",
       "    .dataframe tbody tr th:only-of-type {\n",
       "        vertical-align: middle;\n",
       "    }\n",
       "\n",
       "    .dataframe tbody tr th {\n",
       "        vertical-align: top;\n",
       "    }\n",
       "\n",
       "    .dataframe thead th {\n",
       "        text-align: right;\n",
       "    }\n",
       "</style>\n",
       "<table border=\"1\" class=\"dataframe\">\n",
       "  <thead>\n",
       "    <tr style=\"text-align: right;\">\n",
       "      <th></th>\n",
       "      <th>comments</th>\n",
       "      <th>comments_lower</th>\n",
       "    </tr>\n",
       "  </thead>\n",
       "  <tbody>\n",
       "    <tr>\n",
       "      <th>0</th>\n",
       "      <td>https://www.youtube.com/watch?v=DushIvQwmEM</td>\n",
       "      <td>https://www.youtube.com/watch?v=dushivqwmem</td>\n",
       "    </tr>\n",
       "    <tr>\n",
       "      <th>1</th>\n",
       "      <td>Biden is for sure not \\'the guy\\'... Such bias...</td>\n",
       "      <td>biden is for sure not \\'the guy\\'... such bias...</td>\n",
       "    </tr>\n",
       "    <tr>\n",
       "      <th>2</th>\n",
       "      <td>biden is the best to appeal to rust belt voter...</td>\n",
       "      <td>biden is the best to appeal to rust belt voter...</td>\n",
       "    </tr>\n",
       "    <tr>\n",
       "      <th>3</th>\n",
       "      <td>Well the title is correct, Democrats and diffe...</td>\n",
       "      <td>well the title is correct, democrats and diffe...</td>\n",
       "    </tr>\n",
       "    <tr>\n",
       "      <th>4</th>\n",
       "      <td>You throw things up with Trump NOT by voting a...</td>\n",
       "      <td>you throw things up with trump not by voting a...</td>\n",
       "    </tr>\n",
       "  </tbody>\n",
       "</table>\n",
       "</div>"
      ],
      "text/plain": [
       "                                            comments  \\\n",
       "0        https://www.youtube.com/watch?v=DushIvQwmEM   \n",
       "1  Biden is for sure not \\'the guy\\'... Such bias...   \n",
       "2  biden is the best to appeal to rust belt voter...   \n",
       "3  Well the title is correct, Democrats and diffe...   \n",
       "4  You throw things up with Trump NOT by voting a...   \n",
       "\n",
       "                                      comments_lower  \n",
       "0        https://www.youtube.com/watch?v=dushivqwmem  \n",
       "1  biden is for sure not \\'the guy\\'... such bias...  \n",
       "2  biden is the best to appeal to rust belt voter...  \n",
       "3  well the title is correct, democrats and diffe...  \n",
       "4  you throw things up with trump not by voting a...  "
      ]
     },
     "execution_count": 20,
     "metadata": {},
     "output_type": "execute_result"
    }
   ],
   "source": [
    "df.head()"
   ]
  },
  {
   "cell_type": "code",
   "execution_count": 21,
   "metadata": {},
   "outputs": [],
   "source": [
    "def identify_tokens(row):\n",
    "    comments_lower = row['comments_lower']\n",
    "    tokens = nltk.word_tokenize(comments_lower)\n",
    "    # taken only words (not punctuation)\n",
    "    token_words = [w for w in tokens if w.isalpha()]\n",
    "    return token_words\n",
    "\n",
    "df['tokenize'] = df.apply(identify_tokens, axis=1)\n",
    "\n"
   ]
  },
  {
   "cell_type": "code",
   "execution_count": 332,
   "metadata": {},
   "outputs": [
    {
     "data": {
      "text/html": [
       "<div>\n",
       "<style scoped>\n",
       "    .dataframe tbody tr th:only-of-type {\n",
       "        vertical-align: middle;\n",
       "    }\n",
       "\n",
       "    .dataframe tbody tr th {\n",
       "        vertical-align: top;\n",
       "    }\n",
       "\n",
       "    .dataframe thead th {\n",
       "        text-align: right;\n",
       "    }\n",
       "</style>\n",
       "<table border=\"1\" class=\"dataframe\">\n",
       "  <thead>\n",
       "    <tr style=\"text-align: right;\">\n",
       "      <th></th>\n",
       "      <th>tokenize</th>\n",
       "    </tr>\n",
       "  </thead>\n",
       "  <tbody>\n",
       "    <tr>\n",
       "      <th>155023</th>\n",
       "      <td>[this, action, was, not, tyrannical, salami, w...</td>\n",
       "    </tr>\n",
       "    <tr>\n",
       "      <th>155024</th>\n",
       "      <td>[newsom, is, burning, the, people, out, of, ca...</td>\n",
       "    </tr>\n",
       "    <tr>\n",
       "      <th>155025</th>\n",
       "      <td>[jeragen, hope, in, their, own, satanic, world]</td>\n",
       "    </tr>\n",
       "    <tr>\n",
       "      <th>155026</th>\n",
       "      <td>[emil, gunnary, they, want, so, bad, because, ...</td>\n",
       "    </tr>\n",
       "    <tr>\n",
       "      <th>155027</th>\n",
       "      <td>[emil, gunnary, looks, like, trump, care, abou...</td>\n",
       "    </tr>\n",
       "    <tr>\n",
       "      <th>155028</th>\n",
       "      <td>[emil, gunnary, fyi, trump, tried, to, secretl...</td>\n",
       "    </tr>\n",
       "    <tr>\n",
       "      <th>155029</th>\n",
       "      <td>[emil, gunnary, cool, cool, use, your, slimy, ...</td>\n",
       "    </tr>\n",
       "    <tr>\n",
       "      <th>155030</th>\n",
       "      <td>[jarrod, goforth, biden, is, on, video, of, do...</td>\n",
       "    </tr>\n",
       "    <tr>\n",
       "      <th>155031</th>\n",
       "      <td>[shark, cat, why, do, you, want, so, bad]</td>\n",
       "    </tr>\n",
       "    <tr>\n",
       "      <th>155032</th>\n",
       "      <td>[emil, gunnary, yeah, someone, is, brain, wash...</td>\n",
       "    </tr>\n",
       "    <tr>\n",
       "      <th>155033</th>\n",
       "      <td>[emil, gunnary, so, trump, have, the, rocks, f...</td>\n",
       "    </tr>\n",
       "    <tr>\n",
       "      <th>155034</th>\n",
       "      <td>[shark, cat, senator]</td>\n",
       "    </tr>\n",
       "    <tr>\n",
       "      <th>155035</th>\n",
       "      <td>[shark, cat, listen, to, the, report]</td>\n",
       "    </tr>\n",
       "    <tr>\n",
       "      <th>155036</th>\n",
       "      <td>[jarrod, goforth, you, are, brain, washed, by,...</td>\n",
       "    </tr>\n",
       "    <tr>\n",
       "      <th>155037</th>\n",
       "      <td>[shark, cat, on, friday, senator, hawley, intr...</td>\n",
       "    </tr>\n",
       "    <tr>\n",
       "      <th>155038</th>\n",
       "      <td>[shark, cat, shark, cat, is, just, a, troll]</td>\n",
       "    </tr>\n",
       "    <tr>\n",
       "      <th>155039</th>\n",
       "      <td>[salami, ù, ù, ù]</td>\n",
       "    </tr>\n",
       "    <tr>\n",
       "      <th>155040</th>\n",
       "      <td>[shark, cat, libya]</td>\n",
       "    </tr>\n",
       "    <tr>\n",
       "      <th>155041</th>\n",
       "      <td>[mueller, report, steele, dossier, busted, up,...</td>\n",
       "    </tr>\n",
       "    <tr>\n",
       "      <th>155042</th>\n",
       "      <td>[shark, cat, what, charges, they, are, fake, n...</td>\n",
       "    </tr>\n",
       "    <tr>\n",
       "      <th>155043</th>\n",
       "      <td>[tom, hicks, yeb, trump, is, a, fantastic, neg...</td>\n",
       "    </tr>\n",
       "    <tr>\n",
       "      <th>155044</th>\n",
       "      <td>[and, now, americans, are, legitimate, militar...</td>\n",
       "    </tr>\n",
       "    <tr>\n",
       "      <th>155045</th>\n",
       "      <td>[emil, gunnary, blah, blah, blah]</td>\n",
       "    </tr>\n",
       "    <tr>\n",
       "      <th>155046</th>\n",
       "      <td>[shark, cat, you, should, read, it]</td>\n",
       "    </tr>\n",
       "    <tr>\n",
       "      <th>155047</th>\n",
       "      <td>[jarrod, goforth, you, will, go, down, before,...</td>\n",
       "    </tr>\n",
       "    <tr>\n",
       "      <th>155048</th>\n",
       "      <td>[jarrod, goforth, severe, tds, needs, medication]</td>\n",
       "    </tr>\n",
       "    <tr>\n",
       "      <th>155049</th>\n",
       "      <td>[emil, gunnary, oh, i, see, you, are, a, qanon...</td>\n",
       "    </tr>\n",
       "    <tr>\n",
       "      <th>155050</th>\n",
       "      <td>[emil, gunnary, so, where, did, you, hear, or,...</td>\n",
       "    </tr>\n",
       "    <tr>\n",
       "      <th>155051</th>\n",
       "      <td>[shark, cat, the, corrupt, media, report, on, ...</td>\n",
       "    </tr>\n",
       "    <tr>\n",
       "      <th>155052</th>\n",
       "      <td>[chris, staples, you, think, americans, were, ...</td>\n",
       "    </tr>\n",
       "    <tr>\n",
       "      <th>...</th>\n",
       "      <td>...</td>\n",
       "    </tr>\n",
       "    <tr>\n",
       "      <th>155178</th>\n",
       "      <td>[john, kjv, vietnam, and, iraq, were, the, wor...</td>\n",
       "    </tr>\n",
       "    <tr>\n",
       "      <th>155179</th>\n",
       "      <td>[masson, h, been, starting, wars, the, exact, ...</td>\n",
       "    </tr>\n",
       "    <tr>\n",
       "      <th>155180</th>\n",
       "      <td>[iraqi, prime, minister, says, qassem, soleima...</td>\n",
       "    </tr>\n",
       "    <tr>\n",
       "      <th>155181</th>\n",
       "      <td>[image, dying, for, a, draft, dodging, reality...</td>\n",
       "    </tr>\n",
       "    <tr>\n",
       "      <th>155182</th>\n",
       "      <td>[florida, man, no, such, person, as, bin, laden]</td>\n",
       "    </tr>\n",
       "    <tr>\n",
       "      <th>155183</th>\n",
       "      <td>[shark, cat, two, words, predator, drones, bar...</td>\n",
       "    </tr>\n",
       "    <tr>\n",
       "      <th>155184</th>\n",
       "      <td>[who, is, salami, howcome, we, never, heard, o...</td>\n",
       "    </tr>\n",
       "    <tr>\n",
       "      <th>155185</th>\n",
       "      <td>[well, iraq, government, ask, for, the, usa, m...</td>\n",
       "    </tr>\n",
       "    <tr>\n",
       "      <th>155186</th>\n",
       "      <td>[shark, cat, i, care, if, a, democrat, or, rep...</td>\n",
       "    </tr>\n",
       "    <tr>\n",
       "      <th>155187</th>\n",
       "      <td>[send, trump, turds, to, the, front, lines, th...</td>\n",
       "    </tr>\n",
       "    <tr>\n",
       "      <th>155188</th>\n",
       "      <td>[no, he, it, turns, out, he, was, there, on, a...</td>\n",
       "    </tr>\n",
       "    <tr>\n",
       "      <th>155189</th>\n",
       "      <td>[overcooked, soleimani, i, will, take, my, sal...</td>\n",
       "    </tr>\n",
       "    <tr>\n",
       "      <th>155190</th>\n",
       "      <td>[shark, cat, all, american, personal, were, ta...</td>\n",
       "    </tr>\n",
       "    <tr>\n",
       "      <th>155191</th>\n",
       "      <td>[pretty, sure, the, wars, powers, act, allows,...</td>\n",
       "    </tr>\n",
       "    <tr>\n",
       "      <th>155192</th>\n",
       "      <td>[kaiser, soze, iran, powerful, enough, to, go,...</td>\n",
       "    </tr>\n",
       "    <tr>\n",
       "      <th>155193</th>\n",
       "      <td>[shark, cat, they, always, have, been, genius]</td>\n",
       "    </tr>\n",
       "    <tr>\n",
       "      <th>155194</th>\n",
       "      <td>[william, h, you, are, bisexual, at, best, tim...</td>\n",
       "    </tr>\n",
       "    <tr>\n",
       "      <th>155195</th>\n",
       "      <td>[according, to, your, logic, is, trump, also, ...</td>\n",
       "    </tr>\n",
       "    <tr>\n",
       "      <th>155196</th>\n",
       "      <td>[obama, killed, bin, laden, osama, died, like,...</td>\n",
       "    </tr>\n",
       "    <tr>\n",
       "      <th>155197</th>\n",
       "      <td>[shark, cat, puppet, obama, was, a, do, nothin...</td>\n",
       "    </tr>\n",
       "    <tr>\n",
       "      <th>155198</th>\n",
       "      <td>[marseilles, vieux, so, because, you, think, o...</td>\n",
       "    </tr>\n",
       "    <tr>\n",
       "      <th>155199</th>\n",
       "      <td>[kaiser, soze, it, is, fine, when, obama, does...</td>\n",
       "    </tr>\n",
       "    <tr>\n",
       "      <th>155200</th>\n",
       "      <td>[asl, oh, they, know, how, it, works, and, wil...</td>\n",
       "    </tr>\n",
       "    <tr>\n",
       "      <th>155201</th>\n",
       "      <td>[exactly]</td>\n",
       "    </tr>\n",
       "    <tr>\n",
       "      <th>155202</th>\n",
       "      <td>[overcooked, soleimani, moral, of, the, story,...</td>\n",
       "    </tr>\n",
       "    <tr>\n",
       "      <th>155203</th>\n",
       "      <td>[iran, has, been, targeting, americans, ever, ...</td>\n",
       "    </tr>\n",
       "    <tr>\n",
       "      <th>155204</th>\n",
       "      <td>[bother, me, blm, to, them, ùªâ, ùàü]</td>\n",
       "    </tr>\n",
       "    <tr>\n",
       "      <th>155205</th>\n",
       "      <td>[shark, cat, they, already, were, trump, just,...</td>\n",
       "    </tr>\n",
       "    <tr>\n",
       "      <th>155206</th>\n",
       "      <td>[salami, got, scraped, off, the, concrete, lik...</td>\n",
       "    </tr>\n",
       "    <tr>\n",
       "      <th>155207</th>\n",
       "      <td>[so, is, any, us, personnel, to, the, iranians...</td>\n",
       "    </tr>\n",
       "  </tbody>\n",
       "</table>\n",
       "<p>185 rows × 1 columns</p>\n",
       "</div>"
      ],
      "text/plain": [
       "                                                 tokenize\n",
       "155023  [this, action, was, not, tyrannical, salami, w...\n",
       "155024  [newsom, is, burning, the, people, out, of, ca...\n",
       "155025    [jeragen, hope, in, their, own, satanic, world]\n",
       "155026  [emil, gunnary, they, want, so, bad, because, ...\n",
       "155027  [emil, gunnary, looks, like, trump, care, abou...\n",
       "155028  [emil, gunnary, fyi, trump, tried, to, secretl...\n",
       "155029  [emil, gunnary, cool, cool, use, your, slimy, ...\n",
       "155030  [jarrod, goforth, biden, is, on, video, of, do...\n",
       "155031          [shark, cat, why, do, you, want, so, bad]\n",
       "155032  [emil, gunnary, yeah, someone, is, brain, wash...\n",
       "155033  [emil, gunnary, so, trump, have, the, rocks, f...\n",
       "155034                              [shark, cat, senator]\n",
       "155035              [shark, cat, listen, to, the, report]\n",
       "155036  [jarrod, goforth, you, are, brain, washed, by,...\n",
       "155037  [shark, cat, on, friday, senator, hawley, intr...\n",
       "155038       [shark, cat, shark, cat, is, just, a, troll]\n",
       "155039                                  [salami, ù, ù, ù]\n",
       "155040                                [shark, cat, libya]\n",
       "155041  [mueller, report, steele, dossier, busted, up,...\n",
       "155042  [shark, cat, what, charges, they, are, fake, n...\n",
       "155043  [tom, hicks, yeb, trump, is, a, fantastic, neg...\n",
       "155044  [and, now, americans, are, legitimate, militar...\n",
       "155045                  [emil, gunnary, blah, blah, blah]\n",
       "155046                [shark, cat, you, should, read, it]\n",
       "155047  [jarrod, goforth, you, will, go, down, before,...\n",
       "155048  [jarrod, goforth, severe, tds, needs, medication]\n",
       "155049  [emil, gunnary, oh, i, see, you, are, a, qanon...\n",
       "155050  [emil, gunnary, so, where, did, you, hear, or,...\n",
       "155051  [shark, cat, the, corrupt, media, report, on, ...\n",
       "155052  [chris, staples, you, think, americans, were, ...\n",
       "...                                                   ...\n",
       "155178  [john, kjv, vietnam, and, iraq, were, the, wor...\n",
       "155179  [masson, h, been, starting, wars, the, exact, ...\n",
       "155180  [iraqi, prime, minister, says, qassem, soleima...\n",
       "155181  [image, dying, for, a, draft, dodging, reality...\n",
       "155182   [florida, man, no, such, person, as, bin, laden]\n",
       "155183  [shark, cat, two, words, predator, drones, bar...\n",
       "155184  [who, is, salami, howcome, we, never, heard, o...\n",
       "155185  [well, iraq, government, ask, for, the, usa, m...\n",
       "155186  [shark, cat, i, care, if, a, democrat, or, rep...\n",
       "155187  [send, trump, turds, to, the, front, lines, th...\n",
       "155188  [no, he, it, turns, out, he, was, there, on, a...\n",
       "155189  [overcooked, soleimani, i, will, take, my, sal...\n",
       "155190  [shark, cat, all, american, personal, were, ta...\n",
       "155191  [pretty, sure, the, wars, powers, act, allows,...\n",
       "155192  [kaiser, soze, iran, powerful, enough, to, go,...\n",
       "155193     [shark, cat, they, always, have, been, genius]\n",
       "155194  [william, h, you, are, bisexual, at, best, tim...\n",
       "155195  [according, to, your, logic, is, trump, also, ...\n",
       "155196  [obama, killed, bin, laden, osama, died, like,...\n",
       "155197  [shark, cat, puppet, obama, was, a, do, nothin...\n",
       "155198  [marseilles, vieux, so, because, you, think, o...\n",
       "155199  [kaiser, soze, it, is, fine, when, obama, does...\n",
       "155200  [asl, oh, they, know, how, it, works, and, wil...\n",
       "155201                                          [exactly]\n",
       "155202  [overcooked, soleimani, moral, of, the, story,...\n",
       "155203  [iran, has, been, targeting, americans, ever, ...\n",
       "155204              [bother, me, blm, to, them, ùªâ, ùàü]\n",
       "155205  [shark, cat, they, already, were, trump, just,...\n",
       "155206  [salami, got, scraped, off, the, concrete, lik...\n",
       "155207  [so, is, any, us, personnel, to, the, iranians...\n",
       "\n",
       "[185 rows x 1 columns]"
      ]
     },
     "execution_count": 332,
     "metadata": {},
     "output_type": "execute_result"
    }
   ],
   "source": [
    "tokenized = df['tokenize'][155021:155206]\n",
    "df_3 = pd.DataFrame(tokenized)\n",
    "df_3"
   ]
  },
  {
   "cell_type": "code",
   "execution_count": 333,
   "metadata": {},
   "outputs": [],
   "source": [
    "dic = []\n",
    "for w in df['tokenize'][155021:155206]:\n",
    "    for x in w:\n",
    "        if x in conservative:\n",
    "            dic.append(x + \" Conservative\")\n",
    "        if x in liberal:\n",
    "            dic.append(x + \" Liberal\")\n",
    "        if x not in libcon:\n",
    "            dic.append(x+ \" Nuetral\")\n",
    "    \n",
    "     \n"
   ]
  },
  {
   "cell_type": "code",
   "execution_count": 334,
   "metadata": {},
   "outputs": [
    {
     "data": {
      "text/plain": [
       "3572"
      ]
     },
     "execution_count": 334,
     "metadata": {},
     "output_type": "execute_result"
    }
   ],
   "source": [
    "df2 = pd.DataFrame(dic)\n",
    "len(df2)"
   ]
  },
  {
   "cell_type": "code",
   "execution_count": 335,
   "metadata": {},
   "outputs": [
    {
     "data": {
      "text/plain": [
       "185"
      ]
     },
     "execution_count": 335,
     "metadata": {},
     "output_type": "execute_result"
    }
   ],
   "source": [
    "length = len(df_3)\n",
    "length"
   ]
  },
  {
   "cell_type": "code",
   "execution_count": 336,
   "metadata": {},
   "outputs": [
    {
     "data": {
      "text/html": [
       "<div>\n",
       "<style scoped>\n",
       "    .dataframe tbody tr th:only-of-type {\n",
       "        vertical-align: middle;\n",
       "    }\n",
       "\n",
       "    .dataframe tbody tr th {\n",
       "        vertical-align: top;\n",
       "    }\n",
       "\n",
       "    .dataframe thead th {\n",
       "        text-align: right;\n",
       "    }\n",
       "</style>\n",
       "<table border=\"1\" class=\"dataframe\">\n",
       "  <thead>\n",
       "    <tr style=\"text-align: right;\">\n",
       "      <th></th>\n",
       "      <th>0</th>\n",
       "    </tr>\n",
       "  </thead>\n",
       "  <tbody>\n",
       "    <tr>\n",
       "      <th>0</th>\n",
       "      <td>this Nuetral</td>\n",
       "    </tr>\n",
       "    <tr>\n",
       "      <th>1</th>\n",
       "      <td>action Nuetral</td>\n",
       "    </tr>\n",
       "    <tr>\n",
       "      <th>2</th>\n",
       "      <td>was Nuetral</td>\n",
       "    </tr>\n",
       "    <tr>\n",
       "      <th>3</th>\n",
       "      <td>not Nuetral</td>\n",
       "    </tr>\n",
       "    <tr>\n",
       "      <th>4</th>\n",
       "      <td>tyrannical Nuetral</td>\n",
       "    </tr>\n",
       "  </tbody>\n",
       "</table>\n",
       "</div>"
      ],
      "text/plain": [
       "                    0\n",
       "0        this Nuetral\n",
       "1      action Nuetral\n",
       "2         was Nuetral\n",
       "3         not Nuetral\n",
       "4  tyrannical Nuetral"
      ]
     },
     "execution_count": 336,
     "metadata": {},
     "output_type": "execute_result"
    }
   ],
   "source": [
    "df2.head()"
   ]
  },
  {
   "cell_type": "code",
   "execution_count": 337,
   "metadata": {},
   "outputs": [],
   "source": [
    "df3 = df_3.reset_index()"
   ]
  },
  {
   "cell_type": "code",
   "execution_count": 338,
   "metadata": {},
   "outputs": [],
   "source": [
    "df2 =pd.concat([df2,df3], ignore_index = True, axis =1)\n"
   ]
  },
  {
   "cell_type": "code",
   "execution_count": 339,
   "metadata": {},
   "outputs": [],
   "source": [
    "df2.columns = ['wordlabels','index','tokenized_comments']\n",
    "#len(df2['tokenized_comments'][2])"
   ]
  },
  {
   "cell_type": "code",
   "execution_count": 340,
   "metadata": {},
   "outputs": [
    {
     "data": {
      "text/html": [
       "<div>\n",
       "<style scoped>\n",
       "    .dataframe tbody tr th:only-of-type {\n",
       "        vertical-align: middle;\n",
       "    }\n",
       "\n",
       "    .dataframe tbody tr th {\n",
       "        vertical-align: top;\n",
       "    }\n",
       "\n",
       "    .dataframe thead th {\n",
       "        text-align: right;\n",
       "    }\n",
       "</style>\n",
       "<table border=\"1\" class=\"dataframe\">\n",
       "  <thead>\n",
       "    <tr style=\"text-align: right;\">\n",
       "      <th></th>\n",
       "      <th>wordlabels</th>\n",
       "      <th>tokenized_comments</th>\n",
       "    </tr>\n",
       "  </thead>\n",
       "  <tbody>\n",
       "    <tr>\n",
       "      <th>0</th>\n",
       "      <td>this Nuetral</td>\n",
       "      <td>[this, action, was, not, tyrannical, salami, w...</td>\n",
       "    </tr>\n",
       "    <tr>\n",
       "      <th>1</th>\n",
       "      <td>action Nuetral</td>\n",
       "      <td>[newsom, is, burning, the, people, out, of, ca...</td>\n",
       "    </tr>\n",
       "    <tr>\n",
       "      <th>2</th>\n",
       "      <td>was Nuetral</td>\n",
       "      <td>[jeragen, hope, in, their, own, satanic, world]</td>\n",
       "    </tr>\n",
       "    <tr>\n",
       "      <th>3</th>\n",
       "      <td>not Nuetral</td>\n",
       "      <td>[emil, gunnary, they, want, so, bad, because, ...</td>\n",
       "    </tr>\n",
       "    <tr>\n",
       "      <th>4</th>\n",
       "      <td>tyrannical Nuetral</td>\n",
       "      <td>[emil, gunnary, looks, like, trump, care, abou...</td>\n",
       "    </tr>\n",
       "  </tbody>\n",
       "</table>\n",
       "</div>"
      ],
      "text/plain": [
       "           wordlabels                                 tokenized_comments\n",
       "0        this Nuetral  [this, action, was, not, tyrannical, salami, w...\n",
       "1      action Nuetral  [newsom, is, burning, the, people, out, of, ca...\n",
       "2         was Nuetral    [jeragen, hope, in, their, own, satanic, world]\n",
       "3         not Nuetral  [emil, gunnary, they, want, so, bad, because, ...\n",
       "4  tyrannical Nuetral  [emil, gunnary, looks, like, trump, care, abou..."
      ]
     },
     "execution_count": 340,
     "metadata": {},
     "output_type": "execute_result"
    }
   ],
   "source": [
    "df2 = df2[['wordlabels','tokenized_comments']]\n",
    "df2.head()"
   ]
  },
  {
   "cell_type": "code",
   "execution_count": 341,
   "metadata": {},
   "outputs": [
    {
     "data": {
      "text/plain": [
       "3534"
      ]
     },
     "execution_count": 341,
     "metadata": {},
     "output_type": "execute_result"
    }
   ],
   "source": [
    "total = 0\n",
    "for tc in df2['tokenized_comments']:\n",
    "    if type(tc) is list: \n",
    "        total += len(tc)\n",
    "total"
   ]
  },
  {
   "cell_type": "code",
   "execution_count": 342,
   "metadata": {},
   "outputs": [
    {
     "data": {
      "text/plain": [
       "[array([2, 2, 2, 2, 2, 2, 2, 2, 2, 2, 2]),\n",
       " array([2, 2, 2, 2, 2, 2, 2, 2, 2, 2, 2, 2, 2, 2, 2, 2, 2, 2, 2, 2, 2, 2,\n",
       "        2, 2, 2, 2, 2, 2, 2, 2, 2, 2, 2, 2, 2, 2, 2]),\n",
       " array([2, 2, 2, 2, 2, 2, 2]),\n",
       " array([2, 2, 2, 2, 2, 2, 2, 2, 2, 2, 2, 2, 2, 2, 2, 2, 2, 2, 2, 2, 2, 2,\n",
       "        2, 2, 2, 2, 2, 2, 2, 2, 2, 2, 2, 2, 2, 2, 2, 2, 2, 2, 2, 2, 2, 2,\n",
       "        2, 2, 2, 2, 2]),\n",
       " array([2, 2, 2, 2, 2, 2, 2, 2, 2, 2]),\n",
       " array([2, 2, 2, 2, 2, 2, 2, 2, 2, 2, 2, 2, 2, 2, 2, 2, 2, 2, 2, 2, 2, 2,\n",
       "        2, 2, 2, 2, 2, 2, 2, 2, 2, 2, 2, 2, 2, 2, 2, 2, 2, 2, 2, 2, 2, 2,\n",
       "        2, 2]),\n",
       " array([2, 2, 2, 2, 2, 2, 2, 2, 2, 2, 2, 2, 2, 2, 2, 2, 2, 2, 2, 2, 2, 2,\n",
       "        2, 2, 2, 2, 2, 2, 2, 2, 2, 2, 2, 2, 2, 2, 2, 2, 2, 2, 2, 2, 2, 2,\n",
       "        2, 2, 2, 2, 2]),\n",
       " array([2, 2, 2, 2, 2, 2, 2, 2, 2, 2, 2, 2, 2, 2, 2, 2, 2, 2, 2, 2, 2, 2,\n",
       "        2, 2, 2, 2, 2, 2, 2, 2, 2, 2, 2, 2, 2, 2, 2, 2, 2, 2, 2, 2, 2, 2,\n",
       "        2, 2]),\n",
       " array([2, 2, 2, 2, 2, 2, 2, 2]),\n",
       " array([2, 2, 2, 2, 2, 2, 2, 2, 2, 2, 2]),\n",
       " array([2, 2, 2, 2, 2, 2, 2, 2, 2, 2, 2]),\n",
       " array([2, 2, 2]),\n",
       " array([2, 2, 2, 2, 2, 2]),\n",
       " array([2, 2, 2, 2, 2, 2, 2, 2, 2, 2]),\n",
       " array([2, 2, 2, 2, 2, 2, 2, 2, 2, 2, 2, 2, 2, 2, 2, 2, 2, 2, 2, 2, 2, 2,\n",
       "        2, 2, 2]),\n",
       " array([2, 2, 2, 2, 2, 2, 2, 2]),\n",
       " array([2, 2, 2, 2]),\n",
       " array([2, 2, 2]),\n",
       " array([2, 2, 2, 2, 2, 2, 2, 2, 2, 2, 2, 2, 2, 2, 2, 2, 2, 2, 2, 2, 2, 2,\n",
       "        2, 2, 2, 2, 2, 2, 2, 2, 2, 2, 2, 2]),\n",
       " array([2, 2, 2, 2, 2, 2, 2, 2, 2, 2, 2, 2, 2, 2, 2, 2, 2, 2, 2, 2, 2, 2,\n",
       "        2, 2, 2, 2, 2, 2, 2, 2, 2, 2, 2]),\n",
       " array([2, 2, 2, 2, 2, 2, 2, 2, 2, 2, 2, 2, 2, 2, 2, 2, 2, 2, 2, 2, 2, 2,\n",
       "        2, 2, 2, 2]),\n",
       " array([2, 2, 2, 2, 2, 2, 2, 2, 2, 2]),\n",
       " array([2, 2, 2, 2, 2]),\n",
       " array([2, 2, 2, 2, 2, 2]),\n",
       " array([2, 2, 2, 2, 2, 2, 2, 2, 2, 2, 2, 2]),\n",
       " array([2, 2, 2, 2, 2, 2]),\n",
       " array([2, 2, 2, 2, 2, 2, 2, 2, 2, 2, 2, 2, 2, 2, 2, 2, 2, 2, 2]),\n",
       " array([2, 2, 2, 2, 2, 2, 2, 2, 2, 2, 2, 2, 2]),\n",
       " array([2, 2, 2, 2, 2, 2, 2, 2, 2, 2, 2, 2, 2, 2, 2, 2, 2, 2, 2]),\n",
       " array([2, 2, 2, 2, 2, 2, 2, 2, 2, 2, 2, 2, 2, 2, 2, 2, 2, 2, 2, 2, 2, 2,\n",
       "        2, 2, 2, 2, 2, 2, 2, 2, 2, 2, 2]),\n",
       " array([2, 2, 2, 2, 2, 2, 2, 2, 2, 2, 2, 2, 2, 2, 2, 2, 2, 2, 2, 2, 2, 2,\n",
       "        2, 2, 2, 2, 2, 2, 2, 2, 2, 2, 2, 2, 2, 2, 2, 2, 2]),\n",
       " array([2, 2, 2, 2, 2, 2, 2, 2, 2, 2, 2, 2, 2, 2, 2, 2]),\n",
       " array([2, 2, 2, 2, 2, 2, 2, 2, 2, 2, 2, 2, 2, 2, 2, 2, 2, 2, 2, 2, 2, 2,\n",
       "        2, 2, 2, 2, 2, 2, 2, 2, 2, 2, 2]),\n",
       " array([2, 2, 2, 2, 2, 2, 2, 2, 2, 2, 2, 2, 2, 2, 2, 2, 2, 2, 2, 2, 2, 2,\n",
       "        2, 2, 2, 2, 2, 2, 2, 2, 2, 2, 2, 2, 2, 2, 2, 2, 2, 2, 2, 2, 2]),\n",
       " array([2, 2, 2, 2, 2, 2, 2, 2, 2, 2, 2, 2, 2, 2, 2, 2, 2, 2, 2, 2, 2, 2,\n",
       "        2, 2, 2, 2, 2, 2, 2, 2, 2, 2]),\n",
       " array([2, 2, 2, 2, 2, 2, 2, 2, 2, 2, 2, 2, 2, 2, 2, 2, 2, 2, 2, 2, 2, 2,\n",
       "        2, 2, 2, 2, 2, 2, 2, 2, 2, 2, 2, 2, 2, 2, 2, 2, 2, 2, 2, 2, 2, 2,\n",
       "        2, 2, 2, 2]),\n",
       " array([2, 2, 2, 2, 2, 2, 2, 2, 2, 2, 2, 2, 2, 2, 2, 2, 2, 2, 2, 2, 2, 2,\n",
       "        2, 2, 2, 2, 2, 2, 2, 2, 2, 2, 2, 2]),\n",
       " array([2, 2, 2, 2, 2, 2, 2, 2, 2, 2]),\n",
       " array([2, 2, 2, 2, 2, 2, 2, 2, 2, 2, 2, 2, 2, 2, 2]),\n",
       " array([2, 2, 2, 2, 2]),\n",
       " array([2, 2, 2, 2]),\n",
       " array([2, 2, 2, 2, 2, 2, 2, 2, 2]),\n",
       " array([2, 2, 2, 2, 2, 2, 2, 2, 2, 2, 2, 2, 2, 2, 2, 2, 2, 2, 2, 2, 2]),\n",
       " array([2, 2, 2, 2]),\n",
       " array([2, 2, 2, 2, 2, 2, 2]),\n",
       " array([2, 2, 2, 2, 2, 2, 2, 2, 2, 2, 2, 2, 2, 2, 2, 2, 2, 2, 2, 2, 2, 2,\n",
       "        2, 2, 2, 2, 2, 2, 2, 2, 2, 2, 2, 2, 2]),\n",
       " array([2, 2, 2, 2, 2, 2, 2, 2, 2, 2, 2, 2, 2, 2, 2, 2, 2, 2, 2, 2, 2, 2,\n",
       "        2, 2, 2, 2, 2, 2, 2, 2, 2, 2, 2, 2, 2, 2, 2, 2, 2, 2, 2, 2, 2, 2,\n",
       "        2]),\n",
       " array([2, 2, 2, 2, 2, 2, 2, 2, 2, 2, 2, 2, 2, 2, 2, 2, 2, 2, 2, 2, 2, 2,\n",
       "        2, 2, 2, 2, 2, 2, 2, 2, 2, 2, 2, 2, 2, 2, 2, 2, 2]),\n",
       " array([2, 2, 2, 2, 2, 2, 2, 2, 2, 2, 2, 2, 2, 2, 2, 2, 2, 2, 2, 2, 2, 2,\n",
       "        2, 2, 2]),\n",
       " array([2, 2, 2, 2, 2, 2, 2, 2, 2, 2, 2]),\n",
       " array([2, 2, 2, 2, 2, 2, 2, 2, 2, 2]),\n",
       " array([2, 2, 2, 2, 2, 2, 2, 2, 2, 2, 2, 2, 2]),\n",
       " array([2, 2, 2, 2, 2, 2, 2, 2, 2, 2, 2, 2, 2, 2, 2, 2, 2, 2, 2, 2, 2, 2,\n",
       "        2, 2, 2, 2, 2, 2, 2, 2, 2, 2, 2, 2, 2]),\n",
       " array([2, 2, 2, 2, 2, 2, 2, 2, 2, 2, 2]),\n",
       " array([2, 2, 2, 2, 2, 2, 2, 2, 2, 2, 2]),\n",
       " array([2, 2, 2, 2, 2, 2, 2, 2]),\n",
       " array([2, 2, 2, 2, 2, 2, 2, 2, 2, 2, 2, 2, 2, 2, 2, 2, 2, 2, 2, 2, 2, 2,\n",
       "        2]),\n",
       " array([2, 2, 2, 2, 2, 2, 2, 2, 2, 2, 2]),\n",
       " array([2, 2, 2, 2, 2, 2, 2, 2, 2, 2, 2, 2, 2, 2, 2, 2, 2, 2, 2, 2, 2, 2,\n",
       "        2, 2, 2, 2, 2, 2, 2, 2, 2, 2, 2, 2, 2, 2, 2, 2, 2, 2, 2, 2, 2, 2,\n",
       "        2, 2]),\n",
       " array([2, 2, 2, 2, 2, 2, 2, 2, 2, 2, 2, 2, 2, 2, 2, 2, 2, 2]),\n",
       " array([2, 2, 2, 2, 2, 2, 2, 2, 2, 2, 2, 2, 2, 2, 2, 2, 2, 2, 2, 2, 2, 2,\n",
       "        2, 2, 2, 2, 2, 2, 2, 2, 2, 2, 2, 2, 2, 2, 2, 2, 2, 2, 2, 2, 2]),\n",
       " array([2]),\n",
       " array([2, 2, 2, 2, 2, 2, 2, 2, 2, 2, 2, 2, 2, 2, 2, 2, 2, 2, 2, 2, 2, 2,\n",
       "        2, 2, 2, 2, 2, 2, 2, 2, 2, 2, 2, 2, 2, 2, 2, 2, 2, 2, 2, 2, 2]),\n",
       " array([2, 2, 2, 2, 2, 2, 2, 2, 2, 2, 2, 2, 2, 2, 2, 2, 2, 2, 2, 2, 2, 2,\n",
       "        2, 2, 2, 2, 2, 2, 2]),\n",
       " array([2, 2, 2, 2, 2, 2, 2, 2, 2, 2, 2, 2, 2, 2, 2, 2, 2, 2, 2, 2]),\n",
       " array([2, 2, 2, 2, 2, 2, 2, 2, 2, 2, 2, 2, 2]),\n",
       " array([2, 2, 2, 2, 2, 2, 2, 2, 2, 2, 2, 2, 2, 2, 2, 2, 2, 2, 2, 2, 2, 2,\n",
       "        2, 2, 2, 2]),\n",
       " array([2, 2, 2, 2, 2, 2, 2, 2, 2, 2, 2, 2, 2, 2, 2, 2, 2, 2, 2, 2, 2, 2]),\n",
       " array([2, 2, 2, 2, 2, 2, 2, 2, 2, 2, 2, 2, 2, 2, 2, 2, 2, 2, 2, 2, 2, 2,\n",
       "        2, 2, 2, 2, 2, 2, 2, 2, 2, 2, 2, 2, 2, 2, 2, 2, 2, 2, 2, 2, 2, 2]),\n",
       " array([2, 2, 2, 2, 2, 2]),\n",
       " array([2, 2, 2, 2, 2, 2, 2, 2, 2, 2]),\n",
       " array([2, 2, 2, 2, 2, 2, 2, 2, 2]),\n",
       " array([2, 2, 2, 2, 2, 2, 2, 2]),\n",
       " array([2, 2, 2, 2, 2, 2, 2, 2, 2, 2, 2, 2, 2, 2, 2, 2, 2, 2, 2, 2, 2, 2,\n",
       "        2, 2, 2, 2, 2, 2, 2, 2, 2, 2, 2]),\n",
       " array([2, 2, 2, 2, 2, 2, 2, 2, 2, 2, 2, 2, 2, 2, 2, 2, 2, 2, 2, 2]),\n",
       " array([2, 2, 2, 2, 2, 2, 2, 2]),\n",
       " array([2, 2, 2, 2, 2, 2, 2, 2, 2]),\n",
       " array([2, 2, 2]),\n",
       " array([2, 2, 2, 2, 2, 2, 2, 2, 2]),\n",
       " array([2, 2, 2, 2, 2, 2, 2, 2, 2, 2, 2]),\n",
       " array([2, 2, 2, 2, 2, 2, 2, 2]),\n",
       " array([2, 2, 2, 2, 2, 2, 2, 2, 2, 2, 2, 2, 2]),\n",
       " array([2, 2, 2, 2, 2, 2, 2, 2, 2, 2, 2, 2, 2, 2, 2, 2, 2, 2, 2, 2, 2, 2,\n",
       "        2, 2, 2, 2, 2, 2, 2, 2, 2, 2, 2, 2, 2, 2, 2, 2, 2, 2]),\n",
       " array([2, 2, 2, 2, 2, 2, 2, 2, 2, 2, 2, 2, 2, 2, 2, 2, 2, 2, 2, 2, 2, 2,\n",
       "        2, 2, 2, 2, 2, 2, 2, 2, 2, 2, 2, 2, 2, 2, 2, 2, 2, 2, 2, 2, 2, 2]),\n",
       " array([2, 2, 2, 2, 2, 2, 2, 2, 2, 2, 2, 2, 2, 2, 2, 2, 2, 2, 2, 2, 2, 2,\n",
       "        2, 2, 2, 2, 2, 2, 2, 2, 2, 2, 2, 2, 2, 2, 2, 2, 2, 2]),\n",
       " array([2, 2, 2, 2, 2, 2, 2, 2, 2, 2, 2]),\n",
       " array([2, 2, 2, 2, 2, 2, 2, 2, 2, 2, 2, 2, 2, 2, 2, 2, 2, 2, 2, 2, 2, 2,\n",
       "        2, 2, 2, 2, 2, 2, 2, 2, 2, 2, 2, 2, 2, 2, 2, 2, 2, 2]),\n",
       " array([2, 2]),\n",
       " array([2, 2, 2, 2, 2, 2, 2, 2, 2, 2, 2, 2, 2, 2, 2, 2]),\n",
       " array([2, 2, 2, 2, 2, 2, 2, 2, 2, 2, 2, 2, 2, 2, 2, 2]),\n",
       " array([2, 2, 2]),\n",
       " array([2, 2, 2, 2, 2, 2, 2, 2, 2, 2, 2, 2, 2, 2, 2]),\n",
       " array([2, 2, 2, 2, 2, 2, 2, 2, 2, 2, 2, 2, 2, 2, 2, 2, 2, 2, 2, 2, 2]),\n",
       " array([2, 2, 2, 2]),\n",
       " array([2, 2, 2, 2, 2, 2, 2, 2, 2, 2, 2, 2, 2, 2, 2, 2, 2, 2, 2, 2, 2, 2,\n",
       "        2, 2, 2, 2, 2, 2, 2, 2, 2, 2, 2, 2, 2, 2, 2, 2, 2, 2, 2, 2, 2, 2,\n",
       "        2, 2, 2, 2, 2, 2]),\n",
       " array([2, 2, 2, 2, 2, 2, 2, 2, 2, 2, 2, 2, 2, 2, 2, 2, 2]),\n",
       " array([2, 2, 2, 2, 2, 2, 2, 2, 2, 2, 2, 2, 2, 2, 2, 2, 2, 2, 2, 2, 2, 2,\n",
       "        2, 2, 2, 2, 2, 2, 2, 2, 2, 2, 2, 2, 2, 2, 2, 2, 2, 2, 2, 2, 2]),\n",
       " array([2, 2, 2, 2, 2, 2, 2, 2, 2, 2, 2, 2, 2]),\n",
       " array([2, 2, 2, 2, 2, 2, 2, 2, 2, 2, 2, 2, 2, 2, 2, 2, 2, 2, 2, 2, 2]),\n",
       " array([2, 2, 2, 2, 2, 2, 2, 2, 2, 2, 2, 2, 2, 2, 2, 2, 2, 2, 2, 2, 2, 2,\n",
       "        2, 2, 2, 2, 2, 2, 2, 2, 2, 2, 2, 2, 2, 2, 2, 2, 2, 2, 2, 2, 2]),\n",
       " array([2, 2, 2, 2, 2]),\n",
       " array([2, 2, 2, 2, 2, 2, 2, 2, 2, 2, 2, 2]),\n",
       " array([2, 2, 2, 2, 2, 2, 2, 2, 2]),\n",
       " array([2, 2, 2, 2, 2, 2, 2, 2, 2, 2, 2, 2, 2, 2]),\n",
       " array([2, 2, 2, 2, 2, 2, 2, 2, 2, 2, 2, 2, 2, 2]),\n",
       " array([2, 2, 2, 2, 2, 2, 2, 2, 2, 2, 2, 2, 2, 2, 2, 2]),\n",
       " array([2, 2, 2, 2, 2, 2, 2, 2, 2, 2, 2, 2, 2, 2, 2, 2, 2, 2, 2, 2, 2, 2,\n",
       "        2, 2, 2, 2, 2, 2, 2, 2, 2, 2, 2, 2, 2, 2, 2, 2, 2, 2, 2, 2, 2]),\n",
       " array([2, 2, 2, 2, 2, 2]),\n",
       " array([2, 2, 2, 2, 2, 2, 2, 2, 2, 2, 2, 2, 2, 2]),\n",
       " array([2, 2, 2, 2, 2, 2, 2, 2, 2, 2, 2, 2, 2, 2, 2, 2, 2, 2, 2, 2, 2, 2,\n",
       "        2, 2]),\n",
       " array([2, 2, 2, 2, 2, 2, 2, 2, 2, 2]),\n",
       " array([2, 2, 2, 2, 2, 2, 2, 2, 2, 2]),\n",
       " array([2, 2, 2, 2, 2, 2, 2, 2, 2]),\n",
       " array([2, 2, 2, 2, 2, 2, 2, 2, 2, 2, 2]),\n",
       " array([2, 2, 2]),\n",
       " array([2, 2, 2, 2, 2, 2, 2, 2, 2, 2, 2, 2, 2, 2, 2, 2, 2]),\n",
       " array([2, 2, 2, 2, 2, 2, 2, 2, 2, 2, 2, 2, 2, 2, 2, 2, 2, 2, 2, 2, 2, 2,\n",
       "        2, 2, 2, 2, 2, 2, 2, 2, 2, 2, 2, 2, 2, 2, 2, 2, 2, 2, 2, 2]),\n",
       " array([2, 2, 2, 2, 2, 2, 2, 2, 2, 2, 2, 2, 2, 2, 2, 2, 2, 2, 2]),\n",
       " array([2, 2, 2, 2, 2, 2, 2, 2, 2, 2, 2, 2, 2, 2, 2]),\n",
       " array([2, 2, 2, 2, 2, 2]),\n",
       " array([2, 2, 2, 2, 2, 2, 2, 2, 2, 2]),\n",
       " array([2, 2, 2, 2, 2, 2, 2, 2, 2, 2, 2, 2, 2, 2, 2, 2, 2, 2]),\n",
       " array([2, 2, 2, 2, 2, 2, 2, 2, 2, 2, 2]),\n",
       " array([2, 2, 2, 2, 2, 2, 2, 2, 2, 2, 2, 2, 2, 2, 2, 2, 2, 2, 2, 2, 2, 2,\n",
       "        2, 2, 2, 2, 2, 2, 2, 2, 2, 2, 2, 2, 2, 2, 2, 2, 2, 2]),\n",
       " array([2, 2, 2, 2, 2, 2, 2, 2, 2, 2, 2, 2, 2, 2, 2, 2, 2, 2, 2, 2, 2, 2,\n",
       "        2, 2, 2, 2, 2]),\n",
       " array([2]),\n",
       " array([2, 2, 2, 2, 2, 2, 2, 2, 2, 2, 2, 2, 2, 2, 2, 2, 2, 2, 2, 2, 2, 2]),\n",
       " array([2, 2, 2, 2, 2, 2]),\n",
       " array([2, 2, 2, 2, 2, 2, 2, 2, 2, 2, 2, 2]),\n",
       " array([2, 2, 2, 2, 2, 2, 2, 2, 2, 2, 2, 2, 2, 2, 2, 2, 2, 2, 2, 2, 2, 2,\n",
       "        2, 2, 2, 2, 2, 2]),\n",
       " array([2, 2, 2, 2, 2, 2, 2, 2, 2, 2, 2, 2, 2, 2, 2, 2, 2, 2, 2, 2, 2, 2,\n",
       "        2, 2, 2, 2, 2, 2]),\n",
       " array([2, 2, 2, 2, 2, 2, 2, 2, 2, 2, 2, 2, 2, 2, 2, 2, 2, 2, 2, 2, 2, 2,\n",
       "        2, 2, 2, 2, 2, 2, 2, 2, 2, 2, 2, 2, 2, 2, 2, 2, 2, 2, 2, 2, 2, 2]),\n",
       " array([2, 2, 2, 2]),\n",
       " array([2, 2, 2, 2, 2, 2, 2, 2, 2, 2, 2]),\n",
       " array([2, 2, 2, 2, 2, 2, 2, 2, 2, 2, 2, 2, 2, 2, 2, 2, 2, 2, 2, 2, 2, 2,\n",
       "        2, 2, 2, 2, 2, 2, 2, 2, 2, 2, 2, 2, 2, 2, 2, 2]),\n",
       " array([2, 2, 2, 2, 2, 2, 2, 2, 2, 2, 2, 2, 2, 2, 2, 2]),\n",
       " array([2, 2, 2, 2, 2, 2, 2, 2, 2, 2, 2, 2, 2]),\n",
       " array([2, 2, 2, 2, 2, 2, 2, 2, 2, 2, 2, 2, 2, 2, 2, 2]),\n",
       " array([2, 2, 2, 2, 2, 2, 2, 2, 2, 2, 2]),\n",
       " array([2, 2, 2, 2, 2, 2, 2, 2, 2]),\n",
       " array([2, 2, 2, 2, 2, 2, 2, 2, 2, 2]),\n",
       " array([2, 2, 2, 2, 2, 2, 2]),\n",
       " array([2, 2, 2, 2, 2, 2, 2, 2, 2, 2, 2, 2, 2, 2]),\n",
       " array([2, 2, 2, 2, 2, 2, 2, 2, 2, 2, 2, 2, 2, 2, 2, 2, 2, 2]),\n",
       " array([2, 2, 2, 2, 2, 2, 2, 2, 2, 2, 2, 2, 2, 2, 2, 2, 2, 2, 2, 2, 2, 2,\n",
       "        2, 2, 2, 2, 2, 2, 2, 2, 2, 2, 2]),\n",
       " array([2, 2, 2, 2, 2, 2, 2, 2, 2, 2]),\n",
       " array([2, 2, 2, 2, 2]),\n",
       " array([2, 2, 2, 2, 2, 2, 2, 2, 2, 2]),\n",
       " array([2, 2, 2, 2, 2, 2, 2, 2, 2, 2, 2, 2, 2, 2, 2, 2, 2, 2, 2, 2, 2, 2,\n",
       "        2, 2, 2, 2, 2, 2, 2, 2, 2, 2, 2, 2, 2, 2, 2, 2, 2, 2, 2, 2, 2, 2,\n",
       "        2, 2, 2, 2, 2]),\n",
       " array([2, 2, 2, 2, 2, 2, 2, 2, 2, 2, 2, 2, 2, 2, 2, 2, 2, 2, 2, 2, 2, 2,\n",
       "        2, 2, 2, 2, 2, 2, 2, 2, 2, 2, 2, 2, 2, 2, 2]),\n",
       " array([2, 2, 2, 2, 2, 2, 2, 2, 2, 2, 2, 2, 2, 2, 2, 2, 2, 2, 2, 2, 2, 2,\n",
       "        2, 2, 2, 2, 2, 2]),\n",
       " array([2, 2, 2, 2, 2, 2, 2, 2, 2, 2, 2, 2, 2, 2, 2, 2, 2, 2, 2, 2, 2, 2]),\n",
       " array([2, 2, 2, 2, 2, 2, 2, 2, 2, 2, 2, 2, 2, 2, 2]),\n",
       " array([2, 2, 2, 2, 2, 2, 2, 2, 2, 2, 2, 2, 2, 2, 2, 2, 2, 2, 2, 2, 2, 2,\n",
       "        2, 2, 2, 2, 2, 2, 2, 2, 2, 2, 2, 2, 2, 2, 2, 2, 2, 2, 2, 2, 2, 2,\n",
       "        2, 2, 2, 2]),\n",
       " array([2, 2, 2, 2, 2, 2, 2, 2, 2, 2, 2, 2, 2, 2, 2, 2, 2, 2, 2, 2, 2, 2,\n",
       "        2, 2, 2, 2, 2, 2, 2, 2, 2, 2, 2, 2, 2, 2, 2, 2, 2, 2, 2, 2, 2, 2]),\n",
       " array([2, 2, 2, 2, 2, 2, 2, 2, 2, 2, 2, 2, 2, 2, 2, 2, 2, 2]),\n",
       " array([2, 2, 2, 2, 2, 2, 2, 2, 2, 2, 2, 2, 2, 2, 2, 2]),\n",
       " array([2, 2, 2, 2, 2, 2, 2, 2, 2, 2, 2, 2, 2, 2, 2, 2, 2, 2, 2, 2, 2, 2,\n",
       "        2, 2, 2, 2, 2, 2, 2, 2]),\n",
       " array([2, 2, 2, 2, 2, 2, 2, 2, 2, 2, 2, 2, 2, 2, 2]),\n",
       " array([2, 2, 2, 2, 2, 2, 2, 2]),\n",
       " array([2, 2, 2, 2, 2, 2, 2, 2]),\n",
       " array([2, 2, 2, 2, 2, 2, 2, 2, 2, 2, 2, 2, 2, 2, 2]),\n",
       " array([2, 2, 2, 2, 2, 2, 2, 2, 2, 2, 2, 2, 2, 2, 2, 2]),\n",
       " array([2, 2, 2, 2, 2, 2, 2, 2, 2, 2, 2, 2, 2, 2, 2, 2, 2, 2, 2, 2, 2, 2,\n",
       "        2, 2, 2, 2, 2]),\n",
       " array([2, 2, 2, 2, 2, 2, 2, 2, 2, 2, 2, 2, 2, 2, 2]),\n",
       " array([2, 2, 2, 2, 2, 2, 2, 2, 2, 2, 2, 2, 2, 2, 2, 2, 2, 2, 2]),\n",
       " array([2, 2, 2, 2, 2, 2, 2, 2, 2, 2]),\n",
       " array([2, 2, 2, 2, 2, 2, 2, 2, 2, 2, 2, 2, 2, 2, 2, 2, 2, 2, 2, 2, 2]),\n",
       " array([2, 2, 2, 2, 2, 2, 2, 2, 2, 2, 2, 2, 2]),\n",
       " array([2, 2, 2, 2, 2, 2, 2, 2, 2, 2, 2, 2, 2]),\n",
       " array([2, 2, 2, 2, 2, 2, 2]),\n",
       " array([2, 2, 2, 2, 2, 2, 2, 2, 2, 2, 2, 2, 2, 2]),\n",
       " array([2, 2, 2, 2, 2, 2, 2, 2, 2, 2, 2]),\n",
       " array([2, 2, 2, 2, 2, 2, 2, 2, 2, 2, 2, 2, 2, 2, 2, 2, 2]),\n",
       " array([2, 2, 2, 2, 2, 2, 2, 2, 2, 2, 2, 2, 2, 2, 2, 2, 2, 2, 2, 2, 2, 2,\n",
       "        2, 2, 2, 2, 2]),\n",
       " array([2, 2, 2, 2, 2, 2, 2, 2, 2, 2, 2, 2, 2, 2, 2, 2, 2, 2, 2, 2, 2, 2,\n",
       "        2, 2, 2, 2, 2, 2, 2, 2]),\n",
       " array([2, 2, 2, 2, 2, 2, 2, 2, 2, 2, 2, 2]),\n",
       " array([2, 2, 2, 2, 2, 2, 2, 2, 2, 2, 2, 2, 2, 2, 2, 2, 2, 2]),\n",
       " array([2]),\n",
       " array([2, 2, 2, 2, 2, 2, 2, 2, 2, 2, 2, 2, 2]),\n",
       " array([2, 2, 2, 2, 2, 2, 2, 2, 2, 2, 2, 2, 2, 2, 2, 2, 2, 2, 2, 2, 2, 2,\n",
       "        2, 2, 2, 2, 2, 2, 2, 2, 2, 2, 2, 2, 2, 2]),\n",
       " array([2, 2, 2, 2, 2, 2, 2]),\n",
       " array([2, 2, 2, 2, 2, 2, 2, 2, 2, 2, 2, 2, 2, 2]),\n",
       " array([2, 2, 2, 2, 2, 2, 2, 2, 2]),\n",
       " array([2, 2, 2, 2, 2, 2, 2, 2, 2, 2, 2, 2])]"
      ]
     },
     "execution_count": 342,
     "metadata": {},
     "output_type": "execute_result"
    }
   ],
   "source": [
    "xf = []\n",
    "for tc in df2['tokenized_comments']:\n",
    "    if type(tc) is list:\n",
    "        xf.append(np.full(len(tc),2,np.int))\n",
    "xf"
   ]
  },
  {
   "cell_type": "code",
   "execution_count": 343,
   "metadata": {},
   "outputs": [
    {
     "data": {
      "text/html": [
       "<div>\n",
       "<style scoped>\n",
       "    .dataframe tbody tr th:only-of-type {\n",
       "        vertical-align: middle;\n",
       "    }\n",
       "\n",
       "    .dataframe tbody tr th {\n",
       "        vertical-align: top;\n",
       "    }\n",
       "\n",
       "    .dataframe thead th {\n",
       "        text-align: right;\n",
       "    }\n",
       "</style>\n",
       "<table border=\"1\" class=\"dataframe\">\n",
       "  <thead>\n",
       "    <tr style=\"text-align: right;\">\n",
       "      <th></th>\n",
       "      <th>0</th>\n",
       "      <th>1</th>\n",
       "      <th>2</th>\n",
       "      <th>3</th>\n",
       "      <th>4</th>\n",
       "      <th>5</th>\n",
       "      <th>6</th>\n",
       "      <th>7</th>\n",
       "      <th>8</th>\n",
       "      <th>9</th>\n",
       "      <th>...</th>\n",
       "      <th>175</th>\n",
       "      <th>176</th>\n",
       "      <th>177</th>\n",
       "      <th>178</th>\n",
       "      <th>179</th>\n",
       "      <th>180</th>\n",
       "      <th>181</th>\n",
       "      <th>182</th>\n",
       "      <th>183</th>\n",
       "      <th>184</th>\n",
       "    </tr>\n",
       "  </thead>\n",
       "  <tbody>\n",
       "    <tr>\n",
       "      <th>0</th>\n",
       "      <td>2.0</td>\n",
       "      <td>2.0</td>\n",
       "      <td>2.0</td>\n",
       "      <td>2.0</td>\n",
       "      <td>2.0</td>\n",
       "      <td>2.0</td>\n",
       "      <td>2.0</td>\n",
       "      <td>2.0</td>\n",
       "      <td>2.0</td>\n",
       "      <td>2.0</td>\n",
       "      <td>...</td>\n",
       "      <td>2.0</td>\n",
       "      <td>2.0</td>\n",
       "      <td>2.0</td>\n",
       "      <td>2.0</td>\n",
       "      <td>2.0</td>\n",
       "      <td>2.0</td>\n",
       "      <td>2.0</td>\n",
       "      <td>2.0</td>\n",
       "      <td>2.0</td>\n",
       "      <td>2.0</td>\n",
       "    </tr>\n",
       "    <tr>\n",
       "      <th>1</th>\n",
       "      <td>2.0</td>\n",
       "      <td>2.0</td>\n",
       "      <td>2.0</td>\n",
       "      <td>2.0</td>\n",
       "      <td>2.0</td>\n",
       "      <td>2.0</td>\n",
       "      <td>2.0</td>\n",
       "      <td>2.0</td>\n",
       "      <td>2.0</td>\n",
       "      <td>2.0</td>\n",
       "      <td>...</td>\n",
       "      <td>2.0</td>\n",
       "      <td>2.0</td>\n",
       "      <td>2.0</td>\n",
       "      <td>NaN</td>\n",
       "      <td>2.0</td>\n",
       "      <td>2.0</td>\n",
       "      <td>2.0</td>\n",
       "      <td>2.0</td>\n",
       "      <td>2.0</td>\n",
       "      <td>2.0</td>\n",
       "    </tr>\n",
       "    <tr>\n",
       "      <th>2</th>\n",
       "      <td>2.0</td>\n",
       "      <td>2.0</td>\n",
       "      <td>2.0</td>\n",
       "      <td>2.0</td>\n",
       "      <td>2.0</td>\n",
       "      <td>2.0</td>\n",
       "      <td>2.0</td>\n",
       "      <td>2.0</td>\n",
       "      <td>2.0</td>\n",
       "      <td>2.0</td>\n",
       "      <td>...</td>\n",
       "      <td>2.0</td>\n",
       "      <td>2.0</td>\n",
       "      <td>2.0</td>\n",
       "      <td>NaN</td>\n",
       "      <td>2.0</td>\n",
       "      <td>2.0</td>\n",
       "      <td>2.0</td>\n",
       "      <td>2.0</td>\n",
       "      <td>2.0</td>\n",
       "      <td>2.0</td>\n",
       "    </tr>\n",
       "    <tr>\n",
       "      <th>3</th>\n",
       "      <td>2.0</td>\n",
       "      <td>2.0</td>\n",
       "      <td>2.0</td>\n",
       "      <td>2.0</td>\n",
       "      <td>2.0</td>\n",
       "      <td>2.0</td>\n",
       "      <td>2.0</td>\n",
       "      <td>2.0</td>\n",
       "      <td>2.0</td>\n",
       "      <td>2.0</td>\n",
       "      <td>...</td>\n",
       "      <td>2.0</td>\n",
       "      <td>2.0</td>\n",
       "      <td>2.0</td>\n",
       "      <td>NaN</td>\n",
       "      <td>2.0</td>\n",
       "      <td>2.0</td>\n",
       "      <td>2.0</td>\n",
       "      <td>2.0</td>\n",
       "      <td>2.0</td>\n",
       "      <td>2.0</td>\n",
       "    </tr>\n",
       "    <tr>\n",
       "      <th>4</th>\n",
       "      <td>2.0</td>\n",
       "      <td>2.0</td>\n",
       "      <td>2.0</td>\n",
       "      <td>2.0</td>\n",
       "      <td>2.0</td>\n",
       "      <td>2.0</td>\n",
       "      <td>2.0</td>\n",
       "      <td>2.0</td>\n",
       "      <td>2.0</td>\n",
       "      <td>2.0</td>\n",
       "      <td>...</td>\n",
       "      <td>2.0</td>\n",
       "      <td>2.0</td>\n",
       "      <td>2.0</td>\n",
       "      <td>NaN</td>\n",
       "      <td>2.0</td>\n",
       "      <td>2.0</td>\n",
       "      <td>2.0</td>\n",
       "      <td>2.0</td>\n",
       "      <td>2.0</td>\n",
       "      <td>2.0</td>\n",
       "    </tr>\n",
       "  </tbody>\n",
       "</table>\n",
       "<p>5 rows × 185 columns</p>\n",
       "</div>"
      ],
      "text/plain": [
       "   0    1    2    3    4    5    6    7    8    9    ...  175  176  177  178  \\\n",
       "0  2.0  2.0  2.0  2.0  2.0  2.0  2.0  2.0  2.0  2.0  ...  2.0  2.0  2.0  2.0   \n",
       "1  2.0  2.0  2.0  2.0  2.0  2.0  2.0  2.0  2.0  2.0  ...  2.0  2.0  2.0  NaN   \n",
       "2  2.0  2.0  2.0  2.0  2.0  2.0  2.0  2.0  2.0  2.0  ...  2.0  2.0  2.0  NaN   \n",
       "3  2.0  2.0  2.0  2.0  2.0  2.0  2.0  2.0  2.0  2.0  ...  2.0  2.0  2.0  NaN   \n",
       "4  2.0  2.0  2.0  2.0  2.0  2.0  2.0  2.0  2.0  2.0  ...  2.0  2.0  2.0  NaN   \n",
       "\n",
       "   179  180  181  182  183  184  \n",
       "0  2.0  2.0  2.0  2.0  2.0  2.0  \n",
       "1  2.0  2.0  2.0  2.0  2.0  2.0  \n",
       "2  2.0  2.0  2.0  2.0  2.0  2.0  \n",
       "3  2.0  2.0  2.0  2.0  2.0  2.0  \n",
       "4  2.0  2.0  2.0  2.0  2.0  2.0  \n",
       "\n",
       "[5 rows x 185 columns]"
      ]
     },
     "execution_count": 343,
     "metadata": {},
     "output_type": "execute_result"
    }
   ],
   "source": [
    "s =pd.DataFrame(xf)\n",
    "df3 = s.T\n",
    "df3.head()"
   ]
  },
  {
   "cell_type": "code",
   "execution_count": 344,
   "metadata": {},
   "outputs": [
    {
     "data": {
      "text/html": [
       "<div>\n",
       "<style scoped>\n",
       "    .dataframe tbody tr th:only-of-type {\n",
       "        vertical-align: middle;\n",
       "    }\n",
       "\n",
       "    .dataframe tbody tr th {\n",
       "        vertical-align: top;\n",
       "    }\n",
       "\n",
       "    .dataframe thead th {\n",
       "        text-align: right;\n",
       "    }\n",
       "</style>\n",
       "<table border=\"1\" class=\"dataframe\">\n",
       "  <thead>\n",
       "    <tr style=\"text-align: right;\">\n",
       "      <th></th>\n",
       "      <th>0</th>\n",
       "      <th>1</th>\n",
       "      <th>2</th>\n",
       "      <th>3</th>\n",
       "      <th>4</th>\n",
       "      <th>5</th>\n",
       "      <th>6</th>\n",
       "      <th>7</th>\n",
       "      <th>8</th>\n",
       "      <th>9</th>\n",
       "      <th>...</th>\n",
       "      <th>175</th>\n",
       "      <th>176</th>\n",
       "      <th>177</th>\n",
       "      <th>178</th>\n",
       "      <th>179</th>\n",
       "      <th>180</th>\n",
       "      <th>181</th>\n",
       "      <th>182</th>\n",
       "      <th>183</th>\n",
       "      <th>184</th>\n",
       "    </tr>\n",
       "  </thead>\n",
       "  <tbody>\n",
       "    <tr>\n",
       "      <th>0</th>\n",
       "      <td>0.0</td>\n",
       "      <td>1.0</td>\n",
       "      <td>2.0</td>\n",
       "      <td>3.0</td>\n",
       "      <td>4.0</td>\n",
       "      <td>5.0</td>\n",
       "      <td>6.0</td>\n",
       "      <td>7.0</td>\n",
       "      <td>8.0</td>\n",
       "      <td>9.0</td>\n",
       "      <td>...</td>\n",
       "      <td>175.0</td>\n",
       "      <td>176.0</td>\n",
       "      <td>177.0</td>\n",
       "      <td>178.0</td>\n",
       "      <td>179.0</td>\n",
       "      <td>180.0</td>\n",
       "      <td>181.0</td>\n",
       "      <td>182.0</td>\n",
       "      <td>183.0</td>\n",
       "      <td>184.0</td>\n",
       "    </tr>\n",
       "    <tr>\n",
       "      <th>1</th>\n",
       "      <td>0.0</td>\n",
       "      <td>1.0</td>\n",
       "      <td>2.0</td>\n",
       "      <td>3.0</td>\n",
       "      <td>4.0</td>\n",
       "      <td>5.0</td>\n",
       "      <td>6.0</td>\n",
       "      <td>7.0</td>\n",
       "      <td>8.0</td>\n",
       "      <td>9.0</td>\n",
       "      <td>...</td>\n",
       "      <td>175.0</td>\n",
       "      <td>176.0</td>\n",
       "      <td>177.0</td>\n",
       "      <td>NaN</td>\n",
       "      <td>179.0</td>\n",
       "      <td>180.0</td>\n",
       "      <td>181.0</td>\n",
       "      <td>182.0</td>\n",
       "      <td>183.0</td>\n",
       "      <td>184.0</td>\n",
       "    </tr>\n",
       "    <tr>\n",
       "      <th>2</th>\n",
       "      <td>0.0</td>\n",
       "      <td>1.0</td>\n",
       "      <td>2.0</td>\n",
       "      <td>3.0</td>\n",
       "      <td>4.0</td>\n",
       "      <td>5.0</td>\n",
       "      <td>6.0</td>\n",
       "      <td>7.0</td>\n",
       "      <td>8.0</td>\n",
       "      <td>9.0</td>\n",
       "      <td>...</td>\n",
       "      <td>175.0</td>\n",
       "      <td>176.0</td>\n",
       "      <td>177.0</td>\n",
       "      <td>NaN</td>\n",
       "      <td>179.0</td>\n",
       "      <td>180.0</td>\n",
       "      <td>181.0</td>\n",
       "      <td>182.0</td>\n",
       "      <td>183.0</td>\n",
       "      <td>184.0</td>\n",
       "    </tr>\n",
       "    <tr>\n",
       "      <th>3</th>\n",
       "      <td>0.0</td>\n",
       "      <td>1.0</td>\n",
       "      <td>2.0</td>\n",
       "      <td>3.0</td>\n",
       "      <td>4.0</td>\n",
       "      <td>5.0</td>\n",
       "      <td>6.0</td>\n",
       "      <td>7.0</td>\n",
       "      <td>8.0</td>\n",
       "      <td>9.0</td>\n",
       "      <td>...</td>\n",
       "      <td>175.0</td>\n",
       "      <td>176.0</td>\n",
       "      <td>177.0</td>\n",
       "      <td>NaN</td>\n",
       "      <td>179.0</td>\n",
       "      <td>180.0</td>\n",
       "      <td>181.0</td>\n",
       "      <td>182.0</td>\n",
       "      <td>183.0</td>\n",
       "      <td>184.0</td>\n",
       "    </tr>\n",
       "    <tr>\n",
       "      <th>4</th>\n",
       "      <td>0.0</td>\n",
       "      <td>1.0</td>\n",
       "      <td>2.0</td>\n",
       "      <td>3.0</td>\n",
       "      <td>4.0</td>\n",
       "      <td>5.0</td>\n",
       "      <td>6.0</td>\n",
       "      <td>7.0</td>\n",
       "      <td>8.0</td>\n",
       "      <td>9.0</td>\n",
       "      <td>...</td>\n",
       "      <td>175.0</td>\n",
       "      <td>176.0</td>\n",
       "      <td>177.0</td>\n",
       "      <td>NaN</td>\n",
       "      <td>179.0</td>\n",
       "      <td>180.0</td>\n",
       "      <td>181.0</td>\n",
       "      <td>182.0</td>\n",
       "      <td>183.0</td>\n",
       "      <td>184.0</td>\n",
       "    </tr>\n",
       "    <tr>\n",
       "      <th>5</th>\n",
       "      <td>0.0</td>\n",
       "      <td>1.0</td>\n",
       "      <td>2.0</td>\n",
       "      <td>3.0</td>\n",
       "      <td>4.0</td>\n",
       "      <td>5.0</td>\n",
       "      <td>6.0</td>\n",
       "      <td>7.0</td>\n",
       "      <td>8.0</td>\n",
       "      <td>9.0</td>\n",
       "      <td>...</td>\n",
       "      <td>175.0</td>\n",
       "      <td>176.0</td>\n",
       "      <td>177.0</td>\n",
       "      <td>NaN</td>\n",
       "      <td>179.0</td>\n",
       "      <td>180.0</td>\n",
       "      <td>181.0</td>\n",
       "      <td>182.0</td>\n",
       "      <td>183.0</td>\n",
       "      <td>184.0</td>\n",
       "    </tr>\n",
       "    <tr>\n",
       "      <th>6</th>\n",
       "      <td>0.0</td>\n",
       "      <td>1.0</td>\n",
       "      <td>2.0</td>\n",
       "      <td>3.0</td>\n",
       "      <td>4.0</td>\n",
       "      <td>5.0</td>\n",
       "      <td>6.0</td>\n",
       "      <td>7.0</td>\n",
       "      <td>8.0</td>\n",
       "      <td>9.0</td>\n",
       "      <td>...</td>\n",
       "      <td>175.0</td>\n",
       "      <td>176.0</td>\n",
       "      <td>177.0</td>\n",
       "      <td>NaN</td>\n",
       "      <td>179.0</td>\n",
       "      <td>180.0</td>\n",
       "      <td>181.0</td>\n",
       "      <td>182.0</td>\n",
       "      <td>183.0</td>\n",
       "      <td>184.0</td>\n",
       "    </tr>\n",
       "    <tr>\n",
       "      <th>7</th>\n",
       "      <td>0.0</td>\n",
       "      <td>1.0</td>\n",
       "      <td>NaN</td>\n",
       "      <td>3.0</td>\n",
       "      <td>4.0</td>\n",
       "      <td>5.0</td>\n",
       "      <td>6.0</td>\n",
       "      <td>7.0</td>\n",
       "      <td>8.0</td>\n",
       "      <td>9.0</td>\n",
       "      <td>...</td>\n",
       "      <td>175.0</td>\n",
       "      <td>176.0</td>\n",
       "      <td>177.0</td>\n",
       "      <td>NaN</td>\n",
       "      <td>179.0</td>\n",
       "      <td>180.0</td>\n",
       "      <td>NaN</td>\n",
       "      <td>182.0</td>\n",
       "      <td>183.0</td>\n",
       "      <td>184.0</td>\n",
       "    </tr>\n",
       "    <tr>\n",
       "      <th>8</th>\n",
       "      <td>0.0</td>\n",
       "      <td>1.0</td>\n",
       "      <td>NaN</td>\n",
       "      <td>3.0</td>\n",
       "      <td>4.0</td>\n",
       "      <td>5.0</td>\n",
       "      <td>6.0</td>\n",
       "      <td>7.0</td>\n",
       "      <td>NaN</td>\n",
       "      <td>9.0</td>\n",
       "      <td>...</td>\n",
       "      <td>175.0</td>\n",
       "      <td>176.0</td>\n",
       "      <td>177.0</td>\n",
       "      <td>NaN</td>\n",
       "      <td>179.0</td>\n",
       "      <td>180.0</td>\n",
       "      <td>NaN</td>\n",
       "      <td>182.0</td>\n",
       "      <td>183.0</td>\n",
       "      <td>184.0</td>\n",
       "    </tr>\n",
       "    <tr>\n",
       "      <th>9</th>\n",
       "      <td>0.0</td>\n",
       "      <td>1.0</td>\n",
       "      <td>NaN</td>\n",
       "      <td>3.0</td>\n",
       "      <td>4.0</td>\n",
       "      <td>5.0</td>\n",
       "      <td>6.0</td>\n",
       "      <td>7.0</td>\n",
       "      <td>NaN</td>\n",
       "      <td>9.0</td>\n",
       "      <td>...</td>\n",
       "      <td>175.0</td>\n",
       "      <td>176.0</td>\n",
       "      <td>177.0</td>\n",
       "      <td>NaN</td>\n",
       "      <td>179.0</td>\n",
       "      <td>180.0</td>\n",
       "      <td>NaN</td>\n",
       "      <td>182.0</td>\n",
       "      <td>NaN</td>\n",
       "      <td>184.0</td>\n",
       "    </tr>\n",
       "  </tbody>\n",
       "</table>\n",
       "<p>10 rows × 185 columns</p>\n",
       "</div>"
      ],
      "text/plain": [
       "   0    1    2    3    4    5    6    7    8    9    ...    175    176    177  \\\n",
       "0  0.0  1.0  2.0  3.0  4.0  5.0  6.0  7.0  8.0  9.0  ...  175.0  176.0  177.0   \n",
       "1  0.0  1.0  2.0  3.0  4.0  5.0  6.0  7.0  8.0  9.0  ...  175.0  176.0  177.0   \n",
       "2  0.0  1.0  2.0  3.0  4.0  5.0  6.0  7.0  8.0  9.0  ...  175.0  176.0  177.0   \n",
       "3  0.0  1.0  2.0  3.0  4.0  5.0  6.0  7.0  8.0  9.0  ...  175.0  176.0  177.0   \n",
       "4  0.0  1.0  2.0  3.0  4.0  5.0  6.0  7.0  8.0  9.0  ...  175.0  176.0  177.0   \n",
       "5  0.0  1.0  2.0  3.0  4.0  5.0  6.0  7.0  8.0  9.0  ...  175.0  176.0  177.0   \n",
       "6  0.0  1.0  2.0  3.0  4.0  5.0  6.0  7.0  8.0  9.0  ...  175.0  176.0  177.0   \n",
       "7  0.0  1.0  NaN  3.0  4.0  5.0  6.0  7.0  8.0  9.0  ...  175.0  176.0  177.0   \n",
       "8  0.0  1.0  NaN  3.0  4.0  5.0  6.0  7.0  NaN  9.0  ...  175.0  176.0  177.0   \n",
       "9  0.0  1.0  NaN  3.0  4.0  5.0  6.0  7.0  NaN  9.0  ...  175.0  176.0  177.0   \n",
       "\n",
       "     178    179    180    181    182    183    184  \n",
       "0  178.0  179.0  180.0  181.0  182.0  183.0  184.0  \n",
       "1    NaN  179.0  180.0  181.0  182.0  183.0  184.0  \n",
       "2    NaN  179.0  180.0  181.0  182.0  183.0  184.0  \n",
       "3    NaN  179.0  180.0  181.0  182.0  183.0  184.0  \n",
       "4    NaN  179.0  180.0  181.0  182.0  183.0  184.0  \n",
       "5    NaN  179.0  180.0  181.0  182.0  183.0  184.0  \n",
       "6    NaN  179.0  180.0  181.0  182.0  183.0  184.0  \n",
       "7    NaN  179.0  180.0    NaN  182.0  183.0  184.0  \n",
       "8    NaN  179.0  180.0    NaN  182.0  183.0  184.0  \n",
       "9    NaN  179.0  180.0    NaN  182.0    NaN  184.0  \n",
       "\n",
       "[10 rows x 185 columns]"
      ]
     },
     "execution_count": 344,
     "metadata": {},
     "output_type": "execute_result"
    }
   ],
   "source": [
    "df4 = []\n",
    "for n in range(length):\n",
    "    df4.append(df3[n].replace(2,n))\n",
    "\n",
    "    \n",
    "df5 = pd.DataFrame(df4).T\n",
    "df5.head(10)\n"
   ]
  },
  {
   "cell_type": "code",
   "execution_count": 345,
   "metadata": {},
   "outputs": [
    {
     "data": {
      "text/html": [
       "<div>\n",
       "<style scoped>\n",
       "    .dataframe tbody tr th:only-of-type {\n",
       "        vertical-align: middle;\n",
       "    }\n",
       "\n",
       "    .dataframe tbody tr th {\n",
       "        vertical-align: top;\n",
       "    }\n",
       "\n",
       "    .dataframe thead th {\n",
       "        text-align: right;\n",
       "    }\n",
       "</style>\n",
       "<table border=\"1\" class=\"dataframe\">\n",
       "  <thead>\n",
       "    <tr style=\"text-align: right;\">\n",
       "      <th></th>\n",
       "      <th>0</th>\n",
       "      <th>1</th>\n",
       "      <th>2</th>\n",
       "      <th>3</th>\n",
       "      <th>4</th>\n",
       "      <th>5</th>\n",
       "      <th>6</th>\n",
       "      <th>7</th>\n",
       "      <th>8</th>\n",
       "      <th>9</th>\n",
       "      <th>...</th>\n",
       "      <th>175</th>\n",
       "      <th>176</th>\n",
       "      <th>177</th>\n",
       "      <th>178</th>\n",
       "      <th>179</th>\n",
       "      <th>180</th>\n",
       "      <th>181</th>\n",
       "      <th>182</th>\n",
       "      <th>183</th>\n",
       "      <th>184</th>\n",
       "    </tr>\n",
       "  </thead>\n",
       "  <tbody>\n",
       "    <tr>\n",
       "      <th>0</th>\n",
       "      <td>0.0</td>\n",
       "      <td>1.0</td>\n",
       "      <td>2.0</td>\n",
       "      <td>3.0</td>\n",
       "      <td>4.0</td>\n",
       "      <td>5.0</td>\n",
       "      <td>6.0</td>\n",
       "      <td>7.0</td>\n",
       "      <td>8.0</td>\n",
       "      <td>9.0</td>\n",
       "      <td>...</td>\n",
       "      <td>175.0</td>\n",
       "      <td>176.0</td>\n",
       "      <td>177.0</td>\n",
       "      <td>178.0</td>\n",
       "      <td>179.0</td>\n",
       "      <td>180.0</td>\n",
       "      <td>181.0</td>\n",
       "      <td>182.0</td>\n",
       "      <td>183.0</td>\n",
       "      <td>184.0</td>\n",
       "    </tr>\n",
       "    <tr>\n",
       "      <th>1</th>\n",
       "      <td>0.0</td>\n",
       "      <td>1.0</td>\n",
       "      <td>2.0</td>\n",
       "      <td>3.0</td>\n",
       "      <td>4.0</td>\n",
       "      <td>5.0</td>\n",
       "      <td>6.0</td>\n",
       "      <td>7.0</td>\n",
       "      <td>8.0</td>\n",
       "      <td>9.0</td>\n",
       "      <td>...</td>\n",
       "      <td>175.0</td>\n",
       "      <td>176.0</td>\n",
       "      <td>177.0</td>\n",
       "      <td>NaN</td>\n",
       "      <td>179.0</td>\n",
       "      <td>180.0</td>\n",
       "      <td>181.0</td>\n",
       "      <td>182.0</td>\n",
       "      <td>183.0</td>\n",
       "      <td>184.0</td>\n",
       "    </tr>\n",
       "    <tr>\n",
       "      <th>2</th>\n",
       "      <td>0.0</td>\n",
       "      <td>1.0</td>\n",
       "      <td>2.0</td>\n",
       "      <td>3.0</td>\n",
       "      <td>4.0</td>\n",
       "      <td>5.0</td>\n",
       "      <td>6.0</td>\n",
       "      <td>7.0</td>\n",
       "      <td>8.0</td>\n",
       "      <td>9.0</td>\n",
       "      <td>...</td>\n",
       "      <td>175.0</td>\n",
       "      <td>176.0</td>\n",
       "      <td>177.0</td>\n",
       "      <td>NaN</td>\n",
       "      <td>179.0</td>\n",
       "      <td>180.0</td>\n",
       "      <td>181.0</td>\n",
       "      <td>182.0</td>\n",
       "      <td>183.0</td>\n",
       "      <td>184.0</td>\n",
       "    </tr>\n",
       "    <tr>\n",
       "      <th>3</th>\n",
       "      <td>0.0</td>\n",
       "      <td>1.0</td>\n",
       "      <td>2.0</td>\n",
       "      <td>3.0</td>\n",
       "      <td>4.0</td>\n",
       "      <td>5.0</td>\n",
       "      <td>6.0</td>\n",
       "      <td>7.0</td>\n",
       "      <td>8.0</td>\n",
       "      <td>9.0</td>\n",
       "      <td>...</td>\n",
       "      <td>175.0</td>\n",
       "      <td>176.0</td>\n",
       "      <td>177.0</td>\n",
       "      <td>NaN</td>\n",
       "      <td>179.0</td>\n",
       "      <td>180.0</td>\n",
       "      <td>181.0</td>\n",
       "      <td>182.0</td>\n",
       "      <td>183.0</td>\n",
       "      <td>184.0</td>\n",
       "    </tr>\n",
       "    <tr>\n",
       "      <th>4</th>\n",
       "      <td>0.0</td>\n",
       "      <td>1.0</td>\n",
       "      <td>2.0</td>\n",
       "      <td>3.0</td>\n",
       "      <td>4.0</td>\n",
       "      <td>5.0</td>\n",
       "      <td>6.0</td>\n",
       "      <td>7.0</td>\n",
       "      <td>8.0</td>\n",
       "      <td>9.0</td>\n",
       "      <td>...</td>\n",
       "      <td>175.0</td>\n",
       "      <td>176.0</td>\n",
       "      <td>177.0</td>\n",
       "      <td>NaN</td>\n",
       "      <td>179.0</td>\n",
       "      <td>180.0</td>\n",
       "      <td>181.0</td>\n",
       "      <td>182.0</td>\n",
       "      <td>183.0</td>\n",
       "      <td>184.0</td>\n",
       "    </tr>\n",
       "  </tbody>\n",
       "</table>\n",
       "<p>5 rows × 185 columns</p>\n",
       "</div>"
      ],
      "text/plain": [
       "   0    1    2    3    4    5    6    7    8    9    ...    175    176    177  \\\n",
       "0  0.0  1.0  2.0  3.0  4.0  5.0  6.0  7.0  8.0  9.0  ...  175.0  176.0  177.0   \n",
       "1  0.0  1.0  2.0  3.0  4.0  5.0  6.0  7.0  8.0  9.0  ...  175.0  176.0  177.0   \n",
       "2  0.0  1.0  2.0  3.0  4.0  5.0  6.0  7.0  8.0  9.0  ...  175.0  176.0  177.0   \n",
       "3  0.0  1.0  2.0  3.0  4.0  5.0  6.0  7.0  8.0  9.0  ...  175.0  176.0  177.0   \n",
       "4  0.0  1.0  2.0  3.0  4.0  5.0  6.0  7.0  8.0  9.0  ...  175.0  176.0  177.0   \n",
       "\n",
       "     178    179    180    181    182    183    184  \n",
       "0  178.0  179.0  180.0  181.0  182.0  183.0  184.0  \n",
       "1    NaN  179.0  180.0  181.0  182.0  183.0  184.0  \n",
       "2    NaN  179.0  180.0  181.0  182.0  183.0  184.0  \n",
       "3    NaN  179.0  180.0  181.0  182.0  183.0  184.0  \n",
       "4    NaN  179.0  180.0  181.0  182.0  183.0  184.0  \n",
       "\n",
       "[5 rows x 185 columns]"
      ]
     },
     "execution_count": 345,
     "metadata": {},
     "output_type": "execute_result"
    }
   ],
   "source": [
    "df5.head()"
   ]
  },
  {
   "cell_type": "code",
   "execution_count": 346,
   "metadata": {},
   "outputs": [
    {
     "data": {
      "text/html": [
       "<div>\n",
       "<style scoped>\n",
       "    .dataframe tbody tr th:only-of-type {\n",
       "        vertical-align: middle;\n",
       "    }\n",
       "\n",
       "    .dataframe tbody tr th {\n",
       "        vertical-align: top;\n",
       "    }\n",
       "\n",
       "    .dataframe thead th {\n",
       "        text-align: right;\n",
       "    }\n",
       "</style>\n",
       "<table border=\"1\" class=\"dataframe\">\n",
       "  <thead>\n",
       "    <tr style=\"text-align: right;\">\n",
       "      <th></th>\n",
       "      <th>0</th>\n",
       "    </tr>\n",
       "  </thead>\n",
       "  <tbody>\n",
       "    <tr>\n",
       "      <th>0</th>\n",
       "      <td>0.0</td>\n",
       "    </tr>\n",
       "    <tr>\n",
       "      <th>1</th>\n",
       "      <td>0.0</td>\n",
       "    </tr>\n",
       "    <tr>\n",
       "      <th>2</th>\n",
       "      <td>0.0</td>\n",
       "    </tr>\n",
       "    <tr>\n",
       "      <th>3</th>\n",
       "      <td>0.0</td>\n",
       "    </tr>\n",
       "    <tr>\n",
       "      <th>4</th>\n",
       "      <td>0.0</td>\n",
       "    </tr>\n",
       "  </tbody>\n",
       "</table>\n",
       "</div>"
      ],
      "text/plain": [
       "     0\n",
       "0  0.0\n",
       "1  0.0\n",
       "2  0.0\n",
       "3  0.0\n",
       "4  0.0"
      ]
     },
     "execution_count": 346,
     "metadata": {},
     "output_type": "execute_result"
    }
   ],
   "source": [
    "xyz = []\n",
    "for x in df5.columns:\n",
    "    for n in df5[x]:\n",
    "        if n>=0:\n",
    "            xyz.append(n)\n",
    "\n",
    "df7 = pd.DataFrame(xyz)\n",
    "df7.head()"
   ]
  },
  {
   "cell_type": "code",
   "execution_count": 347,
   "metadata": {},
   "outputs": [
    {
     "data": {
      "text/html": [
       "<div>\n",
       "<style scoped>\n",
       "    .dataframe tbody tr th:only-of-type {\n",
       "        vertical-align: middle;\n",
       "    }\n",
       "\n",
       "    .dataframe tbody tr th {\n",
       "        vertical-align: top;\n",
       "    }\n",
       "\n",
       "    .dataframe thead th {\n",
       "        text-align: right;\n",
       "    }\n",
       "</style>\n",
       "<table border=\"1\" class=\"dataframe\">\n",
       "  <thead>\n",
       "    <tr style=\"text-align: right;\">\n",
       "      <th></th>\n",
       "      <th>wordlabels</th>\n",
       "      <th>tokenized_comments</th>\n",
       "    </tr>\n",
       "  </thead>\n",
       "  <tbody>\n",
       "    <tr>\n",
       "      <th>0</th>\n",
       "      <td>this Nuetral</td>\n",
       "      <td>[this, action, was, not, tyrannical, salami, w...</td>\n",
       "    </tr>\n",
       "    <tr>\n",
       "      <th>1</th>\n",
       "      <td>action Nuetral</td>\n",
       "      <td>[newsom, is, burning, the, people, out, of, ca...</td>\n",
       "    </tr>\n",
       "    <tr>\n",
       "      <th>2</th>\n",
       "      <td>was Nuetral</td>\n",
       "      <td>[jeragen, hope, in, their, own, satanic, world]</td>\n",
       "    </tr>\n",
       "    <tr>\n",
       "      <th>3</th>\n",
       "      <td>not Nuetral</td>\n",
       "      <td>[emil, gunnary, they, want, so, bad, because, ...</td>\n",
       "    </tr>\n",
       "    <tr>\n",
       "      <th>4</th>\n",
       "      <td>tyrannical Nuetral</td>\n",
       "      <td>[emil, gunnary, looks, like, trump, care, abou...</td>\n",
       "    </tr>\n",
       "  </tbody>\n",
       "</table>\n",
       "</div>"
      ],
      "text/plain": [
       "           wordlabels                                 tokenized_comments\n",
       "0        this Nuetral  [this, action, was, not, tyrannical, salami, w...\n",
       "1      action Nuetral  [newsom, is, burning, the, people, out, of, ca...\n",
       "2         was Nuetral    [jeragen, hope, in, their, own, satanic, world]\n",
       "3         not Nuetral  [emil, gunnary, they, want, so, bad, because, ...\n",
       "4  tyrannical Nuetral  [emil, gunnary, looks, like, trump, care, abou..."
      ]
     },
     "execution_count": 347,
     "metadata": {},
     "output_type": "execute_result"
    }
   ],
   "source": [
    "#df2 = pd.DataFrame(dic).join(df['tokenized_comments'])\n",
    "df2.columns = ['wordlabels', 'tokenized_comments']\n",
    "df2.head()"
   ]
  },
  {
   "cell_type": "code",
   "execution_count": 348,
   "metadata": {},
   "outputs": [],
   "source": [
    "df2[\"comment_index\"] = df7"
   ]
  },
  {
   "cell_type": "code",
   "execution_count": 349,
   "metadata": {},
   "outputs": [
    {
     "data": {
      "text/html": [
       "<div>\n",
       "<style scoped>\n",
       "    .dataframe tbody tr th:only-of-type {\n",
       "        vertical-align: middle;\n",
       "    }\n",
       "\n",
       "    .dataframe tbody tr th {\n",
       "        vertical-align: top;\n",
       "    }\n",
       "\n",
       "    .dataframe thead th {\n",
       "        text-align: right;\n",
       "    }\n",
       "</style>\n",
       "<table border=\"1\" class=\"dataframe\">\n",
       "  <thead>\n",
       "    <tr style=\"text-align: right;\">\n",
       "      <th></th>\n",
       "      <th>wordlabels</th>\n",
       "      <th>tokenized_comments</th>\n",
       "      <th>comment_index</th>\n",
       "    </tr>\n",
       "  </thead>\n",
       "  <tbody>\n",
       "    <tr>\n",
       "      <th>0</th>\n",
       "      <td>this Nuetral</td>\n",
       "      <td>[this, action, was, not, tyrannical, salami, w...</td>\n",
       "      <td>0.0</td>\n",
       "    </tr>\n",
       "    <tr>\n",
       "      <th>1</th>\n",
       "      <td>action Nuetral</td>\n",
       "      <td>[newsom, is, burning, the, people, out, of, ca...</td>\n",
       "      <td>0.0</td>\n",
       "    </tr>\n",
       "    <tr>\n",
       "      <th>2</th>\n",
       "      <td>was Nuetral</td>\n",
       "      <td>[jeragen, hope, in, their, own, satanic, world]</td>\n",
       "      <td>0.0</td>\n",
       "    </tr>\n",
       "    <tr>\n",
       "      <th>3</th>\n",
       "      <td>not Nuetral</td>\n",
       "      <td>[emil, gunnary, they, want, so, bad, because, ...</td>\n",
       "      <td>0.0</td>\n",
       "    </tr>\n",
       "    <tr>\n",
       "      <th>4</th>\n",
       "      <td>tyrannical Nuetral</td>\n",
       "      <td>[emil, gunnary, looks, like, trump, care, abou...</td>\n",
       "      <td>0.0</td>\n",
       "    </tr>\n",
       "  </tbody>\n",
       "</table>\n",
       "</div>"
      ],
      "text/plain": [
       "           wordlabels                                 tokenized_comments  \\\n",
       "0        this Nuetral  [this, action, was, not, tyrannical, salami, w...   \n",
       "1      action Nuetral  [newsom, is, burning, the, people, out, of, ca...   \n",
       "2         was Nuetral    [jeragen, hope, in, their, own, satanic, world]   \n",
       "3         not Nuetral  [emil, gunnary, they, want, so, bad, because, ...   \n",
       "4  tyrannical Nuetral  [emil, gunnary, looks, like, trump, care, abou...   \n",
       "\n",
       "   comment_index  \n",
       "0            0.0  \n",
       "1            0.0  \n",
       "2            0.0  \n",
       "3            0.0  \n",
       "4            0.0  "
      ]
     },
     "execution_count": 349,
     "metadata": {},
     "output_type": "execute_result"
    }
   ],
   "source": [
    "df2.head()"
   ]
  },
  {
   "cell_type": "code",
   "execution_count": 350,
   "metadata": {
    "scrolled": true
   },
   "outputs": [],
   "source": [
    "s =df2.groupby(\"comment_index\")['wordlabels'].apply(list)"
   ]
  },
  {
   "cell_type": "code",
   "execution_count": 351,
   "metadata": {},
   "outputs": [],
   "source": [
    "flat_list = [item for sublist in counts for item in sublist]\n"
   ]
  },
  {
   "cell_type": "code",
   "execution_count": 352,
   "metadata": {
    "scrolled": true
   },
   "outputs": [
    {
     "name": "stdout",
     "output_type": "stream",
     "text": [
      "Nuetral\n",
      "Conservative\n",
      "Nuetral\n",
      "Liberal\n",
      "Liberal\n",
      "Nuetral\n",
      "Conservative\n",
      "Conservative\n",
      "Nuetral\n",
      "Liberal\n",
      "Liberal\n",
      "Liberal\n",
      "Liberal\n",
      "Nuetral\n",
      "Liberal\n",
      "Liberal\n",
      "Nuetral\n",
      "Nuetral\n",
      "Nuetral\n",
      "Conservative\n",
      "Nuetral\n",
      "Nuetral\n",
      "Nuetral\n",
      "Nuetral\n",
      "Liberal\n",
      "Liberal\n",
      "Liberal\n",
      "Nuetral\n",
      "Liberal\n",
      "Liberal\n",
      "Nuetral\n",
      "Nuetral\n",
      "Conservative\n",
      "Conservative\n",
      "Nuetral\n",
      "Conservative\n",
      "Conservative\n",
      "Liberal\n",
      "Liberal\n",
      "Nuetral\n",
      "Nuetral\n",
      "Nuetral\n",
      "Nuetral\n",
      "Nuetral\n",
      "Nuetral\n",
      "Nuetral\n",
      "Conservative\n",
      "Liberal\n",
      "Conservative\n",
      "Liberal\n",
      "Conservative\n",
      "Nuetral\n",
      "Liberal\n",
      "Conservative\n",
      "Nuetral\n",
      "Conservative\n",
      "Liberal\n",
      "Nuetral\n",
      "Liberal\n",
      "Nuetral\n",
      "Liberal\n",
      "Nuetral\n",
      "Conservative\n",
      "Nuetral\n",
      "Liberal\n",
      "Nuetral\n",
      "Liberal\n",
      "Conservative\n",
      "Nuetral\n",
      "Nuetral\n",
      "Nuetral\n",
      "Nuetral\n",
      "Nuetral\n",
      "Nuetral\n",
      "Conservative\n",
      "Liberal\n",
      "Nuetral\n",
      "Nuetral\n",
      "Liberal\n",
      "Conservative\n",
      "Nuetral\n",
      "Nuetral\n",
      "Liberal\n",
      "Liberal\n",
      "Liberal\n",
      "Nuetral\n",
      "Liberal\n",
      "Nuetral\n",
      "Liberal\n",
      "Liberal\n",
      "Nuetral\n",
      "Nuetral\n",
      "Liberal\n",
      "Liberal\n",
      "Liberal\n",
      "Nuetral\n",
      "Liberal\n",
      "Conservative\n",
      "Conservative\n",
      "Nuetral\n",
      "Nuetral\n",
      "Conservative\n",
      "Conservative\n",
      "Liberal\n",
      "Liberal\n",
      "Nuetral\n",
      "Liberal\n",
      "Liberal\n",
      "Conservative\n",
      "Liberal\n",
      "Nuetral\n",
      "Nuetral\n",
      "Nuetral\n",
      "Nuetral\n",
      "Nuetral\n",
      "Nuetral\n",
      "Conservative\n",
      "Nuetral\n",
      "Liberal\n",
      "Nuetral\n",
      "Liberal\n",
      "Nuetral\n",
      "Nuetral\n",
      "Conservative\n",
      "Liberal\n",
      "Nuetral\n",
      "Conservative\n",
      "Nuetral\n",
      "Liberal\n",
      "Nuetral\n",
      "Conservative\n",
      "Liberal\n",
      "Liberal\n",
      "Liberal\n",
      "Nuetral\n",
      "Liberal\n",
      "Liberal\n",
      "Nuetral\n",
      "Liberal\n",
      "Liberal\n",
      "Nuetral\n",
      "Liberal\n",
      "Liberal\n",
      "Conservative\n",
      "Conservative\n",
      "Nuetral\n",
      "Nuetral\n",
      "Conservative\n",
      "Nuetral\n",
      "Liberal\n",
      "Liberal\n",
      "Conservative\n",
      "Nuetral\n",
      "Liberal\n",
      "Nuetral\n",
      "Nuetral\n",
      "Conservative\n",
      "Nuetral\n",
      "Conservative\n",
      "Nuetral\n",
      "Nuetral\n",
      "Nuetral\n",
      "Liberal\n",
      "Conservative\n",
      "Liberal\n",
      "Nuetral\n",
      "Liberal\n",
      "Liberal\n",
      "Nuetral\n",
      "Conservative\n",
      "Nuetral\n",
      "Nuetral\n",
      "Liberal\n",
      "Nuetral\n",
      "Liberal\n",
      "Nuetral\n",
      "Nuetral\n",
      "Liberal\n",
      "Nuetral\n",
      "Liberal\n",
      "Liberal\n",
      "Nuetral\n",
      "Conservative\n",
      "Liberal\n",
      "Liberal\n"
     ]
    }
   ],
   "source": [
    "for x in range(length):\n",
    "    ideology(x)\n",
    "    "
   ]
  },
  {
   "cell_type": "code",
   "execution_count": 127,
   "metadata": {},
   "outputs": [],
   "source": [
    "def ideology(x):\n",
    "    \n",
    "    counts = []\n",
    "    for word in s[x]:\n",
    "        counts.append(word.split(\" \"))\n",
    "    \n",
    "    flat_list = [item for sublist in counts for item in sublist]\n",
    "\n",
    "    if flat_list.count(\"Liberal\") > flat_list.count(\"Conservative\"):\n",
    "        print(\"Liberal\")\n",
    "    if flat_list.count(\"Liberal\") < flat_list.count(\"Conservative\"):\n",
    "        print(\"Conservative\")\n",
    "    if flat_list.count(\"Liberal\") == flat_list.count(\"Conservative\"):\n",
    "        print(\"Nuetral\")\n",
    "     \n",
    "\n",
    "    "
   ]
  },
  {
   "cell_type": "code",
   "execution_count": null,
   "metadata": {},
   "outputs": [],
   "source": []
  },
  {
   "cell_type": "code",
   "execution_count": 128,
   "metadata": {},
   "outputs": [
    {
     "data": {
      "text/plain": [
       "False"
      ]
     },
     "execution_count": 128,
     "metadata": {},
     "output_type": "execute_result"
    }
   ],
   "source": [
    "flat_list.count(\"Liberal\") < flat_list.count(\"Conservative\") #Comment would be assigned the liberal label "
   ]
  },
  {
   "cell_type": "code",
   "execution_count": 267,
   "metadata": {},
   "outputs": [
    {
     "data": {
      "text/plain": [
       "True"
      ]
     },
     "execution_count": 267,
     "metadata": {},
     "output_type": "execute_result"
    }
   ],
   "source": [
    "flat_list.count(\"Liberal\") == flat_list.count(\"Conservative\") "
   ]
  },
  {
   "cell_type": "code",
   "execution_count": 48,
   "metadata": {
    "scrolled": true
   },
   "outputs": [
    {
     "data": {
      "text/plain": [
       "False"
      ]
     },
     "execution_count": 48,
     "metadata": {},
     "output_type": "execute_result"
    }
   ],
   "source": [
    "flat_list.count(\"Liberal\") > flat_list.count(\"Conservative\") #Comment would be assigned the liberal label "
   ]
  },
  {
   "cell_type": "code",
   "execution_count": 102,
   "metadata": {},
   "outputs": [],
   "source": [
    "from collections import Counter \n",
    "import re"
   ]
  },
  {
   "cell_type": "code",
   "execution_count": null,
   "metadata": {},
   "outputs": [],
   "source": [
    "### Find the comments that are generated from comments and test them to see rate conservative or liberal,\n",
    "### note they will follow one after another "
   ]
  },
  {
   "cell_type": "markdown",
   "metadata": {},
   "source": [
    "### Final Data Set"
   ]
  },
  {
   "cell_type": "markdown",
   "metadata": {},
   "source": [
    "### Note that for \"Change\": True =  There was no Change (Label1=Label2)"
   ]
  },
  {
   "cell_type": "code",
   "execution_count": 642,
   "metadata": {},
   "outputs": [],
   "source": [
    "influence = pd.read_csv(\"D:/QMSS/Spring/Thesis/Results/Influence.csv\",encoding='ISO-8859-1')"
   ]
  },
  {
   "cell_type": "code",
   "execution_count": 643,
   "metadata": {},
   "outputs": [],
   "source": [
    "influence.columns = ['Producer','Guid', 'Link','Pubdate','Author','Title','Description','Likecount', 'Replycount','Isreplyto','Label1','Label2','Change']"
   ]
  },
  {
   "cell_type": "code",
   "execution_count": 523,
   "metadata": {},
   "outputs": [
    {
     "data": {
      "text/html": [
       "<div>\n",
       "<style scoped>\n",
       "    .dataframe tbody tr th:only-of-type {\n",
       "        vertical-align: middle;\n",
       "    }\n",
       "\n",
       "    .dataframe tbody tr th {\n",
       "        vertical-align: top;\n",
       "    }\n",
       "\n",
       "    .dataframe thead th {\n",
       "        text-align: right;\n",
       "    }\n",
       "</style>\n",
       "<table border=\"1\" class=\"dataframe\">\n",
       "  <thead>\n",
       "    <tr style=\"text-align: right;\">\n",
       "      <th></th>\n",
       "      <th>Producer</th>\n",
       "      <th>Guid</th>\n",
       "      <th>Link</th>\n",
       "      <th>Pubdate</th>\n",
       "      <th>Author</th>\n",
       "      <th>Title</th>\n",
       "      <th>Description</th>\n",
       "      <th>Likecount</th>\n",
       "      <th>Replycount</th>\n",
       "      <th>Isreplyto</th>\n",
       "      <th>Label1</th>\n",
       "      <th>Label2</th>\n",
       "      <th>Change</th>\n",
       "    </tr>\n",
       "  </thead>\n",
       "  <tbody>\n",
       "    <tr>\n",
       "      <th>0</th>\n",
       "      <td>MSNBC</td>\n",
       "      <td>Ugzle8JN6dLi-suH77t4AaABAg</td>\n",
       "      <td>https://www.youtube.com/watch?v=HzHak713Anw&amp;lc...</td>\n",
       "      <td>1/3/2020 9:54</td>\n",
       "      <td>jon Q</td>\n",
       "      <td>Republicans can only create two things: defici...</td>\n",
       "      <td>Republicans can only create two things: defici...</td>\n",
       "      <td>1334</td>\n",
       "      <td>276</td>\n",
       "      <td>NaN</td>\n",
       "      <td>Liberal</td>\n",
       "      <td>Liberal</td>\n",
       "      <td>True</td>\n",
       "    </tr>\n",
       "    <tr>\n",
       "      <th>1</th>\n",
       "      <td>MSNBC</td>\n",
       "      <td>Ugzle8JN6dLi-suH77t4AaABAg.93KdyEg075C93TO_F5sL6g</td>\n",
       "      <td>https://www.youtube.com/watch?v=HzHak713Anw&amp;lc...</td>\n",
       "      <td>1/6/2020 19:24</td>\n",
       "      <td>YouTube Moderator</td>\n",
       "      <td>@BJ SmithNRA wants blacks and women and immigr...</td>\n",
       "      <td>SmithNRA wants blacks and women and immigrants...</td>\n",
       "      <td>0</td>\n",
       "      <td>0</td>\n",
       "      <td>jon Q</td>\n",
       "      <td>Conservative</td>\n",
       "      <td>Conservative</td>\n",
       "      <td>True</td>\n",
       "    </tr>\n",
       "    <tr>\n",
       "      <th>2</th>\n",
       "      <td>MSNBC</td>\n",
       "      <td>Ugzle8JN6dLi-suH77t4AaABAg.93KdyEg075C93TIBEdybnw</td>\n",
       "      <td>https://www.youtube.com/watch?v=HzHak713Anw&amp;lc...</td>\n",
       "      <td>1/6/2020 18:28</td>\n",
       "      <td>Mine Finder</td>\n",
       "      <td>@Ron T Nice lie. Prove it.</td>\n",
       "      <td>@Ron T Nice lie. Prove it.</td>\n",
       "      <td>0</td>\n",
       "      <td>0</td>\n",
       "      <td>jon Q</td>\n",
       "      <td>Nuetral</td>\n",
       "      <td>Nuetral</td>\n",
       "      <td>True</td>\n",
       "    </tr>\n",
       "    <tr>\n",
       "      <th>3</th>\n",
       "      <td>MSNBC</td>\n",
       "      <td>Ugzle8JN6dLi-suH77t4AaABAg.93KdyEg075C93T9gGqVQgJ</td>\n",
       "      <td>https://www.youtube.com/watch?v=HzHak713Anw&amp;lc...</td>\n",
       "      <td>1/6/2020 17:14</td>\n",
       "      <td>Ron T</td>\n",
       "      <td>@Mine Finder Yeah funny how Trump already doub...</td>\n",
       "      <td>@Mine Finder Yeah funny how Trump already doub...</td>\n",
       "      <td>0</td>\n",
       "      <td>0</td>\n",
       "      <td>jon Q</td>\n",
       "      <td>Liberal</td>\n",
       "      <td>Liberal</td>\n",
       "      <td>True</td>\n",
       "    </tr>\n",
       "    <tr>\n",
       "      <th>4</th>\n",
       "      <td>MSNBC</td>\n",
       "      <td>Ugzle8JN6dLi-suH77t4AaABAg.93KdyEg075C93SjK8MKyU7</td>\n",
       "      <td>https://www.youtube.com/watch?v=HzHak713Anw&amp;lc...</td>\n",
       "      <td>1/6/2020 13:15</td>\n",
       "      <td>BJ Smith</td>\n",
       "      <td>@Timothy Kozlowski That honor goes to Trump fo...</td>\n",
       "      <td>@Timothy Kozlowski That honor goes to Trump fo...</td>\n",
       "      <td>0</td>\n",
       "      <td>0</td>\n",
       "      <td>jon Q</td>\n",
       "      <td>Liberal</td>\n",
       "      <td>Liberal</td>\n",
       "      <td>True</td>\n",
       "    </tr>\n",
       "  </tbody>\n",
       "</table>\n",
       "</div>"
      ],
      "text/plain": [
       "  Producer                                               Guid  \\\n",
       "0    MSNBC                         Ugzle8JN6dLi-suH77t4AaABAg   \n",
       "1    MSNBC  Ugzle8JN6dLi-suH77t4AaABAg.93KdyEg075C93TO_F5sL6g   \n",
       "2    MSNBC  Ugzle8JN6dLi-suH77t4AaABAg.93KdyEg075C93TIBEdybnw   \n",
       "3    MSNBC  Ugzle8JN6dLi-suH77t4AaABAg.93KdyEg075C93T9gGqVQgJ   \n",
       "4    MSNBC  Ugzle8JN6dLi-suH77t4AaABAg.93KdyEg075C93SjK8MKyU7   \n",
       "\n",
       "                                                Link         Pubdate  \\\n",
       "0  https://www.youtube.com/watch?v=HzHak713Anw&lc...   1/3/2020 9:54   \n",
       "1  https://www.youtube.com/watch?v=HzHak713Anw&lc...  1/6/2020 19:24   \n",
       "2  https://www.youtube.com/watch?v=HzHak713Anw&lc...  1/6/2020 18:28   \n",
       "3  https://www.youtube.com/watch?v=HzHak713Anw&lc...  1/6/2020 17:14   \n",
       "4  https://www.youtube.com/watch?v=HzHak713Anw&lc...  1/6/2020 13:15   \n",
       "\n",
       "              Author                                              Title  \\\n",
       "0              jon Q  Republicans can only create two things: defici...   \n",
       "1  YouTube Moderator  @BJ SmithNRA wants blacks and women and immigr...   \n",
       "2        Mine Finder                         @Ron T Nice lie. Prove it.   \n",
       "3              Ron T  @Mine Finder Yeah funny how Trump already doub...   \n",
       "4           BJ Smith  @Timothy Kozlowski That honor goes to Trump fo...   \n",
       "\n",
       "                                         Description  Likecount  Replycount  \\\n",
       "0  Republicans can only create two things: defici...       1334         276   \n",
       "1  SmithNRA wants blacks and women and immigrants...          0           0   \n",
       "2                         @Ron T Nice lie. Prove it.          0           0   \n",
       "3  @Mine Finder Yeah funny how Trump already doub...          0           0   \n",
       "4  @Timothy Kozlowski That honor goes to Trump fo...          0           0   \n",
       "\n",
       "  Isreplyto        Label1        Label2  Change  \n",
       "0       NaN       Liberal       Liberal    True  \n",
       "1     jon Q  Conservative  Conservative    True  \n",
       "2     jon Q       Nuetral       Nuetral    True  \n",
       "3     jon Q       Liberal       Liberal    True  \n",
       "4     jon Q       Liberal       Liberal    True  "
      ]
     },
     "execution_count": 523,
     "metadata": {},
     "output_type": "execute_result"
    }
   ],
   "source": [
    "influence.head()"
   ]
  },
  {
   "cell_type": "code",
   "execution_count": 580,
   "metadata": {},
   "outputs": [],
   "source": [
    "from sklearn.model_selection import train_test_split\n",
    "from sklearn.naive_bayes import GaussianNB \n",
    "X = influence.Producer\n",
    "y = influence.Label2\n",
    "Xtrain, Xtest, ytrain, ytest = train_test_split(X, y,random_state=1)"
   ]
  },
  {
   "cell_type": "code",
   "execution_count": 557,
   "metadata": {},
   "outputs": [],
   "source": [
    "#categories = {0:\"False\",1:\"True\"}\n",
    "categories = [\"Conservative\",\"Liberal\",\"Nuetral\"]"
   ]
  },
  {
   "cell_type": "code",
   "execution_count": 576,
   "metadata": {},
   "outputs": [],
   "source": [
    "import seaborn as sns\n",
    "from sklearn.feature_extraction.text import TfidfVectorizer\n",
    "from sklearn.naive_bayes import MultinomialNB\n",
    "from sklearn.pipeline import make_pipeline\n",
    "from sklearn.model_selection import KFold\n",
    "from sklearn.model_selection import cross_val_score\n",
    "from sklearn.model_selection import GridSearchCV\n",
    "from sklearn.neighbors import KNeighborsClassifier\n",
    "from sklearn.svm import LinearSVC"
   ]
  },
  {
   "cell_type": "code",
   "execution_count": 562,
   "metadata": {},
   "outputs": [],
   "source": [
    "model = make_pipeline(TfidfVectorizer(),MultinomialNB())"
   ]
  },
  {
   "cell_type": "code",
   "execution_count": 581,
   "metadata": {},
   "outputs": [],
   "source": [
    "model = make_pipeline(TfidfVectorizer(),LogisticRegression())"
   ]
  },
  {
   "cell_type": "code",
   "execution_count": 568,
   "metadata": {},
   "outputs": [],
   "source": [
    "model = make_pipeline(TfidfVectorizer(),KNeighborsClassifier())"
   ]
  },
  {
   "cell_type": "code",
   "execution_count": 577,
   "metadata": {},
   "outputs": [],
   "source": [
    "model = make_pipeline(TfidfVectorizer(),LinearSVC())"
   ]
  },
  {
   "cell_type": "code",
   "execution_count": 575,
   "metadata": {},
   "outputs": [
    {
     "name": "stdout",
     "output_type": "stream",
     "text": [
      "{'logisticregression__C': 1000}\n",
      "0.4294996751137102\n"
     ]
    }
   ],
   "source": [
    "param_grid = {'logisticregression__C': [1000,10000,100000,1e80,1e90]}\n",
    "grid = GridSearchCV(model, param_grid, cv=10)\n",
    "grid.fit(Xtrain, ytrain)\n",
    "print(grid.best_params_)\n",
    "print(grid.best_score_)"
   ]
  },
  {
   "cell_type": "code",
   "execution_count": 582,
   "metadata": {},
   "outputs": [],
   "source": [
    "model.fit(Xtrain, ytrain)\n",
    "labels = model.predict(Xtest)"
   ]
  },
  {
   "cell_type": "code",
   "execution_count": 361,
   "metadata": {},
   "outputs": [],
   "source": [
    "from sklearn.metrics import confusion_matrix"
   ]
  },
  {
   "cell_type": "code",
   "execution_count": 548,
   "metadata": {},
   "outputs": [],
   "source": [
    "change = pd.DataFrame(ytest)"
   ]
  },
  {
   "cell_type": "code",
   "execution_count": 385,
   "metadata": {},
   "outputs": [],
   "source": [
    "import matplotlib.pyplot as plt"
   ]
  },
  {
   "cell_type": "code",
   "execution_count": 560,
   "metadata": {},
   "outputs": [],
   "source": [
    "#mat = confusion_matrix(change.Label2,labels)\n",
    "#sns.heatmap(mat.T, square=True, annot=True, fmt=\"d\", cbar=False, xticklabels=categories,yticklabels=categories)\n",
    "#plt.xlabel(\"true label\")\n",
    "#plt.ylabel('predicted label') "
   ]
  },
  {
   "cell_type": "code",
   "execution_count": 466,
   "metadata": {},
   "outputs": [],
   "source": [
    "from sklearn.linear_model import LogisticRegression\n",
    "from sklearn.metrics import classification_report\n",
    "from sklearn.metrics import roc_auc_score\n"
   ]
  },
  {
   "cell_type": "code",
   "execution_count": 390,
   "metadata": {},
   "outputs": [],
   "source": [
    "X_train, X_test, y_train, y_test = train_test_split(X, y,random_state=1)"
   ]
  },
  {
   "cell_type": "code",
   "execution_count": 583,
   "metadata": {},
   "outputs": [
    {
     "name": "stdout",
     "output_type": "stream",
     "text": [
      "              precision    recall  f1-score   support\n",
      "\n",
      "Conservative       0.00      0.00      0.00       117\n",
      "     Liberal       0.00      0.00      0.00       173\n",
      "     Nuetral       0.44      1.00      0.61       224\n",
      "\n",
      "    accuracy                           0.44       514\n",
      "   macro avg       0.15      0.33      0.20       514\n",
      "weighted avg       0.19      0.44      0.26       514\n",
      "\n",
      "[[  0   0 117]\n",
      " [  0   0 173]\n",
      " [  0   0 224]]\n"
     ]
    }
   ],
   "source": [
    "print(classification_report(ytest,labels))\n",
    "print(confusion_matrix(ytest,labels))\n",
    "\n",
    "#print(roc_auc_score(ytest, labels))"
   ]
  },
  {
   "cell_type": "code",
   "execution_count": 588,
   "metadata": {},
   "outputs": [
    {
     "data": {
      "text/plain": [
       "True     1547\n",
       "False     506\n",
       "Name: Change, dtype: int64"
      ]
     },
     "execution_count": 588,
     "metadata": {},
     "output_type": "execute_result"
    },
    {
     "data": {
      "image/png": "[encoded data removed]",
      "text/plain": [
       "<Figure size 432x288 with 1 Axes>"
      ]
     },
     "metadata": {
      "needs_background": "light"
     },
     "output_type": "display_data"
    }
   ],
   "source": [
    "influence['Change'].value_counts().plot.bar(color = \"purple\")\n",
    "influence['Change'].value_counts()"
   ]
  },
  {
   "cell_type": "code",
   "execution_count": 627,
   "metadata": {},
   "outputs": [
    {
     "data": {
      "text/plain": [
       "Nuetral         744\n",
       "Liberal         495\n",
       "Conservative    308\n",
       "Name: Label1, dtype: int64"
      ]
     },
     "execution_count": 627,
     "metadata": {},
     "output_type": "execute_result"
    },
    {
     "data": {
      "image/png": "[encoded data removed]",
      "text/plain": [
       "<Figure size 432x288 with 1 Axes>"
      ]
     },
     "metadata": {
      "needs_background": "light"
     },
     "output_type": "display_data"
    }
   ],
   "source": [
    "TT = influence[['Change',\"Label1\"]]\n",
    "\n",
    "TT2 = TT.sort_values(by=\"Change\", ascending = False)\n",
    "\n",
    "Trues = TT2[0:1547]\n",
    "Falses = TT2[1547:2053]\n",
    "\n",
    "Trues['Label1'].value_counts().plot.bar()\n",
    "Trues['Label1'].value_counts()"
   ]
  },
  {
   "cell_type": "code",
   "execution_count": 629,
   "metadata": {},
   "outputs": [
    {
     "data": {
      "text/plain": [
       "Nuetral         261\n",
       "Liberal         141\n",
       "Conservative    104\n",
       "Name: Label1, dtype: int64"
      ]
     },
     "execution_count": 629,
     "metadata": {},
     "output_type": "execute_result"
    },
    {
     "data": {
      "image/png": "[encoded data removed]",
      "text/plain": [
       "<Figure size 432x288 with 1 Axes>"
      ]
     },
     "metadata": {
      "needs_background": "light"
     },
     "output_type": "display_data"
    }
   ],
   "source": [
    "Falses[\"Label1\"].value_counts().plot.bar()\n",
    "Falses[\"Label1\"].value_counts()"
   ]
  },
  {
   "cell_type": "code",
   "execution_count": 586,
   "metadata": {},
   "outputs": [
    {
     "data": {
      "text/plain": [
       "Nuetral         1005\n",
       "Liberal          636\n",
       "Conservative     412\n",
       "Name: Label1, dtype: int64"
      ]
     },
     "execution_count": 586,
     "metadata": {},
     "output_type": "execute_result"
    },
    {
     "data": {
      "image/png": "[encoded data removed]",
      "text/plain": [
       "<Figure size 432x288 with 1 Axes>"
      ]
     },
     "metadata": {
      "needs_background": "light"
     },
     "output_type": "display_data"
    }
   ],
   "source": [
    "influence['Label1'].value_counts().plot.bar(color = \"maroon\")\n",
    "influence['Label1'].value_counts()"
   ]
  },
  {
   "cell_type": "code",
   "execution_count": 587,
   "metadata": {},
   "outputs": [
    {
     "data": {
      "text/plain": [
       "Nuetral         956\n",
       "Liberal         668\n",
       "Conservative    429\n",
       "Name: Label2, dtype: int64"
      ]
     },
     "execution_count": 587,
     "metadata": {},
     "output_type": "execute_result"
    },
    {
     "data": {
      "image/png": "[encoded data removed]",
      "text/plain": [
       "<Figure size 432x288 with 1 Axes>"
      ]
     },
     "metadata": {
      "needs_background": "light"
     },
     "output_type": "display_data"
    }
   ],
   "source": [
    "influence['Label2'].value_counts().plot.bar(color = \"navy\")\n",
    "influence['Label2'].value_counts()"
   ]
  },
  {
   "cell_type": "code",
   "execution_count": 432,
   "metadata": {},
   "outputs": [
    {
     "data": {
      "text/plain": [
       "Fox News    1163\n",
       "MSNBC        890\n",
       "Name: Producer, dtype: int64"
      ]
     },
     "execution_count": 432,
     "metadata": {},
     "output_type": "execute_result"
    },
    {
     "data": {
      "image/png": "[encoded data removed]",
      "text/plain": [
       "<Figure size 432x288 with 1 Axes>"
      ]
     },
     "metadata": {
      "needs_background": "light"
     },
     "output_type": "display_data"
    }
   ],
   "source": [
    "influence['Producer'].value_counts().plot.bar(color = \"navy\")\n",
    "influence['Producer'].value_counts()"
   ]
  },
  {
   "cell_type": "markdown",
   "metadata": {},
   "source": [
    "### Increased Labeling Con/Lib by 2.5% "
   ]
  },
  {
   "cell_type": "code",
   "execution_count": 698,
   "metadata": {},
   "outputs": [
    {
     "data": {
      "text/html": [
       "<div>\n",
       "<style scoped>\n",
       "    .dataframe tbody tr th:only-of-type {\n",
       "        vertical-align: middle;\n",
       "    }\n",
       "\n",
       "    .dataframe tbody tr th {\n",
       "        vertical-align: top;\n",
       "    }\n",
       "\n",
       "    .dataframe thead th {\n",
       "        text-align: right;\n",
       "    }\n",
       "</style>\n",
       "<table border=\"1\" class=\"dataframe\">\n",
       "  <thead>\n",
       "    <tr style=\"text-align: right;\">\n",
       "      <th></th>\n",
       "      <th>Producer</th>\n",
       "      <th>Label2</th>\n",
       "      <th>Description</th>\n",
       "    </tr>\n",
       "  </thead>\n",
       "  <tbody>\n",
       "    <tr>\n",
       "      <th>0</th>\n",
       "      <td>MSNBC</td>\n",
       "      <td>Liberal</td>\n",
       "      <td>Republicans can only create two things: defici...</td>\n",
       "    </tr>\n",
       "  </tbody>\n",
       "</table>\n",
       "</div>"
      ],
      "text/plain": [
       "  Producer   Label2                                        Description\n",
       "0    MSNBC  Liberal  Republicans can only create two things: defici..."
      ]
     },
     "execution_count": 698,
     "metadata": {},
     "output_type": "execute_result"
    }
   ],
   "source": [
    "influence[[\"Producer\", \"Label2\"]].loc[influence['Author'] == \"jon Q\"]"
   ]
  },
  {
   "cell_type": "code",
   "execution_count": 697,
   "metadata": {},
   "outputs": [
    {
     "data": {
      "text/html": [
       "<div>\n",
       "<style scoped>\n",
       "    .dataframe tbody tr th:only-of-type {\n",
       "        vertical-align: middle;\n",
       "    }\n",
       "\n",
       "    .dataframe tbody tr th {\n",
       "        vertical-align: top;\n",
       "    }\n",
       "\n",
       "    .dataframe thead th {\n",
       "        text-align: right;\n",
       "    }\n",
       "</style>\n",
       "<table border=\"1\" class=\"dataframe\">\n",
       "  <thead>\n",
       "    <tr style=\"text-align: right;\">\n",
       "      <th></th>\n",
       "      <th>Description</th>\n",
       "    </tr>\n",
       "  </thead>\n",
       "  <tbody>\n",
       "    <tr>\n",
       "      <th>0</th>\n",
       "      <td>Republicans can only create two things: defici...</td>\n",
       "    </tr>\n",
       "  </tbody>\n",
       "</table>\n",
       "</div>"
      ],
      "text/plain": [
       "                                         Description\n",
       "0  Republicans can only create two things: defici..."
      ]
     },
     "execution_count": 697,
     "metadata": {},
     "output_type": "execute_result"
    }
   ],
   "source": [
    "influence[[\"Description\"]].loc[influence['Author'] == \"jon Q\"]"
   ]
  },
  {
   "cell_type": "code",
   "execution_count": 651,
   "metadata": {},
   "outputs": [
    {
     "data": {
      "text/plain": [
       "Nuetral         130\n",
       "Liberal          88\n",
       "Conservative     58\n",
       "Name: Label1, dtype: int64"
      ]
     },
     "execution_count": 651,
     "metadata": {},
     "output_type": "execute_result"
    },
    {
     "data": {
      "image/png": "[encoded data removed]",
      "text/plain": [
       "<Figure size 432x288 with 1 Axes>"
      ]
     },
     "metadata": {
      "needs_background": "light"
     },
     "output_type": "display_data"
    }
   ],
   "source": [
    "jq = influence.loc[influence['Isreplyto']==\"jon Q\"]\n",
    "jq['Label1'].value_counts().plot.bar(color = \"maroon\")\n",
    "jq['Label1'].value_counts()"
   ]
  },
  {
   "cell_type": "code",
   "execution_count": 679,
   "metadata": {},
   "outputs": [
    {
     "data": {
      "text/html": [
       "<div>\n",
       "<style scoped>\n",
       "    .dataframe tbody tr th:only-of-type {\n",
       "        vertical-align: middle;\n",
       "    }\n",
       "\n",
       "    .dataframe tbody tr th {\n",
       "        vertical-align: top;\n",
       "    }\n",
       "\n",
       "    .dataframe thead th {\n",
       "        text-align: right;\n",
       "    }\n",
       "</style>\n",
       "<table border=\"1\" class=\"dataframe\">\n",
       "  <thead>\n",
       "    <tr style=\"text-align: right;\">\n",
       "      <th></th>\n",
       "      <th>Producer</th>\n",
       "      <th>Label2</th>\n",
       "    </tr>\n",
       "  </thead>\n",
       "  <tbody>\n",
       "    <tr>\n",
       "      <th>277</th>\n",
       "      <td>Fox News</td>\n",
       "      <td>Nuetral</td>\n",
       "    </tr>\n",
       "  </tbody>\n",
       "</table>\n",
       "</div>"
      ],
      "text/plain": [
       "     Producer   Label2\n",
       "277  Fox News  Nuetral"
      ]
     },
     "execution_count": 679,
     "metadata": {},
     "output_type": "execute_result"
    }
   ],
   "source": [
    "influence[[\"Producer\", \"Label2\"]].loc[influence['Author'] == \"T G\"]"
   ]
  },
  {
   "cell_type": "code",
   "execution_count": 652,
   "metadata": {},
   "outputs": [
    {
     "data": {
      "text/plain": [
       "Nuetral         83\n",
       "Conservative    41\n",
       "Liberal         37\n",
       "Name: Label1, dtype: int64"
      ]
     },
     "execution_count": 652,
     "metadata": {},
     "output_type": "execute_result"
    },
    {
     "data": {
      "image/png": "[encoded data removed]",
      "text/plain": [
       "<Figure size 432x288 with 1 Axes>"
      ]
     },
     "metadata": {
      "needs_background": "light"
     },
     "output_type": "display_data"
    }
   ],
   "source": [
    "jq = influence.loc[influence['Isreplyto']==\"T G\"]\n",
    "jq['Label1'].value_counts().plot.bar(color = \"maroon\")\n",
    "jq['Label1'].value_counts()"
   ]
  },
  {
   "cell_type": "code",
   "execution_count": 693,
   "metadata": {},
   "outputs": [
    {
     "data": {
      "text/html": [
       "<div>\n",
       "<style scoped>\n",
       "    .dataframe tbody tr th:only-of-type {\n",
       "        vertical-align: middle;\n",
       "    }\n",
       "\n",
       "    .dataframe tbody tr th {\n",
       "        vertical-align: top;\n",
       "    }\n",
       "\n",
       "    .dataframe thead th {\n",
       "        text-align: right;\n",
       "    }\n",
       "</style>\n",
       "<table border=\"1\" class=\"dataframe\">\n",
       "  <thead>\n",
       "    <tr style=\"text-align: right;\">\n",
       "      <th></th>\n",
       "      <th>Producer</th>\n",
       "      <th>Label2</th>\n",
       "    </tr>\n",
       "  </thead>\n",
       "  <tbody>\n",
       "    <tr>\n",
       "      <th>671</th>\n",
       "      <td>Fox News</td>\n",
       "      <td>Conservative</td>\n",
       "    </tr>\n",
       "  </tbody>\n",
       "</table>\n",
       "</div>"
      ],
      "text/plain": [
       "     Producer        Label2\n",
       "671  Fox News  Conservative"
      ]
     },
     "execution_count": 693,
     "metadata": {},
     "output_type": "execute_result"
    }
   ],
   "source": [
    "influence[[\"Producer\", \"Label2\"]].loc[influence['Author'] == \"Elmer T Fuddrucker\"]"
   ]
  },
  {
   "cell_type": "code",
   "execution_count": 690,
   "metadata": {},
   "outputs": [
    {
     "data": {
      "text/plain": [
       "Nuetral         124\n",
       "Liberal          64\n",
       "Conservative     33\n",
       "Name: Label1, dtype: int64"
      ]
     },
     "execution_count": 690,
     "metadata": {},
     "output_type": "execute_result"
    },
    {
     "data": {
      "image/png": "[encoded data removed]",
      "text/plain": [
       "<Figure size 432x288 with 1 Axes>"
      ]
     },
     "metadata": {
      "needs_background": "light"
     },
     "output_type": "display_data"
    }
   ],
   "source": [
    "jq = influence.loc[influence['Isreplyto']==\"Elmer T Fuddrucker\"]\n",
    "jq['Label1'].value_counts().plot.bar(color = \"maroon\")\n",
    "jq['Label1'].value_counts()"
   ]
  },
  {
   "cell_type": "code",
   "execution_count": 691,
   "metadata": {},
   "outputs": [
    {
     "data": {
      "text/html": [
       "<div>\n",
       "<style scoped>\n",
       "    .dataframe tbody tr th:only-of-type {\n",
       "        vertical-align: middle;\n",
       "    }\n",
       "\n",
       "    .dataframe tbody tr th {\n",
       "        vertical-align: top;\n",
       "    }\n",
       "\n",
       "    .dataframe thead th {\n",
       "        text-align: right;\n",
       "    }\n",
       "</style>\n",
       "<table border=\"1\" class=\"dataframe\">\n",
       "  <thead>\n",
       "    <tr style=\"text-align: right;\">\n",
       "      <th></th>\n",
       "      <th>Producer</th>\n",
       "      <th>Label2</th>\n",
       "    </tr>\n",
       "  </thead>\n",
       "  <tbody>\n",
       "    <tr>\n",
       "      <th>439</th>\n",
       "      <td>MSNBC</td>\n",
       "      <td>Conservative</td>\n",
       "    </tr>\n",
       "  </tbody>\n",
       "</table>\n",
       "</div>"
      ],
      "text/plain": [
       "    Producer        Label2\n",
       "439    MSNBC  Conservative"
      ]
     },
     "execution_count": 691,
     "metadata": {},
     "output_type": "execute_result"
    }
   ],
   "source": [
    "influence[[\"Producer\", \"Label2\"]].loc[influence['Author'] == \"Laura Folsom\"]"
   ]
  },
  {
   "cell_type": "code",
   "execution_count": 696,
   "metadata": {},
   "outputs": [
    {
     "data": {
      "text/plain": [
       "Nuetral         111\n",
       "Liberal          65\n",
       "Conservative     55\n",
       "Name: Label1, dtype: int64"
      ]
     },
     "execution_count": 696,
     "metadata": {},
     "output_type": "execute_result"
    },
    {
     "data": {
      "image/png": "[encoded data removed]",
      "text/plain": [
       "<Figure size 432x288 with 1 Axes>"
      ]
     },
     "metadata": {
      "needs_background": "light"
     },
     "output_type": "display_data"
    }
   ],
   "source": [
    "jq = influence.loc[influence['Isreplyto']==\"Laura Folsom\"]\n",
    "jq['Label1'].value_counts().plot.bar(color = \"maroon\")\n",
    "jq['Label1'].value_counts()"
   ]
  },
  {
   "cell_type": "code",
   "execution_count": 681,
   "metadata": {
    "scrolled": true
   },
   "outputs": [
    {
     "data": {
      "text/html": [
       "<div>\n",
       "<style scoped>\n",
       "    .dataframe tbody tr th:only-of-type {\n",
       "        vertical-align: middle;\n",
       "    }\n",
       "\n",
       "    .dataframe tbody tr th {\n",
       "        vertical-align: top;\n",
       "    }\n",
       "\n",
       "    .dataframe thead th {\n",
       "        text-align: right;\n",
       "    }\n",
       "</style>\n",
       "<table border=\"1\" class=\"dataframe\">\n",
       "  <thead>\n",
       "    <tr style=\"text-align: right;\">\n",
       "      <th></th>\n",
       "      <th>Producer</th>\n",
       "      <th>Label2</th>\n",
       "    </tr>\n",
       "  </thead>\n",
       "  <tbody>\n",
       "    <tr>\n",
       "      <th>893</th>\n",
       "      <td>Fox News</td>\n",
       "      <td>Conservative</td>\n",
       "    </tr>\n",
       "    <tr>\n",
       "      <th>1015</th>\n",
       "      <td>Fox News</td>\n",
       "      <td>Nuetral</td>\n",
       "    </tr>\n",
       "    <tr>\n",
       "      <th>1018</th>\n",
       "      <td>Fox News</td>\n",
       "      <td>Nuetral</td>\n",
       "    </tr>\n",
       "    <tr>\n",
       "      <th>1022</th>\n",
       "      <td>Fox News</td>\n",
       "      <td>Liberal</td>\n",
       "    </tr>\n",
       "    <tr>\n",
       "      <th>1024</th>\n",
       "      <td>Fox News</td>\n",
       "      <td>Conservative</td>\n",
       "    </tr>\n",
       "    <tr>\n",
       "      <th>1031</th>\n",
       "      <td>Fox News</td>\n",
       "      <td>Conservative</td>\n",
       "    </tr>\n",
       "    <tr>\n",
       "      <th>1036</th>\n",
       "      <td>Fox News</td>\n",
       "      <td>Nuetral</td>\n",
       "    </tr>\n",
       "    <tr>\n",
       "      <th>1054</th>\n",
       "      <td>Fox News</td>\n",
       "      <td>Nuetral</td>\n",
       "    </tr>\n",
       "    <tr>\n",
       "      <th>1064</th>\n",
       "      <td>Fox News</td>\n",
       "      <td>Liberal</td>\n",
       "    </tr>\n",
       "    <tr>\n",
       "      <th>1095</th>\n",
       "      <td>Fox News</td>\n",
       "      <td>Liberal</td>\n",
       "    </tr>\n",
       "  </tbody>\n",
       "</table>\n",
       "</div>"
      ],
      "text/plain": [
       "      Producer        Label2\n",
       "893   Fox News  Conservative\n",
       "1015  Fox News       Nuetral\n",
       "1018  Fox News       Nuetral\n",
       "1022  Fox News       Liberal\n",
       "1024  Fox News  Conservative\n",
       "1031  Fox News  Conservative\n",
       "1036  Fox News       Nuetral\n",
       "1054  Fox News       Nuetral\n",
       "1064  Fox News       Liberal\n",
       "1095  Fox News       Liberal"
      ]
     },
     "execution_count": 681,
     "metadata": {},
     "output_type": "execute_result"
    }
   ],
   "source": [
    "influence[[\"Producer\", \"Label2\"]].loc[influence['Author'] == \"Todd Ambrose\"]"
   ]
  },
  {
   "cell_type": "code",
   "execution_count": 658,
   "metadata": {},
   "outputs": [
    {
     "data": {
      "text/plain": [
       "Nuetral         94\n",
       "Liberal         74\n",
       "Conservative    36\n",
       "Name: Label1, dtype: int64"
      ]
     },
     "execution_count": 658,
     "metadata": {},
     "output_type": "execute_result"
    },
    {
     "data": {
      "image/png": "[encoded data removed]",
      "text/plain": [
       "<Figure size 432x288 with 1 Axes>"
      ]
     },
     "metadata": {
      "needs_background": "light"
     },
     "output_type": "display_data"
    }
   ],
   "source": [
    "jq = influence.loc[influence['Isreplyto']==\"Todd Ambrose\"]\n",
    "jq['Label1'].value_counts().plot.bar(color = \"maroon\")\n",
    "jq['Label1'].value_counts()"
   ]
  },
  {
   "cell_type": "code",
   "execution_count": 682,
   "metadata": {},
   "outputs": [
    {
     "data": {
      "text/html": [
       "<div>\n",
       "<style scoped>\n",
       "    .dataframe tbody tr th:only-of-type {\n",
       "        vertical-align: middle;\n",
       "    }\n",
       "\n",
       "    .dataframe tbody tr th {\n",
       "        vertical-align: top;\n",
       "    }\n",
       "\n",
       "    .dataframe thead th {\n",
       "        text-align: right;\n",
       "    }\n",
       "</style>\n",
       "<table border=\"1\" class=\"dataframe\">\n",
       "  <thead>\n",
       "    <tr style=\"text-align: right;\">\n",
       "      <th></th>\n",
       "      <th>Producer</th>\n",
       "      <th>Label2</th>\n",
       "    </tr>\n",
       "  </thead>\n",
       "  <tbody>\n",
       "    <tr>\n",
       "      <th>1098</th>\n",
       "      <td>Fox News</td>\n",
       "      <td>Liberal</td>\n",
       "    </tr>\n",
       "    <tr>\n",
       "      <th>1235</th>\n",
       "      <td>Fox News</td>\n",
       "      <td>Conservative</td>\n",
       "    </tr>\n",
       "    <tr>\n",
       "      <th>1240</th>\n",
       "      <td>Fox News</td>\n",
       "      <td>Nuetral</td>\n",
       "    </tr>\n",
       "  </tbody>\n",
       "</table>\n",
       "</div>"
      ],
      "text/plain": [
       "      Producer        Label2\n",
       "1098  Fox News       Liberal\n",
       "1235  Fox News  Conservative\n",
       "1240  Fox News       Nuetral"
      ]
     },
     "execution_count": 682,
     "metadata": {},
     "output_type": "execute_result"
    }
   ],
   "source": [
    "influence[[\"Producer\", \"Label2\"]].loc[influence['Author'] == \"RSKR\"]"
   ]
  },
  {
   "cell_type": "code",
   "execution_count": 663,
   "metadata": {},
   "outputs": [
    {
     "data": {
      "text/plain": [
       "Nuetral         99\n",
       "Liberal         55\n",
       "Conservative    41\n",
       "Name: Label1, dtype: int64"
      ]
     },
     "execution_count": 663,
     "metadata": {},
     "output_type": "execute_result"
    },
    {
     "data": {
      "image/png": "[encoded data removed]",
      "text/plain": [
       "<Figure size 432x288 with 1 Axes>"
      ]
     },
     "metadata": {
      "needs_background": "light"
     },
     "output_type": "display_data"
    }
   ],
   "source": [
    "jq = influence.loc[influence['Isreplyto']==\"RSKR\"]\n",
    "jq['Label1'].value_counts().plot.bar(color = \"maroon\")\n",
    "jq['Label1'].value_counts()"
   ]
  },
  {
   "cell_type": "code",
   "execution_count": 683,
   "metadata": {},
   "outputs": [
    {
     "data": {
      "text/html": [
       "<div>\n",
       "<style scoped>\n",
       "    .dataframe tbody tr th:only-of-type {\n",
       "        vertical-align: middle;\n",
       "    }\n",
       "\n",
       "    .dataframe tbody tr th {\n",
       "        vertical-align: top;\n",
       "    }\n",
       "\n",
       "    .dataframe thead th {\n",
       "        text-align: right;\n",
       "    }\n",
       "</style>\n",
       "<table border=\"1\" class=\"dataframe\">\n",
       "  <thead>\n",
       "    <tr style=\"text-align: right;\">\n",
       "      <th></th>\n",
       "      <th>Producer</th>\n",
       "      <th>Label2</th>\n",
       "    </tr>\n",
       "  </thead>\n",
       "  <tbody>\n",
       "    <tr>\n",
       "      <th>1294</th>\n",
       "      <td>MSNBC</td>\n",
       "      <td>Liberal</td>\n",
       "    </tr>\n",
       "  </tbody>\n",
       "</table>\n",
       "</div>"
      ],
      "text/plain": [
       "     Producer   Label2\n",
       "1294    MSNBC  Liberal"
      ]
     },
     "execution_count": 683,
     "metadata": {},
     "output_type": "execute_result"
    }
   ],
   "source": [
    "influence[[\"Producer\", \"Label2\"]].loc[influence['Author'] == \"Simon West\"]"
   ]
  },
  {
   "cell_type": "code",
   "execution_count": 665,
   "metadata": {},
   "outputs": [
    {
     "data": {
      "text/plain": [
       "Nuetral         96\n",
       "Liberal         63\n",
       "Conservative    34\n",
       "Name: Label1, dtype: int64"
      ]
     },
     "execution_count": 665,
     "metadata": {},
     "output_type": "execute_result"
    },
    {
     "data": {
      "image/png": "[encoded data removed]",
      "text/plain": [
       "<Figure size 432x288 with 1 Axes>"
      ]
     },
     "metadata": {
      "needs_background": "light"
     },
     "output_type": "display_data"
    }
   ],
   "source": [
    "jq = influence.loc[influence['Isreplyto']==\"Simon West\"]\n",
    "jq['Label1'].value_counts().plot.bar(color = \"maroon\")\n",
    "jq['Label1'].value_counts()"
   ]
  },
  {
   "cell_type": "code",
   "execution_count": 684,
   "metadata": {},
   "outputs": [
    {
     "data": {
      "text/html": [
       "<div>\n",
       "<style scoped>\n",
       "    .dataframe tbody tr th:only-of-type {\n",
       "        vertical-align: middle;\n",
       "    }\n",
       "\n",
       "    .dataframe tbody tr th {\n",
       "        vertical-align: top;\n",
       "    }\n",
       "\n",
       "    .dataframe thead th {\n",
       "        text-align: right;\n",
       "    }\n",
       "</style>\n",
       "<table border=\"1\" class=\"dataframe\">\n",
       "  <thead>\n",
       "    <tr style=\"text-align: right;\">\n",
       "      <th></th>\n",
       "      <th>Producer</th>\n",
       "      <th>Label2</th>\n",
       "    </tr>\n",
       "  </thead>\n",
       "  <tbody>\n",
       "    <tr>\n",
       "      <th>1488</th>\n",
       "      <td>Fox News</td>\n",
       "      <td>Conservative</td>\n",
       "    </tr>\n",
       "  </tbody>\n",
       "</table>\n",
       "</div>"
      ],
      "text/plain": [
       "      Producer        Label2\n",
       "1488  Fox News  Conservative"
      ]
     },
     "execution_count": 684,
     "metadata": {},
     "output_type": "execute_result"
    }
   ],
   "source": [
    "influence[[\"Producer\", \"Label2\"]].loc[influence['Author'] == \"william rambo\"]"
   ]
  },
  {
   "cell_type": "code",
   "execution_count": 667,
   "metadata": {},
   "outputs": [
    {
     "data": {
      "text/plain": [
       "Nuetral         94\n",
       "Liberal         52\n",
       "Conservative    46\n",
       "Name: Label1, dtype: int64"
      ]
     },
     "execution_count": 667,
     "metadata": {},
     "output_type": "execute_result"
    },
    {
     "data": {
      "image/png": "[encoded data removed]",
      "text/plain": [
       "<Figure size 432x288 with 1 Axes>"
      ]
     },
     "metadata": {
      "needs_background": "light"
     },
     "output_type": "display_data"
    }
   ],
   "source": [
    "jq = influence.loc[influence['Isreplyto']==\"william rambo\"]\n",
    "jq['Label1'].value_counts().plot.bar(color = \"maroon\")\n",
    "jq['Label1'].value_counts()"
   ]
  },
  {
   "cell_type": "code",
   "execution_count": 685,
   "metadata": {},
   "outputs": [
    {
     "data": {
      "text/html": [
       "<div>\n",
       "<style scoped>\n",
       "    .dataframe tbody tr th:only-of-type {\n",
       "        vertical-align: middle;\n",
       "    }\n",
       "\n",
       "    .dataframe tbody tr th {\n",
       "        vertical-align: top;\n",
       "    }\n",
       "\n",
       "    .dataframe thead th {\n",
       "        text-align: right;\n",
       "    }\n",
       "</style>\n",
       "<table border=\"1\" class=\"dataframe\">\n",
       "  <thead>\n",
       "    <tr style=\"text-align: right;\">\n",
       "      <th></th>\n",
       "      <th>Producer</th>\n",
       "      <th>Label2</th>\n",
       "    </tr>\n",
       "  </thead>\n",
       "  <tbody>\n",
       "    <tr>\n",
       "      <th>1681</th>\n",
       "      <td>MSNBC</td>\n",
       "      <td>Liberal</td>\n",
       "    </tr>\n",
       "  </tbody>\n",
       "</table>\n",
       "</div>"
      ],
      "text/plain": [
       "     Producer   Label2\n",
       "1681    MSNBC  Liberal"
      ]
     },
     "execution_count": 685,
     "metadata": {},
     "output_type": "execute_result"
    }
   ],
   "source": [
    "influence[[\"Producer\", \"Label2\"]].loc[influence['Author'] == \"kurushiiv\"]"
   ]
  },
  {
   "cell_type": "code",
   "execution_count": 671,
   "metadata": {},
   "outputs": [
    {
     "data": {
      "text/plain": [
       "Nuetral         81\n",
       "Liberal         72\n",
       "Conservative    33\n",
       "Name: Label1, dtype: int64"
      ]
     },
     "execution_count": 671,
     "metadata": {},
     "output_type": "execute_result"
    },
    {
     "data": {
      "image/png": "[encoded data removed]",
      "text/plain": [
       "<Figure size 432x288 with 1 Axes>"
      ]
     },
     "metadata": {
      "needs_background": "light"
     },
     "output_type": "display_data"
    }
   ],
   "source": [
    "jq = influence.loc[influence['Isreplyto']==\"kurushiiv\"]\n",
    "jq['Label1'].value_counts().plot.bar(color = \"maroon\")\n",
    "jq['Label1'].value_counts()"
   ]
  },
  {
   "cell_type": "code",
   "execution_count": 686,
   "metadata": {},
   "outputs": [
    {
     "data": {
      "text/html": [
       "<div>\n",
       "<style scoped>\n",
       "    .dataframe tbody tr th:only-of-type {\n",
       "        vertical-align: middle;\n",
       "    }\n",
       "\n",
       "    .dataframe tbody tr th {\n",
       "        vertical-align: top;\n",
       "    }\n",
       "\n",
       "    .dataframe thead th {\n",
       "        text-align: right;\n",
       "    }\n",
       "</style>\n",
       "<table border=\"1\" class=\"dataframe\">\n",
       "  <thead>\n",
       "    <tr style=\"text-align: right;\">\n",
       "      <th></th>\n",
       "      <th>Producer</th>\n",
       "      <th>Label2</th>\n",
       "    </tr>\n",
       "  </thead>\n",
       "  <tbody>\n",
       "    <tr>\n",
       "      <th>1868</th>\n",
       "      <td>Fox News</td>\n",
       "      <td>Nuetral</td>\n",
       "    </tr>\n",
       "    <tr>\n",
       "      <th>1886</th>\n",
       "      <td>Fox News</td>\n",
       "      <td>Nuetral</td>\n",
       "    </tr>\n",
       "    <tr>\n",
       "      <th>1887</th>\n",
       "      <td>Fox News</td>\n",
       "      <td>Conservative</td>\n",
       "    </tr>\n",
       "    <tr>\n",
       "      <th>1904</th>\n",
       "      <td>Fox News</td>\n",
       "      <td>Conservative</td>\n",
       "    </tr>\n",
       "    <tr>\n",
       "      <th>1928</th>\n",
       "      <td>Fox News</td>\n",
       "      <td>Liberal</td>\n",
       "    </tr>\n",
       "  </tbody>\n",
       "</table>\n",
       "</div>"
      ],
      "text/plain": [
       "      Producer        Label2\n",
       "1868  Fox News       Nuetral\n",
       "1886  Fox News       Nuetral\n",
       "1887  Fox News  Conservative\n",
       "1904  Fox News  Conservative\n",
       "1928  Fox News       Liberal"
      ]
     },
     "execution_count": 686,
     "metadata": {},
     "output_type": "execute_result"
    }
   ],
   "source": [
    "influence[[\"Producer\", \"Label2\"]].loc[influence['Author'] == \"Tonka Goldman\"]"
   ]
  },
  {
   "cell_type": "code",
   "execution_count": 673,
   "metadata": {},
   "outputs": [
    {
     "data": {
      "text/plain": [
       "Nuetral         88\n",
       "Liberal         63\n",
       "Conservative    33\n",
       "Name: Label1, dtype: int64"
      ]
     },
     "execution_count": 673,
     "metadata": {},
     "output_type": "execute_result"
    },
    {
     "data": {
      "image/png": "[encoded data removed]",
      "text/plain": [
       "<Figure size 432x288 with 1 Axes>"
      ]
     },
     "metadata": {
      "needs_background": "light"
     },
     "output_type": "display_data"
    }
   ],
   "source": [
    "jq = influence.loc[influence['Isreplyto']==\"Tonka Goldman\"]\n",
    "jq['Label1'].value_counts().plot.bar(color = \"maroon\")\n",
    "jq['Label1'].value_counts()"
   ]
  },
  {
   "cell_type": "code",
   "execution_count": 153,
   "metadata": {},
   "outputs": [],
   "source": [
    "foxnews = comments[101379:]\n",
    "msnbc = comments[:101379]"
   ]
  },
  {
   "cell_type": "code",
   "execution_count": 157,
   "metadata": {},
   "outputs": [],
   "source": [
    "fox = foxnews[['author','Producer']]\n",
    "ms_nbc = msnbc[['author','Producer']]"
   ]
  },
  {
   "cell_type": "code",
   "execution_count": 170,
   "metadata": {},
   "outputs": [
    {
     "data": {
      "text/html": [
       "<div>\n",
       "<style scoped>\n",
       "    .dataframe tbody tr th:only-of-type {\n",
       "        vertical-align: middle;\n",
       "    }\n",
       "\n",
       "    .dataframe tbody tr th {\n",
       "        vertical-align: top;\n",
       "    }\n",
       "\n",
       "    .dataframe thead th {\n",
       "        text-align: right;\n",
       "    }\n",
       "</style>\n",
       "<table border=\"1\" class=\"dataframe\">\n",
       "  <thead>\n",
       "    <tr style=\"text-align: right;\">\n",
       "      <th></th>\n",
       "      <th>author</th>\n",
       "      <th>Producer</th>\n",
       "    </tr>\n",
       "  </thead>\n",
       "  <tbody>\n",
       "    <tr>\n",
       "      <th>0</th>\n",
       "      <td>Bruce Molyneux</td>\n",
       "      <td>MSNBC</td>\n",
       "    </tr>\n",
       "    <tr>\n",
       "      <th>1</th>\n",
       "      <td>Hybrid - Fahrer</td>\n",
       "      <td>MSNBC</td>\n",
       "    </tr>\n",
       "    <tr>\n",
       "      <th>2</th>\n",
       "      <td>marc</td>\n",
       "      <td>MSNBC</td>\n",
       "    </tr>\n",
       "    <tr>\n",
       "      <th>3</th>\n",
       "      <td>Conan Barbarian</td>\n",
       "      <td>MSNBC</td>\n",
       "    </tr>\n",
       "    <tr>\n",
       "      <th>4</th>\n",
       "      <td>Marcel B.</td>\n",
       "      <td>MSNBC</td>\n",
       "    </tr>\n",
       "  </tbody>\n",
       "</table>\n",
       "</div>"
      ],
      "text/plain": [
       "            author Producer\n",
       "0   Bruce Molyneux    MSNBC\n",
       "1  Hybrid - Fahrer    MSNBC\n",
       "2             marc    MSNBC\n",
       "3  Conan Barbarian    MSNBC\n",
       "4        Marcel B.    MSNBC"
      ]
     },
     "execution_count": 170,
     "metadata": {},
     "output_type": "execute_result"
    }
   ],
   "source": [
    "ms_nbc.head()"
   ]
  },
  {
   "cell_type": "code",
   "execution_count": 159,
   "metadata": {},
   "outputs": [],
   "source": [
    "import numpy as np"
   ]
  },
  {
   "cell_type": "markdown",
   "metadata": {},
   "source": [
    "### 17.6% of commentors exist in both forums"
   ]
  },
  {
   "cell_type": "code",
   "execution_count": 168,
   "metadata": {},
   "outputs": [
    {
     "data": {
      "text/plain": [
       "False    86021\n",
       "True     18373\n",
       "Name: author, dtype: int64"
      ]
     },
     "execution_count": 168,
     "metadata": {},
     "output_type": "execute_result"
    }
   ],
   "source": [
    "fox['author'].isin(ms_nbc['author']).value_counts()"
   ]
  },
  {
   "cell_type": "code",
   "execution_count": 172,
   "metadata": {},
   "outputs": [
    {
     "data": {
      "text/html": [
       "<div>\n",
       "<style scoped>\n",
       "    .dataframe tbody tr th:only-of-type {\n",
       "        vertical-align: middle;\n",
       "    }\n",
       "\n",
       "    .dataframe tbody tr th {\n",
       "        vertical-align: top;\n",
       "    }\n",
       "\n",
       "    .dataframe thead th {\n",
       "        text-align: right;\n",
       "    }\n",
       "</style>\n",
       "<table border=\"1\" class=\"dataframe\">\n",
       "  <thead>\n",
       "    <tr style=\"text-align: right;\">\n",
       "      <th></th>\n",
       "      <th>Producer</th>\n",
       "      <th>author</th>\n",
       "      <th>replycount</th>\n",
       "      <th>likecount</th>\n",
       "      <th>description</th>\n",
       "      <th>isreplyto</th>\n",
       "    </tr>\n",
       "  </thead>\n",
       "  <tbody>\n",
       "    <tr>\n",
       "      <th>37346</th>\n",
       "      <td>MSNBC</td>\n",
       "      <td>jon Q</td>\n",
       "      <td>276</td>\n",
       "      <td>1334</td>\n",
       "      <td>Republicans can only create two things: defici...</td>\n",
       "      <td>NaN</td>\n",
       "    </tr>\n",
       "    <tr>\n",
       "      <th>192268</th>\n",
       "      <td>Fox News</td>\n",
       "      <td>T G</td>\n",
       "      <td>247</td>\n",
       "      <td>2740</td>\n",
       "      <td>IsnÛªt it funny a socialist isnÛªt ÛÏpaying...</td>\n",
       "      <td>NaN</td>\n",
       "    </tr>\n",
       "    <tr>\n",
       "      <th>65282</th>\n",
       "      <td>MSNBC</td>\n",
       "      <td>Laura Folsom</td>\n",
       "      <td>231</td>\n",
       "      <td>435</td>\n",
       "      <td>What about the president who wanted our troops...</td>\n",
       "      <td>NaN</td>\n",
       "    </tr>\n",
       "    <tr>\n",
       "      <th>127614</th>\n",
       "      <td>Fox News</td>\n",
       "      <td>Elmer T Fuddrucker</td>\n",
       "      <td>221</td>\n",
       "      <td>1679</td>\n",
       "      <td>John Kerry is having tantrums over the killing...</td>\n",
       "      <td>NaN</td>\n",
       "    </tr>\n",
       "    <tr>\n",
       "      <th>205376</th>\n",
       "      <td>Fox News</td>\n",
       "      <td>Todd Ambrose</td>\n",
       "      <td>204</td>\n",
       "      <td>394</td>\n",
       "      <td>The dnc, as we know it, will cease to exist by...</td>\n",
       "      <td>NaN</td>\n",
       "    </tr>\n",
       "    <tr>\n",
       "      <th>127191</th>\n",
       "      <td>Fox News</td>\n",
       "      <td>RSKR</td>\n",
       "      <td>195</td>\n",
       "      <td>1534</td>\n",
       "      <td>the red line was crossed. they shouldnt be sur...</td>\n",
       "      <td>NaN</td>\n",
       "    </tr>\n",
       "    <tr>\n",
       "      <th>49297</th>\n",
       "      <td>MSNBC</td>\n",
       "      <td>Simon West</td>\n",
       "      <td>193</td>\n",
       "      <td>688</td>\n",
       "      <td>Election coming up... Better have a war.</td>\n",
       "      <td>NaN</td>\n",
       "    </tr>\n",
       "    <tr>\n",
       "      <th>123887</th>\n",
       "      <td>Fox News</td>\n",
       "      <td>william rambo</td>\n",
       "      <td>192</td>\n",
       "      <td>1165</td>\n",
       "      <td>pretty soon the media will have this Iranian g...</td>\n",
       "      <td>NaN</td>\n",
       "    </tr>\n",
       "    <tr>\n",
       "      <th>41362</th>\n",
       "      <td>MSNBC</td>\n",
       "      <td>kurushiiv</td>\n",
       "      <td>186</td>\n",
       "      <td>697</td>\n",
       "      <td>He embezzled from charity while running for of...</td>\n",
       "      <td>NaN</td>\n",
       "    </tr>\n",
       "    <tr>\n",
       "      <th>155023</th>\n",
       "      <td>Fox News</td>\n",
       "      <td>Tonka Goldman</td>\n",
       "      <td>184</td>\n",
       "      <td>487</td>\n",
       "      <td>This action was NOT tyrannical. Salami was a l...</td>\n",
       "      <td>NaN</td>\n",
       "    </tr>\n",
       "  </tbody>\n",
       "</table>\n",
       "</div>"
      ],
      "text/plain": [
       "        Producer              author  replycount  likecount  \\\n",
       "37346      MSNBC               jon Q         276       1334   \n",
       "192268  Fox News                 T G         247       2740   \n",
       "65282      MSNBC        Laura Folsom         231        435   \n",
       "127614  Fox News  Elmer T Fuddrucker         221       1679   \n",
       "205376  Fox News        Todd Ambrose         204        394   \n",
       "127191  Fox News                RSKR         195       1534   \n",
       "49297      MSNBC          Simon West         193        688   \n",
       "123887  Fox News       william rambo         192       1165   \n",
       "41362      MSNBC           kurushiiv         186        697   \n",
       "155023  Fox News       Tonka Goldman         184        487   \n",
       "\n",
       "                                              description isreplyto  \n",
       "37346   Republicans can only create two things: defici...       NaN  \n",
       "192268  IsnÛªt it funny a socialist isnÛªt ÛÏpaying...       NaN  \n",
       "65282   What about the president who wanted our troops...       NaN  \n",
       "127614  John Kerry is having tantrums over the killing...       NaN  \n",
       "205376  The dnc, as we know it, will cease to exist by...       NaN  \n",
       "127191  the red line was crossed. they shouldnt be sur...       NaN  \n",
       "49297            Election coming up... Better have a war.       NaN  \n",
       "123887  pretty soon the media will have this Iranian g...       NaN  \n",
       "41362   He embezzled from charity while running for of...       NaN  \n",
       "155023  This action was NOT tyrannical. Salami was a l...       NaN  "
      ]
     },
     "execution_count": 172,
     "metadata": {},
     "output_type": "execute_result"
    }
   ],
   "source": [
    "replyto = comments.sort_values(by=\"replycount\", ascending = False)\n",
    "reply_counts = replyto[[\"Producer\", \"author\",\"replycount\", \"likecount\",\"description\", \"isreplyto\"]]\n",
    "rc = reply_counts.head(10)\n",
    "rc"
   ]
  },
  {
   "cell_type": "code",
   "execution_count": 194,
   "metadata": {
    "scrolled": true
   },
   "outputs": [
    {
     "data": {
      "text/html": [
       "<div>\n",
       "<style scoped>\n",
       "    .dataframe tbody tr th:only-of-type {\n",
       "        vertical-align: middle;\n",
       "    }\n",
       "\n",
       "    .dataframe tbody tr th {\n",
       "        vertical-align: top;\n",
       "    }\n",
       "\n",
       "    .dataframe thead th {\n",
       "        text-align: right;\n",
       "    }\n",
       "</style>\n",
       "<table border=\"1\" class=\"dataframe\">\n",
       "  <thead>\n",
       "    <tr style=\"text-align: right;\">\n",
       "      <th></th>\n",
       "      <th>Producer</th>\n",
       "      <th>guid</th>\n",
       "      <th>link</th>\n",
       "      <th>pubdate</th>\n",
       "      <th>author</th>\n",
       "      <th>title</th>\n",
       "      <th>description</th>\n",
       "      <th>likecount</th>\n",
       "      <th>replycount</th>\n",
       "      <th>isreplyto</th>\n",
       "    </tr>\n",
       "  </thead>\n",
       "  <tbody>\n",
       "    <tr>\n",
       "      <th>36397</th>\n",
       "      <td>MSNBC</td>\n",
       "      <td>Ugw7jRgiXe5i8LJeCXF4AaABAg.93Knx8DooCK93NVGPt_I5Z</td>\n",
       "      <td>https://www.youtube.com/watch?v=HzHak713Anw&amp;lc...</td>\n",
       "      <td>1/4/2020 12:27</td>\n",
       "      <td>jon Q</td>\n",
       "      <td>Kakistocracy.</td>\n",
       "      <td>Kakistocracy.</td>\n",
       "      <td>1</td>\n",
       "      <td>0</td>\n",
       "      <td>Finn Jacobsen</td>\n",
       "    </tr>\n",
       "    <tr>\n",
       "      <th>37346</th>\n",
       "      <td>MSNBC</td>\n",
       "      <td>Ugzle8JN6dLi-suH77t4AaABAg</td>\n",
       "      <td>https://www.youtube.com/watch?v=HzHak713Anw&amp;lc...</td>\n",
       "      <td>1/3/2020 9:54</td>\n",
       "      <td>jon Q</td>\n",
       "      <td>Republicans can only create two things: defici...</td>\n",
       "      <td>Republicans can only create two things: defici...</td>\n",
       "      <td>1334</td>\n",
       "      <td>276</td>\n",
       "      <td>NaN</td>\n",
       "    </tr>\n",
       "  </tbody>\n",
       "</table>\n",
       "</div>"
      ],
      "text/plain": [
       "      Producer                                               guid  \\\n",
       "36397    MSNBC  Ugw7jRgiXe5i8LJeCXF4AaABAg.93Knx8DooCK93NVGPt_I5Z   \n",
       "37346    MSNBC                         Ugzle8JN6dLi-suH77t4AaABAg   \n",
       "\n",
       "                                                    link         pubdate  \\\n",
       "36397  https://www.youtube.com/watch?v=HzHak713Anw&lc...  1/4/2020 12:27   \n",
       "37346  https://www.youtube.com/watch?v=HzHak713Anw&lc...   1/3/2020 9:54   \n",
       "\n",
       "      author                                              title  \\\n",
       "36397  jon Q                                      Kakistocracy.   \n",
       "37346  jon Q  Republicans can only create two things: defici...   \n",
       "\n",
       "                                             description  likecount  \\\n",
       "36397                                      Kakistocracy.          1   \n",
       "37346  Republicans can only create two things: defici...       1334   \n",
       "\n",
       "       replycount      isreplyto  \n",
       "36397           0  Finn Jacobsen  \n",
       "37346         276            NaN  "
      ]
     },
     "execution_count": 194,
     "metadata": {},
     "output_type": "execute_result"
    }
   ],
   "source": [
    "comments.loc[comments['author'] == \"jon Q\"]"
   ]
  },
  {
   "cell_type": "markdown",
   "metadata": {},
   "source": [
    "### Top 10 on Both:\n",
    "T G\n",
    "\n",
    "only one of the top 10 appears on both forums (10%)\n"
   ]
  }
 ],
 "metadata": {
  "kernelspec": {
   "display_name": "Python 3",
   "language": "python",
   "name": "python3"
  },
  "language_info": {
   "codemirror_mode": {
    "name": "ipython",
    "version": 3
   },
   "file_extension": ".py",
   "mimetype": "text/x-python",
   "name": "python",
   "nbconvert_exporter": "python",
   "pygments_lexer": "ipython3",
   "version": "3.7.3"
  }
 },
 "nbformat": 4,
 "nbformat_minor": 2
}
