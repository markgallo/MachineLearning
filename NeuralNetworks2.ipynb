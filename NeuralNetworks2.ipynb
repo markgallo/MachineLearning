{
  "nbformat": 4,
  "nbformat_minor": 0,
  "metadata": {
    "colab": {
      "name": "MG_ML_HW_4.ipynb",
      "provenance": [],
      "collapsed_sections": [],
      "machine_shape": "hm"
    },
    "kernelspec": {
      "name": "python3",
      "display_name": "Python 3"
    }
  },
  "cells": [
    {
      "cell_type": "markdown",
      "metadata": {
        "id": "T5tXvl-bnhKO",
        "colab_type": "text"
      },
      "source": [
        "Part 1: Build a classification model using text data\n",
        "\n",
        "In part one of the homework, you will solve a text classification task.\n",
        "\n",
        "You can download the following data-sets from the HW data folder on the course website:\n",
        "\n",
        "HW4_Text_train_data.csv and HW4_text_test_data.csv\n",
        "\n",
        "The data consists of Women’s fashion online shop reviews, consisting of a review\n",
        "text, and whether the review author would recommend the product.\n",
        "\n",
        "We are trying to determine whether a reviewer will recommend a product or not based on each review.\n",
        "\n",
        "\n",
        "In a real application this might allow us to find out what is good or bad about certain products or to feature more typical reviews (like a very critical and a very positive one).\n",
        "\n",
        "Use cross-validation to evaluate the results. Use a metric that’s appropriate for imbalanced classification (AUC or average precision for example), and inspect all models by visualizing the coefficients.\n",
        "\n",
        "To complete part one of the homework do the following:\n",
        "\n",
        "Import the text data, vectorize the review column into an X matrix.  Then run at least three models and select a single best model.  Note that you can also create three models that simply use different types of explanatory variables such as a logistic regression with different n grams or different tokenizers.  Be sure to explain your choice and evaluate this model using the test set.\n"
      ]
    },
    {
      "cell_type": "code",
      "metadata": {
        "id": "6z6Uo3h_nSyB",
        "colab_type": "code",
        "outputId": "350c9c84-52c0-4cb3-b636-c3e92f26d623",
        "colab": {
          "resources": {
            "http://localhost:8080/nbextensions/google.colab/files.js": {
              "data": "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",
              "ok": true,
              "headers": [
                [
                  "content-type",
                  "application/javascript"
                ]
              ],
              "status": 200,
              "status_text": ""
            }
          },
          "base_uri": "https://localhost:8080/",
          "height": 74
        }
      },
      "source": [
        "from google.colab import files\n",
        "test =files.upload()"
      ],
      "execution_count": 0,
      "outputs": [
        {
          "output_type": "display_data",
          "data": {
            "text/html": [
              "\n",
              "     <input type=\"file\" id=\"files-61886e01-6771-4e7f-b693-f040343c389a\" name=\"files[]\" multiple disabled />\n",
              "     <output id=\"result-61886e01-6771-4e7f-b693-f040343c389a\">\n",
              "      Upload widget is only available when the cell has been executed in the\n",
              "      current browser session. Please rerun this cell to enable.\n",
              "      </output>\n",
              "      <script src=\"/nbextensions/google.colab/files.js\"></script> "
            ],
            "text/plain": [
              "<IPython.core.display.HTML object>"
            ]
          },
          "metadata": {
            "tags": []
          }
        },
        {
          "output_type": "stream",
          "text": [
            "Saving HW4_Text_test_data.csv to HW4_Text_test_data.csv\n"
          ],
          "name": "stdout"
        }
      ]
    },
    {
      "cell_type": "code",
      "metadata": {
        "id": "TzggIkXxSUoK",
        "colab_type": "code",
        "outputId": "927b01e6-8826-403b-d9d0-b8fa68e85a52",
        "colab": {
          "resources": {
            "http://localhost:8080/nbextensions/google.colab/files.js": {
              "data": "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",
              "ok": true,
              "headers": [
                [
                  "content-type",
                  "application/javascript"
                ]
              ],
              "status": 200,
              "status_text": ""
            }
          },
          "base_uri": "https://localhost:8080/",
          "height": 74
        }
      },
      "source": [
        "train =files.upload()"
      ],
      "execution_count": 0,
      "outputs": [
        {
          "output_type": "display_data",
          "data": {
            "text/html": [
              "\n",
              "     <input type=\"file\" id=\"files-429b6897-fd2d-418c-a757-79471ab20409\" name=\"files[]\" multiple disabled />\n",
              "     <output id=\"result-429b6897-fd2d-418c-a757-79471ab20409\">\n",
              "      Upload widget is only available when the cell has been executed in the\n",
              "      current browser session. Please rerun this cell to enable.\n",
              "      </output>\n",
              "      <script src=\"/nbextensions/google.colab/files.js\"></script> "
            ],
            "text/plain": [
              "<IPython.core.display.HTML object>"
            ]
          },
          "metadata": {
            "tags": []
          }
        },
        {
          "output_type": "stream",
          "text": [
            "Saving HW4_Text_train_data.csv to HW4_Text_train_data.csv\n"
          ],
          "name": "stdout"
        }
      ]
    },
    {
      "cell_type": "code",
      "metadata": {
        "id": "skFVZ-legxM5",
        "colab_type": "code",
        "colab": {}
      },
      "source": [
        "import pandas as pd\n",
        "import numpy as np\n",
        "from sklearn.feature_extraction.text import CountVectorizer\n"
      ],
      "execution_count": 0,
      "outputs": []
    },
    {
      "cell_type": "code",
      "metadata": {
        "id": "1Psa0wHasWV8",
        "colab_type": "code",
        "colab": {}
      },
      "source": [
        "test = pd.read_csv(\"HW4_Text_test_data.csv\")\n",
        "train = pd.read_csv(\"HW4_Text_train_data.csv\")"
      ],
      "execution_count": 0,
      "outputs": []
    },
    {
      "cell_type": "code",
      "metadata": {
        "id": "6eDTf4DlPdRx",
        "colab_type": "code",
        "colab": {}
      },
      "source": [
        "frames = [test,train]\n",
        "data = pd.concat(frames, ignore_index=True)\n",
        "X = np.array(data['Review'])\n",
        "y = np.array(data['Recommended'])"
      ],
      "execution_count": 0,
      "outputs": []
    },
    {
      "cell_type": "code",
      "metadata": {
        "id": "hAtG461yQba9",
        "colab_type": "code",
        "outputId": "629d8980-1b60-46ae-d4bf-edce8bc30da6",
        "colab": {
          "base_uri": "https://localhost:8080/",
          "height": 70
        }
      },
      "source": [
        "vect_X = CountVectorizer().fit(X)\n",
        "X_all_train = vect_X.transform(X)\n",
        "print(\"X:\\n{}\".format(repr(X_all_train)))"
      ],
      "execution_count": 0,
      "outputs": [
        {
          "output_type": "stream",
          "text": [
            "X:\n",
            "<22642x14679 sparse matrix of type '<class 'numpy.int64'>'\n",
            "\twith 999907 stored elements in Compressed Sparse Row format>\n"
          ],
          "name": "stdout"
        }
      ]
    },
    {
      "cell_type": "code",
      "metadata": {
        "id": "idXaATaAQ1i7",
        "colab_type": "code",
        "outputId": "cee84368-cac5-4c34-dce7-282614160711",
        "colab": {
          "base_uri": "https://localhost:8080/",
          "height": 70
        }
      },
      "source": [
        "sorted_data['Recommended'].value_counts()"
      ],
      "execution_count": 0,
      "outputs": [
        {
          "output_type": "execute_result",
          "data": {
            "text/plain": [
              "1    18541\n",
              "0     4101\n",
              "Name: Recommended, dtype: int64"
            ]
          },
          "metadata": {
            "tags": []
          },
          "execution_count": 91
        }
      ]
    },
    {
      "cell_type": "code",
      "metadata": {
        "id": "nd8ILTzz2ui_",
        "colab_type": "code",
        "outputId": "ffe7b1b7-d159-48c9-9183-84a635c102c2",
        "colab": {
          "base_uri": "https://localhost:8080/",
          "height": 34
        }
      },
      "source": [
        "sorted_data = data.sort_values(by=['Recommended'])\n",
        "text_train_pos = np.array(sorted_data['Review'])[0:100]\n",
        "text_train_neg = np.array(sorted_data[\"Review\"])[10000:10100]\n",
        "\n",
        "text_train = np.concatenate((text_train_pos, text_train_neg ), axis=0)\n",
        "print(text_train.shape)"
      ],
      "execution_count": 0,
      "outputs": [
        {
          "output_type": "stream",
          "text": [
            "(200,)\n"
          ],
          "name": "stdout"
        }
      ]
    },
    {
      "cell_type": "code",
      "metadata": {
        "id": "W7h381GWsWZ0",
        "colab_type": "code",
        "outputId": "3a24292b-733d-453d-ee53-ff40970ca457",
        "colab": {
          "base_uri": "https://localhost:8080/",
          "height": 70
        }
      },
      "source": [
        "vect = CountVectorizer().fit(text_train)\n",
        "X = vect.transform(text_train)\n",
        "print(\"X:\\n{}\".format(repr(X)))"
      ],
      "execution_count": 0,
      "outputs": [
        {
          "output_type": "stream",
          "text": [
            "X:\n",
            "<200x1880 sparse matrix of type '<class 'numpy.int64'>'\n",
            "\twith 9746 stored elements in Compressed Sparse Row format>\n"
          ],
          "name": "stdout"
        }
      ]
    },
    {
      "cell_type": "code",
      "metadata": {
        "id": "Gd1WIxp2wAyB",
        "colab_type": "code",
        "colab": {}
      },
      "source": [
        ""
      ],
      "execution_count": 0,
      "outputs": []
    },
    {
      "cell_type": "code",
      "metadata": {
        "scrolled": true,
        "id": "qQeMReUPsWaY",
        "colab_type": "code",
        "outputId": "7d14dadc-91e7-4c92-b89d-f6e8f95c6557",
        "colab": {
          "base_uri": "https://localhost:8080/",
          "height": 141
        }
      },
      "source": [
        "feature_names = vect.get_feature_names()\n",
        "print(\"Number of features: {}\".format(len(feature_names)))\n",
        "print(\"First 20 features:\\n{}\".format(feature_names[:20]))\n",
        "print(\"Features 210 to 230:\\n{}\".format(feature_names[210:230]))\n",
        "print(\"Every 200th feature:\\n{}\".format(feature_names[::200]))"
      ],
      "execution_count": 0,
      "outputs": [
        {
          "output_type": "stream",
          "text": [
            "Number of features: 1880\n",
            "First 20 features:\n",
            "['00p', '10', '100', '11', '110', '115', '115lbs', '118', '12', '120', '125', '125lb', '128', '130', '130lbs', '135lbs', '138', '14', '140', '145lbs']\n",
            "Features 210 to 230:\n",
            "['blend', 'blog', 'blouse', 'blouses', 'blown', 'blue', 'board', 'bod', 'bodice', 'body', 'bohemian', 'boho', 'bold', 'booties', 'boots', 'booty', 'boring', 'both', 'bother', 'bottom']\n",
            "Every 200th feature:\n",
            "['00p', 'beware', 'cry', 'fits', 'initially', 'mock', 'predicted', 'shirt', 'target', 'weeks']\n"
          ],
          "name": "stdout"
        }
      ]
    },
    {
      "cell_type": "code",
      "metadata": {
        "id": "9JxbedCWe27f",
        "colab_type": "code",
        "outputId": "0fe6b3b6-d867-4e57-cb4a-c012acf7ec1f",
        "colab": {
          "base_uri": "https://localhost:8080/",
          "height": 52
        }
      },
      "source": [
        "X = X\n",
        "\n",
        "y_1 = np.array(sorted_data['Recommended'])[0:100],\n",
        "\n",
        "y_2 = np.array(sorted_data['Recommended'])[10000:10100]\n",
        "\n",
        "y= np.append(y_1, y_2)\n",
        "\n",
        "print(X.shape)\n",
        "print(y.shape)"
      ],
      "execution_count": 0,
      "outputs": [
        {
          "output_type": "stream",
          "text": [
            "(200, 1880)\n",
            "(200,)\n"
          ],
          "name": "stdout"
        }
      ]
    },
    {
      "cell_type": "code",
      "metadata": {
        "id": "ZfXyKeg8gMV6",
        "colab_type": "code",
        "outputId": "ebdafa7a-942a-4b3f-9624-8fc102b3c67f",
        "colab": {
          "base_uri": "https://localhost:8080/",
          "height": 87
        }
      },
      "source": [
        "from sklearn.model_selection import train_test_split\n",
        "\n",
        "X_train, X_test, y_train, y_test = train_test_split(X, y, random_state=0)\n",
        "\n",
        "print(X_train.shape)\n",
        "print(y_train.shape)\n",
        "print(X_test.shape)\n",
        "print(y_test.shape)"
      ],
      "execution_count": 0,
      "outputs": [
        {
          "output_type": "stream",
          "text": [
            "(150, 1880)\n",
            "(150,)\n",
            "(50, 1880)\n",
            "(50,)\n"
          ],
          "name": "stdout"
        }
      ]
    },
    {
      "cell_type": "code",
      "metadata": {
        "id": "yCnU1GVnk5mL",
        "colab_type": "code",
        "colab": {}
      },
      "source": [
        "print(X_test)"
      ],
      "execution_count": 0,
      "outputs": []
    },
    {
      "cell_type": "markdown",
      "metadata": {
        "id": "IjPMkt5tATlS",
        "colab_type": "text"
      },
      "source": [
        "### Logistic Regression "
      ]
    },
    {
      "cell_type": "code",
      "metadata": {
        "id": "7vDY3YmJgUpK",
        "colab_type": "code",
        "outputId": "828806c1-8eee-4ed0-e211-bffc024f58e2",
        "colab": {
          "base_uri": "https://localhost:8080/",
          "height": 34
        }
      },
      "source": [
        "from sklearn.model_selection import cross_val_score\n",
        "from sklearn.linear_model import LogisticRegression\n",
        "from sklearn.model_selection import GridSearchCV\n",
        "\n",
        "scores = cross_val_score(LogisticRegression(), X_train, y_train, cv=5)\n",
        "print(\"Mean cross-validation accuracy: {:.2f}\".format(np.mean(scores)))"
      ],
      "execution_count": 0,
      "outputs": [
        {
          "output_type": "stream",
          "text": [
            "Mean cross-validation accuracy: 0.67\n"
          ],
          "name": "stdout"
        }
      ]
    },
    {
      "cell_type": "code",
      "metadata": {
        "id": "5JYKrHcX-Y7K",
        "colab_type": "code",
        "outputId": "36d7e0a7-285a-4193-81fd-aab56e49632c",
        "colab": {
          "base_uri": "https://localhost:8080/",
          "height": 52
        }
      },
      "source": [
        "param_grid = {'C': [0.001, 0.01, 0.1, 1, 10]}\n",
        "grid = GridSearchCV(LogisticRegression(), param_grid, cv=5)\n",
        "grid.fit(X_train, y_train)\n",
        "print(\"Best cross-validation score: {:.2f}\".format(grid.best_score_))\n",
        "print(\"Best parameters: \", grid.best_params_)"
      ],
      "execution_count": 0,
      "outputs": [
        {
          "output_type": "stream",
          "text": [
            "Best cross-validation score: 0.67\n",
            "Best parameters:  {'C': 0.01}\n"
          ],
          "name": "stdout"
        }
      ]
    },
    {
      "cell_type": "code",
      "metadata": {
        "id": "6zhyDVsB-fBE",
        "colab_type": "code",
        "outputId": "5f024733-4670-49f5-ee20-ba29a9c57886",
        "colab": {
          "base_uri": "https://localhost:8080/",
          "height": 34
        }
      },
      "source": [
        "print(\"Test score: {:.2f}\".format(grid.score(X_test, y_test)))"
      ],
      "execution_count": 0,
      "outputs": [
        {
          "output_type": "stream",
          "text": [
            "Test score: 0.72\n"
          ],
          "name": "stdout"
        }
      ]
    },
    {
      "cell_type": "code",
      "metadata": {
        "colab_type": "code",
        "outputId": "dc6adbdd-6669-4b6a-f451-1ae3c8321391",
        "id": "WdDtRO2CmVIY",
        "colab": {
          "base_uri": "https://localhost:8080/",
          "height": 87
        }
      },
      "source": [
        "import warnings\n",
        "with warnings.catch_warnings():\n",
        "    warnings.simplefilter(\"ignore\")\n",
        "\n",
        "kfold=KFold(n_splits=5)\n",
        "print(\"Cross-validation scores:\\n{}\".format(\n",
        " cross_val_score(LogisticRegression(), X, y, cv=kfold)))\n",
        "\n",
        "print(\"Cross-validation scores Mean:\\n{}\".format(\n",
        " cross_val_score(LogisticRegression(), X, y, cv=kfold).mean()))"
      ],
      "execution_count": 0,
      "outputs": [
        {
          "output_type": "stream",
          "text": [
            "Cross-validation scores:\n",
            "[0.55  0.525 0.45  0.45  0.3  ]\n",
            "Cross-validation scores Mean:\n",
            "0.45499999999999996\n"
          ],
          "name": "stdout"
        }
      ]
    },
    {
      "cell_type": "code",
      "metadata": {
        "id": "onYBUK8NDqMB",
        "colab_type": "code",
        "colab": {}
      },
      "source": [
        "lgs = LogisticRegression()\n",
        "lgs.fit(X_train.toarray(),y_train)\n",
        "pred = lgs.predict(X_test.toarray())"
      ],
      "execution_count": 0,
      "outputs": []
    },
    {
      "cell_type": "code",
      "metadata": {
        "id": "Q_l91rQqxcTn",
        "colab_type": "code",
        "outputId": "54112227-8b3b-487d-ccce-b47e6aeff258",
        "colab": {
          "base_uri": "https://localhost:8080/",
          "height": 230
        }
      },
      "source": [
        "print(\"accuracy: {:.2f}\".format(lgs.score(X_test.toarray(), y_test)))\n",
        "print(confusion_matrix(y_test,pred))\n",
        "print(classification_report(y_test,pred))"
      ],
      "execution_count": 0,
      "outputs": [
        {
          "output_type": "stream",
          "text": [
            "accuracy: 0.80\n",
            "[[20  3]\n",
            " [ 7 20]]\n",
            "              precision    recall  f1-score   support\n",
            "\n",
            "           0       0.74      0.87      0.80        23\n",
            "           1       0.87      0.74      0.80        27\n",
            "\n",
            "    accuracy                           0.80        50\n",
            "   macro avg       0.81      0.81      0.80        50\n",
            "weighted avg       0.81      0.80      0.80        50\n",
            "\n"
          ],
          "name": "stdout"
        }
      ]
    },
    {
      "cell_type": "markdown",
      "metadata": {
        "id": "8z6CPArzAYyG",
        "colab_type": "text"
      },
      "source": [
        "### Naive Bayes\n",
        "\n",
        "\n"
      ]
    },
    {
      "cell_type": "code",
      "metadata": {
        "id": "JpqQLj_wAfDz",
        "colab_type": "code",
        "colab": {}
      },
      "source": [
        "from sklearn.naive_bayes import GaussianNB\n",
        "from sklearn.metrics import confusion_matrix\n",
        "from sklearn.metrics import classification_report\n",
        "from sklearn.model_selection import KFold"
      ],
      "execution_count": 0,
      "outputs": []
    },
    {
      "cell_type": "code",
      "metadata": {
        "id": "VBrPAzJcAjYH",
        "colab_type": "code",
        "colab": {}
      },
      "source": [
        "nb = GaussianNB()\n",
        "nb.fit(X_train.toarray(),y_train)\n",
        "pred = nb.predict(X_test.toarray())"
      ],
      "execution_count": 0,
      "outputs": []
    },
    {
      "cell_type": "code",
      "metadata": {
        "id": "301bhC-RAzNz",
        "colab_type": "code",
        "outputId": "3bd628ba-5c3e-45c9-e957-b60ea1370eac",
        "colab": {
          "base_uri": "https://localhost:8080/",
          "height": 230
        }
      },
      "source": [
        "print(\"accuracy: {:.2f}\".format(nb.score(X_test.toarray(), y_test)))\n",
        "print(confusion_matrix(y_test,pred))\n",
        "print(classification_report(y_test,pred))"
      ],
      "execution_count": 0,
      "outputs": [
        {
          "output_type": "stream",
          "text": [
            "accuracy: 0.66\n",
            "[[17  6]\n",
            " [11 16]]\n",
            "              precision    recall  f1-score   support\n",
            "\n",
            "           0       0.61      0.74      0.67        23\n",
            "           1       0.73      0.59      0.65        27\n",
            "\n",
            "    accuracy                           0.66        50\n",
            "   macro avg       0.67      0.67      0.66        50\n",
            "weighted avg       0.67      0.66      0.66        50\n",
            "\n"
          ],
          "name": "stdout"
        }
      ]
    },
    {
      "cell_type": "code",
      "metadata": {
        "id": "6lMIJgCIDEtt",
        "colab_type": "code",
        "outputId": "36c06cac-8c43-4be4-bcbd-b273461e9e8f",
        "colab": {
          "base_uri": "https://localhost:8080/",
          "height": 87
        }
      },
      "source": [
        "kfold=KFold(n_splits=5)\n",
        "print(\"Cross-validation scores:\\n{}\".format(\n",
        " cross_val_score(nb, X.toarray(), y, cv=kfold)))\n",
        "\n",
        "print(\"Cross-validation scores Mean:\\n{}\".format(\n",
        " cross_val_score(nb, X.toarray(), y, cv=kfold).mean()))"
      ],
      "execution_count": 0,
      "outputs": [
        {
          "output_type": "stream",
          "text": [
            "Cross-validation scores:\n",
            "[0.275 0.325 0.45  0.525 0.375]\n",
            "Cross-validation scores Mean:\n",
            "0.39\n"
          ],
          "name": "stdout"
        }
      ]
    },
    {
      "cell_type": "code",
      "metadata": {
        "id": "cYUsGWJ0CVGF",
        "colab_type": "code",
        "colab": {}
      },
      "source": [
        ""
      ],
      "execution_count": 0,
      "outputs": []
    },
    {
      "cell_type": "markdown",
      "metadata": {
        "id": "Ow-P-AeNCcDU",
        "colab_type": "text"
      },
      "source": [
        "### Support Vector Machines"
      ]
    },
    {
      "cell_type": "code",
      "metadata": {
        "id": "THYgviSuCexu",
        "colab_type": "code",
        "colab": {}
      },
      "source": [
        "from sklearn.svm import LinearSVC"
      ],
      "execution_count": 0,
      "outputs": []
    },
    {
      "cell_type": "code",
      "metadata": {
        "id": "XLtz9H_ZCiBi",
        "colab_type": "code",
        "colab": {}
      },
      "source": [
        "svmc = LinearSVC()"
      ],
      "execution_count": 0,
      "outputs": []
    },
    {
      "cell_type": "code",
      "metadata": {
        "id": "q9DnI_OuCi-w",
        "colab_type": "code",
        "outputId": "51256d28-863b-41c2-b8ec-f759fe7fab1a",
        "colab": {
          "base_uri": "https://localhost:8080/",
          "height": 87
        }
      },
      "source": [
        "svmc.fit(X_train,y_train)"
      ],
      "execution_count": 0,
      "outputs": [
        {
          "output_type": "execute_result",
          "data": {
            "text/plain": [
              "LinearSVC(C=1.0, class_weight=None, dual=True, fit_intercept=True,\n",
              "          intercept_scaling=1, loss='squared_hinge', max_iter=1000,\n",
              "          multi_class='ovr', penalty='l2', random_state=None, tol=0.0001,\n",
              "          verbose=0)"
            ]
          },
          "metadata": {
            "tags": []
          },
          "execution_count": 28
        }
      ]
    },
    {
      "cell_type": "code",
      "metadata": {
        "id": "yRBzpaV3ClGX",
        "colab_type": "code",
        "colab": {}
      },
      "source": [
        "pred = svmc.predict(X_test)"
      ],
      "execution_count": 0,
      "outputs": []
    },
    {
      "cell_type": "code",
      "metadata": {
        "id": "b4X2A_qtCpSo",
        "colab_type": "code",
        "outputId": "21898b53-4149-4c27-a7ed-6b69d9630594",
        "colab": {
          "base_uri": "https://localhost:8080/",
          "height": 230
        }
      },
      "source": [
        "print(\"accuracy: {:.2f}\".format(svmc.score(X_test, y_test)))\n",
        "print(confusion_matrix(y_test,pred))\n",
        "print(classification_report(y_test,pred))"
      ],
      "execution_count": 0,
      "outputs": [
        {
          "output_type": "stream",
          "text": [
            "accuracy: 0.72\n",
            "[[18  5]\n",
            " [ 9 18]]\n",
            "              precision    recall  f1-score   support\n",
            "\n",
            "           0       0.67      0.78      0.72        23\n",
            "           1       0.78      0.67      0.72        27\n",
            "\n",
            "    accuracy                           0.72        50\n",
            "   macro avg       0.72      0.72      0.72        50\n",
            "weighted avg       0.73      0.72      0.72        50\n",
            "\n"
          ],
          "name": "stdout"
        }
      ]
    },
    {
      "cell_type": "code",
      "metadata": {
        "id": "f0KlB0MuC9LM",
        "colab_type": "code",
        "colab": {}
      },
      "source": [
        "from sklearn.model_selection import KFold\n",
        "from sklearn.model_selection import cross_val_score"
      ],
      "execution_count": 0,
      "outputs": []
    },
    {
      "cell_type": "code",
      "metadata": {
        "id": "h53BMYWzC1RD",
        "colab_type": "code",
        "outputId": "44af0463-7d7f-4e2e-82f0-af33f15c2820",
        "colab": {
          "base_uri": "https://localhost:8080/",
          "height": 87
        }
      },
      "source": [
        "import warnings\n",
        "with warnings.catch_warnings():\n",
        "    warnings.simplefilter(\"ignore\")\n",
        "\n",
        "kfold=KFold(n_splits=5)\n",
        "print(\"Cross-validation scores:\\n{}\".format(\n",
        " cross_val_score(svmc, X, y, cv=kfold)))\n",
        "\n",
        "print(\"Cross-validation scores Mean:\\n{}\".format(\n",
        " cross_val_score(svmc, X, y, cv=kfold).mean()))"
      ],
      "execution_count": 0,
      "outputs": [
        {
          "output_type": "stream",
          "text": [
            "Cross-validation scores:\n",
            "[0.55  0.55  0.475 0.475 0.325]\n",
            "Cross-validation scores Mean:\n",
            "0.4750000000000001\n"
          ],
          "name": "stdout"
        }
      ]
    },
    {
      "cell_type": "markdown",
      "metadata": {
        "id": "vs6D29Him-gy",
        "colab_type": "text"
      },
      "source": [
        "Logistic Regression performs the best of the three when one observes the weighted precision avg for each model. Consulting the confusion matrix also shows that it is the model that was able to classify the most recomends correctly. Because our goal is to create a model that predicts the best given unseen data, the logistic regression would be the recomended approach, as it correctly predicts better than Naive Bayes and Support Vector Machine. \n"
      ]
    },
    {
      "cell_type": "markdown",
      "metadata": {
        "id": "2_eJZrHmnmM3",
        "colab_type": "text"
      },
      "source": [
        "Part 2: Build a predictive neural network using Keras\n",
        "\n",
        "To complete part two of the homework do the following:\n",
        "\n",
        "Run a multilayer perceptron (feed forward neural network) with two hidden layers on the iris dataset using the keras Sequential interface.\n",
        "\n",
        "Data can be imported via the following link:\n",
        "\n",
        "http://vincentarelbundock.github.io/Rdatasets/csv/datasets/iris.csv\n",
        "\n",
        "Include code for selecting the number of hidden units using GridSearchCV and evaluation on a test-set.  Describe the differences in the predictive accuracy of models with different numbers of hidden units.  Describe the predictive strength of your best model.  Be sure to explain your choice and evaluate this model using the test set."
      ]
    },
    {
      "cell_type": "code",
      "metadata": {
        "id": "aGilBX9qX-bZ",
        "colab_type": "code",
        "colab": {}
      },
      "source": [
        "!pip install tensorflow"
      ],
      "execution_count": 0,
      "outputs": []
    },
    {
      "cell_type": "code",
      "metadata": {
        "id": "upLqiZVDYbMa",
        "colab_type": "code",
        "colab": {}
      },
      "source": [
        "import tensorflow as tf\n",
        "from keras.models import Sequential\n",
        "from keras.layers import Activation, Dense\n",
        "\n",
        "model = Sequential()"
      ],
      "execution_count": 0,
      "outputs": []
    },
    {
      "cell_type": "code",
      "metadata": {
        "id": "-xbPs8I_f00u",
        "colab_type": "code",
        "colab": {}
      },
      "source": [
        "from keras.utils import to_categorical"
      ],
      "execution_count": 0,
      "outputs": []
    },
    {
      "cell_type": "code",
      "metadata": {
        "id": "kwtH4_iGf-rW",
        "colab_type": "code",
        "colab": {}
      },
      "source": [
        "from sklearn.model_selection import train_test_split\n",
        "from sklearn import preprocessing\n",
        "from sklearn.datasets import load_iris"
      ],
      "execution_count": 0,
      "outputs": []
    },
    {
      "cell_type": "code",
      "metadata": {
        "id": "PIT3BLcMW4A6",
        "colab_type": "code",
        "colab": {}
      },
      "source": [
        "iris = load_iris()"
      ],
      "execution_count": 0,
      "outputs": []
    },
    {
      "cell_type": "code",
      "metadata": {
        "id": "VLzlRl6_gptS",
        "colab_type": "code",
        "colab": {}
      },
      "source": [
        "X = iris['data']\n",
        "y = to_categorical(iris['target'])"
      ],
      "execution_count": 0,
      "outputs": []
    },
    {
      "cell_type": "code",
      "metadata": {
        "id": "7GE_Pf3VilhC",
        "colab_type": "code",
        "colab": {}
      },
      "source": [
        "X_train,X_test, y_train,y_test = train_test_split(X,y, test_size = 0.3)"
      ],
      "execution_count": 0,
      "outputs": []
    },
    {
      "cell_type": "code",
      "metadata": {
        "id": "bRf3gSN8ixYi",
        "colab_type": "code",
        "colab": {}
      },
      "source": [
        "model = Sequential()"
      ],
      "execution_count": 0,
      "outputs": []
    },
    {
      "cell_type": "code",
      "metadata": {
        "id": "q9zHdFNJi2xm",
        "colab_type": "code",
        "outputId": "36b0d041-87e1-450c-a0cc-a04b02c64408",
        "colab": {
          "base_uri": "https://localhost:8080/",
          "height": 357
        }
      },
      "source": [
        "model = Sequential([\n",
        "    Dense(10, input_shape=(4,)),\n",
        "    Activation('relu'),\n",
        "    Dense(10),\n",
        "    Activation('relu'),\n",
        "    Dense(3),\n",
        "    Activation('softmax'),\n",
        "])\n",
        "\n",
        "\n",
        "model.summary()"
      ],
      "execution_count": 40,
      "outputs": [
        {
          "output_type": "stream",
          "text": [
            "Model: \"sequential_42\"\n",
            "_________________________________________________________________\n",
            "Layer (type)                 Output Shape              Param #   \n",
            "=================================================================\n",
            "dense_52 (Dense)             (None, 10)                50        \n",
            "_________________________________________________________________\n",
            "activation_52 (Activation)   (None, 10)                0         \n",
            "_________________________________________________________________\n",
            "dense_53 (Dense)             (None, 10)                110       \n",
            "_________________________________________________________________\n",
            "activation_53 (Activation)   (None, 10)                0         \n",
            "_________________________________________________________________\n",
            "dense_54 (Dense)             (None, 3)                 33        \n",
            "_________________________________________________________________\n",
            "activation_54 (Activation)   (None, 3)                 0         \n",
            "=================================================================\n",
            "Total params: 193\n",
            "Trainable params: 193\n",
            "Non-trainable params: 0\n",
            "_________________________________________________________________\n"
          ],
          "name": "stdout"
        }
      ]
    },
    {
      "cell_type": "code",
      "metadata": {
        "id": "EAV23DaYjNjQ",
        "colab_type": "code",
        "colab": {}
      },
      "source": [
        "model.compile(loss ='categorical_crossentropy',optimizer = \"adam\", metrics=['accuracy'])"
      ],
      "execution_count": 0,
      "outputs": []
    },
    {
      "cell_type": "code",
      "metadata": {
        "id": "Hkx-I-pTjiMi",
        "colab_type": "code",
        "outputId": "e60d6c5a-a28d-4f58-de8f-56e25faf7c82",
        "colab": {
          "base_uri": "https://localhost:8080/",
          "height": 1000
        }
      },
      "source": [
        "model.fit(X_train,y_train, validation_data=(X_test,y_test), epochs=50, batch_size=10)"
      ],
      "execution_count": 42,
      "outputs": [
        {
          "output_type": "stream",
          "text": [
            "Train on 105 samples, validate on 45 samples\n",
            "Epoch 1/50\n",
            "105/105 [==============================] - 0s 1ms/step - loss: 1.0333 - accuracy: 0.3143 - val_loss: 0.9412 - val_accuracy: 0.3778\n",
            "Epoch 2/50\n",
            "105/105 [==============================] - 0s 157us/step - loss: 0.9688 - accuracy: 0.3905 - val_loss: 0.8973 - val_accuracy: 0.6444\n",
            "Epoch 3/50\n",
            "105/105 [==============================] - 0s 156us/step - loss: 0.9208 - accuracy: 0.6095 - val_loss: 0.8650 - val_accuracy: 0.7111\n",
            "Epoch 4/50\n",
            "105/105 [==============================] - 0s 156us/step - loss: 0.8889 - accuracy: 0.6381 - val_loss: 0.8363 - val_accuracy: 0.7333\n",
            "Epoch 5/50\n",
            "105/105 [==============================] - 0s 169us/step - loss: 0.8534 - accuracy: 0.6381 - val_loss: 0.8048 - val_accuracy: 0.7333\n",
            "Epoch 6/50\n",
            "105/105 [==============================] - 0s 176us/step - loss: 0.8248 - accuracy: 0.6381 - val_loss: 0.7812 - val_accuracy: 0.7333\n",
            "Epoch 7/50\n",
            "105/105 [==============================] - 0s 173us/step - loss: 0.8013 - accuracy: 0.6381 - val_loss: 0.7598 - val_accuracy: 0.7333\n",
            "Epoch 8/50\n",
            "105/105 [==============================] - 0s 168us/step - loss: 0.7777 - accuracy: 0.6381 - val_loss: 0.7380 - val_accuracy: 0.7333\n",
            "Epoch 9/50\n",
            "105/105 [==============================] - 0s 163us/step - loss: 0.7553 - accuracy: 0.6381 - val_loss: 0.7170 - val_accuracy: 0.7333\n",
            "Epoch 10/50\n",
            "105/105 [==============================] - 0s 154us/step - loss: 0.7348 - accuracy: 0.6381 - val_loss: 0.6943 - val_accuracy: 0.7333\n",
            "Epoch 11/50\n",
            "105/105 [==============================] - 0s 155us/step - loss: 0.7131 - accuracy: 0.6381 - val_loss: 0.6755 - val_accuracy: 0.7556\n",
            "Epoch 12/50\n",
            "105/105 [==============================] - 0s 175us/step - loss: 0.6928 - accuracy: 0.6857 - val_loss: 0.6545 - val_accuracy: 0.8000\n",
            "Epoch 13/50\n",
            "105/105 [==============================] - 0s 192us/step - loss: 0.6713 - accuracy: 0.7048 - val_loss: 0.6318 - val_accuracy: 0.8000\n",
            "Epoch 14/50\n",
            "105/105 [==============================] - 0s 166us/step - loss: 0.6516 - accuracy: 0.7048 - val_loss: 0.6103 - val_accuracy: 0.8000\n",
            "Epoch 15/50\n",
            "105/105 [==============================] - 0s 168us/step - loss: 0.6337 - accuracy: 0.7524 - val_loss: 0.5909 - val_accuracy: 0.8222\n",
            "Epoch 16/50\n",
            "105/105 [==============================] - 0s 151us/step - loss: 0.6145 - accuracy: 0.8095 - val_loss: 0.5751 - val_accuracy: 0.8444\n",
            "Epoch 17/50\n",
            "105/105 [==============================] - 0s 146us/step - loss: 0.5982 - accuracy: 0.7810 - val_loss: 0.5570 - val_accuracy: 0.8222\n",
            "Epoch 18/50\n",
            "105/105 [==============================] - 0s 164us/step - loss: 0.5816 - accuracy: 0.8952 - val_loss: 0.5443 - val_accuracy: 0.9333\n",
            "Epoch 19/50\n",
            "105/105 [==============================] - 0s 147us/step - loss: 0.5660 - accuracy: 0.9238 - val_loss: 0.5289 - val_accuracy: 0.9333\n",
            "Epoch 20/50\n",
            "105/105 [==============================] - 0s 145us/step - loss: 0.5512 - accuracy: 0.9333 - val_loss: 0.5151 - val_accuracy: 0.9333\n",
            "Epoch 21/50\n",
            "105/105 [==============================] - 0s 146us/step - loss: 0.5374 - accuracy: 0.9238 - val_loss: 0.5011 - val_accuracy: 0.9333\n",
            "Epoch 22/50\n",
            "105/105 [==============================] - 0s 149us/step - loss: 0.5244 - accuracy: 0.9238 - val_loss: 0.4889 - val_accuracy: 0.9333\n",
            "Epoch 23/50\n",
            "105/105 [==============================] - 0s 160us/step - loss: 0.5120 - accuracy: 0.9333 - val_loss: 0.4764 - val_accuracy: 0.9333\n",
            "Epoch 24/50\n",
            "105/105 [==============================] - 0s 152us/step - loss: 0.5001 - accuracy: 0.9238 - val_loss: 0.4653 - val_accuracy: 0.9333\n",
            "Epoch 25/50\n",
            "105/105 [==============================] - 0s 150us/step - loss: 0.4891 - accuracy: 0.9714 - val_loss: 0.4573 - val_accuracy: 0.9556\n",
            "Epoch 26/50\n",
            "105/105 [==============================] - 0s 150us/step - loss: 0.4795 - accuracy: 0.9714 - val_loss: 0.4498 - val_accuracy: 0.9556\n",
            "Epoch 27/50\n",
            "105/105 [==============================] - 0s 154us/step - loss: 0.4693 - accuracy: 0.9714 - val_loss: 0.4371 - val_accuracy: 0.9556\n",
            "Epoch 28/50\n",
            "105/105 [==============================] - 0s 158us/step - loss: 0.4587 - accuracy: 0.9619 - val_loss: 0.4299 - val_accuracy: 0.9556\n",
            "Epoch 29/50\n",
            "105/105 [==============================] - 0s 164us/step - loss: 0.4509 - accuracy: 0.9714 - val_loss: 0.4221 - val_accuracy: 0.9556\n",
            "Epoch 30/50\n",
            "105/105 [==============================] - 0s 155us/step - loss: 0.4409 - accuracy: 0.9714 - val_loss: 0.4120 - val_accuracy: 0.9556\n",
            "Epoch 31/50\n",
            "105/105 [==============================] - 0s 178us/step - loss: 0.4348 - accuracy: 0.9619 - val_loss: 0.4025 - val_accuracy: 0.9556\n",
            "Epoch 32/50\n",
            "105/105 [==============================] - 0s 160us/step - loss: 0.4241 - accuracy: 0.9714 - val_loss: 0.4000 - val_accuracy: 0.9556\n",
            "Epoch 33/50\n",
            "105/105 [==============================] - 0s 148us/step - loss: 0.4179 - accuracy: 0.9714 - val_loss: 0.3925 - val_accuracy: 0.9556\n",
            "Epoch 34/50\n",
            "105/105 [==============================] - 0s 148us/step - loss: 0.4093 - accuracy: 0.9714 - val_loss: 0.3849 - val_accuracy: 0.9556\n",
            "Epoch 35/50\n",
            "105/105 [==============================] - 0s 157us/step - loss: 0.4017 - accuracy: 0.9714 - val_loss: 0.3793 - val_accuracy: 0.9556\n",
            "Epoch 36/50\n",
            "105/105 [==============================] - 0s 169us/step - loss: 0.3952 - accuracy: 0.9810 - val_loss: 0.3729 - val_accuracy: 0.9556\n",
            "Epoch 37/50\n",
            "105/105 [==============================] - 0s 166us/step - loss: 0.3872 - accuracy: 0.9714 - val_loss: 0.3668 - val_accuracy: 0.9556\n",
            "Epoch 38/50\n",
            "105/105 [==============================] - 0s 153us/step - loss: 0.3817 - accuracy: 0.9810 - val_loss: 0.3570 - val_accuracy: 0.9778\n",
            "Epoch 39/50\n",
            "105/105 [==============================] - 0s 159us/step - loss: 0.3748 - accuracy: 0.9714 - val_loss: 0.3555 - val_accuracy: 0.9556\n",
            "Epoch 40/50\n",
            "105/105 [==============================] - 0s 159us/step - loss: 0.3667 - accuracy: 0.9810 - val_loss: 0.3486 - val_accuracy: 0.9556\n",
            "Epoch 41/50\n",
            "105/105 [==============================] - 0s 148us/step - loss: 0.3614 - accuracy: 0.9810 - val_loss: 0.3447 - val_accuracy: 0.9556\n",
            "Epoch 42/50\n",
            "105/105 [==============================] - 0s 163us/step - loss: 0.3531 - accuracy: 0.9714 - val_loss: 0.3340 - val_accuracy: 0.9556\n",
            "Epoch 43/50\n",
            "105/105 [==============================] - 0s 153us/step - loss: 0.3482 - accuracy: 0.9714 - val_loss: 0.3296 - val_accuracy: 0.9556\n",
            "Epoch 44/50\n",
            "105/105 [==============================] - 0s 155us/step - loss: 0.3437 - accuracy: 0.9619 - val_loss: 0.3213 - val_accuracy: 0.9556\n",
            "Epoch 45/50\n",
            "105/105 [==============================] - 0s 163us/step - loss: 0.3346 - accuracy: 0.9714 - val_loss: 0.3163 - val_accuracy: 0.9556\n",
            "Epoch 46/50\n",
            "105/105 [==============================] - 0s 183us/step - loss: 0.3278 - accuracy: 0.9714 - val_loss: 0.3150 - val_accuracy: 0.9556\n",
            "Epoch 47/50\n",
            "105/105 [==============================] - 0s 166us/step - loss: 0.3183 - accuracy: 0.9810 - val_loss: 0.3030 - val_accuracy: 0.9556\n",
            "Epoch 48/50\n",
            "105/105 [==============================] - 0s 164us/step - loss: 0.3114 - accuracy: 0.9810 - val_loss: 0.2976 - val_accuracy: 0.9556\n",
            "Epoch 49/50\n",
            "105/105 [==============================] - 0s 147us/step - loss: 0.3056 - accuracy: 0.9714 - val_loss: 0.2900 - val_accuracy: 0.9556\n",
            "Epoch 50/50\n",
            "105/105 [==============================] - 0s 155us/step - loss: 0.2995 - accuracy: 0.9810 - val_loss: 0.2876 - val_accuracy: 0.9556\n"
          ],
          "name": "stdout"
        },
        {
          "output_type": "execute_result",
          "data": {
            "text/plain": [
              "<keras.callbacks.callbacks.History at 0x7f2ced38c128>"
            ]
          },
          "metadata": {
            "tags": []
          },
          "execution_count": 42
        }
      ]
    },
    {
      "cell_type": "code",
      "metadata": {
        "id": "rJlmxq0ojxF6",
        "colab_type": "code",
        "colab": {}
      },
      "source": [
        "from sklearn.model_selection import GridSearchCV\n",
        "from keras.wrappers.scikit_learn import KerasClassifier\n",
        "import numpy as np\n"
      ],
      "execution_count": 0,
      "outputs": []
    },
    {
      "cell_type": "markdown",
      "metadata": {
        "id": "QP_gIn7F02Ng",
        "colab_type": "text"
      },
      "source": [
        "### Adam Optimizer \n"
      ]
    },
    {
      "cell_type": "code",
      "metadata": {
        "id": "YDSlSyT2od4K",
        "colab_type": "code",
        "colab": {}
      },
      "source": [
        "def create_model():\n",
        "  import tensorflow as tf\n",
        "  from keras.models import Sequential\n",
        "  model = Sequential()\n",
        "  model = Sequential([\n",
        "    Dense(10, input_shape=(4,)),\n",
        "    Activation('relu'),\n",
        "    Dense(10),\n",
        "    Activation('relu'),\n",
        "    Dense(3),\n",
        "    Activation('softmax'),])\n",
        "  model.compile(loss ='categorical_crossentropy',optimizer = \"adam\", metrics=['accuracy'])\n",
        "  return model"
      ],
      "execution_count": 0,
      "outputs": []
    },
    {
      "cell_type": "code",
      "metadata": {
        "id": "iZjpAWX3pTAv",
        "colab_type": "code",
        "colab": {}
      },
      "source": [
        "model = KerasClassifier(build_fn=create_model, verbose=0) \n",
        "\n",
        "\n",
        "param_grid = dict(epochs=[100,200,300])\n",
        "grid = GridSearchCV(estimator=model, param_grid=param_grid)\n",
        "grid_result = grid.fit(X, y)"
      ],
      "execution_count": 0,
      "outputs": []
    },
    {
      "cell_type": "code",
      "metadata": {
        "id": "QhUEsk04pWSU",
        "colab_type": "code",
        "outputId": "f34e2e59-8c9b-4f00-8400-7abf1cca1734",
        "colab": {
          "base_uri": "https://localhost:8080/",
          "height": 34
        }
      },
      "source": [
        "print(\"Best: %f using %s\" % (grid_result.best_score_, grid_result.best_params_))"
      ],
      "execution_count": 0,
      "outputs": [
        {
          "output_type": "stream",
          "text": [
            "Best: 0.913333 using {'epochs': 300}\n"
          ],
          "name": "stdout"
        }
      ]
    },
    {
      "cell_type": "markdown",
      "metadata": {
        "id": "8dYehY2K0-9M",
        "colab_type": "text"
      },
      "source": [
        "### Nadam Optimzer "
      ]
    },
    {
      "cell_type": "code",
      "metadata": {
        "colab_type": "code",
        "id": "FAxuZv6E0Hbd",
        "colab": {}
      },
      "source": [
        "def create_model():\n",
        "  import tensorflow as tf\n",
        "  from keras.models import Sequential\n",
        "  model = Sequential()\n",
        "  model = Sequential([\n",
        "    Dense(10, input_shape=(4,)),\n",
        "    Activation('relu'),\n",
        "    Dense(10),\n",
        "    Activation('relu'),\n",
        "    Dense(3),\n",
        "    Activation('softmax'),])\n",
        "  model.compile(loss ='categorical_crossentropy',optimizer = \"nadam\", metrics=['accuracy'])\n",
        "  return model"
      ],
      "execution_count": 0,
      "outputs": []
    },
    {
      "cell_type": "code",
      "metadata": {
        "colab_type": "code",
        "id": "SfSjNXgQ0W89",
        "colab": {}
      },
      "source": [
        "model = KerasClassifier(build_fn=create_model, verbose=0) \n",
        "\n",
        "\n",
        "param_grid = dict(epochs=[100,200,300])\n",
        "grid = GridSearchCV(estimator=model, param_grid=param_grid)\n",
        "grid_result = grid.fit(X, y)"
      ],
      "execution_count": 0,
      "outputs": []
    },
    {
      "cell_type": "code",
      "metadata": {
        "id": "KtUaCuHt0wvu",
        "colab_type": "code",
        "colab": {
          "base_uri": "https://localhost:8080/",
          "height": 34
        },
        "outputId": "f3fa67e8-b358-4e4b-ea8b-e171544743d6"
      },
      "source": [
        "print(\"Best: %f using %s\" % (grid_result.best_score_, grid_result.best_params_))"
      ],
      "execution_count": 50,
      "outputs": [
        {
          "output_type": "stream",
          "text": [
            "Best: 0.933333 using {'epochs': 200}\n"
          ],
          "name": "stdout"
        }
      ]
    },
    {
      "cell_type": "markdown",
      "metadata": {
        "id": "44fD-hdnxh1s",
        "colab_type": "text"
      },
      "source": [
        "For this nueral network three different epoch amounts were chosen and two optimizers to create the most predictive model. Epochs: 100,200, and 300 as well as Optimzers: Adam and Nadam. \"Adam is a combination of RSMprop with momentum and Nadam is a combination of RMSprop with Nesterov momenutm\" Grid search cv shows that given these parameters 200 epochs performs the best, as it produces and accuracy score of 93.33% meaning, of the total number of predictions made, 93.33% of them were predicted correctly. We can see that adam required 300 epoch and only scored 91.33% a difference of 2 percentage points. The model performs quite well given the parameters chosen and the data provided. If one had to choose between 100,200, or 300 epoch models one would be adivised to levarage a model that contained an epoch value of 200. And when choosing between Adam and Nadam, for training and prediciting on this data Nadam would be recomended.  "
      ]
    }
  ]
}